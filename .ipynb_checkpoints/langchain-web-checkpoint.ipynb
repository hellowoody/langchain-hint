{
 "cells": [
  {
   "cell_type": "code",
   "execution_count": 1,
   "id": "b832e11a-7bbd-4f66-9b39-e2989783d41d",
   "metadata": {},
   "outputs": [],
   "source": [
    "from langchain_community.chat_models import ChatZhipuAI\n",
    "from langchain_core.messages import AIMessage, HumanMessage, SystemMessage"
   ]
  },
  {
   "cell_type": "code",
   "execution_count": 2,
   "id": "d74aa381-ea5f-4f75-8a40-6a85fae03f33",
   "metadata": {},
   "outputs": [],
   "source": [
    "import os\n",
    "\n",
    "os.environ[\"ZHIPUAI_API_KEY\"] = \"a737c7414bb2812f661d51b29fec9fb0.UmJjgzYZELuB9Wes\""
   ]
  },
  {
   "cell_type": "code",
   "execution_count": 3,
   "id": "1c928f14-5cf3-4695-8a6d-d15aa130dccd",
   "metadata": {},
   "outputs": [],
   "source": [
    "chat = ChatZhipuAI(\n",
    "    model=\"glm-4\",\n",
    "    temperature=0.5,\n",
    ")"
   ]
  },
  {
   "cell_type": "code",
   "execution_count": 5,
   "id": "86217ce4-d78b-4a0a-8fca-a6c9b848fa55",
   "metadata": {},
   "outputs": [
    {
     "name": "stdout",
     "output_type": "stream",
     "text": [
      "根据您提供的信息，小明昨天生了一对龙凤胎，这意味着他得到了一个儿子和一个女儿。加上他们已有的4岁女儿，那么现在小明一共有3个孩子。\n",
      "\n",
      "具体来说，小明有1个儿子和2个女儿。\n"
     ]
    }
   ],
   "source": [
    "messages = [\n",
    "    AIMessage(content=\"Hi.\"),\n",
    "    SystemMessage(content=\"Your role is a program coder.\"),\n",
    "    HumanMessage(content=\"小明老婆昨天生了一对龙凤胎，他们还有一个4岁的女儿，那么现在小明一共有几个孩子？分别是几个儿子，几个女儿？\"),\n",
    "]\n",
    "response = chat.invoke(messages)\n",
    "print(response.content)  # Displays the AI-generated poem"
   ]
  },
  {
   "cell_type": "code",
   "execution_count": null,
   "id": "6854ebf9-f510-4ef1-8015-def9268e9dff",
   "metadata": {},
   "outputs": [],
   "source": []
  }
 ],
 "metadata": {
  "kernelspec": {
   "display_name": "Python 3 (ipykernel)",
   "language": "python",
   "name": "python3"
  },
  "language_info": {
   "codemirror_mode": {
    "name": "ipython",
    "version": 3
   },
   "file_extension": ".py",
   "mimetype": "text/x-python",
   "name": "python",
   "nbconvert_exporter": "python",
   "pygments_lexer": "ipython3",
   "version": "3.11.9"
  }
 },
 "nbformat": 4,
 "nbformat_minor": 5
}
