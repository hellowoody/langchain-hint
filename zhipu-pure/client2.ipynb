{
 "cells": [
  {
   "cell_type": "code",
   "execution_count": 1,
   "id": "da846c7f-6042-4ae2-9c8c-df2def6868be",
   "metadata": {},
   "outputs": [],
   "source": [
    "from zhipuai import ZhipuAI\n",
    "from dotenv import load_dotenv,find_dotenv\n",
    "import os \n",
    "\n",
    "_ = load_dotenv(find_dotenv())\n",
    "client = ZhipuAI(api_key=os.environ[\"ZHIPUAI_API_KEY\"]) # 请填写您自己的APIKey"
   ]
  },
  {
   "cell_type": "code",
   "execution_count": 10,
   "id": "9190529d-4fe9-49a8-a233-343c6710006f",
   "metadata": {},
   "outputs": [],
   "source": [
    "def get_completion(prompt,model=\"glm-4\"):\n",
    "    messages=[\n",
    "        {\"role\": \"user\", \"content\": prompt},\n",
    "    ]\n",
    "    response = client.chat.completions.create(\n",
    "        model=model,       # 填写需要调用的模型名称\n",
    "        temperature = 0.0,\n",
    "        messages = messages\n",
    "    )\n",
    "\n",
    "    return response.choices[0].message.content\n",
    "    "
   ]
  },
  {
   "cell_type": "code",
   "execution_count": 11,
   "id": "f6ba2581-18f1-480a-89ef-0febc82b9647",
   "metadata": {},
   "outputs": [
    {
     "data": {
      "text/plain": [
       "'1 加上 10 等于 11。'"
      ]
     },
     "execution_count": 11,
     "metadata": {},
     "output_type": "execute_result"
    }
   ],
   "source": [
    "get_completion(\"1+10等于多少？\")"
   ]
  },
  {
   "cell_type": "code",
   "execution_count": 12,
   "id": "4cc507c6-9302-423b-8cb6-08b8a917d9aa",
   "metadata": {},
   "outputs": [],
   "source": [
    "orginal_txt = \"\"\"\n",
    "我现在可以吃下一头像。\n",
    "\"\"\""
   ]
  },
  {
   "cell_type": "code",
   "execution_count": 27,
   "id": "d111c5a8-ece6-4289-b05f-ab96a011579d",
   "metadata": {},
   "outputs": [],
   "source": [
    "style = \"\"\"\n",
    "中国大陆普通话 \\\n",
    "日常口语 \\\n",
    "平常和礼貌的语气\n",
    "\"\"\""
   ]
  },
  {
   "cell_type": "code",
   "execution_count": 28,
   "id": "b5add8a9-0a3d-411f-a6e3-4d0483c3fb4e",
   "metadata": {},
   "outputs": [],
   "source": [
    "prompt = f\"\"\"用{style}格式,翻译一下这个用三个反引号分隔的文本 .\n",
    "```{orginal_txt}```\n",
    "\"\"\""
   ]
  },
  {
   "cell_type": "code",
   "execution_count": 29,
   "id": "ddb297a8-adb9-450d-9471-5286ca7a4ce5",
   "metadata": {},
   "outputs": [
    {
     "name": "stdout",
     "output_type": "stream",
     "text": [
      "用\n",
      "中国大陆普通话 日常口语 平常和礼貌的语气\n",
      "格式,翻译一下这个用三个反引号分隔的文本 .\n",
      "```\n",
      "我现在可以吃下一头像。\n",
      "```\n",
      "\n"
     ]
    }
   ],
   "source": [
    "print(prompt)"
   ]
  },
  {
   "cell_type": "code",
   "execution_count": 30,
   "id": "6736939c-12bc-4cd0-8241-82381c271392",
   "metadata": {},
   "outputs": [
    {
     "data": {
      "text/plain": [
       "'\"我现在能吃下一整个头那么多的东西。\" \\n\\n在口语中，如果想要表达得更礼貌一些，可以说：\\n\\n\"我现在真是饿得可以吃下一大份呢。\"'"
      ]
     },
     "execution_count": 30,
     "metadata": {},
     "output_type": "execute_result"
    }
   ],
   "source": [
    "get_completion(prompt)"
   ]
  },
  {
   "cell_type": "code",
   "execution_count": null,
   "id": "85144908-657c-4439-8385-a8ab5c4b0797",
   "metadata": {},
   "outputs": [],
   "source": []
  }
 ],
 "metadata": {
  "kernelspec": {
   "display_name": "Python 3 (ipykernel)",
   "language": "python",
   "name": "python3"
  },
  "language_info": {
   "codemirror_mode": {
    "name": "ipython",
    "version": 3
   },
   "file_extension": ".py",
   "mimetype": "text/x-python",
   "name": "python",
   "nbconvert_exporter": "python",
   "pygments_lexer": "ipython3",
   "version": "3.11.9"
  }
 },
 "nbformat": 4,
 "nbformat_minor": 5
}
