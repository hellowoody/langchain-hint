{
 "cells": [
  {
   "cell_type": "markdown",
   "id": "9e352b60-7744-43aa-9d79-39601a7fde78",
   "metadata": {},
   "source": [
    "# 如何串联可运行组件 How to chain runnables \n",
    "\n",
    "关于LangChain表达式语言（LCEL）的一个要点是，任何两个可运行组件都可以通过\"串联\"形成序列。前一个可运行组件的.invoke()调用的输出会作为下一个可运行组件的输入。这可以通过使用管道操作符（|）或更明确的.pipe()方法来实现，二者效果相同。  \n",
    "\n",
    "生成的RunnableSequence自身也是一个可运行组件，这意味着它可以像任何其他可运行组件一样被调用、流式处理或进一步串联。\n",
    "\n",
    "## 管道运算符：|\n",
    "为了展示其工作原理，我们来看一个例子。我们将介绍 LangChain 中的一种常见模式：使用提示模板将输入格式化为聊天模型，最后使用输出解析器将聊天消息输出转换为字符串。"
   ]
  },
  {
   "cell_type": "code",
   "execution_count": 1,
   "id": "922b6992-0992-4ef8-9da0-725824ff49ea",
   "metadata": {},
   "outputs": [],
   "source": [
    "import os\n",
    "from dotenv import load_dotenv,find_dotenv\n",
    "\n",
    "_ = load_dotenv(find_dotenv())"
   ]
  },
  {
   "cell_type": "code",
   "execution_count": 4,
   "id": "f1200fe4-6711-4e87-bf8f-1d6ff80c5a9c",
   "metadata": {},
   "outputs": [],
   "source": [
    "from langchain_openai import ChatOpenAI\n",
    "\n",
    "model = ChatOpenAI(\n",
    "    base_url=\"http://api.baichuan-ai.com/v1\",\n",
    "    api_key=os.environ[\"BAICHUAN_API_KEY\"],\n",
    "    model=\"Baichuan4\",\n",
    ")"
   ]
  },
  {
   "cell_type": "code",
   "execution_count": 6,
   "id": "5d8f23ad-4d34-434e-990d-b7ff56d0f0ab",
   "metadata": {},
   "outputs": [],
   "source": [
    "from langchain_core.output_parsers import StrOutputParser\n",
    "from langchain_core.prompts import ChatPromptTemplate\n",
    "\n",
    "prompt = ChatPromptTemplate.from_template(\"给我讲一个关于{topic}的笑话\")\n",
    "\n",
    "chain = prompt | model | StrOutputParser()"
   ]
  },
  {
   "cell_type": "markdown",
   "id": "fa7cb5bd-7b33-4c85-9968-5fdd29f4d509",
   "metadata": {},
   "source": [
    "提示和模型都是可运行的，并且提示调用的输出类型与聊天模型的输入类型相同，因此我们可以将它们链接在一起。然后，我们可以像任何其他可运行程序一样调用结果序列："
   ]
  },
  {
   "cell_type": "code",
   "execution_count": 7,
   "id": "118b7280-5b49-4581-a9a5-d88bf144179f",
   "metadata": {},
   "outputs": [
    {
     "data": {
      "text/plain": [
       "'好的，这里有一个关于熊的笑话：\\n\\n三只熊坐在森林里的一棵大树下，它们分别是熊爸爸、熊妈妈和熊宝宝。突然，一只小鸟飞了过来，落在了它们的面前。\\n\\n熊爸爸看着小鸟说：“哇，好可爱的小鸟啊！我们可以把它带回家养吗？”\\n\\n熊妈妈摇了摇头说：“不行，亲爱的，我们不能随便抓小动物回家。我们应该让它自由地生活在大自然中。”\\n\\n熊宝宝听了爸爸妈妈的话，点了点头表示同意。然后，它站了起来，对着小鸟说：“好吧，小鸟，你可以走了。但是，在我们放你走之前，你能不能先告诉我，你为什么飞得那么快？”\\n\\n小鸟回答说：“因为我不想被你们这些笨重的家伙踩到！”'"
      ]
     },
     "execution_count": 7,
     "metadata": {},
     "output_type": "execute_result"
    }
   ],
   "source": [
    "chain.invoke({\"topic\":\"熊\"})"
   ]
  },
  {
   "cell_type": "markdown",
   "id": "a0ba2c70-c9be-4c0d-8f49-ed3534e0b9f5",
   "metadata": {},
   "source": [
    "## 强制\n",
    "我们甚至可以将此链与更多可运行程序组合以创建另一个链。这可能涉及使用其他类型的可运行程序进行一些输入/输出格式化，具体取决于链组件所需的输入和输出。\n",
    "\n",
    "例如，假设我们想将笑话生成链与另一个评估生成的笑话是否有趣的链组合在一起。\n",
    "\n",
    "我们需要小心如何格式化下一个链的输入。在下面的例子中，链中的字典被自动解析并转换为 RunnableParallel，它并行运行其所有值并返回包含结果的字典。\n",
    "\n",
    "这恰好是下一个提示模板期望的相同格式。它的实际效果如下："
   ]
  },
  {
   "cell_type": "code",
   "execution_count": 11,
   "id": "46f58a73-9c3e-43ad-b74c-7d6dbc322a39",
   "metadata": {},
   "outputs": [
    {
     "data": {
      "text/plain": [
       "'是的，这是一个有趣的笑话。它利用了北极熊和企鹅生活在不同地理位置的事实，创造了一个幽默的情景。'"
      ]
     },
     "execution_count": 11,
     "metadata": {},
     "output_type": "execute_result"
    }
   ],
   "source": [
    "from langchain_core.output_parsers import StrOutputParser\n",
    "\n",
    "analysis_prompt = ChatPromptTemplate.from_template(\"{joke} 这是一个有趣的笑话吗？\")\n",
    "\n",
    "composed_chain = {\"joke\":chain} | analysis_prompt | model | StrOutputParser()\n",
    "\n",
    "composed_chain.invoke({\"topic\": \"熊\"})"
   ]
  },
  {
   "cell_type": "markdown",
   "id": "0d747713-79a9-4ced-be14-12303922032f",
   "metadata": {},
   "source": [
    "函数也将被强制转换为可运行对象，因此您也可以向链中添加自定义逻辑。以下链产生与之前相同的逻辑流程："
   ]
  },
  {
   "cell_type": "code",
   "execution_count": 15,
   "id": "e02e69cd-b7a1-4142-a9f1-fc0ebf27b551",
   "metadata": {},
   "outputs": [
    {
     "data": {
      "text/plain": [
       "'这个说法是一个幽默的玩笑，利用了“白菜”和“白来”在中文里的谐音，以及人们通常不会将动物与人类的行为或担忧联系在一起的荒诞感来制造笑点。实际上，小白兔并不会因为吃了卷心菜而变成“白菜”，这种表述显然是非现实的，因此构成了笑话的效果。'"
      ]
     },
     "execution_count": 15,
     "metadata": {},
     "output_type": "execute_result"
    }
   ],
   "source": [
    "composed_chain_with_lambda = (\n",
    "    chain\n",
    "    | (lambda input: {\"joke\": input})\n",
    "    | analysis_prompt\n",
    "    | model\n",
    "    | StrOutputParser()\n",
    ")\n",
    "\n",
    "composed_chain_with_lambda.invoke({\"topic\": \"白菜\"})"
   ]
  },
  {
   "cell_type": "markdown",
   "id": "2f4a64f8-55f3-4c7b-84f8-60790c354576",
   "metadata": {},
   "source": [
    "## .pipe() 方法\n",
    "我们还可以使用 .pipe() 方法组成相同的序列。如下所示："
   ]
  },
  {
   "cell_type": "code",
   "execution_count": 16,
   "id": "132424b3-a3e8-4dd4-85c7-042511d7f730",
   "metadata": {},
   "outputs": [
    {
     "data": {
      "text/plain": [
       "'是的，这是一个有趣的笑话。它用一种幽默的方式告诉我们，有时候我们不必刻意去追求幸福，而是应该专注于自己的生活和成长，幸福自然会伴随而来。'"
      ]
     },
     "execution_count": 16,
     "metadata": {},
     "output_type": "execute_result"
    }
   ],
   "source": [
    "from langchain_core.runnables import RunnableParallel\n",
    "\n",
    "composed_chain_with_pipe = RunnableParallel({\"joke\":chain}).pipe(analysis_prompt).pipe(model).pipe(StrOutputParser())\n",
    "\n",
    "composed_chain_with_pipe.invoke({\"topic\":\"狗\"})"
   ]
  },
  {
   "cell_type": "code",
   "execution_count": 17,
   "id": "a1730222-14b6-4ef8-8d6a-315f35ce569a",
   "metadata": {},
   "outputs": [],
   "source": [
    "composed_chain_with_pipe = RunnableParallel({\"joke\": chain}).pipe(\n",
    "    analysis_prompt, model, StrOutputParser()\n",
    ")"
   ]
  },
  {
   "cell_type": "code",
   "execution_count": null,
   "id": "e70e961c-9051-4382-a83e-1c4d1c81a8e2",
   "metadata": {},
   "outputs": [],
   "source": []
  }
 ],
 "metadata": {
  "kernelspec": {
   "display_name": "Python 3 (ipykernel)",
   "language": "python",
   "name": "python3"
  },
  "language_info": {
   "codemirror_mode": {
    "name": "ipython",
    "version": 3
   },
   "file_extension": ".py",
   "mimetype": "text/x-python",
   "name": "python",
   "nbconvert_exporter": "python",
   "pygments_lexer": "ipython3",
   "version": "3.9.18"
  }
 },
 "nbformat": 4,
 "nbformat_minor": 5
}
