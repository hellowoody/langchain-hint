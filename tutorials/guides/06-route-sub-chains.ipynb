{
 "cells": [
  {
   "cell_type": "markdown",
   "id": "0bea4020-27ad-4fc4-83b9-5195134ca265",
   "metadata": {},
   "source": [
    "# 如何在子链之间路由 How to route between sub-chains\n",
    "\n",
    "路由允许您创建非确定性链，其中上一步的输出定义下一步。路由可以帮助您定义状态并使用与这些状态相关的信息作为模型调用的上下文，从而帮助提供与模型交互的结构和一致性。\n",
    "\n",
    "有两种方法可以执行路由：\n",
    "\n",
    " - 有条件地从 RunnableLambda 返回可运行对象（推荐）\n",
    " - 使用 RunnableBranch（旧版）\n"
   ]
  },
  {
   "cell_type": "code",
   "execution_count": 2,
   "id": "95e2b8a1-ac57-4fdf-b557-a2273663757c",
   "metadata": {},
   "outputs": [],
   "source": [
    "import os\n",
    "from dotenv import find_dotenv,load_dotenv\n",
    "\n",
    "_ = load_dotenv(find_dotenv())"
   ]
  },
  {
   "cell_type": "code",
   "execution_count": 9,
   "id": "244fdfe5-2dbe-4953-a441-0bbf6860c14c",
   "metadata": {},
   "outputs": [
    {
     "data": {
      "text/plain": [
       "'zhipu'"
      ]
     },
     "execution_count": 9,
     "metadata": {},
     "output_type": "execute_result"
    }
   ],
   "source": [
    "from langchain_community.chat_models import ChatZhipuAI,ChatBaichuan\n",
    "from langchain_core.output_parsers import StrOutputParser\n",
    "from langchain_core.prompts import PromptTemplate\n",
    "\n",
    "chain = (\n",
    "    PromptTemplate.from_template(\n",
    "        \"\"\"给出以下用户问题，将其分类为关于“zhipu”、“baichuan”或“其他”。\n",
    "\n",
    "        不要用多个词回答。\n",
    "        \n",
    "        <question>\n",
    "        {question}\n",
    "        </question>\n",
    "        \n",
    "        分类：\"\"\"\n",
    "    )\n",
    "    | ChatZhipuAI(model=\"glm-4\")\n",
    "    | StrOutputParser()\n",
    ")\n",
    "\n",
    "chain.invoke({\"question\": \"如何调用zhipu?\"})"
   ]
  },
  {
   "cell_type": "code",
   "execution_count": 10,
   "id": "8532be75-9a59-4501-9e97-8bdc7349ee17",
   "metadata": {},
   "outputs": [],
   "source": [
    "zhipu_chain = (\n",
    "    PromptTemplate.from_template(\"\"\"您是 zhipu 方面的专家。\\\n",
    "        回答问题时，请始终以“正如张三告诉我的那样”开头。\\\n",
    "        回答以下问题：\n",
    "        \n",
    "        问题：{question}\n",
    "        答案：\n",
    "    \"\"\")\n",
    "    | ChatZhipuAI(model=\"glm-4\")\n",
    "    | StrOutputParser()\n",
    ")\n",
    "\n",
    "baichuan_chain = (\n",
    "    PromptTemplate.from_template(\"\"\"您是 baichuan 方面的专家。\\\n",
    "        回答问题时，请始终以“正如王武告诉我的那样”开头。\\\n",
    "        回答以下问题：\n",
    "        \n",
    "        问题：{question}\n",
    "        答案：\n",
    "    \"\"\")\n",
    "    | ChatBaichuan()\n",
    "    | StrOutputParser()\n",
    ")\n",
    "\n",
    "general_chain = (\n",
    "    PromptTemplate.from_template(\"\"\"您是general方面的专家。\\\n",
    "        回答问题时，请始终以“正如王武告诉我的那样”开头。\\\n",
    "        回答以下问题：\n",
    "        \n",
    "        问题：{question}\n",
    "        答案：\n",
    "    \"\"\")\n",
    "    | ChatZhipuAI(model=\"glm-4\")\n",
    "    | StrOutputParser()\n",
    ")"
   ]
  },
  {
   "cell_type": "markdown",
   "id": "805e823b-ce0d-420f-8115-f57baf7ce8dc",
   "metadata": {},
   "source": [
    "## 使用自定义函数（推荐）\n",
    "您还可以使用自定义函数在不同输出之间进行路由。以下是示例："
   ]
  },
  {
   "cell_type": "code",
   "execution_count": 15,
   "id": "3a6e05b4-ee6d-42cb-abd4-a6e7ba10e88e",
   "metadata": {},
   "outputs": [],
   "source": [
    "def route(info):\n",
    "    print(\"=====\",info)\n",
    "    if \"zhipu\" in info[\"topic\"].lower():\n",
    "        return zhipu_chain\n",
    "    elif \"baichuan\" in info[\"topic\"].lower():\n",
    "        return baichuan_chain\n",
    "    else:\n",
    "        return general_chain"
   ]
  },
  {
   "cell_type": "code",
   "execution_count": 22,
   "id": "6645e563-c0a8-41c0-8533-d7940295fabd",
   "metadata": {},
   "outputs": [],
   "source": [
    "from langchain_core.runnables import RunnableLambda\n",
    "\n",
    "full_chain = (\n",
    "    {\"topic\":chain,\"question\":lambda x: x[\"question\"]} \n",
    "    | RunnableLambda(route)\n",
    ")"
   ]
  },
  {
   "cell_type": "code",
   "execution_count": 25,
   "id": "826621d1-ac0d-41aa-bb86-9a34d4d20662",
   "metadata": {},
   "outputs": [
    {
     "name": "stdout",
     "output_type": "stream",
     "text": [
      "===== {'topic': 'zhipu', 'question': '如何使用zhipu?'}\n"
     ]
    },
    {
     "data": {
      "text/plain": [
       "'正如张三告诉我的那样，使用Zhipu（智谱）的方法主要取决于你想要达到的目标。Zhipu是一款在线协作工具，可以用于项目管理、任务分配、团队协作等。以下是使用Zhipu的基本步骤：\\n\\n1. 注册账户：首先，你需要访问Zhipu的官方网站并注册一个账户。\\n\\n2. 创建项目：登录后，你可以创建一个新的项目，并在其中添加任务列表。\\n\\n3. 添加任务：在每个任务列表中，你可以添加具体的任务，并且可以给每个任务设定优先级、截止日期和分配给团队成员。\\n\\n4. 团队协作：你可以邀请你的同事或团队成员加入你的项目，共同协作完成任务。\\n\\n5. 进度追踪：任务开始执行后，你可以通过Zhipu跟踪任务进度，更新任务状态。\\n\\n6. 交流沟通：Zhipu提供了评论区功能，项目成员可以在任务下面留言交流，保持信息同步。\\n\\n7. 文件共享：你可以上传文件到任务或项目，以便团队成员共享和下载。\\n\\n8. 定期回顾：定期查看项目的整体进度，对任务进行回顾和调整。\\n\\n正如张三告诉我的那样，使用Zhipu的关键是要保持团队的沟通和协作，充分利用其提供的各项功能，从而高效地完成项目。'"
      ]
     },
     "execution_count": 25,
     "metadata": {},
     "output_type": "execute_result"
    }
   ],
   "source": [
    "full_chain.invoke({\"question\": \"如何使用zhipu?\"})"
   ]
  },
  {
   "cell_type": "code",
   "execution_count": null,
   "id": "c762a8bc-a1ef-4394-ac8c-11a5e45c1bce",
   "metadata": {},
   "outputs": [],
   "source": []
  }
 ],
 "metadata": {
  "kernelspec": {
   "display_name": "Python 3 (ipykernel)",
   "language": "python",
   "name": "python3"
  },
  "language_info": {
   "codemirror_mode": {
    "name": "ipython",
    "version": 3
   },
   "file_extension": ".py",
   "mimetype": "text/x-python",
   "name": "python",
   "nbconvert_exporter": "python",
   "pygments_lexer": "ipython3",
   "version": "3.9.18"
  }
 },
 "nbformat": 4,
 "nbformat_minor": 5
}
