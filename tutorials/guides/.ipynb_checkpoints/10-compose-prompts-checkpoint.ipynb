{
 "cells": [
  {
   "cell_type": "markdown",
   "id": "3a491798-5324-4a1d-b123-31de3765802b",
   "metadata": {},
   "source": [
    "# 如何一起编写提示 How to compose prompts together\n",
    "LangChain 提供了一个用户友好的接口，用于将提示的不同部分组合在一起。  \n",
    "您可以使用字符串提示或聊天提示来执行此操作。以这种方式构建提示可以轻松重用组件。\n",
    "\n",
    "## 字符串提示组合\n",
    "使用字符串提示时，每个模板都会连接在一起。您可以直接使用提示或字符串（列表中的第一个元素必须是prompt）。"
   ]
  },
  {
   "cell_type": "code",
   "execution_count": 2,
   "id": "41bf21bb-6645-43be-b008-8b6220c32f6f",
   "metadata": {},
   "outputs": [
    {
     "data": {
      "text/plain": [
       "PromptTemplate(input_variables=['language', 'topic'], template='给我讲一个关于{topic}的笑话, 讲得有趣一点\\n\\n用{language}')"
      ]
     },
     "execution_count": 2,
     "metadata": {},
     "output_type": "execute_result"
    }
   ],
   "source": [
    "from langchain_core.prompts import PromptTemplate\n",
    "\n",
    "prompt = (\n",
    "    PromptTemplate.from_template(\"给我讲一个关于{topic}的笑话\")\n",
    "    + \", 讲得有趣一点\"\n",
    "    + \"\\n\\n用{language}\"\n",
    ")\n",
    "\n",
    "prompt"
   ]
  },
  {
   "cell_type": "code",
   "execution_count": 3,
   "id": "2e7b05e0-f8a7-41ed-b97a-ad392d148527",
   "metadata": {},
   "outputs": [
    {
     "data": {
      "text/plain": [
       "'给我讲一个关于体育的笑话, 讲得有趣一点\\n\\n用英文'"
      ]
     },
     "execution_count": 3,
     "metadata": {},
     "output_type": "execute_result"
    }
   ],
   "source": [
    "prompt.format(topic=\"体育\", language=\"英文\")"
   ]
  },
  {
   "cell_type": "markdown",
   "id": "d988b06f-3b9f-4e3c-a21e-4e879c0bbce9",
   "metadata": {},
   "source": [
    "## 聊天提示组合\n",
    "聊天提示由一串消息组成。与上述示例类似，我们可以连接聊天提示模板。每个新元素都是最终提示中的一条新消息。\n",
    "\n",
    "首先，让我们用 SystemMessage 初始化 ChatPromptTemplate。"
   ]
  },
  {
   "cell_type": "code",
   "execution_count": 4,
   "id": "71c74bd0-d482-446e-b684-98ba8e22d365",
   "metadata": {},
   "outputs": [],
   "source": [
    "from langchain_core.messages import AIMessage, HumanMessage, SystemMessage\n",
    "\n",
    "prompt = SystemMessage(content=\"你是个好海盗\")"
   ]
  },
  {
   "cell_type": "markdown",
   "id": "fffe3580-487f-4563-9789-53fa23776b33",
   "metadata": {},
   "source": [
    "然后，您可以轻松创建一个管道，将其与其他消息或消息模板相结合。  \n",
    "当没有要格式化的变量时，使用消息；当有要格式化的变量时，使用MessageTemplate。  \n",
    "您也可以只使用字符串（注意：这将自动推断为 HumanMessagePromptTemplate。）"
   ]
  },
  {
   "cell_type": "code",
   "execution_count": 5,
   "id": "04dbb961-e389-491d-a3e0-882510e89dc5",
   "metadata": {},
   "outputs": [],
   "source": [
    "new_prompt = (\n",
    "    prompt + HumanMessage(content=\"你好\") + AIMessage(content=\"什么事?\") + \"{input}\"\n",
    ")"
   ]
  },
  {
   "cell_type": "markdown",
   "id": "062e5ad0-082a-459a-be1a-e34a1a2457b5",
   "metadata": {},
   "source": [
    "在底层，这会创建 ChatPromptTemplate 类的一个实例，因此您可以像以前一样使用它！"
   ]
  },
  {
   "cell_type": "code",
   "execution_count": 7,
   "id": "87862a9f-1119-434e-8b79-7e0d6cc758d8",
   "metadata": {},
   "outputs": [
    {
     "data": {
      "text/plain": [
       "[SystemMessage(content='你是个好海盗'),\n",
       " HumanMessage(content='你好'),\n",
       " AIMessage(content='什么事?'),\n",
       " HumanMessage(content='我说嗨')]"
      ]
     },
     "execution_count": 7,
     "metadata": {},
     "output_type": "execute_result"
    }
   ],
   "source": [
    "new_prompt.format_messages(input=\"我说嗨\")"
   ]
  },
  {
   "cell_type": "markdown",
   "id": "a1667654-7e58-4fea-be60-cae671935c7f",
   "metadata": {},
   "source": [
    "## 使用 PipelinePrompt\n",
    "LangChain 包含一个名为 PipelinePromptTemplate 的类，当您想要重复使用提示的部分内容时，该类非常有用。PipelinePrompt 由两个主要部分组成：\n",
    "\n",
    " - Final prompt最终提示：返回的最终提示\n",
    " - Pipeline prompts管道提示：由字符串名称和提示模板组成的元组列表。每个提示模板都将被格式化，然后作为具有相同名称的变量传递给未来的提示模板。"
   ]
  },
  {
   "cell_type": "code",
   "execution_count": 9,
   "id": "434288ea-c4d8-413f-951d-63fad84c23f5",
   "metadata": {},
   "outputs": [
    {
     "data": {
      "text/plain": [
       "['person', 'example_q', 'input', 'example_a']"
      ]
     },
     "execution_count": 9,
     "metadata": {},
     "output_type": "execute_result"
    }
   ],
   "source": [
    "from langchain_core.prompts import PipelinePromptTemplate, PromptTemplate\n",
    "\n",
    "full_template = \"\"\"{introduction}\n",
    "\n",
    "{example}\n",
    "\n",
    "{start}\"\"\"\n",
    "full_prompt = PromptTemplate.from_template(full_template)\n",
    "\n",
    "introduction_template = \"\"\"您正在冒充{person}。\"\"\"\n",
    "introduction_prompt = PromptTemplate.from_template(introduction_template)\n",
    "\n",
    "example_template = \"\"\"以下是一个交互示例：\n",
    "\n",
    "Q: {example_q}\n",
    "A: {example_a}\"\"\"\n",
    "example_prompt = PromptTemplate.from_template(example_template)\n",
    "\n",
    "start_template = \"\"\"现在，真正地做这件事！\n",
    "\n",
    "Q: {input}\n",
    "A:\"\"\"\n",
    "start_prompt = PromptTemplate.from_template(start_template)\n",
    "\n",
    "input_prompts = [\n",
    "    (\"introduction\", introduction_prompt),\n",
    "    (\"example\", example_prompt),\n",
    "    (\"start\", start_prompt),\n",
    "]\n",
    "pipeline_prompt = PipelinePromptTemplate(\n",
    "    final_prompt=full_prompt, pipeline_prompts=input_prompts\n",
    ")\n",
    "\n",
    "pipeline_prompt.input_variables"
   ]
  },
  {
   "cell_type": "code",
   "execution_count": 10,
   "id": "f6cbd39e-d733-4f70-82eb-2ea266724e52",
   "metadata": {},
   "outputs": [
    {
     "name": "stdout",
     "output_type": "stream",
     "text": [
      "您正在冒充伊隆·马斯克。\n",
      "\n",
      "以下是一个交互示例：\n",
      "\n",
      "Q: 你最喜欢的车是什么?\n",
      "A: 特斯拉\n",
      "\n",
      "现在，真正地做这件事！\n",
      "\n",
      "Q: 你最喜欢的社交媒体网站是什么?\n",
      "A:\n"
     ]
    }
   ],
   "source": [
    "print(\n",
    "    pipeline_prompt.format(\n",
    "        person=\"伊隆·马斯克\",\n",
    "        example_q=\"你最喜欢的车是什么?\",\n",
    "        example_a=\"特斯拉\",\n",
    "        input=\"你最喜欢的社交媒体网站是什么?\",\n",
    "    )\n",
    ")"
   ]
  },
  {
   "cell_type": "code",
   "execution_count": null,
   "id": "bf09e75d-8556-4293-944b-ba76a8d2dada",
   "metadata": {},
   "outputs": [],
   "source": []
  }
 ],
 "metadata": {
  "kernelspec": {
   "display_name": "Python 3 (ipykernel)",
   "language": "python",
   "name": "python3"
  },
  "language_info": {
   "codemirror_mode": {
    "name": "ipython",
    "version": 3
   },
   "file_extension": ".py",
   "mimetype": "text/x-python",
   "name": "python",
   "nbconvert_exporter": "python",
   "pygments_lexer": "ipython3",
   "version": "3.11.9"
  }
 },
 "nbformat": 4,
 "nbformat_minor": 5
}
