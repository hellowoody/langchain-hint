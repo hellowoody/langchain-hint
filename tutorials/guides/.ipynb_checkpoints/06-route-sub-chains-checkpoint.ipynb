{
 "cells": [
  {
   "cell_type": "markdown",
   "id": "0bea4020-27ad-4fc4-83b9-5195134ca265",
   "metadata": {},
   "source": [
    "# 如何在子链之间路由 How to route between sub-chains\n",
    "\n",
    "路由允许您创建非确定性链，其中上一步的输出定义下一步。路由可以帮助您定义状态并使用与这些状态相关的信息作为模型调用的上下文，从而帮助提供与模型交互的结构和一致性。\n",
    "\n",
    "有两种方法可以执行路由：\n",
    "\n",
    " - 有条件地从 RunnableLambda 返回可运行对象（推荐）\n",
    " - 使用 RunnableBranch（旧版）\n"
   ]
  },
  {
   "cell_type": "code",
   "execution_count": 2,
   "id": "95e2b8a1-ac57-4fdf-b557-a2273663757c",
   "metadata": {},
   "outputs": [],
   "source": [
    "import os\n",
    "from dotenv import find_dotenv,load_dotenv\n",
    "\n",
    "_ = load_dotenv(find_dotenv())"
   ]
  },
  {
   "cell_type": "code",
   "execution_count": 3,
   "id": "12b1c229-467f-4a29-af38-426d898225b6",
   "metadata": {},
   "outputs": [
    {
     "data": {
      "text/plain": [
       "'zhipu'"
      ]
     },
     "execution_count": 3,
     "metadata": {},
     "output_type": "execute_result"
    }
   ],
   "source": [
    "from langchain_community.chat_models import ChatZhipuAI,ChatBaichuan\n",
    "from langchain_core.output_parsers import StrOutputParser\n",
    "from langchain_core.prompts import PromptTemplate\n",
    "\n",
    "zhipu_chain = (\n",
    "    PromptTemplate.from_template(\"\"\"您是 zhipu 方面的专家。\\\n",
    "        回答问题时，请始终以“正如张三告诉我的那样”开头。\\\n",
    "        回答以下问题：\n",
    "        \n",
    "        问题：{question}\n",
    "        答案：\n",
    "    \"\"\")\n",
    "    | ChatZhipuAI(model=\"glm-4\")\n",
    "    | StrOutputParser()\n",
    ")\n",
    "\n",
    "baichuan_chain = (\n",
    "    PromptTemplate.from_template(\"\"\"根据下面的用户问题，将其分类为关于 zhipu、baichuan 或 其他。\n",
    "        不要用超过一个单词回答。\n",
    "\n",
    "        <question>\n",
    "        {question}\n",
    "        </question>\n",
    "        分类:\n",
    "    \"\"\")\n",
    "    | ChatZhipuAI(model=\"glm-4\")\n",
    "    | StrOutputParser()\n",
    ")\n",
    "\n"
   ]
  },
  {
   "cell_type": "code",
   "execution_count": null,
   "id": "f2117071-69e2-456a-8dda-edce9bd598f2",
   "metadata": {},
   "outputs": [],
   "source": []
  }
 ],
 "metadata": {
  "kernelspec": {
   "display_name": "Python 3 (ipykernel)",
   "language": "python",
   "name": "python3"
  },
  "language_info": {
   "codemirror_mode": {
    "name": "ipython",
    "version": 3
   },
   "file_extension": ".py",
   "mimetype": "text/x-python",
   "name": "python",
   "nbconvert_exporter": "python",
   "pygments_lexer": "ipython3",
   "version": "3.9.18"
  }
 },
 "nbformat": 4,
 "nbformat_minor": 5
}
