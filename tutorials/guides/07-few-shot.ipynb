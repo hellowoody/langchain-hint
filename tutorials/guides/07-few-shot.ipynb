{
 "cells": [
  {
   "cell_type": "markdown",
   "id": "3a210baa-9153-4e56-9a39-906afdd97672",
   "metadata": {},
   "source": [
    "# 使用少量样本示例 How to use few shot examples\n",
    "\n",
    "在本指南中，我们将学习如何创建一个简易的提示模板，该模板在生成内容时向模型提供输入和输出示例。  \n",
    "向LLM（大型语言模型）提供几个这样的示例称为少量样本引导（few-shotting），这是一种简单而强大的方法，可以指导内容生成，并在某些情况下显著提高模型性能。\n",
    "\n",
    "少量样本引导的提示模板可以从一组示例或从负责从定义集选择示例子集的示例选择器类构建。\n",
    "\n",
    "本指南将涵盖使用字符串提示模板进行少量样本引导的内容。\n",
    "\n",
    "## 为少样本示例创建格式化程序\n",
    "配置一个格式化程序，将少样本示例格式化为字符串。此格式化程序应为 PromptTemplate 对象。"
   ]
  },
  {
   "cell_type": "code",
   "execution_count": 2,
   "id": "785827d1-0c56-4a3c-973a-f878a0444d4d",
   "metadata": {},
   "outputs": [],
   "source": [
    "from langchain_core.prompts import PromptTemplate\n",
    "\n",
    "example_prompt = PromptTemplate.from_template(\"问题:{question}\\n{answer}\")"
   ]
  },
  {
   "cell_type": "markdown",
   "id": "7763984d-4dac-4e63-9dee-d937e630d611",
   "metadata": {},
   "source": [
    "## 创建示例集 \n",
    "\n",
    "接下来，我们将创建一个少样本示例列表。每个示例都应该是一个字典，表示我们上面定义的格式化程序提示的示例输入。"
   ]
  },
  {
   "cell_type": "code",
   "execution_count": 7,
   "id": "b10a46b3-22df-4ea1-a0c8-b00f971be67d",
   "metadata": {},
   "outputs": [],
   "source": [
    "examples = [\n",
    "\t{\n",
    "\t\t\"question\": \"爱因斯坦和霍金谁的寿命更长？\",\n",
    "\t\t\"answer\": \"\"\"\n",
    "在这里需要进一步的问题来确认：是。\n",
    "后续问题：爱因斯坦去世时多大？\n",
    "中间答案：爱因斯坦去世时76岁。\n",
    "后续问题：霍金去世时多大？\n",
    "中间答案：霍金去世时76岁。\n",
    "最终答案是：相同\"\"\",\n",
    "\t},\n",
    "\t{\n",
    "\t\t\"question\": \"微博的创始人是哪一年出生的？\",\n",
    "\t\t\"answer\": \"\"\"\n",
    "在这里需要进一步的问题来确认：是。\n",
    "后续问题：微博的创始人是谁？\n",
    "中间答案：微博的创始人是王高飞。\n",
    "后续问题：王高飞是哪一年出生的？\n",
    "中间答案：王高飞出生于1978年。\n",
    "最终答案是：1978年\"\"\",\n",
    "\t},\n",
    "\t{\n",
    "\t\t\"question\": \"《红楼梦》和《水浒传》的作者是同一个人吗？\",\n",
    "\t\t\"answer\": \"\"\"\n",
    "在这里需要进一步的问题来确认：是。\n",
    "后续问题：《红楼梦》的作者是谁？\n",
    "中间答案：《红楼梦》的作者是曹雪芹。\n",
    "后续问题：《水浒传》的作者是谁？\n",
    "中间答案：《水浒传》的作者是施耐庵。\n",
    "最终答案是：不是\"\"\",\n",
    "\t},\n",
    "\t{\n",
    "\t\t\"question\": \"《大白鲨》和《007：大战皇家赌场》的导演都来自同一个国家吗？\",\n",
    "\t\t\"answer\": \"\"\"\n",
    "在这里需要进一步的问题来确认。\n",
    "跟进问题：《大白鲨》的导演是谁？\n",
    "中间答案：《大白鲨》的导演是史蒂文·斯皮尔伯格。\n",
    "跟进问题：史蒂文·斯皮尔伯格来自哪里？\n",
    "中间答案：美国。\n",
    "跟进问题：《007：大战皇家赌场》的导演是谁？\n",
    "中间答案：《007：大战皇家赌场》的导演是马丁·坎贝尔。\n",
    "跟进问题：马丁·坎贝尔来自哪里？\n",
    "中间答案：新西兰。\n",
    "所以最终答案是：不，他们并非来自同一个国家。\"\"\",\n",
    "\t}\t\t\t\t\t\t\t\t\t\t\n",
    "]"
   ]
  },
  {
   "cell_type": "markdown",
   "id": "50f2fe51-9ff1-4e98-9e0b-1effbc2fd17e",
   "metadata": {},
   "source": [
    "让我们用其中一个例子来测试格式提示："
   ]
  },
  {
   "cell_type": "code",
   "execution_count": 8,
   "id": "b2feb15d-4180-4b69-a5cf-d44f12d0f803",
   "metadata": {},
   "outputs": [
    {
     "name": "stdout",
     "output_type": "stream",
     "text": [
      "问题:爱因斯坦和霍金谁的寿命更长？\n",
      "\n",
      "在这里需要进一步的问题来确认：是。\n",
      "后续问题：爱因斯坦去世时多大？\n",
      "中间答案：爱因斯坦去世时76岁。\n",
      "后续问题：霍金去世时多大？\n",
      "中间答案：霍金去世时76岁。\n",
      "最终答案是：相同\n"
     ]
    }
   ],
   "source": [
    "print(example_prompt.invoke(examples[0]).to_string())"
   ]
  },
  {
   "cell_type": "markdown",
   "id": "be222c6b-8438-4e31-96df-0ddaca3b1d51",
   "metadata": {},
   "source": [
    "## 将示例和格式化程序传递给 FewShotPromptTemplate \n",
    "\n",
    "最后，创建一个FewShotPromptTemplate对象。这个对象接收少量样本示例和用于处理这些少量样本的格式化器。  \n",
    "当这个FewShotPromptTemplate被格式化时，它会使用example_prompt格式化传入的示例，然后将它们添加到最终提示中，在后缀之前："
   ]
  },
  {
   "cell_type": "code",
   "execution_count": 11,
   "id": "cd49fa8f-e0a4-4449-b432-a60cbca1619d",
   "metadata": {},
   "outputs": [
    {
     "name": "stdout",
     "output_type": "stream",
     "text": [
      "问题:爱因斯坦和霍金谁的寿命更长？\n",
      "\n",
      "在这里需要进一步的问题来确认：是。\n",
      "后续问题：爱因斯坦去世时多大？\n",
      "中间答案：爱因斯坦去世时76岁。\n",
      "后续问题：霍金去世时多大？\n",
      "中间答案：霍金去世时76岁。\n",
      "最终答案是：相同\n",
      "\n",
      "问题:微博的创始人是哪一年出生的？\n",
      "\n",
      "在这里需要进一步的问题来确认：是。\n",
      "后续问题：微博的创始人是谁？\n",
      "中间答案：微博的创始人是王高飞。\n",
      "后续问题：王高飞是哪一年出生的？\n",
      "中间答案：王高飞出生于1978年。\n",
      "最终答案是：1978年\n",
      "\n",
      "问题:《红楼梦》和《水浒传》的作者是同一个人吗？\n",
      "\n",
      "在这里需要进一步的问题来确认：是。\n",
      "后续问题：《红楼梦》的作者是谁？\n",
      "中间答案：《红楼梦》的作者是曹雪芹。\n",
      "后续问题：《水浒传》的作者是谁？\n",
      "中间答案：《水浒传》的作者是施耐庵。\n",
      "最终答案是：不是\n",
      "\n",
      "问题:《大白鲨》和《007：大战皇家赌场》的导演都来自同一个国家吗？\n",
      "\n",
      "在这里需要进一步的问题来确认。\n",
      "跟进问题：《大白鲨》的导演是谁？\n",
      "中间答案：《大白鲨》的导演是史蒂文·斯皮尔伯格。\n",
      "跟进问题：史蒂文·斯皮尔伯格来自哪里？\n",
      "中间答案：美国。\n",
      "跟进问题：《007：大战皇家赌场》的导演是谁？\n",
      "中间答案：《007：大战皇家赌场》的导演是马丁·坎贝尔。\n",
      "跟进问题：马丁·坎贝尔来自哪里？\n",
      "中间答案：新西兰。\n",
      "所以最终答案是：不，他们并非来自同一个国家。\n",
      "\n",
      "Question:红楼梦的作者是谁？\n"
     ]
    }
   ],
   "source": [
    "from langchain_core.prompts import FewShotPromptTemplate\n",
    "\n",
    "prompt = FewShotPromptTemplate(\n",
    "    examples=examples,\n",
    "    example_prompt=example_prompt,\n",
    "    suffix=\"Question:{input}\",\n",
    "    input_variables=[\"input\"]\n",
    ")\n",
    "\n",
    "print(prompt.invoke({\"input\":\"红楼梦的作者是谁？\"}).to_string())"
   ]
  },
  {
   "cell_type": "markdown",
   "id": "b99c5589-0484-4342-bd97-7fc81ab95271",
   "metadata": {},
   "source": [
    "## 使用示例选择器\n",
    "我们将重用上一步中的示例集和格式化程序。  \n",
    "但是，我们不会将示例直接输入到 FewShotPromptTemplate 对象中，而是将它们输入到名为 SemanticSimilarityExampleSelector 实例的 ExampleSelector 实现中。  \n",
    "此类根据与输入的相似性从初始集合中选择少量示例。  \n",
    "它使用嵌入模型来计算输入与少量示例之间的相似性，并使用向量存储来执行最近邻搜索。\n",
    "\n",
    "为了展示它的样子，让我们初始化一个实例并单独调用它："
   ]
  },
  {
   "cell_type": "code",
   "execution_count": 12,
   "id": "2af8b63d-157c-42b6-b8e3-962767c70ec4",
   "metadata": {},
   "outputs": [],
   "source": [
    "import os\n",
    "from dotenv import load_dotenv,find_dotenv\n",
    "\n",
    "_ = load_dotenv(find_dotenv())"
   ]
  },
  {
   "cell_type": "code",
   "execution_count": 20,
   "id": "a2e4db1d-dc0a-4220-ada8-5c0f3c543cd7",
   "metadata": {},
   "outputs": [
    {
     "name": "stdout",
     "output_type": "stream",
     "text": [
      "Examples most similar to the input : 红楼梦的作者是谁?\n",
      "\n",
      "\n",
      "answer : \n",
      "在这里需要进一步的问题来确认：是。\n",
      "后续问题：《红楼梦》的作者是谁？\n",
      "中间答案：《红楼梦》的作者是曹雪芹。\n",
      "后续问题：《水浒传》的作者是谁？\n",
      "中间答案：《水浒传》的作者是施耐庵。\n",
      "最终答案是：不是\n",
      "question : 《红楼梦》和《水浒传》的作者是同一个人吗？\n"
     ]
    }
   ],
   "source": [
    "from langchain_chroma import Chroma\n",
    "from langchain_core.example_selectors import SemanticSimilarityExampleSelector\n",
    "from langchain_community.embeddings import BaichuanTextEmbeddings\n",
    "\n",
    "embeddings = BaichuanTextEmbeddings(baichuan_api_key=os.environ[\"BAICHUAN_API_KEY\"])\n",
    "\n",
    "example_selector = SemanticSimilarityExampleSelector.from_examples(\n",
    "    # 这是可供选择的示例列表。\n",
    "    examples,\n",
    "    # 这是用于生成用于测量语义相似度的嵌入的嵌入类。\n",
    "    embeddings,\n",
    "    # 这是用于存储嵌入并进行相似性搜索的 VectorStore 类。\n",
    "    Chroma,\n",
    "    # 这是要生成的示例的数量。\n",
    "    k=1\n",
    ")\n",
    "\n",
    "# 选择与输入最相似的例子。\n",
    "question = \"红楼梦的作者是谁?\"\n",
    "selected_examples = example_selector.select_examples({\"question\":question})\n",
    "print(f\"Examples most similar to the input : {question}\")\n",
    "for example in selected_examples:\n",
    "    print(\"\\n\")\n",
    "    for k,v in example.items():\n",
    "        print(f\"{k} : {v}\")"
   ]
  },
  {
   "cell_type": "markdown",
   "id": "4a93444c-f732-4875-a186-c161d49c2597",
   "metadata": {},
   "source": [
    "现在，让我们创建一个 FewShotPromptTemplate 对象。  \n",
    "此对象接收示例选择器和少样本示例的格式化程序提示。"
   ]
  },
  {
   "cell_type": "code",
   "execution_count": 21,
   "id": "4e2fafb1-fff9-4a3a-ba76-09e915d50a31",
   "metadata": {},
   "outputs": [
    {
     "name": "stdout",
     "output_type": "stream",
     "text": [
      "问题:《大白鲨》和《007：大战皇家赌场》的导演都来自同一个国家吗？\n",
      "\n",
      "在这里需要进一步的问题来确认。\n",
      "跟进问题：《大白鲨》的导演是谁？\n",
      "中间答案：《大白鲨》的导演是史蒂文·斯皮尔伯格。\n",
      "跟进问题：史蒂文·斯皮尔伯格来自哪里？\n",
      "中间答案：美国。\n",
      "跟进问题：《007：大战皇家赌场》的导演是谁？\n",
      "中间答案：《007：大战皇家赌场》的导演是马丁·坎贝尔。\n",
      "跟进问题：马丁·坎贝尔来自哪里？\n",
      "中间答案：新西兰。\n",
      "所以最终答案是：不，他们并非来自同一个国家。\n",
      "\n",
      "Question: 大白鲨的导演是谁？\n"
     ]
    }
   ],
   "source": [
    "prompt = FewShotPromptTemplate(\n",
    "    example_selector=example_selector,\n",
    "    example_prompt=example_prompt,\n",
    "    suffix=\"Question: {input}\",\n",
    "    input_variables=[\"input\"]\n",
    ")\n",
    "\n",
    "print(prompt.invoke({\"input\":\"大白鲨的导演是谁？\"}).to_string())"
   ]
  },
  {
   "cell_type": "code",
   "execution_count": null,
   "id": "18260ade-c9cd-4d70-a5e1-4acb03cca5f5",
   "metadata": {},
   "outputs": [],
   "source": []
  }
 ],
 "metadata": {
  "kernelspec": {
   "display_name": "Python 3 (ipykernel)",
   "language": "python",
   "name": "python3"
  },
  "language_info": {
   "codemirror_mode": {
    "name": "ipython",
    "version": 3
   },
   "file_extension": ".py",
   "mimetype": "text/x-python",
   "name": "python",
   "nbconvert_exporter": "python",
   "pygments_lexer": "ipython3",
   "version": "3.11.9"
  }
 },
 "nbformat": 4,
 "nbformat_minor": 5
}
