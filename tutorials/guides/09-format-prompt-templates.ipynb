{
 "cells": [
  {
   "cell_type": "markdown",
   "id": "22b2c12d-203b-4223-b684-3a576b5693bf",
   "metadata": {},
   "source": [
    "# 如何部分格式化提示模板 How to partially format prompt templates\n",
    "\n",
    "与将参数部分绑定到函数一样，对提示模板进行“部分”处理也是有意义的 - 例如，传入所需值的子集，以创建仅需要剩余值子集的新提示模板。\n",
    "\n",
    "LangChain 通过两种方式支持这一点：\n",
    "\n",
    " - 使用字符串值进行部分格式化。\n",
    " - 使用返回字符串值的函数进行部分格式化。\n",
    "   \n",
    "在下面的示例中，我们将介绍这两种用例的动机以及如何在 LangChain 中执行此操作。\n",
    "\n",
    "## 使用字符串进行部分格式化\n",
    "想要部分格式化提示模板的一个常见用例是，如果您先于其他变量访问提示中的某些变量。  \n",
    "例如，假设您有一个需要两个变量 foo 和 baz 的提示模板。  \n",
    "如果您在链的早期获得 foo 值，但稍后获得 baz 值，则在整个链中传递这两个变量可能会不方便。  \n",
    "相反，您可以使用 foo 值部分格式化提示模板，然后传递部分提示模板并使用它。  \n",
    "下面是一个示例："
   ]
  },
  {
   "cell_type": "code",
   "execution_count": 3,
   "id": "702987a4-de3e-4088-9be5-e95eae9aa745",
   "metadata": {},
   "outputs": [],
   "source": [
    "from langchain_core.prompts import PromptTemplate\n",
    "\n",
    "prompt = PromptTemplate.from_template(\"{foo}{bar}\")\n",
    "partial_prompt = prompt.partial(foo=\"foo\")"
   ]
  },
  {
   "cell_type": "code",
   "execution_count": 4,
   "id": "d4ce26bd-773a-4fa2-87e0-219d70f21ee0",
   "metadata": {},
   "outputs": [
    {
     "data": {
      "text/plain": [
       "PromptTemplate(input_variables=['bar'], partial_variables={'foo': 'foo'}, template='{foo}{bar}')"
      ]
     },
     "execution_count": 4,
     "metadata": {},
     "output_type": "execute_result"
    }
   ],
   "source": [
    "partial_prompt"
   ]
  },
  {
   "cell_type": "code",
   "execution_count": 5,
   "id": "1c1f0bd4-ba29-43f9-869e-b87a3db02fb8",
   "metadata": {},
   "outputs": [
    {
     "data": {
      "text/plain": [
       "'foobaz'"
      ]
     },
     "execution_count": 5,
     "metadata": {},
     "output_type": "execute_result"
    }
   ],
   "source": [
    "partial_prompt.format(bar=\"baz\")"
   ]
  },
  {
   "cell_type": "markdown",
   "id": "1fc828bc-bd16-4918-acff-2bbb40cfbaa5",
   "metadata": {},
   "source": [
    "您也可以仅使用部分变量来初始化提示。"
   ]
  },
  {
   "cell_type": "code",
   "execution_count": 6,
   "id": "25b8c5f2-9475-4174-b286-87457a089d9c",
   "metadata": {},
   "outputs": [
    {
     "data": {
      "text/plain": [
       "'foobaz'"
      ]
     },
     "execution_count": 6,
     "metadata": {},
     "output_type": "execute_result"
    }
   ],
   "source": [
    "prompt = PromptTemplate(\n",
    "    template=\"{foo}{bar}\",\n",
    "    input_variables=[\"bar\"],\n",
    "    partial_variables={\"foo\":\"foo\"}\n",
    ")\n",
    "\n",
    "prompt.format(bar=\"baz\")"
   ]
  },
  {
   "cell_type": "markdown",
   "id": "5ebc52be-76f3-4aa8-9d63-460e0ca21ea8",
   "metadata": {},
   "source": [
    "## 函数部分化\n",
    "另一种常见用法是使用函数部分化。这种用法的用例是当您有一个变量时，您知道您总是希望以一种通用方式获取它。一个典型的例子是日期或时间。  \n",
    "假设您有一个提示，您总是希望它具有当前日期。  \n",
    "您无法在提示中对其进行硬编码，并且将其与其他输入变量一起传递很不方便。  \n",
    "在这种情况下，能够使用始终返回当前日期的函数部分化提示非常方便。"
   ]
  },
  {
   "cell_type": "code",
   "execution_count": 7,
   "id": "a26a9acf-8630-42a0-bcf8-431fc6756830",
   "metadata": {},
   "outputs": [
    {
     "data": {
      "text/plain": [
       "'给我讲一个关于 2024-06-22 17:35:41 那天的 有趣的 笑话'"
      ]
     },
     "execution_count": 7,
     "metadata": {},
     "output_type": "execute_result"
    }
   ],
   "source": [
    "from datetime import datetime\n",
    "\n",
    "def _get_datetime():\n",
    "    now = datetime.now()\n",
    "    return now.strftime(\"%Y-%m-%d %H:%M:%S\")\n",
    "\n",
    "prompt = PromptTemplate(\n",
    "    template=\"给我讲一个关于 {date} 那天的 {adjective} 笑话\",\n",
    "    input_variables=[\"adjective\",\"date\"]\n",
    ")\n",
    "partial_prompt = prompt.partial(date=_get_datetime)\n",
    "partial_prompt.format(adjective=\"有趣的\")"
   ]
  },
  {
   "cell_type": "markdown",
   "id": "1b2b3fee-a4b2-4acd-b983-213ae18f593c",
   "metadata": {},
   "source": [
    "您还可以使用部分变量来初始化提示，这在该工作流程中通常更有意义。"
   ]
  },
  {
   "cell_type": "code",
   "execution_count": 8,
   "id": "be47d545-50e5-41dd-8510-660feeddbdcb",
   "metadata": {},
   "outputs": [
    {
     "name": "stdout",
     "output_type": "stream",
     "text": [
      "给我讲一个关于 2024-06-22 17:36:55 那天的 有趣的 笑话\n"
     ]
    }
   ],
   "source": [
    "prompt = PromptTemplate(\n",
    "    template=\"给我讲一个关于 {date} 那天的 {adjective} 笑话\",\n",
    "    input_variables=[\"adjective\"],\n",
    "    partial_variables={\"date\": _get_datetime},\n",
    ")\n",
    "print(prompt.format(adjective=\"有趣的\"))"
   ]
  },
  {
   "cell_type": "code",
   "execution_count": null,
   "id": "27b81567-583b-49e0-85a9-cd62e49b3262",
   "metadata": {},
   "outputs": [],
   "source": []
  }
 ],
 "metadata": {
  "kernelspec": {
   "display_name": "Python 3 (ipykernel)",
   "language": "python",
   "name": "python3"
  },
  "language_info": {
   "codemirror_mode": {
    "name": "ipython",
    "version": 3
   },
   "file_extension": ".py",
   "mimetype": "text/x-python",
   "name": "python",
   "nbconvert_exporter": "python",
   "pygments_lexer": "ipython3",
   "version": "3.11.9"
  }
 },
 "nbformat": 4,
 "nbformat_minor": 5
}
