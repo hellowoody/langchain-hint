{
 "cells": [
  {
   "cell_type": "markdown",
   "id": "713fbd59-de11-4500-959f-8e8fdcbfc808",
   "metadata": {},
   "source": [
    "# 如何添加消息历史记录 How to add message history\n",
    "\n",
    "在构建聊天机器人时，将对话状态传入和传出链至关重要。  \n",
    "RunnableWithMessageHistory 类允许我们将消息历史记录添加到某些类型的链中。  \n",
    "它包装另一个 Runnable 并为其管理聊天消息历史记录。  \n",
    "具体来说，它在将对话传递给 Runnable 之前加载对话中的先前消息，并在调用 Runnable 之后将生成的响应保存为消息。  \n",
    "此类还通过使用 session_id 保存每个对话来启用多个对话 - 然后它在调用 Runnable 时期望在配置中传递 session_id，并使用它来查找相关的对话历史记录。"
   ]
  },
  {
   "cell_type": "markdown",
   "id": "2debae7b-6ca2-467c-80da-c492081c71f3",
   "metadata": {},
   "source": [
    "## 如何存储和加载消息\n",
    "其中的一个关键部分是存储和加载消息。构造 RunnableWithMessageHistory 时，您需要传入 get_session_history 函数。  \n",
    "此函数应接受 session_id 并返回 BaseChatMessageHistory 对象。\n",
    "\n",
    "**什么是 session_id？**\n",
    "\n",
    "session_id 是这些输入消息对应的会话（对话）线程的标识符。这允许您同时维护具有相同链的多个对话/线程。\n",
    "\n",
    "**什么是 BaseChatMessageHistory？**\n",
    "\n",
    "BaseChatMessageHistory 是一个可以加载和保存消息对象的类。它将由 RunnableWithMessageHistory 调用来执行此操作。这些类通常使用会话 ID 进行初始化。\n",
    "\n",
    "让我们创建一个 get_session_history 对象以用于此示例。  \n",
    "为了简单起见，我们将使用一个简单的 SQLiteMessage"
   ]
  },
  {
   "cell_type": "code",
   "execution_count": 14,
   "id": "104834c1-808f-4af3-9274-050f0c4e413a",
   "metadata": {},
   "outputs": [],
   "source": [
    "from langchain_community.chat_message_histories import SQLChatMessageHistory\n",
    "\n",
    "def get_session_history(session_id):\n",
    "    return SQLChatMessageHistory(session_id,\"sqlite:///memory.db\")"
   ]
  },
  {
   "cell_type": "markdown",
   "id": "80cad50d-75f1-4184-9c64-a2a61e72c4a0",
   "metadata": {},
   "source": [
    "## 你尝试封装的Runnable是什么？\n",
    "`RunnableWithMessageHistory`只能封装特定类型的Runnables。具体而言，它可以用于任何接受以下输入之一的Runnable：\n",
    "\n",
    "- 一系列`BaseMessages`\n",
    "- 一个字典，其键指向一系列`BaseMessages`\n",
    "- 一个字典，其键指向最新消息（作为字符串或`BaseMessages`序列），以及一个单独的键指向历史消息\n",
    "\n",
    "并且返回以下输出之一：\n",
    "\n",
    "- 可被视为`AIMessage`内容的字符串\n",
    "- `BaseMessage`序列\n",
    "- 一个字典，其键包含`BaseMessage`序列\n",
    "\n",
    "让我们通过一些示例来看看它是如何工作的。\n",
    "\n",
    "### 设置\n",
    "首先，我们构建一个Runnable（这里接受一个字典作为输入并返回一条消息作为输出）："
   ]
  },
  {
   "cell_type": "code",
   "execution_count": 1,
   "id": "447c36e4-673c-4fb4-af52-3d4530048bd7",
   "metadata": {},
   "outputs": [],
   "source": [
    "import os\n",
    "from dotenv import load_dotenv,find_dotenv\n",
    "\n",
    "_ = load_dotenv(find_dotenv())"
   ]
  },
  {
   "cell_type": "code",
   "execution_count": 15,
   "id": "56c8881a-a87d-4ccf-8c3c-60828e5204be",
   "metadata": {},
   "outputs": [],
   "source": [
    "from langchain_openai import ChatOpenAI\n",
    "\n",
    "model = ChatOpenAI(\n",
    "    base_url=\"https://open.bigmodel.cn/api/paas/v4\",\n",
    "    api_key=os.environ[\"ZHIPUAI_API_KEY\"],\n",
    "    model=\"glm-4\",\n",
    ")"
   ]
  },
  {
   "cell_type": "code",
   "execution_count": 16,
   "id": "d5a8c694-3630-4a3e-bda3-6a6863cef049",
   "metadata": {},
   "outputs": [],
   "source": [
    "from langchain_core.messages import HumanMessage\n",
    "from langchain_core.runnables.history import RunnableWithMessageHistory"
   ]
  },
  {
   "cell_type": "markdown",
   "id": "9923eedd-84d4-4bfa-9b1b-0c6c2d9373d7",
   "metadata": {},
   "source": [
    "## 消息输入，消息输出\n",
    "最简单的形式就是向 ChatModel 添加内存。  \n",
    "ChatModel 接受消息列表作为输入并输出消息。  \n",
    "这使得使用 RunnableWithMessageHistory 变得非常容易 - 无需额外配置！"
   ]
  },
  {
   "cell_type": "code",
   "execution_count": 17,
   "id": "7a51da20-ec81-4a4b-8ce0-b0582db08168",
   "metadata": {},
   "outputs": [],
   "source": [
    "runnable_with_history = RunnableWithMessageHistory(\n",
    "    model,\n",
    "    get_session_history\n",
    ")"
   ]
  },
  {
   "cell_type": "code",
   "execution_count": 18,
   "id": "79895276-0ae4-4b8d-9578-6d49aeb12d41",
   "metadata": {},
   "outputs": [
    {
     "name": "stderr",
     "output_type": "stream",
     "text": [
      "/Users/admin/miniconda3/envs/ai_learn/lib/python3.9/site-packages/langchain_community/chat_message_histories/sql.py:141: LangChainDeprecationWarning: `connection_string` was deprecated in LangChain 0.2.2 and will be removed in 0.3.0. Use Use connection instead instead.\n",
      "  warn_deprecated(\n",
      "Parent run f7526bc6-ce7e-42c2-8d95-9257b3b55cf5 not found for run 4b315575-2ba1-4b26-b46e-9852efd6011e. Treating as a root run.\n"
     ]
    },
    {
     "data": {
      "text/plain": [
       "AIMessage(content='你好，张三，很高兴为你服务。有什么可以帮助你的吗？', response_metadata={'token_usage': {'completion_tokens': 16, 'prompt_tokens': 11, 'total_tokens': 27}, 'model_name': 'glm-4', 'system_fingerprint': None, 'finish_reason': 'stop', 'logprobs': None}, id='run-4b315575-2ba1-4b26-b46e-9852efd6011e-0', usage_metadata={'input_tokens': 11, 'output_tokens': 16, 'total_tokens': 27})"
      ]
     },
     "execution_count": 18,
     "metadata": {},
     "output_type": "execute_result"
    }
   ],
   "source": [
    "runnable_with_history.invoke(\n",
    "    [HumanMessage(content=\"你好，我是张三。\")],\n",
    "    config={\n",
    "        \"configurable\":{\n",
    "            \"session_id\":\"s1\"\n",
    "        }\n",
    "    }\n",
    ")"
   ]
  },
  {
   "cell_type": "code",
   "execution_count": 21,
   "id": "054e4c4b-a415-470b-aa72-d176d0caa34a",
   "metadata": {},
   "outputs": [
    {
     "name": "stderr",
     "output_type": "stream",
     "text": [
      "Parent run 13bb3994-7df3-4d02-a45e-82e953c1f080 not found for run 5332a780-e34f-4766-8fab-a26fe14d45c0. Treating as a root run.\n"
     ]
    },
    {
     "data": {
      "text/plain": [
       "AIMessage(content='你之前告诉我你叫张三。但如果你是在询问你的真实姓名，我作为一个人工智能助手，是无法知道你的个人信息的。请记住，为了你的隐私安全，不要在网上透露你的真实姓名或其他敏感信息。如果你有其他问题或需要帮助，请告诉我。', response_metadata={'token_usage': {'completion_tokens': 59, 'prompt_tokens': 133, 'total_tokens': 192}, 'model_name': 'glm-4', 'system_fingerprint': None, 'finish_reason': 'stop', 'logprobs': None}, id='run-5332a780-e34f-4766-8fab-a26fe14d45c0-0', usage_metadata={'input_tokens': 133, 'output_tokens': 59, 'total_tokens': 192})"
      ]
     },
     "execution_count": 21,
     "metadata": {},
     "output_type": "execute_result"
    }
   ],
   "source": [
    "runnable_with_history.invoke(\n",
    "    [HumanMessage(content=\"我的名字是什么？\")],\n",
    "    config={\n",
    "        \"configurable\":{\n",
    "            \"session_id\":\"s1\"\n",
    "        }\n",
    "    }\n",
    ")"
   ]
  },
  {
   "cell_type": "markdown",
   "id": "1e31fa68-8327-490c-8d4a-332807a1bf91",
   "metadata": {},
   "source": [
    "我们现在可以用一个新的会话 ID 来尝试这个，并发现它不记得了。"
   ]
  },
  {
   "cell_type": "code",
   "execution_count": 22,
   "id": "7a53c3d8-0d6f-4c5c-bae3-a359a66543be",
   "metadata": {},
   "outputs": [
    {
     "name": "stderr",
     "output_type": "stream",
     "text": [
      "Parent run 2a4b987a-3f5b-4ad5-bf2c-b81e0ef26e4d not found for run 400c9a7a-c07b-48b8-ab38-3f58ab41fba6. Treating as a root run.\n"
     ]
    },
    {
     "data": {
      "text/plain": [
       "AIMessage(content='作为人工智能助手，我没有办法知道您的名字，除非您告诉我。如果您愿意分享，我很乐意知道您的名字。请随意告诉我。', response_metadata={'token_usage': {'completion_tokens': 30, 'prompt_tokens': 9, 'total_tokens': 39}, 'model_name': 'glm-4', 'system_fingerprint': None, 'finish_reason': 'stop', 'logprobs': None}, id='run-400c9a7a-c07b-48b8-ab38-3f58ab41fba6-0', usage_metadata={'input_tokens': 9, 'output_tokens': 30, 'total_tokens': 39})"
      ]
     },
     "execution_count": 22,
     "metadata": {},
     "output_type": "execute_result"
    }
   ],
   "source": [
    "runnable_with_history.invoke(\n",
    "    [HumanMessage(content=\"我的名字是什么？\")],\n",
    "    config={\n",
    "        \"configurable\":{\n",
    "            \"session_id\":\"s2\"\n",
    "        }\n",
    "    }\n",
    ")"
   ]
  },
  {
   "cell_type": "markdown",
   "id": "3d0a2bae-a78d-4e72-89fa-9b93a7c84d75",
   "metadata": {},
   "source": [
    "### 字典输入，消息输出\n",
    "除了包装原始模型之外，下一步是包装提示 + LLM。现在，这会将输入更改为字典（因为提示的输入是字典）。这增加了两点复杂性。\n",
    "\n",
    "首先：字典可以有多个键，但我们只想将一个保存为输入。为了做到这一点，我们现在需要指定一个键来保存为输入。\n",
    "\n",
    "其次：一旦我们加载了消息，我们就需要知道如何将它们保存到字典中。这相当于知道将它们保存在字典中的哪个键中。因此，我们需要指定一个键来保存已加载的消息。\n",
    "\n",
    "把它们放在一起，最终看起来像这样："
   ]
  },
  {
   "cell_type": "code",
   "execution_count": 29,
   "id": "bbdc3906-265f-4bb5-8418-344b6dce2c58",
   "metadata": {},
   "outputs": [],
   "source": [
    "from langchain_core.prompts import ChatPromptTemplate,MessagesPlaceholder\n",
    "\n",
    "prompt = ChatPromptTemplate.from_messages([\n",
    "    (\"system\",\"您是一位使用{language}的助理。请用 20 个字或更少的字数回复\"),\n",
    "    MessagesPlaceholder(variable_name=\"history\"),\n",
    "    (\"human\",\"{input}\")\n",
    "])\n",
    "\n",
    "runnable = prompt | model\n",
    "\n",
    "runnable_with_history = RunnableWithMessageHistory(\n",
    "    runnable,\n",
    "    get_session_history,\n",
    "    input_messages_key=\"input\",\n",
    "    history_messages_key=\"history\"\n",
    ")"
   ]
  },
  {
   "cell_type": "markdown",
   "id": "64ce90d2-6e48-4063-bdff-85e4d0dd2ae8",
   "metadata": {},
   "source": [
    "请注意，我们已经指定了`input_messages_key`（被视为最新输入消息的键）和`history_messages_key`（用于添加历史消息的键）。"
   ]
  },
  {
   "cell_type": "code",
   "execution_count": 30,
   "id": "9f089bc6-953d-4f54-87d5-b00d0809d11d",
   "metadata": {},
   "outputs": [
    {
     "name": "stderr",
     "output_type": "stream",
     "text": [
      "Parent run 4ead7351-9e81-46e9-8b31-4cd41a6f25c3 not found for run a523b8da-5e9f-4f91-bc14-44659b529157. Treating as a root run.\n"
     ]
    },
    {
     "data": {
      "text/plain": [
       "AIMessage(content='Hello, Wang Wu. Nice to meet you.', response_metadata={'token_usage': {'completion_tokens': 11, 'prompt_tokens': 124, 'total_tokens': 135}, 'model_name': 'glm-4', 'system_fingerprint': None, 'finish_reason': 'stop', 'logprobs': None}, id='run-b724fade-4ca6-43d9-940e-58f09cb7aa7f-0', usage_metadata={'input_tokens': 124, 'output_tokens': 11, 'total_tokens': 135})"
      ]
     },
     "execution_count": 30,
     "metadata": {},
     "output_type": "execute_result"
    }
   ],
   "source": [
    "runnable_with_history.invoke(\n",
    "    {\"language\":\"英语\",\"input\":\"你好，我是王武\"},\n",
    "    config={\"configurable\":{\"session_id\":\"s3\"}}\n",
    ")"
   ]
  },
  {
   "cell_type": "code",
   "execution_count": 31,
   "id": "010800eb-dbd9-43a3-bf64-6521d33fef0e",
   "metadata": {},
   "outputs": [
    {
     "name": "stderr",
     "output_type": "stream",
     "text": [
      "Parent run 3da06aa6-0052-4690-b65f-509a1631bb53 not found for run a978c2ef-b536-43a0-a679-93a69a88a5fd. Treating as a root run.\n"
     ]
    },
    {
     "data": {
      "text/plain": [
       "AIMessage(content='Your name is Wang Wu.', response_metadata={'token_usage': {'completion_tokens': 7, 'prompt_tokens': 140, 'total_tokens': 147}, 'model_name': 'glm-4', 'system_fingerprint': None, 'finish_reason': 'stop', 'logprobs': None}, id='run-833bdfa8-9682-4765-89fd-487b4ef7351b-0', usage_metadata={'input_tokens': 140, 'output_tokens': 7, 'total_tokens': 147})"
      ]
     },
     "execution_count": 31,
     "metadata": {},
     "output_type": "execute_result"
    }
   ],
   "source": [
    "runnable_with_history.invoke(\n",
    "    {\"language\":\"英语\",\"input\":\"我叫什么？\"},\n",
    "    config={\"configurable\":{\"session_id\":\"s3\"}}\n",
    ")"
   ]
  },
  {
   "cell_type": "code",
   "execution_count": 33,
   "id": "a4c384c6-5db3-4f33-9524-1d2beabb607a",
   "metadata": {},
   "outputs": [
    {
     "name": "stderr",
     "output_type": "stream",
     "text": [
      "Parent run b84052d7-1635-4ede-bfc1-919b80b79c5e not found for run 0bf6df1b-1d00-4ecf-85b2-93f40faf6452. Treating as a root run.\n"
     ]
    },
    {
     "data": {
      "text/plain": [
       "AIMessage(content=\"Sure, what's your name?\", response_metadata={'token_usage': {'completion_tokens': 9, 'prompt_tokens': 29, 'total_tokens': 38}, 'model_name': 'glm-4', 'system_fingerprint': None, 'finish_reason': 'stop', 'logprobs': None}, id='run-4e0eed7f-0bba-4d06-babb-b3557802696d-0', usage_metadata={'input_tokens': 29, 'output_tokens': 9, 'total_tokens': 38})"
      ]
     },
     "execution_count": 33,
     "metadata": {},
     "output_type": "execute_result"
    }
   ],
   "source": [
    "runnable_with_history.invoke(\n",
    "    {\"language\":\"英语\",\"input\":\"我叫什么?\"},\n",
    "    config={\"configurable\":{\"session_id\":\"s5\"}}\n",
    ")"
   ]
  },
  {
   "cell_type": "markdown",
   "id": "8ede8121-79d6-4c40-8497-b127ba3d8894",
   "metadata": {},
   "source": [
    "### 消息输入，字典输出\n",
    "当您使用模型生成字典中的一个键时，此格式很有用。"
   ]
  },
  {
   "cell_type": "code",
   "execution_count": 34,
   "id": "59d2bef6-e91a-47ad-a382-b96f3ad01f8d",
   "metadata": {},
   "outputs": [],
   "source": [
    "from langchain_core.messages import HumanMessage\n",
    "from langchain_core.runnables import RunnableParallel\n",
    "\n",
    "chain = RunnableParallel({\"output_message\": model})\n",
    "\n",
    "\n",
    "runnable_with_history = RunnableWithMessageHistory(\n",
    "    chain,\n",
    "    get_session_history,\n",
    "    output_messages_key=\"output_message\",\n",
    ")"
   ]
  },
  {
   "cell_type": "markdown",
   "id": "8a6f8814-e288-4b3c-9c80-39c2d49d832f",
   "metadata": {},
   "source": [
    "请注意，我们已经指定了 output_messages_key（要作为要保存的输出的键）。"
   ]
  },
  {
   "cell_type": "code",
   "execution_count": 35,
   "id": "19057532-3074-4b8d-b94d-865963989ae9",
   "metadata": {},
   "outputs": [
    {
     "name": "stderr",
     "output_type": "stream",
     "text": [
      "Parent run 11899879-2705-4a3a-a495-0f1b514aa1dd not found for run 787662b1-4bf9-43d7-b757-bed9f3e2b56d. Treating as a root run.\n"
     ]
    },
    {
     "data": {
      "text/plain": [
       "{'output_message': AIMessage(content='Hi Bob! How can I assist you today? If you have any questions or need information on a topic, feel free to ask.', response_metadata={'token_usage': {'completion_tokens': 29, 'prompt_tokens': 10, 'total_tokens': 39}, 'model_name': 'glm-4', 'system_fingerprint': None, 'finish_reason': 'stop', 'logprobs': None}, id='run-b7869a66-c157-4319-8d22-0ec96d860f60-0', usage_metadata={'input_tokens': 10, 'output_tokens': 29, 'total_tokens': 39})}"
      ]
     },
     "execution_count": 35,
     "metadata": {},
     "output_type": "execute_result"
    }
   ],
   "source": [
    "runnable_with_history.invoke(\n",
    "    [HumanMessage(content=\"hi - im bob!\")],\n",
    "    config={\"configurable\": {\"session_id\": \"s6\"}},\n",
    ")"
   ]
  },
  {
   "cell_type": "code",
   "execution_count": 36,
   "id": "bc4dd92f-1a5c-4195-b416-4bc7750e8eb0",
   "metadata": {},
   "outputs": [
    {
     "name": "stderr",
     "output_type": "stream",
     "text": [
      "Parent run a6f753ed-6f15-4b96-8f70-f2c728438ed0 not found for run b42c22f9-ac97-45df-91ad-47fc05e0562e. Treating as a root run.\n"
     ]
    },
    {
     "data": {
      "text/plain": [
       "{'output_message': AIMessage(content='Your name is Bob, as you mentioned earlier! If you have any other questions or need assistance with something else, feel free to ask.', response_metadata={'token_usage': {'completion_tokens': 30, 'prompt_tokens': 45, 'total_tokens': 75}, 'model_name': 'glm-4', 'system_fingerprint': None, 'finish_reason': 'stop', 'logprobs': None}, id='run-a23a869e-6c66-43fa-a3f5-eaaf588b0105-0', usage_metadata={'input_tokens': 45, 'output_tokens': 30, 'total_tokens': 75})}"
      ]
     },
     "execution_count": 36,
     "metadata": {},
     "output_type": "execute_result"
    }
   ],
   "source": [
    "runnable_with_history.invoke(\n",
    "    [HumanMessage(content=\"whats my name?\")],\n",
    "    config={\"configurable\": {\"session_id\": \"s6\"}},\n",
    ")"
   ]
  },
  {
   "cell_type": "markdown",
   "id": "d28752b7-117a-426f-aed7-9555221219f2",
   "metadata": {},
   "source": [
    "### 所有消息输入、消息输出都使用单个键的字典\n",
    "这是“字典输入、消息输出”的一个特例。在这种情况下，由于只有一个键，我们不需要指定太多 - 我们只需要指定 input_messages_key。"
   ]
  },
  {
   "cell_type": "code",
   "execution_count": 37,
   "id": "19efa490-6fc0-4b81-a6b8-e313e955e0f3",
   "metadata": {},
   "outputs": [],
   "source": [
    "from operator import itemgetter\n",
    "\n",
    "runnable_with_history = RunnableWithMessageHistory(\n",
    "    itemgetter(\"input_messages\") | model,\n",
    "    get_session_history,\n",
    "    input_messages_key=\"input_messages\"\n",
    ")"
   ]
  },
  {
   "cell_type": "code",
   "execution_count": 38,
   "id": "2135c3b3-2487-4133-8ec6-5e70ad7547fe",
   "metadata": {},
   "outputs": [
    {
     "name": "stderr",
     "output_type": "stream",
     "text": [
      "Parent run 24cb1a9c-9dd7-4bb3-8ee4-88e1f98fb01d not found for run 803d46ee-374f-4f2a-84ca-27d77082c7d9. Treating as a root run.\n"
     ]
    },
    {
     "data": {
      "text/plain": [
       "AIMessage(content='Hi Bob! How can I assist you today? If you have any questions or need information on a topic, feel free to ask.', response_metadata={'token_usage': {'completion_tokens': 29, 'prompt_tokens': 10, 'total_tokens': 39}, 'model_name': 'glm-4', 'system_fingerprint': None, 'finish_reason': 'stop', 'logprobs': None}, id='run-345a659b-9b18-4b0b-bddb-2708134157b4-0', usage_metadata={'input_tokens': 10, 'output_tokens': 29, 'total_tokens': 39})"
      ]
     },
     "execution_count": 38,
     "metadata": {},
     "output_type": "execute_result"
    }
   ],
   "source": [
    "runnable_with_history.invoke(\n",
    "    {\"input_messages\": [HumanMessage(content=\"hi - im bob!\")]},\n",
    "    config={\"configurable\": {\"session_id\": \"s7\"}},\n",
    ")"
   ]
  },
  {
   "cell_type": "code",
   "execution_count": 39,
   "id": "463d39db-7225-4ef6-ab7d-ee8974a8b427",
   "metadata": {},
   "outputs": [
    {
     "name": "stderr",
     "output_type": "stream",
     "text": [
      "Parent run 0ee7784c-90a3-4106-9aaa-fe7de64cb1b1 not found for run 986b66ef-6852-45a2-ac39-402c5ca41eb7. Treating as a root run.\n"
     ]
    },
    {
     "data": {
      "text/plain": [
       "AIMessage(content='Your name is Bob, as you mentioned earlier. If you have any other questions or need assistance with something else, feel free to ask!', response_metadata={'token_usage': {'completion_tokens': 30, 'prompt_tokens': 45, 'total_tokens': 75}, 'model_name': 'glm-4', 'system_fingerprint': None, 'finish_reason': 'stop', 'logprobs': None}, id='run-0df47690-facf-4fec-ac66-b301883b7d2d-0', usage_metadata={'input_tokens': 45, 'output_tokens': 30, 'total_tokens': 75})"
      ]
     },
     "execution_count": 39,
     "metadata": {},
     "output_type": "execute_result"
    }
   ],
   "source": [
    "runnable_with_history.invoke(\n",
    "    {\"input_messages\": [HumanMessage(content=\"whats my name?\")]},\n",
    "    config={\"configurable\": {\"session_id\": \"s7\"}},\n",
    ")"
   ]
  },
  {
   "cell_type": "markdown",
   "id": "166f86b1-ee03-4e9f-806b-78ddfcc6d510",
   "metadata": {},
   "source": [
    "## 自定义\n",
    "通过将 ConfigurableFieldSpec 对象列表传递给 history_factory_config 参数，可以自定义我们跟踪消息历史记录的配置参数。  \n",
    "下面，我们使用两个参数：user_id 和 dialogue_id。"
   ]
  },
  {
   "cell_type": "code",
   "execution_count": 45,
   "id": "92f065b3-a16c-4f6e-b578-99ed95967331",
   "metadata": {},
   "outputs": [
    {
     "name": "stderr",
     "output_type": "stream",
     "text": [
      "Parent run 1225f0d8-8fc5-4080-af64-49c8fec6eab7 not found for run d34ceac2-ed89-4577-88c4-18b0cb7c8c79. Treating as a root run.\n"
     ]
    },
    {
     "data": {
      "text/plain": [
       "AIMessage(content='Hello, Zhao Liu. How can I assist you?', response_metadata={'token_usage': {'completion_tokens': 12, 'prompt_tokens': 111, 'total_tokens': 123}, 'model_name': 'glm-4', 'system_fingerprint': None, 'finish_reason': 'stop', 'logprobs': None}, id='run-223b871c-5cc4-4621-b9b2-0bb164ffcd7d-0', usage_metadata={'input_tokens': 111, 'output_tokens': 12, 'total_tokens': 123})"
      ]
     },
     "execution_count": 45,
     "metadata": {},
     "output_type": "execute_result"
    }
   ],
   "source": [
    "from langchain_core.runnables import ConfigurableFieldSpec\n",
    "\n",
    "def get_session_history(user_id:str,conversation_id:str):\n",
    "    return SQLChatMessageHistory(f\"{user_id}--{conversation_id}\",\"sqlite:///memory.db\")\n",
    "\n",
    "with_message_history = RunnableWithMessageHistory(\n",
    "    runnable,\n",
    "    get_session_history,\n",
    "    input_messages_key=\"input\",\n",
    "    history_messages_key=\"history\",\n",
    "    history_factory_config=[\n",
    "        ConfigurableFieldSpec(\n",
    "            id=\"user_id\",\n",
    "            annotation=str,\n",
    "            name=\"用户ID\",\n",
    "            description=\"用户唯一ID\",\n",
    "            default=\"\",\n",
    "            is_shared=True\n",
    "        ),\n",
    "        ConfigurableFieldSpec(\n",
    "            id=\"conversation_id\",\n",
    "            annotation=str,\n",
    "            name=\"会话ID\",\n",
    "            description=\"会话唯一ID\",\n",
    "            default=\"\",\n",
    "            is_shared=True\n",
    "        ),\n",
    "    ]\n",
    ")\n",
    "\n",
    "with_message_history.invoke(\n",
    "    {\"language\":\"英文\",\"input\":\"你好，我是赵六\"},\n",
    "    config={\"configurable\":{\n",
    "        \"user_id\":\"u1\",\n",
    "        \"conversation_id\":\"c1\"\n",
    "    }}\n",
    ")"
   ]
  },
  {
   "cell_type": "code",
   "execution_count": 46,
   "id": "e72414ee-799d-46c9-bf0a-485e08c127a8",
   "metadata": {},
   "outputs": [
    {
     "name": "stderr",
     "output_type": "stream",
     "text": [
      "Parent run b3fefac9-750e-48a1-b9a1-dc20ee92a157 not found for run f773394a-09df-4eae-9a7d-8553702389bf. Treating as a root run.\n"
     ]
    },
    {
     "data": {
      "text/plain": [
       "AIMessage(content=\"Since you've introduced yourself as Zhao Liu, your name is Zhao Liu.\", response_metadata={'token_usage': {'completion_tokens': 16, 'prompt_tokens': 128, 'total_tokens': 144}, 'model_name': 'glm-4', 'system_fingerprint': None, 'finish_reason': 'stop', 'logprobs': None}, id='run-e339dc32-9a43-40bc-bac2-bba0be1c8f65-0', usage_metadata={'input_tokens': 128, 'output_tokens': 16, 'total_tokens': 144})"
      ]
     },
     "execution_count": 46,
     "metadata": {},
     "output_type": "execute_result"
    }
   ],
   "source": [
    "with_message_history.invoke(\n",
    "    {\"language\": \"英文\", \"input\": \"我叫什么?\"},\n",
    "    config={\"configurable\":{\n",
    "        \"user_id\":\"u1\",\n",
    "        \"conversation_id\":\"c1\"\n",
    "    }}\n",
    ")"
   ]
  },
  {
   "cell_type": "code",
   "execution_count": null,
   "id": "9364d1e8-6430-4f95-8f0b-8b5ecb3b6590",
   "metadata": {},
   "outputs": [],
   "source": []
  }
 ],
 "metadata": {
  "kernelspec": {
   "display_name": "Python 3 (ipykernel)",
   "language": "python",
   "name": "python3"
  },
  "language_info": {
   "codemirror_mode": {
    "name": "ipython",
    "version": 3
   },
   "file_extension": ".py",
   "mimetype": "text/x-python",
   "name": "python",
   "nbconvert_exporter": "python",
   "pygments_lexer": "ipython3",
   "version": "3.9.18"
  }
 },
 "nbformat": 4,
 "nbformat_minor": 5
}
