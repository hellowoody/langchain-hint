{
 "cells": [
  {
   "cell_type": "markdown",
   "id": "c7a17acd-6f92-4741-906d-bdf6768ad39a",
   "metadata": {},
   "source": [
    "# 使用 LCEL 构建一个简单的 LLM 应用程序\n",
    "在本快速入门中，我们将向您展示如何使用 LangChain 构建一个简单的 LLM 应用程序。此应用程序会将文本从英语翻译成另一种语言。这是一个相对简单的 LLM 应用程序 - 它只是一个 LLM 调用加上一些提示。不过，这仍然是开始使用 LangChain 的好方法 - 只需一些提示和一个 LLM 调用就可以构建许多功能！  \n",
    "LangChain Expression Language (LCEL) 理解为LangChain 表达语言 (LCEL)"
   ]
  },
  {
   "cell_type": "code",
   "execution_count": 1,
   "id": "23f2468a-dd44-4c82-b47e-1503aa16d807",
   "metadata": {},
   "outputs": [],
   "source": [
    "from dotenv import load_dotenv,find_dotenv\n",
    "import os "
   ]
  },
  {
   "cell_type": "markdown",
   "id": "e0cc5aae-7d56-4dbe-87a1-0f31439f9275",
   "metadata": {},
   "source": [
    "# 获取你的智谱 API Key\n",
    "在当前文件下创建一个.env文件，将api-key复制进去，如ZHIPUAI_API_KEY = \"api-key\""
   ]
  },
  {
   "cell_type": "code",
   "execution_count": 2,
   "id": "cda6383f-1665-4ffd-bb62-4c342c20fe13",
   "metadata": {},
   "outputs": [],
   "source": [
    "_ = load_dotenv(find_dotenv())"
   ]
  },
  {
   "cell_type": "markdown",
   "id": "9f2b7eac-4395-464f-a1fb-39132d15d917",
   "metadata": {},
   "source": [
    "# Using Language Models\n",
    "\n",
    "首先，让我们学习如何单独使用语言模型。LangChain 支持多种不同的语言模型，您可以互换使用 - 在下面选择您想要使用的模型！"
   ]
  },
  {
   "cell_type": "code",
   "execution_count": 3,
   "id": "6cff1f7c-d32f-4772-8199-441516a0bdee",
   "metadata": {},
   "outputs": [],
   "source": [
    "from langchain_community.chat_models import ChatZhipuAI\n",
    "\n",
    "model = ChatZhipuAI(\n",
    "    model=\"glm-4\",\n",
    "    temperature=0.5\n",
    ")"
   ]
  },
  {
   "cell_type": "markdown",
   "id": "25ea0650-48e0-4aac-b6cb-8fdde4ae28eb",
   "metadata": {},
   "source": [
    "让我们首先直接使用该模型。ChatModel 是 LangChain“Runnable”的实例，这意味着它们公开了一个用于与其交互的标准接口。为了简单地调用该模型，我们可以将消息列表传递给 .invoke 方法。"
   ]
  },
  {
   "cell_type": "code",
   "execution_count": 4,
   "id": "9a0520a7-d441-461f-a9d0-71f882a0d634",
   "metadata": {},
   "outputs": [
    {
     "data": {
      "text/plain": [
       "AIMessage(content='你好！', response_metadata={'token_usage': {'completion_tokens': 4, 'prompt_tokens': 16, 'total_tokens': 20}, 'model_name': 'glm-4', 'finish_reason': 'stop'}, id='run-a5e1419d-9bc6-4e0b-961a-6554e0334533-0')"
      ]
     },
     "execution_count": 4,
     "metadata": {},
     "output_type": "execute_result"
    }
   ],
   "source": [
    "from langchain_core.messages import HumanMessage, SystemMessage\n",
    "\n",
    "messages = [\n",
    "    SystemMessage(content=\"Translate the following from English into Chinese\"),\n",
    "    HumanMessage(content=\"hi!\"),\n",
    "]\n",
    "\n",
    "model.invoke(messages)"
   ]
  },
  {
   "cell_type": "markdown",
   "id": "6bf89dae-0bb6-425a-8f14-42db9dcc9e8e",
   "metadata": {},
   "source": [
    "## OutputParsers-输出解析器\n",
    "\n",
    "请注意，模型的响应是 AIMessage。它包含字符串响应以及有关响应的其他元数据。通常我们可能只想处理字符串响应。我们可以使用简单的输出解析器来解析此响应。  \n",
    "\n",
    "我们首先导入简单的输出解析器。"
   ]
  },
  {
   "cell_type": "code",
   "execution_count": 5,
   "id": "4f3516e5-fa9d-4694-9f09-59cdb54a9455",
   "metadata": {},
   "outputs": [],
   "source": [
    "from langchain_core.output_parsers import StrOutputParser\n",
    "\n",
    "parser = StrOutputParser()"
   ]
  },
  {
   "cell_type": "code",
   "execution_count": 6,
   "id": "8d5a462d-8b88-4a2b-8e8b-0fb14fb02086",
   "metadata": {},
   "outputs": [],
   "source": [
    "result = model.invoke(messages)"
   ]
  },
  {
   "cell_type": "code",
   "execution_count": 7,
   "id": "62554457-3ade-4b0c-8673-1a25cae17c9c",
   "metadata": {},
   "outputs": [
    {
     "data": {
      "text/plain": [
       "'你好！'"
      ]
     },
     "execution_count": 7,
     "metadata": {},
     "output_type": "execute_result"
    }
   ],
   "source": [
    "parser.invoke(result)"
   ]
  },
  {
   "cell_type": "markdown",
   "id": "9b343e71-498b-4a17-a139-99e9f8b9fc89",
   "metadata": {},
   "source": [
    "更常见的是，我们可以将模型与此输出解析器“链接”在一起。这意味着此输出解析器将在此链中每次被调用。此链采用语言模型的输入类型（字符串或消息列表）并返回输出解析器的输出类型（字符串）。  \n",
    "\n",
    "我们可以使用 | 运算符轻松创建链。| 运算符在 LangChain 中用于将两个元素组合在一起。"
   ]
  },
  {
   "cell_type": "code",
   "execution_count": 8,
   "id": "08acc2d7-4fae-4314-b82d-eb24cf9e2268",
   "metadata": {},
   "outputs": [],
   "source": [
    "chain = model | parser"
   ]
  },
  {
   "cell_type": "code",
   "execution_count": 9,
   "id": "8a0d9f5f-6984-4875-8648-fb37d05b1cf4",
   "metadata": {},
   "outputs": [
    {
     "data": {
      "text/plain": [
       "'你好！'"
      ]
     },
     "execution_count": 9,
     "metadata": {},
     "output_type": "execute_result"
    }
   ],
   "source": [
    "chain.invoke(messages)"
   ]
  },
  {
   "cell_type": "markdown",
   "id": "b4708892-13bd-4c14-a645-b17ff08304b7",
   "metadata": {},
   "source": [
    "# Prompt Templates - 提示模板\n",
    "\n",
    "现在，我们将消息列表直接传递到语言模型中。这个消息列表从何而来？通常，它由用户输入和应用程序逻辑组合而成。此应用程序逻辑通常获取原始用户输入并将其转换为可传递给语言模型的消息列表。常见的转换包括添加系统消息或使用用户输入格式化模板。  \n",
    "\n",
    "PromptTemplates 是 LangChain 中的一个概念，旨在协助进行这种转换。它们接收原始用户输入并返回可传递给语言模型的数据（提示）。  \n",
    "\n",
    "让我们在这里创建一个 PromptTemplate。它将接收两个用户变量：  \n",
    "\n",
    " - language：要将文本翻译成的语言\n",
    " - text：要翻译的文本"
   ]
  },
  {
   "cell_type": "code",
   "execution_count": 10,
   "id": "514e2ee8-87f9-494b-8972-22a3e75e65ad",
   "metadata": {},
   "outputs": [],
   "source": [
    "from langchain_core.prompts import ChatPromptTemplate"
   ]
  },
  {
   "cell_type": "markdown",
   "id": "6fc62c41-6e39-436b-b753-077291c59803",
   "metadata": {},
   "source": [
    "首先，让我们创建一个字符串，将其格式化为系统消息："
   ]
  },
  {
   "cell_type": "code",
   "execution_count": 11,
   "id": "c1447674-d129-4e4a-9e82-4b9a394accf7",
   "metadata": {},
   "outputs": [],
   "source": [
    "system_template = \"Translate the following into {language}:\""
   ]
  },
  {
   "cell_type": "markdown",
   "id": "0ab5563a-354f-4459-9488-d05556fc54d3",
   "metadata": {},
   "source": [
    "接下来，我们可以创建 PromptTemplate。这将是 system_template 的组合，以及用于放置文本的更简单的模板"
   ]
  },
  {
   "cell_type": "code",
   "execution_count": 12,
   "id": "d1d16b20-3848-4e90-a83e-df195b65d8cb",
   "metadata": {},
   "outputs": [],
   "source": [
    "prompt_template = ChatPromptTemplate.from_messages(\n",
    "    [(\"system\", system_template), (\"user\", \"{text}\")]\n",
    ")"
   ]
  },
  {
   "cell_type": "markdown",
   "id": "bde84953-4c5c-4bd7-ab9a-2fe0b369ad4e",
   "metadata": {},
   "source": [
    "此提示模板的输入是dict对象。我们可以单独试用此提示模板，看看它自己能做什么"
   ]
  },
  {
   "cell_type": "code",
   "execution_count": 14,
   "id": "1fb079df-add1-4e04-9f09-b3199b9e7c8d",
   "metadata": {},
   "outputs": [
    {
     "data": {
      "text/plain": [
       "ChatPromptValue(messages=[SystemMessage(content='Translate the following into Chinese:'), HumanMessage(content='hi')])"
      ]
     },
     "execution_count": 14,
     "metadata": {},
     "output_type": "execute_result"
    }
   ],
   "source": [
    "result = prompt_template.invoke({\"language\": \"Chinese\", \"text\": \"hi\"})\n",
    "\n",
    "result"
   ]
  },
  {
   "cell_type": "markdown",
   "id": "d0d748e0-6213-4d86-b20e-9fa8c1eda689",
   "metadata": {},
   "source": [
    "我们可以看到它返回了一个由两条消息组成的 ChatPromptValue。如果我们想直接访问这些消息，我们可以这样做："
   ]
  },
  {
   "cell_type": "code",
   "execution_count": 15,
   "id": "54480f0a-2c7f-410f-b6a5-276f1a3dbbea",
   "metadata": {},
   "outputs": [
    {
     "data": {
      "text/plain": [
       "[SystemMessage(content='Translate the following into Chinese:'),\n",
       " HumanMessage(content='hi')]"
      ]
     },
     "execution_count": 15,
     "metadata": {},
     "output_type": "execute_result"
    }
   ],
   "source": [
    "result.to_messages()"
   ]
  },
  {
   "cell_type": "markdown",
   "id": "84603816-632c-46a3-a1a1-59319c84508e",
   "metadata": {},
   "source": [
    "# Chaining together components with LCEL - 使用 LCEL 将组件链接在一起\n",
    "\n",
    "我们现在可以使用管道（|）运算符将其与上面的模型和输出解析器结合起来："
   ]
  },
  {
   "cell_type": "code",
   "execution_count": 16,
   "id": "aa2a5361-9357-4e02-b5a4-906ac7c9554a",
   "metadata": {},
   "outputs": [],
   "source": [
    "chain = prompt_template | model | parser"
   ]
  },
  {
   "cell_type": "code",
   "execution_count": 19,
   "id": "73c89284-826e-40c0-8f4f-1be658feae73",
   "metadata": {},
   "outputs": [
    {
     "data": {
      "text/plain": [
       "'您好！但是您提供的内容只有“hi”，这是一个非常短的问候语，它的中文翻译是“嗨”。如果您有更长的文本需要翻译，请提供，我会很乐意帮助您。'"
      ]
     },
     "execution_count": 19,
     "metadata": {},
     "output_type": "execute_result"
    }
   ],
   "source": [
    "chain.invoke({\"language\": \"chinese\", \"text\": \"hi\"})"
   ]
  },
  {
   "cell_type": "code",
   "execution_count": null,
   "id": "83d909c3-e162-4cc0-ae57-9bf7609b8f91",
   "metadata": {},
   "outputs": [],
   "source": []
  }
 ],
 "metadata": {
  "kernelspec": {
   "display_name": "Python 3 (ipykernel)",
   "language": "python",
   "name": "python3"
  },
  "language_info": {
   "codemirror_mode": {
    "name": "ipython",
    "version": 3
   },
   "file_extension": ".py",
   "mimetype": "text/x-python",
   "name": "python",
   "nbconvert_exporter": "python",
   "pygments_lexer": "ipython3",
   "version": "3.9.18"
  }
 },
 "nbformat": 4,
 "nbformat_minor": 5
}
