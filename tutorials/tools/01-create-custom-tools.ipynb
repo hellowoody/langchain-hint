{
 "cells": [
  {
   "cell_type": "markdown",
   "id": "a602fbf4-b381-4241-83aa-2fd45e097677",
   "metadata": {},
   "source": [
    "# 如何创建自定义工具 How to create custom \n",
    "\n",
    "构建代理时，您需要为其提供可以使用的工具列表。除了实际调用的函数外，工具还包含几个组件：\n",
    "\n",
    "| 属性       | 类型               | 描述                                                                                                                  |\n",
    "|------------|--------------------|-----------------------------------------------------------------------------------------------------------------------|\n",
    "| name       | str                | 必须唯一 -- 在提供给LLM或代理的一组工具中。                                                                             |\n",
    "| description| str                | 描述工具的功能。作为LLM或代理的上下文使用。                                                                           |\n",
    "| args_schema| Pydantic BaseModel | 可选但推荐，可用于提供更多信息（例如，少量示例）或对预期参数进行验证。                                                 |\n",
    "| return_direct| boolean          | 仅对代理相关。当为True时，在调用了给定的工具后，代理将停止并将结果直接返回给用户。                                      |\n",
    "\n",
    "LangChain提供了创建工具的三种方式：\n",
    "\n",
    "1. 使用`@tool`装饰器 —— 定义自定义工具的最简单方式。\n",
    "2. 使用`StructuredTool.from_function`类方法 —— 这与`@tool`装饰器相似，但允许更多的配置，并且可以指定同步和异步实现。\n",
    "3. 通过继承自`BaseTool` —— 这是最灵活的方法，它提供了最大程度的控制权，但代价是需要更多的努力和代码编写。\n",
    "\n",
    "对于大多数应用场景，使用`@tool`装饰器或`StructuredTool.from_function`类方法应该已经足够。"
   ]
  },
  {
   "cell_type": "markdown",
   "id": "477da25d-4daa-4215-a1c7-f3d88dd56fa0",
   "metadata": {},
   "source": [
    "## @tool decorator 装饰器\n",
    "此 @tool 装饰器是定义自定义工具的最简单方法。  \n",
    "装饰器默认使用函数名称作为工具名称，但可以通过传递字符串作为第一个参数来覆盖此名称。  \n",
    "此外，装饰器将使用函数的文档字符串作为工具的描述 - 因此必须提供文档字符串。"
   ]
  },
  {
   "cell_type": "code",
   "execution_count": 2,
   "id": "5870b626-055f-496f-8dd1-7358aaa01b4f",
   "metadata": {},
   "outputs": [
    {
     "name": "stdout",
     "output_type": "stream",
     "text": [
      "multiply\n",
      "multiply 2 nums\n",
      "{'a': {'title': 'A', 'type': 'integer'}, 'b': {'title': 'B', 'type': 'integer'}}\n"
     ]
    }
   ],
   "source": [
    "from langchain_core.tools import tool\n",
    "\n",
    "@tool\n",
    "def multiply(a:int , b:int) -> int:\n",
    "    \"\"\"multiply 2 nums\"\"\"\n",
    "    return a * b\n",
    "\n",
    "\n",
    "#让我们检查一下与该工具相关的一些属性。\n",
    "print(multiply.name)\n",
    "print(multiply.description)\n",
    "print(multiply.args)"
   ]
  },
  {
   "cell_type": "markdown",
   "id": "3ca53b94-3ebf-4a57-8f32-54f21bafdc55",
   "metadata": {},
   "source": [
    "或者创建一个异步实现，如下所示："
   ]
  },
  {
   "cell_type": "code",
   "execution_count": 4,
   "id": "5f5c2370-83f8-4f83-a153-cea2e32aa29a",
   "metadata": {},
   "outputs": [
    {
     "name": "stdout",
     "output_type": "stream",
     "text": [
      "amultiply\n",
      "async multiply 2 nums\n",
      "{'a': {'title': 'A', 'type': 'integer'}, 'b': {'title': 'B', 'type': 'integer'}}\n"
     ]
    }
   ],
   "source": [
    "from langchain_core.tools import tool\n",
    "\n",
    "@tool\n",
    "async def amultiply(a:int , b:int) -> int:\n",
    "    \"\"\"async multiply 2 nums\"\"\"\n",
    "    return a * b \n",
    "\n",
    "print(amultiply.name)\n",
    "print(amultiply.description)\n",
    "print(amultiply.args)"
   ]
  },
  {
   "cell_type": "markdown",
   "id": "ad34885e-86ac-440b-a761-1bc37866693b",
   "metadata": {},
   "source": [
    "您还可以通过将工具名称和 JSON 参数传递到工具装饰器来自定义它们。"
   ]
  },
  {
   "cell_type": "code",
   "execution_count": 8,
   "id": "244411c5-65b9-4cc2-b6f4-aefcbfd98006",
   "metadata": {},
   "outputs": [
    {
     "name": "stdout",
     "output_type": "stream",
     "text": [
      "multiplication-tool\n",
      "multiply 2 num by extends BaseModel\n",
      "{'a': {'title': 'A', 'description': 'first num', 'type': 'integer'}, 'b': {'title': 'B', 'description': 'second num', 'type': 'integer'}}\n",
      "True\n"
     ]
    }
   ],
   "source": [
    "from langchain.pydantic_v1 import BaseModel,Field\n",
    "\n",
    "class CalculatorInput(BaseModel):\n",
    "    a: int = Field(description=\"first num\")\n",
    "    b: int = Field(description=\"second num\")\n",
    "\n",
    "@tool(\"multiplication-tool\",args_schema=CalculatorInput,return_direct=True)\n",
    "def multiply(a:int,b:int) -> int:\n",
    "    \"\"\"multiply 2 num by extends BaseModel\"\"\"\n",
    "    return a * b\n",
    "\n",
    "print(multiply.name)\n",
    "print(multiply.description)\n",
    "print(multiply.args)\n",
    "print(multiply.return_direct)"
   ]
  },
  {
   "cell_type": "markdown",
   "id": "a8baa5f4-08a8-472d-bc39-982d5d181bba",
   "metadata": {},
   "source": [
    "## StructuredTool\n",
    "StructuredTool.from_function 类方法比 @tool 装饰器提供了更多的可配置性，而不需要太多额外的代码。"
   ]
  },
  {
   "cell_type": "code",
   "execution_count": 12,
   "id": "361634d4-e7f1-4ebf-90f9-ca183977c473",
   "metadata": {},
   "outputs": [
    {
     "name": "stdout",
     "output_type": "stream",
     "text": [
      "6\n",
      "10\n"
     ]
    }
   ],
   "source": [
    "from langchain_core.tools import StructuredTool\n",
    "\n",
    "def mul(a:int,b:int) -> int:\n",
    "    \"\"\"mul two nums.\"\"\"\n",
    "    return a * b\n",
    "\n",
    "async def amul(a:int,b:int) -> int:\n",
    "    \"\"\"async mul two nums.\"\"\"\n",
    "    return a * b\n",
    "\n",
    "calc = StructuredTool.from_function(func=mul,coroutine=amul)\n",
    "\n",
    "print(calc.invoke({\"a\":2,\"b\":3}))\n",
    "print(await calc.ainvoke({\"a\":2,\"b\":5}))"
   ]
  },
  {
   "cell_type": "code",
   "execution_count": 13,
   "id": "242b448f-c34f-4330-b8c5-971aa3e0b5f1",
   "metadata": {},
   "outputs": [
    {
     "name": "stdout",
     "output_type": "stream",
     "text": [
      "6\n",
      "Calculator\n",
      "multiply numbers\n",
      "{'a': {'title': 'A', 'description': 'first number', 'type': 'integer'}, 'b': {'title': 'B', 'description': 'second number', 'type': 'integer'}}\n"
     ]
    }
   ],
   "source": [
    "class CalculatorInput(BaseModel):\n",
    "    a: int = Field(description=\"first number\")\n",
    "    b: int = Field(description=\"second number\")\n",
    "\n",
    "\n",
    "def multiply(a: int, b: int) -> int:\n",
    "    \"\"\"Multiply two numbers.\"\"\"\n",
    "    return a * b\n",
    "\n",
    "\n",
    "calculator = StructuredTool.from_function(\n",
    "    func=multiply,\n",
    "    name=\"Calculator\",\n",
    "    description=\"multiply numbers\",\n",
    "    args_schema=CalculatorInput,\n",
    "    return_direct=True,\n",
    "    # coroutine= ... <- you can specify an async method if desired as well\n",
    ")\n",
    "\n",
    "print(calculator.invoke({\"a\": 2, \"b\": 3}))\n",
    "print(calculator.name)\n",
    "print(calculator.description)\n",
    "print(calculator.args)"
   ]
  },
  {
   "cell_type": "markdown",
   "id": "85d7076b-6738-4d0f-ab61-1353ed4e4043",
   "metadata": {},
   "source": [
    "## 子类化 BaseTool\n",
    "您可以通过从 BaseTool 子类化来定义自定义工具。这可以最大程度地控制工具定义，但需要编写更多代码。"
   ]
  },
  {
   "cell_type": "code",
   "execution_count": 15,
   "id": "3ab74000-f5c4-43bf-b718-010bf22df2c1",
   "metadata": {},
   "outputs": [],
   "source": [
    "from typing import Optional,Type\n",
    "\n",
    "from langchain.pydantic_v1 import BaseModel\n",
    "from langchain_core.callbacks import (\n",
    "    AsyncCallbackManagerForToolRun,\n",
    "    CallbackManagerForToolRun\n",
    ")\n",
    "from langchain_core.tools import BaseTool\n",
    "\n",
    "class CalcInput(BaseModel):\n",
    "    a: int = Field(description=\"1st num\")\n",
    "    b: int = Field(description=\"2nd num\")\n",
    "\n",
    "class CustomCalcTool(BaseTool):\n",
    "    name = \"Calc\"\n",
    "    description=\"当你需要回答数学问题时很有用\"\n",
    "    args_schema:Type[BaseModel] = CalcInput\n",
    "    return_direct: bool = True\n",
    "\n",
    "    def _run(self,a:int,b:int,run_manager:Optional[CallbackManagerForToolRun] = None) -> str:\n",
    "        \"\"\"Use the tool.\"\"\"\n",
    "        return a * b\n",
    "\n",
    "    async def _arun(self,a:int,b:int,run_manager: Optional[AsyncCallbackManagerForToolRun] = None) -> str:\n",
    "        \"\"\"Use the tool async\"\"\"\n",
    "        return self._run(a,b,run_manager=run_manager.get_sync())\n"
   ]
  },
  {
   "cell_type": "code",
   "execution_count": 21,
   "id": "4b4915e6-2035-4747-b1c2-d81f076fdecc",
   "metadata": {},
   "outputs": [
    {
     "name": "stdout",
     "output_type": "stream",
     "text": [
      "Calc\n",
      "当你需要回答数学问题时很有用\n",
      "{'a': {'title': 'A', 'description': '1st num', 'type': 'integer'}, 'b': {'title': 'B', 'description': '2nd num', 'type': 'integer'}}\n",
      "True\n",
      "6\n",
      "15\n"
     ]
    }
   ],
   "source": [
    "mul = CustomCalcTool()\n",
    "print(mul.name)\n",
    "print(mul.description)\n",
    "print(mul.args)\n",
    "print(mul.return_direct)\n",
    "\n",
    "print(mul.invoke({\"a\":\"2\",\"b\":\"3\"}))\n",
    "print(await mul.ainvoke({\"a\":\"5\",\"b\":\"3\"}))"
   ]
  },
  {
   "cell_type": "markdown",
   "id": "a9e318a5-51f1-49bc-8dad-1e34b26e1d07",
   "metadata": {},
   "source": [
    "## 如何创建异步工具\n",
    "所有 Runnable 都公开了invoke 和 ainvoke 方法（以及其他方法，如 batch、abatch、astream 等）。\n",
    "\n",
    "因此，即使您只提供工具的同步实现，您仍然可以使用 ainvoke 接口，但有一些重要的事情需要了解：\n",
    "\n",
    " - 默认情况下，LangChain 提供了一个异步实现，该实现假定该函数的计算成本很高，因此它将执行委托给另一个线程。\n",
    " - 如果您在异步代码库中工作，则应该创建异步工具而不是同步工具，以避免因该线程而产生少量开销。\n",
    " - 如果您同时需要同步和异步实现，请使用 StructuredTool.from_function 或 BaseTool 的子类。\n",
    " - 如果同时实现同步和异步，并且同步代码运行速度很快，请覆盖默认的 LangChain 异步实现并简单地调用同步代码。\n",
    " - 您不能也不应该将同步调用与异步工具一起使用。"
   ]
  },
  {
   "cell_type": "code",
   "execution_count": 22,
   "id": "1d002b34-de40-4062-9337-ebc85956df7b",
   "metadata": {},
   "outputs": [
    {
     "name": "stdout",
     "output_type": "stream",
     "text": [
      "6\n",
      "10\n"
     ]
    }
   ],
   "source": [
    "from langchain_core.tools import StructuredTool\n",
    "\n",
    "\n",
    "def multiply(a: int, b: int) -> int:\n",
    "    \"\"\"Multiply two numbers.\"\"\"\n",
    "    return a * b\n",
    "\n",
    "\n",
    "calculator = StructuredTool.from_function(func=multiply)\n",
    "\n",
    "print(calculator.invoke({\"a\": 2, \"b\": 3}))\n",
    "print(\n",
    "    await calculator.ainvoke({\"a\": 2, \"b\": 5})\n",
    ")  # 使用默认的 LangChain 异步实现会产生少量开销"
   ]
  },
  {
   "cell_type": "code",
   "execution_count": 23,
   "id": "68bdc94d-ef46-473e-aadc-ece9bf1ade97",
   "metadata": {},
   "outputs": [
    {
     "name": "stdout",
     "output_type": "stream",
     "text": [
      "6\n",
      "10\n"
     ]
    }
   ],
   "source": [
    "from langchain_core.tools import StructuredTool\n",
    "\n",
    "\n",
    "def multiply(a: int, b: int) -> int:\n",
    "    \"\"\"Multiply two numbers.\"\"\"\n",
    "    return a * b\n",
    "\n",
    "\n",
    "async def amultiply(a: int, b: int) -> int:\n",
    "    \"\"\"Multiply two numbers.\"\"\"\n",
    "    return a * b\n",
    "\n",
    "\n",
    "calculator = StructuredTool.from_function(func=multiply, coroutine=amultiply)\n",
    "\n",
    "print(calculator.invoke({\"a\": 2, \"b\": 3}))\n",
    "print(\n",
    "    await calculator.ainvoke({\"a\": 2, \"b\": 5})\n",
    ")  # 使用提供的 amultiply 无需额外开销"
   ]
  },
  {
   "cell_type": "markdown",
   "id": "4cca8bf7-a2f2-430b-9230-0b4d9e355a04",
   "metadata": {},
   "source": [
    "当仅提供异步定义时，您不应该也不能使用 .invoke。"
   ]
  },
  {
   "cell_type": "code",
   "execution_count": 24,
   "id": "2572448c-7ba2-47cf-89be-bb094c41d56d",
   "metadata": {},
   "outputs": [
    {
     "name": "stdout",
     "output_type": "stream",
     "text": [
      "Raised not implemented error. You should not be doing this.\n"
     ]
    }
   ],
   "source": [
    "@tool\n",
    "async def multiply(a: int, b: int) -> int:\n",
    "    \"\"\"Multiply two numbers.\"\"\"\n",
    "    return a * b\n",
    "\n",
    "\n",
    "try:\n",
    "    multiply.invoke({\"a\": 2, \"b\": 3})\n",
    "except NotImplementedError:\n",
    "    print(\"Raised not implemented error. You should not be doing this.\")"
   ]
  },
  {
   "cell_type": "markdown",
   "id": "e3472a47-2de6-4b5a-ba43-4804493d6592",
   "metadata": {},
   "source": [
    "## 处理工具错误\n",
    "如果您使用带有代理的工具，则可能需要错误处理策略，以便代理可以从错误中恢复并继续执行。\n",
    "\n",
    "一个简单的策略是从工具内部抛出 ToolException 并使用 handle_tool_error 指定错误处理程序。\n",
    "\n",
    "指定错误处理程序后，将捕获异常，错误处理程序将决定从工具返回哪个输出。\n",
    "\n",
    "您可以将 handle_tool_error 设置为 True、字符串值或函数。如果它是一个函数，则该函数应将 ToolException 作为参数并返回一个值。\n",
    "\n",
    "请注意，仅引发 ToolException 是无效的。您需要首先设置工具的 handle_tool_error，因为它的默认值为 False。"
   ]
  },
  {
   "cell_type": "code",
   "execution_count": 25,
   "id": "d0c5cad0-0ce3-49ec-9626-56ecc6cba8f2",
   "metadata": {},
   "outputs": [],
   "source": [
    "from langchain_core.tools import ToolException\n",
    "\n",
    "\n",
    "def get_weather(city: str) -> int:\n",
    "    \"\"\"Get weather for the given city.\"\"\"\n",
    "    raise ToolException(f\"Error: There is no city by the name of {city}.\")"
   ]
  },
  {
   "cell_type": "markdown",
   "id": "4e79e540-eb80-4015-b41d-96a999301168",
   "metadata": {},
   "source": [
    "这是一个具有默认 handle_tool_error=True 行为的示例。"
   ]
  },
  {
   "cell_type": "code",
   "execution_count": 26,
   "id": "076ee042-7115-43b8-9da3-0b3747e82c59",
   "metadata": {},
   "outputs": [
    {
     "data": {
      "text/plain": [
       "'Error: There is no city by the name of foobar.'"
      ]
     },
     "execution_count": 26,
     "metadata": {},
     "output_type": "execute_result"
    }
   ],
   "source": [
    "get_weather_tool = StructuredTool.from_function(\n",
    "    func=get_weather,\n",
    "    handle_tool_error=True,\n",
    ")\n",
    "\n",
    "get_weather_tool.invoke({\"city\": \"foobar\"})"
   ]
  },
  {
   "cell_type": "markdown",
   "id": "c610905c-a116-4a04-b276-64109b877127",
   "metadata": {},
   "source": [
    "我们可以将handle_tool_error设置为一个始终返回的字符串。"
   ]
  },
  {
   "cell_type": "code",
   "execution_count": 27,
   "id": "19a22657-bc07-46b3-a9b5-d68b7c653e6e",
   "metadata": {},
   "outputs": [
    {
     "data": {
      "text/plain": [
       "\"There is no such city, but it's probably above 0K there!\""
      ]
     },
     "execution_count": 27,
     "metadata": {},
     "output_type": "execute_result"
    }
   ],
   "source": [
    "get_weather_tool = StructuredTool.from_function(\n",
    "    func=get_weather,\n",
    "    handle_tool_error=\"There is no such city, but it's probably above 0K there!\",\n",
    ")\n",
    "\n",
    "get_weather_tool.invoke({\"city\": \"foobar\"})"
   ]
  },
  {
   "cell_type": "markdown",
   "id": "5081c9f9-eb2e-41e5-bb45-b0eb8a15e8ed",
   "metadata": {},
   "source": [
    "使用函数处理错误："
   ]
  },
  {
   "cell_type": "code",
   "execution_count": 28,
   "id": "489a828d-7715-4e48-b3fe-b72f48699660",
   "metadata": {},
   "outputs": [
    {
     "data": {
      "text/plain": [
       "'The following errors occurred during tool execution: `Error: There is no city by the name of foobar.`'"
      ]
     },
     "execution_count": 28,
     "metadata": {},
     "output_type": "execute_result"
    }
   ],
   "source": [
    "def _handle_error(error: ToolException) -> str:\n",
    "    return f\"The following errors occurred during tool execution: `{error.args[0]}`\"\n",
    "\n",
    "\n",
    "get_weather_tool = StructuredTool.from_function(\n",
    "    func=get_weather,\n",
    "    handle_tool_error=_handle_error,\n",
    ")\n",
    "\n",
    "get_weather_tool.invoke({\"city\": \"foobar\"})"
   ]
  },
  {
   "cell_type": "code",
   "execution_count": null,
   "id": "ac76165e-3f6b-4351-9bbb-d903baefcdc5",
   "metadata": {},
   "outputs": [],
   "source": []
  }
 ],
 "metadata": {
  "kernelspec": {
   "display_name": "Python 3 (ipykernel)",
   "language": "python",
   "name": "python3"
  },
  "language_info": {
   "codemirror_mode": {
    "name": "ipython",
    "version": 3
   },
   "file_extension": ".py",
   "mimetype": "text/x-python",
   "name": "python",
   "nbconvert_exporter": "python",
   "pygments_lexer": "ipython3",
   "version": "3.9.18"
  }
 },
 "nbformat": 4,
 "nbformat_minor": 5
}
