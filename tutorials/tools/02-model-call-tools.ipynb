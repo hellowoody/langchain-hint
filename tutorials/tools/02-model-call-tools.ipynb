{
 "cells": [
  {
   "cell_type": "markdown",
   "id": "b1e9d26a-0c4a-477a-a249-68c8c1cd946c",
   "metadata": {},
   "source": [
    "# 如何使用模型调用工具 How to use a model to call tools\n",
    "\n",
    "工具调用允许聊天模型通过“调用工具”来响应给定的提示。  \n",
    "虽然名称暗示模型正在执行某些操作，但事实并非如此！模型会生成工具的参数，而实际运行该工具（或不运行）则取决于用户。  \n",
    "例如，如果您想从非结构化文本中提取与某些模式匹配的输出，您可以为模型提供一个“提取”工具，该工具采用与所需模式匹配的参数，然后将生成的输出视为最终结果。\n",
    "\n",
    "但是，工具调用超越了结构化输出，因为您可以将调用工具的响应传回模型以创建更长的交互。  \n",
    "例如，给定一个搜索引擎工具，LLM 可能会通过首先使用参数向搜索引擎发出调用来处理查询。  \n",
    "调用 LLM 的系统可以接收工具调用、执行它，并将输出返回给 LLM 以通知其响应。  \n",
    "LangChain 包含一套内置工具，并支持多种定义您自己的自定义工具的方法。\n",
    "\n",
    "工具调用并非通用，但许多流行的 LLM 提供商（包括 Anthropic、Cohere、Google、Mistral、OpenAI 等）都支持工具调用功能的变体。\n",
    "\n",
    "LangChain 实现了用于定义工具、将其传递给 LLM 以及表示工具调用的标准接口。 \n",
    "\n",
    "## 将工具传递给聊天模型\n",
    "支持工具调用功能的聊天模型实现了 .bind_tools 方法，该方法接收 LangChain 工具对象列表并将它们以预期格式绑定到聊天模型。  \n",
    "聊天模型的后续调用将在其对 LLM 的调用中包含工具架构。\n",
    "\n",
    "例如，我们可以使用 Python 函数上的 @tool 装饰器定义自定义工具的架构："
   ]
  },
  {
   "cell_type": "code",
   "execution_count": 1,
   "id": "9a0d71cf-897c-4d21-8d96-94856cee527f",
   "metadata": {},
   "outputs": [],
   "source": [
    "from langchain_core.pydantic_v1 import BaseModel, Field\n",
    "\n",
    "\n",
    "# Note that the docstrings here are crucial, as they will be passed along\n",
    "# to the model along with the class name.\n",
    "class Add(BaseModel):\n",
    "    \"\"\"Add two integers together.\"\"\"\n",
    "\n",
    "    a: int = Field(..., description=\"1st integer\")\n",
    "    b: int = Field(..., description=\"2nd integer\")\n",
    "\n",
    "\n",
    "class Multiply(BaseModel):\n",
    "    \"\"\"Multiply two integers together.\"\"\"\n",
    "\n",
    "    a: int = Field(..., description=\"1st integer\")\n",
    "    b: int = Field(..., description=\"2nd integer\")\n",
    "\n",
    "\n",
    "tools = [Add, Multiply]"
   ]
  },
  {
   "cell_type": "code",
   "execution_count": 2,
   "id": "eda4b158-79b6-43e8-9f85-4a7dd509455a",
   "metadata": {},
   "outputs": [],
   "source": [
    "import os\n",
    "from dotenv import load_dotenv,find_dotenv\n",
    "\n",
    "_ = load_dotenv(find_dotenv())"
   ]
  },
  {
   "cell_type": "code",
   "execution_count": 3,
   "id": "02890934-1eda-429c-86cc-e67258ee5ec0",
   "metadata": {},
   "outputs": [],
   "source": [
    "from langchain_openai import ChatOpenAI\n",
    "\n",
    "llm = ChatOpenAI(\n",
    "    base_url=\"https://open.bigmodel.cn/api/paas/v4\",\n",
    "    api_key=os.environ[\"ZHIPUAI_API_KEY\"],\n",
    "    model=\"glm-4\",\n",
    ")"
   ]
  },
  {
   "cell_type": "code",
   "execution_count": 4,
   "id": "3f451121-7b18-4194-a1b7-7288aaaa3a83",
   "metadata": {},
   "outputs": [],
   "source": [
    "llm_with_tools = llm.bind_tools(tools)"
   ]
  },
  {
   "cell_type": "markdown",
   "id": "f41a5dcc-d700-44f2-97fb-a5ceb08281b1",
   "metadata": {},
   "source": [
    "## 工具调用\n",
    "如果工具调用包含在LLM响应中，它们会作为一个工具调用对象列表附加到相应的消息或消息块的`.tool_calls`属性上。\n",
    "\n",
    "需要注意的是，聊天模型能够同时调用多个工具。\n",
    "\n",
    "ToolCall是一个带有类型的字典，其中包含工具名称、参数值的字典，以及（可选的）一个标识符。  \n",
    "没有工具调用的消息，默认为此属性设置一个空列表。"
   ]
  },
  {
   "cell_type": "code",
   "execution_count": 13,
   "id": "6a8c62b9-e965-4a6a-8e49-63a73a5fffce",
   "metadata": {},
   "outputs": [
    {
     "data": {
      "text/plain": [
       "[{'name': 'Multiply',\n",
       "  'args': {'a': 3, 'b': 12},\n",
       "  'id': 'call_8783893528522716669'}]"
      ]
     },
     "execution_count": 13,
     "metadata": {},
     "output_type": "execute_result"
    }
   ],
   "source": [
    "query = \"3 * 12 是多少？\"\n",
    "\n",
    "llm_with_tools.invoke(query).tool_calls"
   ]
  },
  {
   "cell_type": "code",
   "execution_count": 6,
   "id": "0caba81f-bb7b-4375-a748-768f34c5de53",
   "metadata": {},
   "outputs": [
    {
     "data": {
      "text/plain": [
       "[Multiply(a=3, b=12)]"
      ]
     },
     "execution_count": 6,
     "metadata": {},
     "output_type": "execute_result"
    }
   ],
   "source": [
    "from langchain_core.output_parsers.openai_tools import PydanticToolsParser\n",
    "\n",
    "chain = llm_with_tools | PydanticToolsParser(tools=[Multiply, Add])\n",
    "chain.invoke(query)"
   ]
  },
  {
   "cell_type": "code",
   "execution_count": 7,
   "id": "be8167d0-2e51-4a4f-a8df-aedd27f62f3a",
   "metadata": {},
   "outputs": [],
   "source": [
    "from langchain_core.tools import tool\n",
    "\n",
    "\n",
    "@tool\n",
    "def add(a: int, b: int) -> int:\n",
    "    \"\"\"Adds a and b.\"\"\"\n",
    "    return a + b\n",
    "\n",
    "\n",
    "@tool\n",
    "def multiply(a: int, b: int) -> int:\n",
    "    \"\"\"Multiplies a and b.\"\"\"\n",
    "    print(1000000)\n",
    "    return a * b\n",
    "\n"
   ]
  },
  {
   "cell_type": "markdown",
   "id": "cff51346-29a6-44db-afa9-cd6e87886f61",
   "metadata": {},
   "source": [
    "现在我们可以使用 ToolMessage 将工具调用的输出传回模型。"
   ]
  },
  {
   "cell_type": "code",
   "execution_count": 11,
   "id": "09f48ea5-a38a-4913-89e4-456496f095f2",
   "metadata": {},
   "outputs": [
    {
     "name": "stdout",
     "output_type": "stream",
     "text": [
      "1000000\n"
     ]
    },
    {
     "data": {
      "text/plain": [
       "[HumanMessage(content='3 * 12 是多少？'),\n",
       " AIMessage(content='', additional_kwargs={'tool_calls': [{'id': 'call_8783887653007311161', 'function': {'arguments': '{\"a\":3,\"b\":12}', 'name': 'Multiply'}, 'type': 'function', 'index': 0}]}, response_metadata={'token_usage': {'completion_tokens': 17, 'prompt_tokens': 240, 'total_tokens': 257}, 'model_name': 'glm-4', 'system_fingerprint': None, 'finish_reason': 'tool_calls', 'logprobs': None}, id='run-11520d1b-eceb-401f-82b0-deed3baf6274-0', tool_calls=[{'name': 'Multiply', 'args': {'a': 3, 'b': 12}, 'id': 'call_8783887653007311161'}], usage_metadata={'input_tokens': 240, 'output_tokens': 17, 'total_tokens': 257}),\n",
       " ToolMessage(content='36', tool_call_id='call_8783887653007311161')]"
      ]
     },
     "execution_count": 11,
     "metadata": {},
     "output_type": "execute_result"
    }
   ],
   "source": [
    "from langchain_core.messages import HumanMessage, ToolMessage\n",
    "\n",
    "query = \"3 * 12 是多少？\"\n",
    "\n",
    "messages = [HumanMessage(query)]\n",
    "ai_msg = llm_with_tools.invoke(messages)\n",
    "messages.append(ai_msg)\n",
    "for tool_call in ai_msg.tool_calls:\n",
    "    selected_tool = {\"add\": add, \"multiply\": multiply}[tool_call[\"name\"].lower()]\n",
    "    tool_output = selected_tool.invoke(tool_call[\"args\"])\n",
    "    messages.append(ToolMessage(tool_output, tool_call_id=tool_call[\"id\"]))\n",
    "messages"
   ]
  },
  {
   "cell_type": "code",
   "execution_count": 12,
   "id": "c537f5c0-ac90-4605-b49c-34d2c612a3d7",
   "metadata": {},
   "outputs": [
    {
     "data": {
      "text/plain": [
       "AIMessage(content='根据乘法运算的定义，3 * 12 等于 36。因此，36 就是 3 乘以 12 的结果。', response_metadata={'token_usage': {'completion_tokens': 33, 'prompt_tokens': 260, 'total_tokens': 293}, 'model_name': 'glm-4', 'system_fingerprint': None, 'finish_reason': 'stop', 'logprobs': None}, id='run-08761ca7-f55a-44bb-87e6-444625b6170e-0', usage_metadata={'input_tokens': 260, 'output_tokens': 33, 'total_tokens': 293})"
      ]
     },
     "execution_count": 12,
     "metadata": {},
     "output_type": "execute_result"
    }
   ],
   "source": [
    "llm_with_tools.invoke(messages)"
   ]
  },
  {
   "cell_type": "code",
   "execution_count": null,
   "id": "22fcedd3-49b9-4de0-85fa-e0ae13e60185",
   "metadata": {},
   "outputs": [],
   "source": []
  }
 ],
 "metadata": {
  "kernelspec": {
   "display_name": "Python 3 (ipykernel)",
   "language": "python",
   "name": "python3"
  },
  "language_info": {
   "codemirror_mode": {
    "name": "ipython",
    "version": 3
   },
   "file_extension": ".py",
   "mimetype": "text/x-python",
   "name": "python",
   "nbconvert_exporter": "python",
   "pygments_lexer": "ipython3",
   "version": "3.9.18"
  }
 },
 "nbformat": 4,
 "nbformat_minor": 5
}
