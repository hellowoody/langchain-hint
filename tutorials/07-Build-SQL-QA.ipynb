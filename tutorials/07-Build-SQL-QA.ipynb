{
 "cells": [
  {
   "cell_type": "markdown",
   "id": "7652d14d-9512-4e44-aa24-abec7147334d",
   "metadata": {},
   "source": [
    "# 构建一个基于SQL数据的问答系统 Build a Question/Answering system over SQL data\n",
    "\n"
   ]
  },
  {
   "cell_type": "code",
   "execution_count": null,
   "id": "c84debb1-d24a-4327-9957-f09b2535fc36",
   "metadata": {},
   "outputs": [],
   "source": []
  }
 ],
 "metadata": {
  "kernelspec": {
   "display_name": "Python 3 (ipykernel)",
   "language": "python",
   "name": "python3"
  },
  "language_info": {
   "codemirror_mode": {
    "name": "ipython",
    "version": 3
   },
   "file_extension": ".py",
   "mimetype": "text/x-python",
   "name": "python",
   "nbconvert_exporter": "python",
   "pygments_lexer": "ipython3",
   "version": "3.9.18"
  }
 },
 "nbformat": 4,
 "nbformat_minor": 5
}
