{
 "cells": [
  {
   "cell_type": "markdown",
   "id": "161fecfe-ee24-4a5e-b68f-506d88a703aa",
   "metadata": {},
   "source": [
    "# 加标签 Tagging\n",
    "\n",
    "## 文本分类到标签 Classify Text into Labels\n",
    "\n",
    "标记意味着使用类别（如以下）来标注文档：\n",
    "\n",
    " - 情感\n",
    " - 语言\n",
    " - 风格（正式、非正式等）\n",
    " - 涉及的主题\n",
    " - 政治倾向\n",
    "\n",
    "## 概述\n",
    "标记包含几个组成部分：\n",
    "\n",
    " - 功能：与提取类似，标记使用函数来指定模型应如何标记文档\n",
    " - 架构：定义我们希望如何标记文档\n",
    "## 快速入门\n",
    "让我们来看一个非常直接的例子，展示如何在LangChain中使用OpenAI工具调用来进行标记。  \n",
    "我们将使用OpenAI模型支持的with_structured_output方法：\n",
    "\n"
   ]
  },
  {
   "cell_type": "code",
   "execution_count": 1,
   "id": "44255362-ea8f-4be4-bf23-8128bb92d1c2",
   "metadata": {},
   "outputs": [],
   "source": [
    "import os\n",
    "from dotenv import find_dotenv,load_dotenv\n",
    "\n",
    "_ = load_dotenv(find_dotenv())"
   ]
  },
  {
   "cell_type": "code",
   "execution_count": 8,
   "id": "636ea371-f745-4146-a068-081eb623b47a",
   "metadata": {},
   "outputs": [],
   "source": [
    "from langchain_core.prompts import ChatPromptTemplate\n",
    "from langchain_core.pydantic_v1 import BaseModel,Field\n",
    "from langchain_openai import ChatOpenAI\n",
    "\n",
    "tagging_prompt = ChatPromptTemplate.from_template(\"\"\"\n",
    "请提供一段具体的文本内容以便我从中抽取信息。\n",
    "仅提取“Classification”函数中提到的属性。\n",
    "\n",
    "段落:\n",
    "{input}\n",
    "\"\"\")\n",
    "\n",
    "class Classification(BaseModel):\n",
    "    # sentiment 情绪\n",
    "    sentiment:str = Field(description=\"文本的情感\")\n",
    "    aggressiveness:int = Field(description=\"文本的攻击性程度在1到10的范围内是如何的\")\n",
    "    language:str = Field(description=\"文本使用的什么语言\")\n",
    "\n",
    "llm = ChatOpenAI(\n",
    "    base_url=\"https://open.bigmodel.cn/api/paas/v4\",\n",
    "    api_key=os.environ[\"ZHIPUAI_API_KEY\"],\n",
    "    model=\"glm-4\",\n",
    ").with_structured_output(\n",
    "    Classification\n",
    ")\n",
    "\n",
    "tagging_chain = tagging_prompt | llm"
   ]
  },
  {
   "cell_type": "code",
   "execution_count": 11,
   "id": "79886791-b7e8-45b9-b429-d344eefba3dc",
   "metadata": {},
   "outputs": [
    {
     "data": {
      "text/plain": [
       "Classification(sentiment='积极', aggressiveness=1, language='西班牙语')"
      ]
     },
     "execution_count": 11,
     "metadata": {},
     "output_type": "execute_result"
    }
   ],
   "source": [
    "# 我很高兴认识你！我想我们会成为非常好的朋友\n",
    "inp = \"Estoy increiblemente contento de haberte conocido! Creo que seremos muy buenos amigos!\"\n",
    "tagging_chain.invoke({\"input\": inp})"
   ]
  },
  {
   "cell_type": "markdown",
   "id": "fea05542-8959-4fb4-a980-c91315fb757b",
   "metadata": {},
   "source": [
    "如果我们想要JSON输出，我们可以直接调用.dict（）"
   ]
  },
  {
   "cell_type": "code",
   "execution_count": 12,
   "id": "e4acc7a9-e52c-4995-ae08-ed52a8a5cbc8",
   "metadata": {},
   "outputs": [
    {
     "data": {
      "text/plain": [
       "{'sentiment': 'negative', 'aggressiveness': 8, 'language': 'Spanish'}"
      ]
     },
     "execution_count": 12,
     "metadata": {},
     "output_type": "execute_result"
    }
   ],
   "source": [
    "# 我对你很生气！我会给你应得的！\n",
    "inp = \"Estoy muy enojado con vos! Te voy a dar tu merecido!\"\n",
    "res = tagging_chain.invoke({\"input\": inp})\n",
    "res.dict()"
   ]
  },
  {
   "cell_type": "markdown",
   "id": "04fca1be-9c3b-4024-9615-c61d507b1380",
   "metadata": {},
   "source": [
    "正如我们在例子中看到的，它正确地解释了我们想要什么。\n",
    "\n",
    "结果各不相同，因此我们可以获得不同语言的情感（“积极”、“enojado”等）。\n",
    "\n",
    "\n",
    "## 更精细的控制\n",
    "仔细的模式定义使我们能够更好地控制模型的输出。\n",
    "\n",
    "具体来说，我们可以定义：\n",
    "\n",
    " - 每个属性的可能值\n",
    " - 描述以确保模型了解属性\n",
    " - 需要返回的属性\n",
    "   \n",
    "让我们重新声明我们的Pydantic模型，以使用枚举来控制前面提到的每个方面："
   ]
  },
  {
   "cell_type": "code",
   "execution_count": 13,
   "id": "e3d62d2a-d78d-4d88-b82c-e1a7cca66403",
   "metadata": {},
   "outputs": [],
   "source": [
    "class Classification(BaseModel):\n",
    "    sentiment: str = Field(..., enum=[\"happy\", \"neutral\", \"sad\"])\n",
    "    aggressiveness: int = Field(\n",
    "        ...,\n",
    "        description=\"describes how aggressive the statement is, the higher the number the more aggressive\",\n",
    "        enum=[1, 2, 3, 4, 5],\n",
    "    )\n",
    "    language: str = Field(\n",
    "        ..., enum=[\"spanish\", \"english\", \"french\", \"german\", \"chinese\"]\n",
    "    )"
   ]
  },
  {
   "cell_type": "code",
   "execution_count": 14,
   "id": "ef849112-c8d3-4622-ba41-06b1a021f889",
   "metadata": {},
   "outputs": [],
   "source": [
    "tagging_prompt = ChatPromptTemplate.from_template(\n",
    "    \"\"\"\n",
    "Extract the desired information from the following passage.\n",
    "\n",
    "Only extract the properties mentioned in the 'Classification' function.\n",
    "\n",
    "Passage:\n",
    "{input}\n",
    "\"\"\"\n",
    ")\n",
    "\n",
    "llm = ChatOpenAI(\n",
    "    base_url=\"https://open.bigmodel.cn/api/paas/v4\",\n",
    "    api_key=os.environ[\"ZHIPUAI_API_KEY\"],\n",
    "    model=\"glm-4\",\n",
    ").with_structured_output(\n",
    "    Classification\n",
    ")\n",
    "\n",
    "chain = tagging_prompt | llm"
   ]
  },
  {
   "cell_type": "code",
   "execution_count": 21,
   "id": "31f21ed9-29dc-4e92-8420-da26fd3290a3",
   "metadata": {},
   "outputs": [
    {
     "data": {
      "text/plain": [
       "Classification(sentiment='happy', aggressiveness=1, language='chinese')"
      ]
     },
     "execution_count": 21,
     "metadata": {},
     "output_type": "execute_result"
    }
   ],
   "source": [
    "inp = \"张三在这场比赛中真是yyds!\"\n",
    "chain.invoke({\"input\": inp})"
   ]
  },
  {
   "cell_type": "code",
   "execution_count": 20,
   "id": "165dffba-6f72-4808-9b3e-0e1d44b4affc",
   "metadata": {},
   "outputs": [
    {
     "data": {
      "text/plain": [
       "Classification(sentiment='sad', aggressiveness=2, language='chinese')"
      ]
     },
     "execution_count": 20,
     "metadata": {},
     "output_type": "execute_result"
    }
   ],
   "source": [
    "inp = \"咱们大概八字不合吧\"\n",
    "chain.invoke({\"input\": inp})"
   ]
  },
  {
   "cell_type": "code",
   "execution_count": 23,
   "id": "80e6eb80-707c-4477-a5eb-21efc8969ce4",
   "metadata": {},
   "outputs": [
    {
     "data": {
      "text/plain": [
       "Classification(sentiment='neutral', aggressiveness=1, language='english')"
      ]
     },
     "execution_count": 23,
     "metadata": {},
     "output_type": "execute_result"
    }
   ],
   "source": [
    "inp = \"Weather is ok here, I can go outside without much more than a coat\"\n",
    "chain.invoke({\"input\": inp})"
   ]
  },
  {
   "cell_type": "code",
   "execution_count": null,
   "id": "27e33ed2-605a-4294-8e4f-df3b8e44812b",
   "metadata": {},
   "outputs": [],
   "source": []
  }
 ],
 "metadata": {
  "kernelspec": {
   "display_name": "Python 3 (ipykernel)",
   "language": "python",
   "name": "python3"
  },
  "language_info": {
   "codemirror_mode": {
    "name": "ipython",
    "version": 3
   },
   "file_extension": ".py",
   "mimetype": "text/x-python",
   "name": "python",
   "nbconvert_exporter": "python",
   "pygments_lexer": "ipython3",
   "version": "3.9.18"
  }
 },
 "nbformat": 4,
 "nbformat_minor": 5
}
