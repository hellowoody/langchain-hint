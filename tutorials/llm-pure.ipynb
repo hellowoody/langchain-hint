{
 "cells": [
  {
   "cell_type": "code",
   "execution_count": 8,
   "id": "73db5652-d17e-4615-b8d1-31984b28d037",
   "metadata": {},
   "outputs": [],
   "source": [
    "from dotenv import load_dotenv,find_dotenv\n",
    "import os\n",
    "_ = load_dotenv(find_dotenv())"
   ]
  },
  {
   "cell_type": "code",
   "execution_count": 9,
   "id": "edfab8bc-66bd-48b9-a5bd-8ac9796b4a3c",
   "metadata": {},
   "outputs": [],
   "source": [
    "from zhipuai import ZhipuAI"
   ]
  },
  {
   "cell_type": "code",
   "execution_count": 10,
   "id": "c398d3eb-6362-407c-923f-8472f9fad39d",
   "metadata": {},
   "outputs": [],
   "source": [
    "client  = ZhipuAI()"
   ]
  },
  {
   "cell_type": "code",
   "execution_count": 11,
   "id": "3b1b2acd-00cd-4675-8055-f3279939169a",
   "metadata": {},
   "outputs": [],
   "source": [
    "chat_completion = client.chat.completions.create(\n",
    "    model=\"glm-4\",\n",
    "    messages=[{\"role\":\"user\",\"content\":\"hello world\"}]\n",
    ")"
   ]
  },
  {
   "cell_type": "code",
   "execution_count": 12,
   "id": "fe2115ef-4e84-42ff-ad4d-0ea4c7839b70",
   "metadata": {},
   "outputs": [
    {
     "data": {
      "text/plain": [
       "'Hello! \"Hello, World!\" is a common phrase used in programming when learning a new language. It\\'s often the first program that beginners write, as it\\'s one of the simplest programs possible. Here\\'s how you can print \"Hello, World!\" in several different programming languages:\\n\\n**Python:**\\n```python\\nprint(\"Hello, World!\")\\n```\\n\\n**JavaScript (for web browsers):**\\n```javascript\\nconsole.log(\"Hello, World!\");\\n```\\n\\nor for the browser\\'s console:\\n\\n```html\\n<script>\\n  alert(\"Hello, World!\");\\n</script>\\n```\\n\\n**Java:**\\n```java\\npublic class HelloWorld {\\n    public static void main(String[] args) {\\n        System.out.println(\"Hello, World!\");\\n    }\\n}\\n```\\n\\n**C:**\\n```c\\n#include <stdio.h>\\n\\nint main() {\\n    printf(\"Hello, World!\\\\n\");\\n    return 0;\\n}\\n```\\n\\n**C++:**\\n```cpp\\n#include <iostream>\\n\\nint main() {\\n    std::cout << \"Hello, World!\" << std::endl;\\n    return 0;\\n}\\n```\\n\\n**Ruby:**\\n```ruby\\nputs \"Hello, World!\"\\n```\\n\\n**Go:**\\n```go\\npackage main\\n\\nimport \"fmt\"\\n\\nfunc main() {\\n    fmt.Println(\"Hello, World!\")\\n}\\n```\\n\\nFeel free to let me know if you have any questions about programming or if there\\'s anything else I can help with!'"
      ]
     },
     "execution_count": 12,
     "metadata": {},
     "output_type": "execute_result"
    }
   ],
   "source": [
    "chat_completion.choices[0].message.content"
   ]
  },
  {
   "cell_type": "code",
   "execution_count": null,
   "id": "0fcc17de-2395-44c9-bcd6-791c2a9934a0",
   "metadata": {},
   "outputs": [],
   "source": []
  }
 ],
 "metadata": {
  "kernelspec": {
   "display_name": "Python 3 (ipykernel)",
   "language": "python",
   "name": "python3"
  },
  "language_info": {
   "codemirror_mode": {
    "name": "ipython",
    "version": 3
   },
   "file_extension": ".py",
   "mimetype": "text/x-python",
   "name": "python",
   "nbconvert_exporter": "python",
   "pygments_lexer": "ipython3",
   "version": "3.11.9"
  }
 },
 "nbformat": 4,
 "nbformat_minor": 5
}
