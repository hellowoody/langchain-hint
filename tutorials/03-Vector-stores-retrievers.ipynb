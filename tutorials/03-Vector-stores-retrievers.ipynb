{
 "cells": [
  {
   "cell_type": "markdown",
   "id": "c935c932-39df-457b-8700-5b915188bb4b",
   "metadata": {},
   "source": [
    "# Vector stores and retrievers - 向量存储和检索器\n",
    "\n",
    "本教程将帮助您熟悉 LangChain 的向量存储和检索器抽象。这些抽象旨在支持从（向量）数据库和其他来源检索数据，以便与 LLM 工作流集成。它们对于获取数据以作为模型推理的一部分进行推理的应用程序非常重要，例如检索增强生成 (RAG) 的情况。\n",
    "\n",
    "## 概念\n",
    "\n",
    "本指南重点介绍文本数据的检索。我们将介绍以下概念：\n",
    "\n",
    " - 文档\n",
    " - 向量存储\n",
    " - 检索器"
   ]
  },
  {
   "cell_type": "markdown",
   "id": "0e9be4ea-f655-4d4a-b4e8-c44d4900b8af",
   "metadata": {},
   "source": [
    "# 文档\n",
    "\n",
    "LangChain 实现了 Document 抽象，旨在表示文本单元和相关元数据。它有两个属性：\n",
    "\n",
    " - page_content：表示内容的字符串\n",
    " - metadata：包含任意元数据的字典\n",
    "   \n",
    "metadata 属性可以捕获有关文档来源、与其他文档的关系以及其他信息的信息。请注意，单个 Document 对象通常代表较大文档的一部分。\n",
    "\n",
    "让我们生成一些示例文档："
   ]
  },
  {
   "cell_type": "code",
   "execution_count": 1,
   "id": "32ec4a28-e7d7-499f-90ea-e3e06da60fff",
   "metadata": {},
   "outputs": [],
   "source": [
    "from langchain_core.documents import Document\n",
    "\n",
    "documents = [\n",
    "    Document(\n",
    "        page_content=\"狗是很好的伙伴，以忠诚和友好而闻名。\",\n",
    "        metadata={\"source\": \"哺乳动物-宠物-doc\"},\n",
    "    ),\n",
    "    Document(\n",
    "        page_content=\"猫是独立的宠物，它们通常喜欢有自己的空间。\",\n",
    "        metadata={\"source\": \"哺乳动物-宠物-doc\"},\n",
    "    ),\n",
    "    Document(\n",
    "        page_content=\"金鱼是初学者喜欢的宠物，需要相对简单的照顾。\",\n",
    "        metadata={\"source\": \"鱼-宠物-doc\"},\n",
    "    ),\n",
    "    Document(\n",
    "        page_content=\"鹦鹉是一种聪明的鸟类，能够模仿人类的语言。\",\n",
    "        metadata={\"source\": \"鱼-宠物-doc\"},\n",
    "    ),\n",
    "    Document(\n",
    "        page_content=\"兔子是群居动物，需要足够的空间来跳跃。\",\n",
    "        metadata={\"source\": \"哺乳动物-宠物-doc\"},\n",
    "    ),\n",
    "]"
   ]
  },
  {
   "cell_type": "markdown",
   "id": "f1140ab8-368e-4f8a-ad24-d9cd32dc8766",
   "metadata": {},
   "source": [
    "这里我们生成了五个文档，包含指示三个不同“来源”的元数据。"
   ]
  },
  {
   "cell_type": "markdown",
   "id": "fc1c1333-6b7f-4e15-9c12-c317d001b82f",
   "metadata": {},
   "source": [
    "## Vector stores - 向量存储\n",
    "\n",
    "向量搜索是存储和搜索非结构化数据（例如非结构化文本）的常用方法。其理念是存储与文本相关的数字向量。给定一个查询，我们可以将其嵌入为相同维度的向量，并使用向量相似性指标来识别存储中的相关数据。  \n",
    "\n",
    "LangChain VectorStore 对象包含用于将文本和 Document 对象添加到存储区以及使用各种相似度指标查询它们的方法。它们通常使用嵌入模型进行初始化，这些模型决定了如何将文本数据转换为数字向量。  \n",
    "\n",
    "LangChain 包含一套与不同向量存储技术的集成。一些向量存储由提供商（例如，各种云提供商）托管，需要特定凭据才能使用；一些（例如 Postgres）在单独的基础架构中运行，可以在本地或通过第三方运行；其他可以在内存中运行以处理轻量级工作负载。在这里，我们将演示使用 Chroma 的 LangChain VectorStores 的使用，其中包括内存实现。 \n",
    "\n",
    "要实例化向量存储，我们通常需要提供一个嵌入模型来指定如何将文本转换为数字向量。在这里我们将使用 百川的词嵌入模型。  "
   ]
  },
  {
   "cell_type": "code",
   "execution_count": 2,
   "id": "999c7726-f9c0-440e-b2d4-438a427de9a3",
   "metadata": {},
   "outputs": [],
   "source": [
    "# 获取你的智谱 API Key\n",
    "# 在当前文件下创建一个.env文件，将api-key复制进去，如ZHIPUAI_API_KEY = \"api-key\"\n",
    "\n",
    "from dotenv import load_dotenv,find_dotenv\n",
    "import os \n",
    "_ = load_dotenv(find_dotenv())"
   ]
  },
  {
   "cell_type": "code",
   "execution_count": 3,
   "id": "e4a15c74-1bf9-4d48-916f-adbb55d80b57",
   "metadata": {},
   "outputs": [],
   "source": [
    "# from langchain_openai import OpenAIEmbeddings\n",
    "\n",
    "# embeddings = OpenAIEmbeddings(\n",
    "#     base_url=\"https://open.bigmodel.cn/api/paas/v4\",\n",
    "#     api_key=os.environ[\"ZHIPUAI_API_KEY\"],\n",
    "#     model=\"Embedding-2\"\n",
    "# )"
   ]
  },
  {
   "cell_type": "code",
   "execution_count": 4,
   "id": "d1e1a0ed-62f1-4374-b192-cdb0a43143f1",
   "metadata": {},
   "outputs": [],
   "source": [
    "from langchain_community.embeddings import BaichuanTextEmbeddings\n",
    "\n",
    "embeddings = BaichuanTextEmbeddings(baichuan_api_key=os.environ[\"BAICHUAN_API_KEY\"])"
   ]
  },
  {
   "cell_type": "code",
   "execution_count": 5,
   "id": "376388aa-a1d9-494e-a4fb-e7def8684089",
   "metadata": {},
   "outputs": [
    {
     "data": {
      "text/plain": [
       "[-0.008814517, 0.06622468, -0.074492484, 0.04030321, -0.0010948664]"
      ]
     },
     "execution_count": 5,
     "metadata": {},
     "output_type": "execute_result"
    }
   ],
   "source": [
    "text = \"你好\"\n",
    "query_result = embeddings.embed_query(text)\n",
    "query_result[:5]"
   ]
  },
  {
   "cell_type": "markdown",
   "id": "ce0532bf-1fcb-42b3-8c42-97c0a2d0b207",
   "metadata": {},
   "source": [
    "### 安装向量存储库 Chroma"
   ]
  },
  {
   "cell_type": "code",
   "execution_count": 6,
   "id": "86e3c7cd-7015-4909-ae06-9d5e41315358",
   "metadata": {},
   "outputs": [],
   "source": [
    "# pip install langchain-chroma"
   ]
  },
  {
   "cell_type": "code",
   "execution_count": 7,
   "id": "e27a80e4-6813-4bdd-a4a0-adfed8e10b6e",
   "metadata": {},
   "outputs": [],
   "source": [
    "from langchain_chroma import Chroma\n",
    "\n",
    "vectorstore = Chroma.from_documents(\n",
    "    documents,\n",
    "    embedding=embeddings,\n",
    ")"
   ]
  },
  {
   "cell_type": "markdown",
   "id": "a9635e3c-6f8e-4ba7-9ca6-963fd8f54e12",
   "metadata": {},
   "source": [
    "在此处调用 .from_documents 会将文档添加到向量存储中。VectorStore 实现了添加文档的方法，这些方法也可以在对象实例化后调用。大多数实现都允许您连接到现有的向量存储\n",
    "例如，通过提供客户端、索引名称或其他信息。有关更多详细信息，请参阅特定集成的文档。\n",
    "\n",
    "一旦我们实例化了包含文档的 VectorStore，我们就可以对其进行查询。VectorStore 包含以下查询方法：\n",
    "\n",
    " - 同步和异步\n",
    " - 通过字符串或向量查询\n",
    " - 返回和不返回相似度分数\n",
    " - 通过相似度和最大边际相关性（以平衡相似度和查询与检索结果的多样性）\n",
    "\n",
    "这些方法通常会在其输出中包含一个 Document 对象列表。"
   ]
  },
  {
   "cell_type": "markdown",
   "id": "c1bea5d3-67e9-4d83-a773-a4f8a7aaca69",
   "metadata": {},
   "source": [
    "### 示例\n",
    "\n",
    "根据与字符串查询的相似性返回文档："
   ]
  },
  {
   "cell_type": "code",
   "execution_count": 8,
   "id": "c7a14750-3e9d-4c4e-a547-5355be6f10ee",
   "metadata": {},
   "outputs": [
    {
     "data": {
      "text/plain": [
       "[Document(page_content='狗是很好的伙伴，以忠诚和友好而闻名。', metadata={'source': '哺乳动物-宠物-doc'}),\n",
       " Document(page_content='金鱼是初学者喜欢的宠物，需要相对简单的照顾。', metadata={'source': '鱼-宠物-doc'}),\n",
       " Document(page_content='鹦鹉是一种聪明的鸟类，能够模仿人类的语言。', metadata={'source': '鱼-宠物-doc'}),\n",
       " Document(page_content='猫是独立的宠物，它们通常喜欢有自己的空间。', metadata={'source': '哺乳动物-宠物-doc'})]"
      ]
     },
     "execution_count": 8,
     "metadata": {},
     "output_type": "execute_result"
    }
   ],
   "source": [
    "vectorstore.similarity_search(\"小狗\")"
   ]
  },
  {
   "cell_type": "markdown",
   "id": "fbe3c634-4031-4e80-9c12-eb3d9b63b9a5",
   "metadata": {},
   "source": [
    "### 异步查询 - Async query"
   ]
  },
  {
   "cell_type": "code",
   "execution_count": 9,
   "id": "33433a44-13b7-415c-ad72-7e37ef190b74",
   "metadata": {},
   "outputs": [
    {
     "data": {
      "text/plain": [
       "[Document(page_content='鹦鹉是一种聪明的鸟类，能够模仿人类的语言。', metadata={'source': '鱼-宠物-doc'}),\n",
       " Document(page_content='金鱼是初学者喜欢的宠物，需要相对简单的照顾。', metadata={'source': '鱼-宠物-doc'}),\n",
       " Document(page_content='兔子是群居动物，需要足够的空间来跳跃。', metadata={'source': '哺乳动物-宠物-doc'}),\n",
       " Document(page_content='猫是独立的宠物，它们通常喜欢有自己的空间。', metadata={'source': '哺乳动物-宠物-doc'})]"
      ]
     },
     "execution_count": 9,
     "metadata": {},
     "output_type": "execute_result"
    }
   ],
   "source": [
    "await vectorstore.asimilarity_search(\"鹦鹉\")"
   ]
  },
  {
   "cell_type": "markdown",
   "id": "ef88090d-efaf-44ce-8812-765959e6333e",
   "metadata": {},
   "source": [
    "### 返回分数 - Return scores"
   ]
  },
  {
   "cell_type": "code",
   "execution_count": 10,
   "id": "0e24e395-91a8-4b22-b49f-ff1cafdbad6a",
   "metadata": {},
   "outputs": [
    {
     "data": {
      "text/plain": [
       "[(Document(page_content='鹦鹉是一种聪明的鸟类，能够模仿人类的语言。', metadata={'source': '鱼-宠物-doc'}),\n",
       "  0.7093302607536316),\n",
       " (Document(page_content='金鱼是初学者喜欢的宠物，需要相对简单的照顾。', metadata={'source': '鱼-宠物-doc'}),\n",
       "  1.1786209344863892),\n",
       " (Document(page_content='兔子是群居动物，需要足够的空间来跳跃。', metadata={'source': '哺乳动物-宠物-doc'}),\n",
       "  1.2764108180999756),\n",
       " (Document(page_content='猫是独立的宠物，它们通常喜欢有自己的空间。', metadata={'source': '哺乳动物-宠物-doc'}),\n",
       "  1.3013885021209717)]"
      ]
     },
     "execution_count": 10,
     "metadata": {},
     "output_type": "execute_result"
    }
   ],
   "source": [
    "vectorstore.similarity_search_with_score(\"鹦鹉\")"
   ]
  },
  {
   "cell_type": "markdown",
   "id": "c2905f8f-5798-436a-a5ea-61f65501bb7c",
   "metadata": {},
   "source": [
    "### 根据与嵌入式查询的相似性返回文档"
   ]
  },
  {
   "cell_type": "code",
   "execution_count": 11,
   "id": "a2351c97-b67d-40ad-bb58-a4770bb47b51",
   "metadata": {},
   "outputs": [
    {
     "data": {
      "text/plain": [
       "[Document(page_content='猫是独立的宠物，它们通常喜欢有自己的空间。', metadata={'source': '哺乳动物-宠物-doc'}),\n",
       " Document(page_content='金鱼是初学者喜欢的宠物，需要相对简单的照顾。', metadata={'source': '鱼-宠物-doc'}),\n",
       " Document(page_content='鹦鹉是一种聪明的鸟类，能够模仿人类的语言。', metadata={'source': '鱼-宠物-doc'}),\n",
       " Document(page_content='狗是很好的伙伴，以忠诚和友好而闻名。', metadata={'source': '哺乳动物-宠物-doc'})]"
      ]
     },
     "execution_count": 11,
     "metadata": {},
     "output_type": "execute_result"
    }
   ],
   "source": [
    "embedding = embeddings.embed_query(\"猫\")\n",
    "\n",
    "vectorstore.similarity_search_by_vector(embedding)"
   ]
  },
  {
   "cell_type": "markdown",
   "id": "62abe606-52c4-47d6-b81d-bd064544e21f",
   "metadata": {},
   "source": [
    "## Retrievers - 检索器\n",
    "\n",
    "LangChain VectorStore 对象不继承 Runnable，因此无法立即集成到 LangChain 表达式语言链中。\n",
    "\n",
    "LangChain Retrievers 是 Runnable，因此它们实现了一组标准方法（例如，同步和异步调用和批处理操作），并设计为集成到 LCEL 链中。\n",
    "\n",
    "我们可以自己创建一个简单的版本，而无需继承 Retriever。如果我们选择要使用什么方法来检索文档，我们可以轻松创建一个可运行的版本。  \n",
    "\n",
    "下面我们将围绕 similarity_search 方法构建一个："
   ]
  },
  {
   "cell_type": "code",
   "execution_count": 12,
   "id": "2b1ea5e7-1b7c-4552-bfbe-ec56fb8e6972",
   "metadata": {},
   "outputs": [
    {
     "data": {
      "text/plain": [
       "[[Document(page_content='猫是独立的宠物，它们通常喜欢有自己的空间。', metadata={'source': '哺乳动物-宠物-doc'})],\n",
       " [Document(page_content='金鱼是初学者喜欢的宠物，需要相对简单的照顾。', metadata={'source': '鱼-宠物-doc'})]]"
      ]
     },
     "execution_count": 12,
     "metadata": {},
     "output_type": "execute_result"
    }
   ],
   "source": [
    "from typing import List\n",
    "\n",
    "from langchain_core.documents import Document\n",
    "from langchain_core.runnables import RunnableLambda\n",
    "\n",
    "retriever = RunnableLambda(vectorstore.similarity_search).bind(k=1)  # select top result\n",
    "\n",
    "retriever.batch([\"猫\", \"鲨鱼\"])"
   ]
  },
  {
   "cell_type": "markdown",
   "id": "4079fe37-4cec-4872-8044-b91fd29f9a4c",
   "metadata": {},
   "source": [
    "vectorstore 实现了一个 as_retriever 方法，该方法将生成一个 Retriever，特别是 VectorStoreRetriever。  \n",
    "这些检索器包括特定的 search_type 和 search_kwargs 属性，用于标识要调用底层向量存储的哪些方法以及如何参数化它们。  \n",
    "例如，我们可以使用以下命令复制上述内容："
   ]
  },
  {
   "cell_type": "code",
   "execution_count": 13,
   "id": "ad4a18c3-215b-4cb1-83db-4c55ac991365",
   "metadata": {},
   "outputs": [
    {
     "data": {
      "text/plain": [
       "[[Document(page_content='狗是很好的伙伴，以忠诚和友好而闻名。', metadata={'source': '哺乳动物-宠物-doc'})],\n",
       " [Document(page_content='鹦鹉是一种聪明的鸟类，能够模仿人类的语言。', metadata={'source': '鱼-宠物-doc'})]]"
      ]
     },
     "execution_count": 13,
     "metadata": {},
     "output_type": "execute_result"
    }
   ],
   "source": [
    "retriever = vectorstore.as_retriever(\n",
    "    search_type=\"similarity\",\n",
    "    search_kwargs={\"k\": 1},\n",
    ")\n",
    "\n",
    "retriever.batch([\"狗\", \"鸟\"])"
   ]
  },
  {
   "cell_type": "markdown",
   "id": "38016ff6-f3bd-406d-b7e7-33a1f6018b23",
   "metadata": {},
   "source": [
    "VectorStoreRetriever 支持“相似性”（默认）、“mmr”（最大边际相关性，如上所述）和“similarity_score_threshold”搜索类型。  \n",
    "我们可以使用后者根据相似性分数对检索器输出的文档进行阈值处理。\n",
    "\n",
    "检索器可以轻松融入更复杂的应用程序，例如检索增强生成 (RAG) 应用程序，该应用程序将给定的问题与检索到的上下文组合成 LLM 的提示。  \n",
    "下面我们展示一个最小示例。"
   ]
  },
  {
   "cell_type": "code",
   "execution_count": 14,
   "id": "9d13604c-2bf0-4fd7-b998-152be260ee30",
   "metadata": {},
   "outputs": [],
   "source": [
    "from langchain_openai import ChatOpenAI\n",
    "\n",
    "llm = ChatOpenAI(\n",
    "    base_url=\"http://api.baichuan-ai.com/v1\",\n",
    "    api_key=os.environ[\"BAICHUAN_API_KEY\"],\n",
    "    model=\"Baichuan4\",\n",
    ")"
   ]
  },
  {
   "cell_type": "code",
   "execution_count": 15,
   "id": "7bd4ce41-7e7f-44a6-8679-dcd7eb565386",
   "metadata": {},
   "outputs": [],
   "source": [
    "from langchain_core.prompts import ChatPromptTemplate\n",
    "from langchain_core.runnables import RunnablePassthrough\n",
    "\n",
    "message = \"\"\"\n",
    "仅使用提供的上下文来回答这个问题。\n",
    "\n",
    "{question}\n",
    "\n",
    "上下文语境:\n",
    "{context}\n",
    "\"\"\"\n",
    "\n",
    "prompt = ChatPromptTemplate.from_messages([(\"human\", message)])\n",
    "\n",
    "rag_chain = {\"context\": retriever, \"question\": RunnablePassthrough()} | prompt | llm"
   ]
  },
  {
   "cell_type": "code",
   "execution_count": 16,
   "id": "ee3a448d-6e43-4aef-bf8c-6c63e85be0a0",
   "metadata": {},
   "outputs": [
    {
     "name": "stdout",
     "output_type": "stream",
     "text": [
      "根据提供的上下文，猫是一种独立的宠物，它们通常喜欢拥有自己的空间。\n"
     ]
    }
   ],
   "source": [
    "response = rag_chain.invoke(\"告诉我关于猫的事\")\n",
    "\n",
    "print(response.content)"
   ]
  },
  {
   "cell_type": "code",
   "execution_count": 17,
   "id": "4b5d1f6c-71f5-4a34-9c52-bf3048d33245",
   "metadata": {},
   "outputs": [
    {
     "data": {
      "text/plain": [
       "'根据提供的上下文，鹦鹉是一种非常聪明的鸟类，它们有能力模仿人类的语言。这种能力使得鹦鹉成为人们喜爱的宠物之一。'"
      ]
     },
     "execution_count": 17,
     "metadata": {},
     "output_type": "execute_result"
    }
   ],
   "source": [
    "resp = rag_chain.invoke(\"告诉我关于鹦鹉的事\")\n",
    "resp.content"
   ]
  },
  {
   "cell_type": "code",
   "execution_count": 18,
   "id": "23245017-c319-497d-a0a6-d5a082435e76",
   "metadata": {},
   "outputs": [
    {
     "data": {
      "text/plain": [
       "'根据提供的上下文，小兔子是一种群居动物，这意味着它们喜欢与其他兔子一起生活。此外，小兔子需要足够的空间来进行跳跃活动，这是它们的一种自然行为。这些信息可以帮助你了解如何照顾和饲养小兔子作为宠物。'"
      ]
     },
     "execution_count": 18,
     "metadata": {},
     "output_type": "execute_result"
    }
   ],
   "source": [
    "resp = rag_chain.invoke(\"告诉我关于小兔子的事\")\n",
    "resp.content"
   ]
  },
  {
   "cell_type": "code",
   "execution_count": null,
   "id": "b385ee6e-b953-4f28-a833-fa2e2ceb5a07",
   "metadata": {},
   "outputs": [],
   "source": []
  }
 ],
 "metadata": {
  "kernelspec": {
   "display_name": "Python 3 (ipykernel)",
   "language": "python",
   "name": "python3"
  },
  "language_info": {
   "codemirror_mode": {
    "name": "ipython",
    "version": 3
   },
   "file_extension": ".py",
   "mimetype": "text/x-python",
   "name": "python",
   "nbconvert_exporter": "python",
   "pygments_lexer": "ipython3",
   "version": "3.11.9"
  }
 },
 "nbformat": 4,
 "nbformat_minor": 5
}
