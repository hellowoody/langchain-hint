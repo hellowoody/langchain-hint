{
 "cells": [
  {
   "cell_type": "markdown",
   "id": "87a0a075-18a7-46c7-8166-69da1a2e6981",
   "metadata": {},
   "source": [
    "# Build a Retrieval Augmented Generation (RAG) App 构建检索增强生成\n",
    "\n",
    "LLM 支持的最强大的应用程序之一是复杂的问答 (Q&A) 聊天机器人。  \n",
    "这些应用程序可以回答有关特定源信息的问题。这些应用程序使用一种称为检索增强生成 (RAG) 的技术。\n",
    "\n",
    "本教程将展示如何基于文本数据源构建一个简单的问答应用程序。在此过程中，我们将介绍典型的问答架构，并重点介绍更多高级问答技术的额外资源。  \n",
    "\n",
    "## 什么是 RAG？\n",
    "RAG 是一种通过附加数据增强 LLM 知识的技术。\n",
    "\n",
    "LLM 可以推理广泛的主题，但它们的知识仅限于在训练它们的特定时间点之前的公共数据。  \n",
    "如果您想构建能够推理私有数据或模型截止日期后引入的数据的 AI 应用程序，则需要使用模型所需的特定信息来增强模型的知识。将适当的信息插入模型提示的过程称为检索增强生成 (RAG)。\n",
    "\n",
    "LangChain 有许多组件旨在帮助构建问答应用程序，以及更普遍的 RAG 应用程序。\n",
    "\n",
    "注意：这里我们专注于非结构化数据的问答。\n",
    "\n",
    "## 概念\n",
    "典型的 RAG 应用程序有两个主要组件：\n",
    "\n",
    " - 索引：从源中提取数据并对其进行索引的管道。这通常是离线进行的。\n",
    "\n",
    " - 检索和生成：实际的 RAG 链，它在运行时接受用户查询并从索引中检索相关数据，然后将其传递给模型。\n",
    "\n",
    "从原始数据到答案的最常见完整序列如下所示：\n",
    "\n",
    "### 索引\n",
    " - 加载：首先我们需要加载数据。这可以通过 DocumentLoaders 完成。\n",
    " - 拆分：文本拆分器将大型文档拆分成较小的块。这对于索引数据和将其传递给模型都很有用，因为大块数据更难搜索，并且不适合模型的有限上下文窗口。\n",
    " - 存储：我们需要一个地方来存储和索引我们的拆分，以便以后可以搜索它们。这通常使用 VectorStore 和 Embeddings 模型来完成。\n",
    "\n",
    "### 检索和生成\n",
    " - 检索：给定用户输入，使用检索器从存储中检索相关分割。\n",
    " - 生成：ChatModel/LLM 使用包含问题和检索到的数据的提示生成答案\n",
    "\n",
    "\n",
    "让我们一步一步地分析上面的步骤。\n",
    "\n",
    "## 1. 索引：加载 （Indexing: Load）\n",
    "我们需要先加载网络文章内容。我们可以使用 DocumentLoaders 来实现这一点，它们是从源加载数据并返回文档列表的对象。Document 是一个包含一些 page_content (str) 和元数据 (dict) 的对象。\n",
    "\n",
    "在这种情况下，我们将使用 WebBaseLoader，它使用 urllib 从 Web URL 加载 HTML，并使用 BeautifulSoup 将其解析为文本。我们可以通过 bs_kwargs 将参数传递给 BeautifulSoup 解析器来自定义 HTML -> 文本解析（请参阅 BeautifulSoup 文档）。在这种情况下，只有类为“post-content”、“post-title”或“post-header”的 HTML 标签才是相关的，因此我们将删除所有其他标签。"
   ]
  },
  {
   "cell_type": "code",
   "execution_count": 1,
   "id": "456f31ba-7827-4bb7-9aac-f68396a46093",
   "metadata": {},
   "outputs": [
    {
     "name": "stderr",
     "output_type": "stream",
     "text": [
      "USER_AGENT environment variable not set, consider setting it to identify your requests.\n"
     ]
    },
    {
     "data": {
      "text/plain": [
       "8770"
      ]
     },
     "execution_count": 1,
     "metadata": {},
     "output_type": "execute_result"
    }
   ],
   "source": [
    "import bs4\n",
    "from langchain_community.document_loaders import WebBaseLoader\n",
    "\n",
    "# Only keep post title, headers, and content from the full HTML.\n",
    "bs4_strainer = bs4.SoupStrainer(id=(\"article_content\"))\n",
    "loader = WebBaseLoader(\n",
    "    web_paths=(\"https://ouzhoubei.co/article-794-1.html\",),\n",
    "    bs_kwargs={\"parse_only\": bs4_strainer},\n",
    ")\n",
    "docs = loader.load()\n",
    "len(docs[0].page_content)"
   ]
  },
  {
   "cell_type": "code",
   "execution_count": 2,
   "id": "490dedca-d74d-434d-8599-23f677896797",
   "metadata": {},
   "outputs": [
    {
     "name": "stdout",
     "output_type": "stream",
     "text": [
      "【2024年欧洲杯小组赛A组】2024年欧洲杯德国队球员号码：1号：诺伊尔（拜仁慕尼黑）2号：吕迪格（皇家马德里）3号：劳姆（莱比锡）4号：塔（勒沃库森）5号：格罗斯（布莱顿）6号：基米希（拜仁慕尼黑）7号：哈弗茨（阿森纳）8号：克罗斯（皇马）9号：菲尔克鲁格（多特）10号：穆西亚拉（拜仁）11号：弗里希（斯图加特）12号：鲍曼（霍芬海姆）13号：穆勒（拜仁）14号：拜尔（霍芬海姆）15号：施洛特贝克（多特）16号：安东（斯图加特）17号：维尔茨（勒沃库森）18号：米特尔施塔特（斯图加特）19号：萨内（拜仁）20号：亨里希斯（莱比锡）21号：京多安（巴萨）22号：特尔施特根（巴塞罗那）23号：安德里希（勒沃库森）24号：科赫（法兰克福）25号：帕夫洛维奇（拜仁）26号：翁达夫（斯图加特）2024年欧洲杯瑞士球员号码：1号：索默（国米）2号：斯特吉奥（斯图加特）3号：威德默（美因茨）4号：埃尔维迪（门兴）5号：阿坎吉（曼城）6号：扎卡里亚（摩纳哥）7号：恩博洛（摩纳哥）8号：弗罗伊勒（博洛尼亚）9号：奥卡福（AC米兰）10号：扎卡（勒沃库森）11号：斯特芬（卢加诺）12号：姆沃戈（洛里昂\n"
     ]
    }
   ],
   "source": [
    "print(docs[0].page_content[:500])"
   ]
  },
  {
   "cell_type": "markdown",
   "id": "3269076a-0e1e-4653-b137-91cf23db5189",
   "metadata": {},
   "source": [
    "## 2. 索引：拆分 ( Indexing: Split)\n",
    "我们加载的文档长度超过 8k 个字符。这太长了，无法放入许多模型的上下文窗口中。即使对于那些可以在其上下文窗口中容纳完整帖子的模型，模型也很难在非常长的输入中找到信息。\n",
    "\n",
    "为了解决这个问题，我们将文档拆分成块以进行嵌入和向量存储。这应该有助于我们在运行时仅检索博客文章中最相关的部分。\n",
    "\n",
    "在这种情况下，我们将文档拆分成 1000 个字符的块，块之间有 200 个字符的重叠。重叠有助于减轻将语句与与其相关的重要上下文分离的可能性。  \n",
    "我们使用 RecursiveCharacterTextSplitter，它将使用常用分隔符（如换行符）递归拆分文档，直到每个块的大小合适。这是针对一般文本用例的推荐文本拆分器。\n",
    "\n",
    "我们设置 add_start_index=True，以便每个拆分文档在初始文档中开始的字符索引保留为元数据属性“start_index”。"
   ]
  },
  {
   "cell_type": "code",
   "execution_count": 3,
   "id": "e8378374-500a-4c23-896a-de466d4641c6",
   "metadata": {},
   "outputs": [
    {
     "data": {
      "text/plain": [
       "12"
      ]
     },
     "execution_count": 3,
     "metadata": {},
     "output_type": "execute_result"
    }
   ],
   "source": [
    "from langchain_text_splitters import RecursiveCharacterTextSplitter\n",
    "\n",
    "text_splitter = RecursiveCharacterTextSplitter(\n",
    "    chunk_size=1000, chunk_overlap=200, add_start_index=True\n",
    ")\n",
    "all_splits = text_splitter.split_documents(docs)\n",
    "\n",
    "len(all_splits)"
   ]
  },
  {
   "cell_type": "code",
   "execution_count": 4,
   "id": "63128363-1cb0-4b37-8610-976a3338398a",
   "metadata": {},
   "outputs": [
    {
     "data": {
      "text/plain": [
       "1000"
      ]
     },
     "execution_count": 4,
     "metadata": {},
     "output_type": "execute_result"
    }
   ],
   "source": [
    "len(all_splits[0].page_content)"
   ]
  },
  {
   "cell_type": "code",
   "execution_count": 5,
   "id": "c49aadb7-23b3-4757-a870-3e5d331c5fc5",
   "metadata": {},
   "outputs": [
    {
     "data": {
      "text/plain": [
       "{'source': 'https://ouzhoubei.co/article-794-1.html', 'start_index': 7486}"
      ]
     },
     "execution_count": 5,
     "metadata": {},
     "output_type": "execute_result"
    }
   ],
   "source": [
    "all_splits[10].metadata"
   ]
  },
  {
   "cell_type": "markdown",
   "id": "02fafc45-b3b8-4cf2-afff-355e37d35215",
   "metadata": {},
   "source": [
    "## 3. 索引：存储 (Indexing: Store)\n",
    "现在我们需要索引 66 个文本块，以便我们可以在运行时搜索它们。最常见的方法是嵌入每个文档拆分的内容，并将这些嵌入插入到向量数据库（或向量存储）中。  \n",
    "当我们想要搜索我们的拆分时，我们会进行文本搜索查询，嵌入它，并执行某种“相似性”搜索，以识别与我们的查询嵌入最相似的嵌入的存储拆分。  \n",
    "最简单的相似性度量是余弦相似性 - 我们测量每对嵌入（高维向量）之间角度的余弦。\n",
    "\n",
    "我们可以使用 Chroma 向量存储和 OpenAIEmbeddings 模型在单个命令中嵌入和存储所有文档拆分。"
   ]
  },
  {
   "cell_type": "code",
   "execution_count": 6,
   "id": "65cf76a2-dee8-4cb7-8c94-4353acfe07de",
   "metadata": {},
   "outputs": [],
   "source": [
    "# 获取你的智谱 API Key\n",
    "# 在当前文件下创建一个.env文件，将api-key复制进去，如ZHIPUAI_API_KEY = \"api-key\"\n",
    "\n",
    "from dotenv import load_dotenv,find_dotenv\n",
    "import os \n",
    "_ = load_dotenv(find_dotenv())"
   ]
  },
  {
   "cell_type": "code",
   "execution_count": 7,
   "id": "e5841179-a1be-40f1-ba68-7739335ca0d5",
   "metadata": {},
   "outputs": [],
   "source": [
    "from langchain_chroma import Chroma\n",
    "from langchain_community.embeddings import BaichuanTextEmbeddings\n",
    "\n",
    "embeddings = BaichuanTextEmbeddings(baichuan_api_key=os.environ[\"BAICHUAN_API_KEY\"])\n",
    "\n",
    "vectorstore = Chroma.from_documents(documents=all_splits, embedding=embeddings)"
   ]
  },
  {
   "cell_type": "markdown",
   "id": "53a60079-5722-4855-9095-54096b074fad",
   "metadata": {},
   "source": [
    "这样就完成了管道的索引部分。此时，我们有一个可查询的向量存储，其中包含博客文章的分块内容。给定一个用户问题，理想情况下，我们应该能够返回回答该问题的博客文章片段。"
   ]
  },
  {
   "cell_type": "markdown",
   "id": "e89a58ad-0b62-47c1-bfc4-7ba0ddf3df6a",
   "metadata": {},
   "source": [
    "## 4. 检索和生成：检索 (Retrieval and Generation: Retrieve)\n",
    "现在让我们编写实际的应用程序逻辑。我们想要创建一个简单的应用程序，它接受用户问题，搜索与该问题相关的文档，将检索到的文档和初始问题传递给模型，并返回答案。\n",
    "\n",
    "首先，我们需要定义搜索文档的逻辑。LangChain 定义了一个 Retriever 接口，它包装了一个索引，可以根据字符串查询返回相关文档。\n",
    "\n",
    "最常见的 Retriever 类型是 VectorStoreRetriever，它使用向量存储的相似性搜索功能来促进检索。任何 VectorStore 都可以通过 VectorStore.as_retriever() 轻松转换为 Retriever："
   ]
  },
  {
   "cell_type": "code",
   "execution_count": 8,
   "id": "89d50ab1-4958-4644-ac92-0e82fe3b481a",
   "metadata": {},
   "outputs": [
    {
     "data": {
      "text/plain": [
       "6"
      ]
     },
     "execution_count": 8,
     "metadata": {},
     "output_type": "execute_result"
    }
   ],
   "source": [
    "retriever = vectorstore.as_retriever(search_type=\"similarity\", search_kwargs={\"k\": 6})\n",
    "\n",
    "retrieved_docs = retriever.invoke(\"意大利队法乔利身披几号球衣?\")\n",
    "\n",
    "len(retrieved_docs)"
   ]
  },
  {
   "cell_type": "code",
   "execution_count": 9,
   "id": "faa86fa9-7689-4380-95f0-8d699691c0fb",
   "metadata": {},
   "outputs": [
    {
     "name": "stdout",
     "output_type": "stream",
     "text": [
      "：尤克塞克（费内巴切）17号：卡维奇（费内巴切）18号：穆尔杜（费内巴切）19号：伊尔迪兹（尤文图斯）20号：卡迪奥卢（费内巴切）21号：伊尔马兹（加拉塔萨雷）22号：艾汗（加拉塔萨雷）23号：恰基尔（特拉布宗体育）24号：基里索（贝西克塔斯）25号：阿克昆（加拉塔萨雷）26号：耶尔德勒姆（雷恩）2024年欧洲杯格鲁吉亚球员号码：1号：洛里亚（第比利斯迪纳摩）2号：卡卡巴泽（克拉科夫）3号：德瓦利（希腊人竞技）4号：卡希亚（斯洛万）5号：克维尔克维利亚（阿科多）6号：科乔拉什维利（莱万特）7号：克瓦拉茨赫利亚（那不勒斯）8号：齐夫齐瓦泽（卡尔斯鲁厄）9号：达维塔什维利（波尔多）10号：查克韦塔泽（沃特福德）11号：克维利泰亚（希腊人竞技）12号：古格沙什维利（卡拉巴赫）13号：戈乔列什维利（顿涅茨克矿工）14号：洛乔什维利（克雷莫纳）15号：格维列西亚尼（波斯波利斯）16号：克维克韦斯基里（波兹南莱赫）17号：基特希什维利（斯图姆）18号：阿尔图纳什维利（沃尔夫斯贝格）19号：申格利亚（帕纳托利科斯）20号：梅克瓦比什维利（克拉约瓦）21号：齐泰什维利（第比利斯迪纳摩）22号：米卡乌塔泽（梅斯）23号：洛布贾尼泽（亚特兰大联）24号：塔比泽（帕纳托利科斯）25号：玛玛达什维利（瓦伦西亚）26号：西格亚（巴塞尔）2024年欧洲杯葡萄牙球员号码：1号：帕特里西奥（罗马）2号：塞梅多（狼队）3号：佩佩（波尔图）4号：迪亚斯（曼城）5号：达洛特（曼联）6号：帕利尼亚（富勒姆）7号：C罗（利雅得胜利）8号：B费（曼联）9号：贡萨洛·拉莫斯（巴黎）10号：B席（曼城）11号：菲利克斯（巴萨）12号：若泽·萨（狼队）13号：达尼洛·佩雷拉（巴黎）14号：伊纳西奥（葡体）15号：若昂·内维斯（本菲卡）16号：努内斯（曼城）17号：莱奥（AC米兰）18号：鲁本·内维斯（利雅得新月）19号：门德斯（巴黎）20号：坎塞洛（巴萨）21号：若塔（利物浦）22号：迪奥戈·科斯塔（波尔图）23号：维蒂尼亚（巴黎）24号：安东尼奥·席尔瓦（本菲卡）25号：内托（狼队）26号：孔塞桑（波尔图）2024年欧洲杯捷克球员号码：1号：斯塔涅克（布拉格斯拉维亚）2号：齐马（布拉格斯拉维亚）3号：霍莱什（布拉格斯拉维亚）4号：赫拉纳克（比尔森胜利）5号：曹法尔（西汉姆）6号：维蒂克（布拉格斯巴达）7号：巴拉克\n"
     ]
    }
   ],
   "source": [
    "print(retrieved_docs[0].page_content)"
   ]
  },
  {
   "cell_type": "markdown",
   "id": "8a4a4a27-86fa-46bd-a95e-7c2d7dfd1f91",
   "metadata": {},
   "source": [
    "## 5. 检索和生成：生成(Retrieval and Generation: Generate)\n",
    "让我们将所有内容组合成一个链条，该链条接收问题、检索相关文档、构造提示、将其传递给模型并解析输出。"
   ]
  },
  {
   "cell_type": "code",
   "execution_count": 10,
   "id": "c0ed7284-cd93-40ac-a8a5-3ba5b6db2f51",
   "metadata": {},
   "outputs": [],
   "source": [
    "from langchain_openai import ChatOpenAI\n",
    "\n",
    "llm = ChatOpenAI(\n",
    "    base_url=\"http://api.baichuan-ai.com/v1\",\n",
    "    api_key=os.environ[\"BAICHUAN_API_KEY\"],\n",
    "    model=\"Baichuan4\",\n",
    ")"
   ]
  },
  {
   "cell_type": "markdown",
   "id": "570bfbeb-8afe-45cf-8f18-40e1431af022",
   "metadata": {},
   "source": [
    "我们将使用签入 LangChain 提示中心的 RAG 提示"
   ]
  },
  {
   "cell_type": "code",
   "execution_count": 11,
   "id": "d24dcf30-5ab0-4232-82cf-069871087522",
   "metadata": {},
   "outputs": [],
   "source": [
    "# 安装langchainhub\n",
    "# pip install langchainhub"
   ]
  },
  {
   "cell_type": "code",
   "execution_count": 12,
   "id": "8c0d1c55-bb77-42c3-a9a0-01d938c84921",
   "metadata": {},
   "outputs": [
    {
     "data": {
      "text/plain": [
       "[HumanMessage(content=\"You are an assistant for question-answering tasks. Use the following pieces of retrieved context to answer the question. If you don't know the answer, just say that you don't know. Use three sentences maximum and keep the answer concise.\\nQuestion: 过滤问题 \\nContext: 过滤上下文 \\nAnswer:\")]"
      ]
     },
     "execution_count": 12,
     "metadata": {},
     "output_type": "execute_result"
    }
   ],
   "source": [
    "from langchain import hub\n",
    "\n",
    "prompt = hub.pull(\"rlm/rag-prompt\")\n",
    "\n",
    "# example_messages = prompt.invoke(\n",
    "#     {\"context\": \"filler context\", \"question\": \"filler question\"}\n",
    "# ).to_messages()\n",
    "\n",
    "example_messages = prompt.invoke(\n",
    "    {\"context\": \"过滤上下文\", \"question\": \"过滤问题\"}\n",
    ").to_messages()\n",
    "\n",
    "example_messages"
   ]
  },
  {
   "cell_type": "markdown",
   "id": "1ae76870-00cf-4838-81a3-e23b9249dbe0",
   "metadata": {},
   "source": [
    "我们将使用 LCEL Runnable 协议来定义链，使我们能够\n",
    "\n",
    " - 以透明的方式将组件和功能连接在一起\n",
    "\n",
    " - 开箱即用地实现流式、异步和批量调用。\n",
    "\n",
    "\n",
    "以下是实现："
   ]
  },
  {
   "cell_type": "code",
   "execution_count": 15,
   "id": "1923f9e5-5ad2-471e-8aa0-234dbf433aa6",
   "metadata": {},
   "outputs": [
    {
     "name": "stdout",
     "output_type": "stream",
     "text": [
      "根据提供的上下文，意大利队法乔利身披21号球衣。"
     ]
    }
   ],
   "source": [
    "from langchain_core.output_parsers import StrOutputParser\n",
    "from langchain_core.runnables import RunnablePassthrough\n",
    "\n",
    "\n",
    "def format_docs(docs):\n",
    "    return \"\\n\\n\".join(doc.page_content for doc in docs)\n",
    "\n",
    "\n",
    "rag_chain = (\n",
    "    {\"context\": retriever | format_docs, \"question\": RunnablePassthrough()}\n",
    "    | prompt\n",
    "    | llm\n",
    "    | StrOutputParser()\n",
    ")\n",
    "\n",
    "for chunk in rag_chain.stream(\"意大利队法乔利身披几号球衣?\"):\n",
    "    print(chunk, end=\"\", flush=True)"
   ]
  },
  {
   "cell_type": "markdown",
   "id": "5dc093fc-ea69-4994-9eea-9abcf7c8fce0",
   "metadata": {},
   "source": [
    "让我们剖析一下 LCEL 来了解发生了什么。\n",
    "\n",
    "首先：每个组件（retriever、prompt、llm 等）都是 Runnable 的实例。这意味着它们实现相同的方法（例如 sync 和 async .invoke、.stream 或 .batch），这使得它们更容易连接在一起。它们可以通过 | 运算符连接到 RunnableSequence（另一个 Runnable）。  \n",
    "\n",
    "当遇到 | 运算符时，LangChain 会自动将某些对象转换为 Runnable。这里，format_docs 被转换为 RunnableLambda，而包含“context”和“question”的字典被转换为 RunnableParallel。细节并不重要，重要的是，每个对象都是一个 Runnable。\n",
    "\n",
    "让我们来追踪一下输入问题如何流经上述可运行程序。\n",
    "\n",
    "正如我们上面所见，提示的输入应为一个包含键“context”和“question”的字典。因此，此链的第一个元素构建了可运行程序，它将根据输入问题计算这两个键：\n",
    "\n",
    " - retriever | format_docs : 将问题传递给retriever检索器，生成 Document 对象，然后传递给 format_docs 以生成字符串\n",
    " - RunnablePassthrough() 不加改变地传递输入问题。\n",
    "\n",
    "也就是说，如果你构造"
   ]
  },
  {
   "cell_type": "code",
   "execution_count": 16,
   "id": "94c47cc9-71f6-4e3a-a95b-d9844b3b42ed",
   "metadata": {},
   "outputs": [],
   "source": [
    "chain = (\n",
    "    {\"context\": retriever | format_docs,\"question\":RunnablePassthrough()}\n",
    "    | prompt\n",
    ")"
   ]
  },
  {
   "cell_type": "markdown",
   "id": "f06618ec-f1ff-45ce-83f2-8086557cc53c",
   "metadata": {},
   "source": [
    "然后 chain.invoke(question) 将构建一个格式化的提示，准备进行推理。\n",
    "\n",
    "链的最后步骤是 llm（运行推理）和 StrOutputParser()（仅从 LLM 的输出消息中提取字符串内容）。"
   ]
  },
  {
   "cell_type": "markdown",
   "id": "7204be93-0139-4403-8ae3-5e22724b1b7f",
   "metadata": {},
   "source": [
    "### 内置链 Built-in chains\n",
    "\n",
    "如果愿意，LangChain 包含实现上述 LCEL 的便捷函数。我们编写了两个函数：\n",
    "\n",
    " - create_stuff_documents_chain 指定如何将检索到的上下文输入到提示和 LLM 中。在这种情况下，我们将“填充”内容到提示中.即我们将包含所有检索到的上下文，而无需任何总结或其他处理。它主要实现我们上面的 rag_chain，输入键为 context 和 input, 它使用检索到的上下文和查询生成答案。\n",
    " - create_retrieval_chain 添加检索步骤并通过链传播检索到的上下文，并将其与最终答案一起提供。它具有输入键 input，并在其输出中包含输入、上下文和答案。"
   ]
  },
  {
   "cell_type": "code",
   "execution_count": 17,
   "id": "96cd2711-f4b8-4b1e-80cf-34c20092f58c",
   "metadata": {},
   "outputs": [
    {
     "data": {
      "text/plain": [
       "'意大利队的基耶萨身披14号球衣。'"
      ]
     },
     "execution_count": 17,
     "metadata": {},
     "output_type": "execute_result"
    }
   ],
   "source": [
    "from langchain.chains import create_retrieval_chain\n",
    "from langchain.chains.combine_documents import create_stuff_documents_chain\n",
    "from langchain_core.prompts import ChatPromptTemplate\n",
    "\n",
    "system_prompt = (\n",
    "    \"You are an assistant for question-answering tasks. \"\n",
    "    \"Use the following pieces of retrieved context to answer \"\n",
    "    \"the question. If you don't know the answer, say that you \"\n",
    "    \"don't know. Use three sentences maximum and keep the \"\n",
    "    \"answer concise.\"\n",
    "    \"\\n\\n\"\n",
    "    \"{context}\"\n",
    ")\n",
    "\n",
    "prompt = ChatPromptTemplate.from_messages([\n",
    "    (\"system\",system_prompt),\n",
    "    (\"human\",\"{input}\")\n",
    "])\n",
    "\n",
    "question_answer_chain = create_stuff_documents_chain(llm,prompt)\n",
    "rag_chain = create_retrieval_chain(retriever,question_answer_chain)\n",
    "\n",
    "resp = rag_chain.invoke({\"input\":\"意大利队基耶萨身披几号球衣?\"})\n",
    "\n",
    "resp[\"answer\"]"
   ]
  },
  {
   "cell_type": "markdown",
   "id": "f2b8c626-fad7-43db-9eb1-7c39ecce3129",
   "metadata": {},
   "source": [
    "### 返回来源 Returning sources\n",
    "在问答应用中，向用户展示用于生成答案的来源通常很重要。LangChain 的内置 create_retrieval_chain 将通过“context”键将检索到的源文档传播到输出中："
   ]
  },
  {
   "cell_type": "code",
   "execution_count": 18,
   "id": "7ac54add-46e9-4644-ba6f-0e49d1279319",
   "metadata": {},
   "outputs": [
    {
     "name": "stdout",
     "output_type": "stream",
     "text": [
      "page_content='：尤克塞克（费内巴切）17号：卡维奇（费内巴切）18号：穆尔杜（费内巴切）19号：伊尔迪兹（尤文图斯）20号：卡迪奥卢（费内巴切）21号：伊尔马兹（加拉塔萨雷）22号：艾汗（加拉塔萨雷）23号：恰基尔（特拉布宗体育）24号：基里索（贝西克塔斯）25号：阿克昆（加拉塔萨雷）26号：耶尔德勒姆（雷恩）2024年欧洲杯格鲁吉亚球员号码：1号：洛里亚（第比利斯迪纳摩）2号：卡卡巴泽（克拉科夫）3号：德瓦利（希腊人竞技）4号：卡希亚（斯洛万）5号：克维尔克维利亚（阿科多）6号：科乔拉什维利（莱万特）7号：克瓦拉茨赫利亚（那不勒斯）8号：齐夫齐瓦泽（卡尔斯鲁厄）9号：达维塔什维利（波尔多）10号：查克韦塔泽（沃特福德）11号：克维利泰亚（希腊人竞技）12号：古格沙什维利（卡拉巴赫）13号：戈乔列什维利（顿涅茨克矿工）14号：洛乔什维利（克雷莫纳）15号：格维列西亚尼（波斯波利斯）16号：克维克韦斯基里（波兹南莱赫）17号：基特希什维利（斯图姆）18号：阿尔图纳什维利（沃尔夫斯贝格）19号：申格利亚（帕纳托利科斯）20号：梅克瓦比什维利（克拉约瓦）21号：齐泰什维利（第比利斯迪纳摩）22号：米卡乌塔泽（梅斯）23号：洛布贾尼泽（亚特兰大联）24号：塔比泽（帕纳托利科斯）25号：玛玛达什维利（瓦伦西亚）26号：西格亚（巴塞尔）2024年欧洲杯葡萄牙球员号码：1号：帕特里西奥（罗马）2号：塞梅多（狼队）3号：佩佩（波尔图）4号：迪亚斯（曼城）5号：达洛特（曼联）6号：帕利尼亚（富勒姆）7号：C罗（利雅得胜利）8号：B费（曼联）9号：贡萨洛·拉莫斯（巴黎）10号：B席（曼城）11号：菲利克斯（巴萨）12号：若泽·萨（狼队）13号：达尼洛·佩雷拉（巴黎）14号：伊纳西奥（葡体）15号：若昂·内维斯（本菲卡）16号：努内斯（曼城）17号：莱奥（AC米兰）18号：鲁本·内维斯（利雅得新月）19号：门德斯（巴黎）20号：坎塞洛（巴萨）21号：若塔（利物浦）22号：迪奥戈·科斯塔（波尔图）23号：维蒂尼亚（巴黎）24号：安东尼奥·席尔瓦（本菲卡）25号：内托（狼队）26号：孔塞桑（波尔图）2024年欧洲杯捷克球员号码：1号：斯塔涅克（布拉格斯拉维亚）2号：齐马（布拉格斯拉维亚）3号：霍莱什（布拉格斯拉维亚）4号：赫拉纳克（比尔森胜利）5号：曹法尔（西汉姆）6号：维蒂克（布拉格斯巴达）7号：巴拉克' metadata={'source': 'https://ouzhoubei.co/article-794-1.html', 'start_index': 7486}\n",
      "\n",
      "page_content='德斯（巴黎）20号：坎塞洛（巴萨）21号：若塔（利物浦）22号：迪奥戈·科斯塔（波尔图）23号：维蒂尼亚（巴黎）24号：安东尼奥·席尔瓦（本菲卡）25号：内托（狼队）26号：孔塞桑（波尔图）2024年欧洲杯捷克球员号码：1号：斯塔涅克（布拉格斯拉维亚）2号：齐马（布拉格斯拉维亚）3号：霍莱什（布拉格斯拉维亚）4号：赫拉纳克（比尔森胜利）5号：曹法尔（西汉姆）6号：维蒂克（布拉格斯巴达）7号：巴拉克（佛罗伦萨）8号：萨蒂莱克（特温特）9号：赫洛泽克（勒沃库森）10号：希克（勒沃库森）11号：库奇塔（布拉格斯巴达）12号：道德拉（布拉格斯拉维亚）13号：齐迪尔（布拉格斯拉维亚）14号：普罗沃德（布拉格斯拉维亚）15号：大卫·尤拉塞克（霍芬海姆）16号：科瓦尔（勒沃库森）17号：切尔尼（沃尔夫斯堡）18号：克雷吉奇（布拉格斯巴达）19号：乔里（比尔森胜利）20号：林格尔（费耶诺德）21号：切尔夫（比尔森胜利）22号：绍切克（西汉姆）23号：雅罗斯（格拉茨风暴）24号：维尔塞克（布拉格斯拉维亚）25号：苏尔克（比尔森胜利）26号：马特·尤拉塞克（布拉格斯拉维亚）' metadata={'source': 'https://ouzhoubei.co/article-794-1.html', 'start_index': 8286}\n",
      "\n",
      "page_content='18号：巴雷拉（国际米兰）19号：雷特吉（热那亚）20号：扎卡尼（拉齐奥）21号：法乔利（尤文图斯）22号：沙拉维（罗马）23号：巴斯托尼（国际米兰）24号：坎比亚索（尤文图斯）25号：弗洛伦肖（维罗纳）26号：梅雷特（那不勒斯）2024年欧洲杯阿尔巴尼亚球员号码：1号：贝里沙（恩波利）2号：巴里乌（巴列卡诺）3号：米塔伊（莫斯科火车头）4号：海萨伊（拉齐奥）5号：阿耶蒂（克卢日）6号：吉姆西蒂（亚特兰大）7号：马纳伊（锡瓦斯体育）8号：贾苏拉（达姆施塔特）9号：阿萨尼（光州FC）10号：巴伊拉米（萨索洛）11号：布罗亚（富勒姆）12号：卡斯特拉蒂（奇塔代拉）13号：米哈伊（法马利康）14号：拉奇（布拉格斯巴达）15号：塞费里（班尼亚斯）16号：贝里沙（莱切）17号：穆奇（贝西克塔斯）18号：伊斯梅杰里（恩波利）19号：达库（喀山红宝石）20号：拉马达尼（莱切）21号：阿斯拉尼（国米）22号：阿布拉什（草蜢）23号：斯特拉科沙（布伦特福德）24号：库姆布拉（萨索洛）25号：阿利吉（沃伦塔利）26号：霍查（萨格勒布迪纳摩）【2024年欧洲杯小组赛C组】2024年欧洲杯斯洛文尼亚球员号码：1号：奥布拉克（马德里竞技）2号：卡尔尼奇尼克（采列）3号：巴尔科维奇（阿拉尼亚体育）4号：布拉日奇（波兹南莱赫）5号：斯坦科维奇（格拉茨风暴）6号：比约尔（乌迪内斯）7号：韦尔比奇（帕纳辛奈科斯）8号：洛夫里奇（乌迪内斯）9号：斯波拉尔（帕纳辛奈科斯）10号：埃尔什尼克（卢布尔雅那奥林匹亚）11号：塞斯科（RB莱比锡）12号：贝莱克（希腊人竞技）13号：扬扎（扎布热矿工）14号：库尔蒂奇（南蒂罗尔）15号：霍尔瓦特（格拉茨风暴）16号：韦基奇（瓦埃勒）17号：马拉卡尔（比萨）18号：维波特尼克（波尔多）19号：塞拉尔（卢加诺）20号：斯托扬诺维奇（桑普多利亚）21号：德尔库希奇（索契）22号：采林（帕纳辛奈科斯）23号：布雷卡洛（奥兰多城）24号：茹格利（博多格林特）25号：泽利科维奇（特尔纳瓦斯巴达）26号：伊利契奇（马里博尔）2024年欧洲杯丹麦球员号码：1号：舒梅切尔（安德莱赫特）2号：安德森（水晶宫）3号：维斯特高（莱斯特城）4号：克亚尔（AC米兰）5号：梅勒（沃尔夫斯堡）6号：安德烈亚斯·克里斯滕森（巴萨）7号：延森（布伦特福德）8号：德莱尼（安德莱赫特）9号：霍伊伦德（曼' metadata={'source': 'https://ouzhoubei.co/article-794-1.html', 'start_index': 2400}\n",
      "\n",
      "page_content='（帕尔马）14号：奥拉鲁（布加勒斯特星）15号：布尔卡（阿科多）16号：特尔诺瓦努（布拉勒斯特星）17号：科曼（布加勒斯特星）18号：拉兹万·马林（恩波利）19号：德拉古斯（加济安泰普）20号：丹尼斯·曼（帕尔马）21号：斯坦丘（达马克）22号：莫戈斯（克卢日）23号：索雷斯库（加济安泰普）24号：拉科维坦（琴斯托霍瓦）25号：比里吉亚（克卢日）26号：苏特（布拉勒斯特星）2024年欧洲杯乌克兰球员号码：1号：布什坎（基辅迪纳摩）2号：科诺普利亚（顿涅茨克矿工）3号：斯瓦托克（第聂伯罗）4号：塔洛维尔罗夫（林茨）5号：塞多尔丘克（韦斯特洛）6号：斯特帕年科（顿涅茨克矿工）7号：亚尔莫连科（基辅迪纳摩）8号：马利诺夫斯基（热那亚）9号：亚列姆丘克（瓦伦西亚）10号：穆德里克（切尔西）11号：多夫比克（赫罗纳）12号：特鲁宾（本菲卡）13号：扎巴尔尼（伯恩茅斯）14号：苏达科夫（顿涅茨克矿工）15号：齐甘科夫（赫罗纳）16号：米科连科（埃弗顿）17号：津琴科（阿森纳）18号：布拉日科（基辅迪纳摩）19号：沙帕伦科（基辅迪纳摩）20号：祖布科夫（顿涅茨克矿工）21号：邦达尔（顿涅茨克矿工）22号：马特维延科（顿涅茨克矿工）23号：卢宁（皇家马德里）24号：蒂姆丘克（基辅迪纳摩）25号：瓦纳特（基辅迪纳摩）26号：米哈伊利琴科（普莱西亚）【2024年欧洲杯小组赛F组】2024年欧洲杯土耳其球员号码：1号：古诺克（贝西克塔斯）2号：切利克（罗马）3号：德米拉尔（吉达国民）4号：阿卡丁（费内巴切）5号：约库斯鲁（西布朗）6号：科克库（本菲卡）7号：阿克图尔科格鲁（加拉塔萨雷）8号：居勒尔（皇家马德里）9号：托松（贝西克塔斯）10号：恰尔汗奥卢（国际米兰）11号：亚兹奇（里尔）12号：巴因德尔（曼联）13号：卡普兰（阿贾克斯）14号：巴达克（加拉塔萨雷）15号：厄兹詹（多特蒙德）16号：尤克塞克（费内巴切）17号：卡维奇（费内巴切）18号：穆尔杜（费内巴切）19号：伊尔迪兹（尤文图斯）20号：卡迪奥卢（费内巴切）21号：伊尔马兹（加拉塔萨雷）22号：艾汗（加拉塔萨雷）23号：恰基尔（特拉布宗体育）24号：基里索（贝西克塔斯）25号：阿克昆（加拉塔萨雷）26号：耶尔德勒姆（雷恩）2024年欧洲杯格鲁吉亚球员号码：1号：洛里亚（第比利斯迪纳摩）2号：卡卡巴泽（克拉科夫）3号：德瓦利' metadata={'source': 'https://ouzhoubei.co/article-794-1.html', 'start_index': 6687}\n",
      "\n",
      "page_content='：采林（帕纳辛奈科斯）23号：布雷卡洛（奥兰多城）24号：茹格利（博多格林特）25号：泽利科维奇（特尔纳瓦斯巴达）26号：伊利契奇（马里博尔）2024年欧洲杯丹麦球员号码：1号：舒梅切尔（安德莱赫特）2号：安德森（水晶宫）3号：维斯特高（莱斯特城）4号：克亚尔（AC米兰）5号：梅勒（沃尔夫斯堡）6号：安德烈亚斯·克里斯滕森（巴萨）7号：延森（布伦特福德）8号：德莱尼（安德莱赫特）9号：霍伊伦德（曼联）10号：埃里克森（曼联）11号：奥尔森（布鲁日）12号：多尔贝格（安德莱赫特）13号：约根森（布伦特福德）14号：达姆斯高（布伦特福德）15号：诺尔高（布伦特福德）16号：赫曼森（莱斯特城）17号：克里斯蒂安森（博洛尼亚）18号：亚历山大·巴（本菲卡）19号：温德（沃尔夫斯堡）20号：波尔森（莱比锡）21号：尤尔曼德（葡萄牙体育）22号：容诺夫（柏林联合）23号：霍伊别尔（热刺）24号：德雷尔（安德莱赫特）25号：拉斯穆斯·克里斯滕森（罗马）26号：拉尔森（伯恩利）2024年欧洲杯塞尔维亚球员号码：1号：拉伊科维奇（马洛卡）2号：帕夫洛维奇（萨尔茨堡红牛）3号：斯托伊奇（托波拉）4号：米伦科维奇（佛罗伦萨）5号：马克西莫维奇（赫塔费）6号：古德利（塞维利亚）7号：弗拉霍维奇（尤文图斯）8号：约维奇（AC米兰）9号：米特洛维奇（利雅得新月）10号：塔迪奇（费内巴切）11号：科斯蒂奇（尤文图斯）12号：佩特洛维奇（切尔西）13号：维利科维奇（不莱梅）14号：日夫科维奇（塞萨洛尼基）15号：巴比奇（莫斯科斯巴达）16号：米贾伊洛维奇（贝尔格莱德红星）17号：伊利奇（都灵）18号：拉特科夫（萨尔茨堡红牛）19号：萨马尔季奇（乌迪内斯）20号：塞尔吉·米林科维奇21号：加齐诺维奇（雅典AEK）22号：萨萨·卢基奇（富勒姆）23号：瓦尼亚·米林科维奇·萨维奇（都灵）24号：斯帕基奇（贝尔格莱德红星）25号：姆拉德诺维奇（帕纳辛奈科斯）26号：比曼切维奇（布拉格斯巴达）2024年欧洲杯英格兰球员号码：1号：皮克福德（埃弗顿）2号：沃克（曼城）3号：卢克·肖（曼联）4号：赖斯（阿森纳）5号：斯通斯（曼城）6号：格伊（水晶宫）7号：萨卡（阿森纳）8号：阿诺德（利物浦）9号：凯恩（拜仁）10号：贝林厄姆（皇马）11号：福登（曼城）12号：特里皮尔（纽卡）13号：拉姆斯代尔（阿森纳）14号：' metadata={'source': 'https://ouzhoubei.co/article-794-1.html', 'start_index': 3200}\n",
      "\n",
      "page_content='会）14号：拉波尔特（利雅得胜利）15号：巴埃纳（比利亚雷亚尔）16号：罗德里（曼城）17号：尼科·威廉姆斯（毕尔巴鄂竞技）18号：祖比门迪（皇家社会）19号：亚马尔（巴塞罗那）20号：佩德里（巴塞罗那）21号：奥亚萨瓦尔（皇家社会）22号：纳瓦斯（塞维利亚）23号：乌奈·西蒙（毕尔巴鄂竞技）24号：库库雷利亚（切尔西）25号：费尔明（巴塞罗那）26号：阿约泽·佩雷斯（皇家贝蒂斯）2024年欧洲杯克罗地亚球员号码：1号：利瓦科维奇（费内巴切）2号：斯坦尼西奇（勒沃库森）3号：庞格拉契奇（莱切）4号：格瓦迪奥尔（曼城）5号：埃尔利奇（萨索洛）6号：苏塔洛（阿贾克斯）7号：马耶尔（沃尔夫斯堡）8号：科瓦西奇（曼城）9号：克拉马里奇（霍芬海姆）10号：莫德里奇（皇马）11号：布罗佐维奇（利雅得胜利）12号：拉布罗维奇（里耶卡）13号：弗拉西奇（都灵）14号：佩里西奇（哈伊杜克）15号：帕萨利奇（亚特兰大）16号：布迪米尔（奥萨苏纳）17号：佩特科维奇（萨格勒布迪纳摩）18号：伊万努舍奇（费耶诺德）19号：索萨（阿贾克斯）20号：皮亚察（里耶卡）21号：维达（雅典AEK）22号：尤拉诺维奇（柏林联合）23号：伊武希奇（帕福斯）24号：马尔科·帕萨利奇（里耶卡）25号：苏契奇（萨尔茨堡红牛）26号：巴图里纳（萨格勒布迪纳摩）2024年欧洲杯意大利球员号码：1号：多纳鲁马（巴黎圣日耳曼）2号：迪洛伦佐（那不勒斯）3号：迪马尔科（国际米兰）4号：布翁乔尔诺（都灵）5号：卡拉菲奥里（博洛尼亚）6号：加蒂（尤文图斯）7号：弗拉泰西（国际米兰）8号：若日尼奥（阿森纳）9号：斯卡马卡（亚特兰大）10号：佩莱格里尼（罗马）11号：拉斯帕多里（那不勒斯）12号：维卡里奥（热刺）13号：达米安（国际米兰）14号：基耶萨（尤文图斯）15号：贝拉诺瓦（都灵）16号：克里斯坦特（罗马）17号：曼奇尼（罗马）18号：巴雷拉（国际米兰）19号：雷特吉（热那亚）20号：扎卡尼（拉齐奥）21号：法乔利（尤文图斯）22号：沙拉维（罗马）23号：巴斯托尼（国际米兰）24号：坎比亚索（尤文图斯）25号：弗洛伦肖（维罗纳）26号：梅雷特（那不勒斯）2024年欧洲杯阿尔巴尼亚球员号码：1号：贝里沙（恩波利）2号：巴里乌（巴列卡诺）3号：米塔伊（莫斯科火车头）4号：海萨伊（拉齐奥）5号：阿耶蒂（克卢日）6号：吉姆西蒂（' metadata={'source': 'https://ouzhoubei.co/article-794-1.html', 'start_index': 1600}\n",
      "\n"
     ]
    }
   ],
   "source": [
    "for doc in resp[\"context\"]:\n",
    "    print(doc)\n",
    "    print()"
   ]
  },
  {
   "cell_type": "markdown",
   "id": "1b00b84c-0fe9-4d3b-9086-50bf51aa8dd1",
   "metadata": {},
   "source": [
    "### 自定义提示Customizing the prompt\n",
    "如上所示，我们可以从prompt hub加载提示（例如，此 RAG 提示）。提示也可以轻松自定义："
   ]
  },
  {
   "cell_type": "code",
   "execution_count": 21,
   "id": "c61c629c-a5f4-455d-8fe0-87151170cdd6",
   "metadata": {},
   "outputs": [
    {
     "data": {
      "text/plain": [
       "'迪马尔科是意大利国家队的。'"
      ]
     },
     "execution_count": 21,
     "metadata": {},
     "output_type": "execute_result"
    }
   ],
   "source": [
    "from langchain_core.prompts import PromptTemplate\n",
    "\n",
    "# template = \"\"\"Use the following pieces of context to answer the question at the end.\n",
    "# If you don't know the answer, just say that you don't know, don't try to make up an answer.\n",
    "# Use three sentences maximum and keep the answer as concise as possible.\n",
    "# Always say \"thanks for asking!\" at the end of the answer.\n",
    "\n",
    "# {context}\n",
    "\n",
    "# Question: {question}\n",
    "\n",
    "# Helpful Answer:\"\"\"\n",
    "\n",
    "template = \"\"\"使用以下上下文来回答最后的问题。\n",
    "如果您不知道答案，就说您不知道，不要试图编造答案。\n",
    "最多使用三句话，并尽可能简洁地回答。\n",
    "在答案的最后一定要说“谢谢询问！”。\n",
    "\n",
    "{context}\n",
    "\n",
    "问题：{question}\n",
    "\n",
    "有用的答案：\"\"\"\n",
    "\n",
    "custom_rag_prompt = PromptTemplate.from_template(template)\n",
    "\n",
    "rag_chain = (\n",
    "    {\"context\":retriever | format_docs,\"question\":RunnablePassthrough()}\n",
    "    | custom_rag_prompt\n",
    "    | llm\n",
    "    | StrOutputParser()\n",
    ")\n",
    "\n",
    "rag_chain.invoke(\"迪马尔科是哪个国家队的?\")"
   ]
  },
  {
   "cell_type": "code",
   "execution_count": null,
   "id": "f08c95ae-7ccc-490f-8abc-8e9fd146d36e",
   "metadata": {},
   "outputs": [],
   "source": []
  }
 ],
 "metadata": {
  "kernelspec": {
   "display_name": "Python 3 (ipykernel)",
   "language": "python",
   "name": "python3"
  },
  "language_info": {
   "codemirror_mode": {
    "name": "ipython",
    "version": 3
   },
   "file_extension": ".py",
   "mimetype": "text/x-python",
   "name": "python",
   "nbconvert_exporter": "python",
   "pygments_lexer": "ipython3",
   "version": "3.9.18"
  }
 },
 "nbformat": 4,
 "nbformat_minor": 5
}
