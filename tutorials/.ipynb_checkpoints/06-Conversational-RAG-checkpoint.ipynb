{
 "cells": [
  {
   "cell_type": "markdown",
   "id": "d0409be9-256b-4978-a479-a3bd8abb3ca7",
   "metadata": {},
   "source": [
    "# 对话式 RAG - Conversational RAG\n",
    "在许多问答应用程序中，我们希望允许用户进行来回对话，这意味着应用程序需要某种过去问题和答案的“记忆”，以及将这些问题和答案纳入当前思维的逻辑。\n",
    "\n",
    "在本指南中，我们重点介绍如何添加逻辑来整合历史消息。此处介绍了有关聊天记录管理的更多详细信息。\n",
    "\n",
    "我们将介绍两种方法：\n",
    "\n",
    " - 链 Chains，我们始终在其中执行检索步骤；\n",
    "\n",
    " - 代理 Agents，我们让 LLM 自行决定是否以及如何执行检索步骤（或多个步骤）。\n",
    "   "
   ]
  },
  {
   "cell_type": "code",
   "execution_count": 1,
   "id": "b7d19642-69c3-4146-a4e7-040507b030a8",
   "metadata": {},
   "outputs": [],
   "source": [
    "import os\n",
    "from dotenv import load_dotenv,find_dotenv\n",
    "\n",
    "_ = load_dotenv(find_dotenv())"
   ]
  },
  {
   "cell_type": "code",
   "execution_count": 2,
   "id": "b5d171d3-a7fc-40f2-bf5b-4c40c29e33b0",
   "metadata": {},
   "outputs": [],
   "source": [
    "from langchain_openai import ChatOpenAI\n",
    "\n",
    "llm = ChatOpenAI(\n",
    "    base_url=\"http://api.baichuan-ai.com/v1\",\n",
    "    api_key=os.environ[\"BAICHUAN_API_KEY\"],\n",
    "    model=\"Baichuan4\",\n",
    ")"
   ]
  },
  {
   "cell_type": "code",
   "execution_count": 3,
   "id": "d1a5951e-5c8b-460e-aafb-bd84b9072444",
   "metadata": {},
   "outputs": [],
   "source": [
    "from langchain_community.embeddings import BaichuanTextEmbeddings\n",
    "\n",
    "embeddings = BaichuanTextEmbeddings(baichuan_api_key=os.environ[\"BAICHUAN_API_KEY\"])"
   ]
  },
  {
   "cell_type": "code",
   "execution_count": 4,
   "id": "a18b8231-8bb9-4b6f-9a83-29c3866b9647",
   "metadata": {},
   "outputs": [],
   "source": [
    "# 安装zhipu\n",
    "# pip install zhipuai"
   ]
  },
  {
   "cell_type": "code",
   "execution_count": 5,
   "id": "1b5e4463-5c6e-42c9-a8ea-ef0b3fb41d01",
   "metadata": {},
   "outputs": [],
   "source": [
    "# from langchain_community.embeddings import ZhipuAIEmbeddings\n",
    "# # import langchain_community\n",
    "# # langchain_community.embeddings.__all__\n",
    "\n",
    "# embeddings = ZhipuAIEmbeddings()"
   ]
  },
  {
   "cell_type": "code",
   "execution_count": 6,
   "id": "225bf96f-89cb-407b-bc0f-fc5830ab05e4",
   "metadata": {},
   "outputs": [
    {
     "name": "stderr",
     "output_type": "stream",
     "text": [
      "USER_AGENT environment variable not set, consider setting it to identify your requests.\n"
     ]
    }
   ],
   "source": [
    "import bs4\n",
    "\n",
    "from langchain import hub\n",
    "from langchain.chains import create_retrieval_chain\n",
    "from langchain.chains.combine_documents import create_stuff_documents_chain\n",
    "from langchain_chroma import Chroma\n",
    "from langchain_community.document_loaders import WebBaseLoader\n",
    "from langchain_core.prompts import ChatPromptTemplate\n",
    "from langchain_text_splitters import RecursiveCharacterTextSplitter\n",
    "\n",
    "\n",
    "loader = WebBaseLoader(\n",
    "    web_paths=(\"https://ouzhoubei.co/article-794-1.html\",),\n",
    "    bs_kwargs=dict(\n",
    "        parse_only=bs4.SoupStrainer(id=(\"article_content\"))\n",
    "    )\n",
    ")\n",
    "docs = loader.load()\n",
    "\n",
    "text_splitter = RecursiveCharacterTextSplitter(chunk_size=1000,chunk_overlap=200)\n",
    "splits = text_splitter.split_documents(docs)\n",
    "vectorstore = Chroma.from_documents(documents=splits,embedding=embeddings)\n",
    "retriever = vectorstore.as_retriever()\n",
    "\n",
    "system_prompt = (\n",
    "    \"您是问答任务的助手。\"\n",
    "    \"使用以下检索到的上下文来回答问题。如果您不知道答案，请说您不知道。最多使用三句话并保持答案简洁。\"\n",
    "    \"\\n\\n\"\n",
    "    \"{context}\"\n",
    ")\n",
    "\n",
    "prompt = ChatPromptTemplate.from_messages([\n",
    "    (\"system\",system_prompt),\n",
    "    (\"human\",\"{input}\")\n",
    "])\n",
    "\n",
    "question_answer_chain = create_stuff_documents_chain(llm,prompt)\n",
    "rag_chain = create_retrieval_chain(retriever,question_answer_chain)"
   ]
  },
  {
   "cell_type": "code",
   "execution_count": 7,
   "id": "d7af69e7-1b8e-49b5-81cc-3d8bf9e8fb25",
   "metadata": {},
   "outputs": [
    {
     "data": {
      "text/plain": [
       "'意大利队有26位球员。'"
      ]
     },
     "execution_count": 7,
     "metadata": {},
     "output_type": "execute_result"
    }
   ],
   "source": [
    "response = rag_chain.invoke({\"input\": \"意大利队有多少位球员?\"})\n",
    "response[\"answer\"]"
   ]
  },
  {
   "cell_type": "markdown",
   "id": "bfb665b6-8b84-4ca5-9961-294c12997e9d",
   "metadata": {},
   "source": [
    "请注意，我们使用了内置链构造函数 create_stuff_documents_chain 和 create_retrieval_chain，因此我们的解决方案的基本要素是：\n",
    "\n",
    " - retriever\n",
    " - prompt\n",
    " - LLM\n",
    "   \n",
    "这将简化合并聊天历史记录的过程。\n",
    "\n",
    "## 添加聊天记录\n",
    "\n",
    "我们构建的链直接使用输入查询来检索相关上下文。但在对话设置中，用户查询可能需要对话上下文才能被理解。例如，考虑以下交流：\n",
    "\n",
    "> 人类：“什么是任务分解？”\n",
    ">\n",
    "> 人工智能：“任务分解涉及将复杂的任务分解为更小、更简单的步骤，以便代理或模型更易于管理。”\n",
    ">\n",
    "> 人类：“它常见的有哪些？”\n",
    "\n",
    "为了回答第二个问题，我们的系统需要理解“它”指的是“任务分解”。  \n",
    "我们需要更新现有应用的两件事：  \n",
    "\n",
    " - Prompt 提示：更新我们的提示以支持历史消息作为输入。\n",
    "\n",
    " - Contextualizing questions 情境化问题：添加一个子链，该子链接受最新的用户问题并在聊天历史的上下文中重新表述它。这可以简单地被认为是构建一个新的“历史感知”检索器。  \n",
    "   而之前我们有：\n",
    "\n",
    "   -  query查询 -> retriever检索器\n",
    "     \n",
    "      现在我们将有：\n",
    "      \n",
    "   - （query查询，conversation history对话历史）-> LLM大模型 -> rephrased query重新表述的查询 -> retriever检索器\n",
    "  \n",
    "**将问题情境化 Contextualizing the question**  \n",
    "\n",
    "首先，我们需要定义一个子链，该子链接收历史消息和最新的用户问题，并且如果问题引用了历史信息中的任何信息，则重新表述该问题。  \n",
    "\n",
    "我们将使用一个提示模板，其中包含一个名为 \"chat_history\" 的 MessagesPlaceholder 变量。  \n",
    "这使我们能够使用 \"chat_history\" 输入键向提示传递消息列表，这些消息将在系统消息之后和包含最新问题的人类消息之前插入。 \n",
    "\n",
    "请注意，我们利用辅助函数 create_history_aware_retriever 来完成此步骤，该函数管理 chat_history 为空的情况，否则按顺序应用 prompt | llm | StrOutputParser() | 检索器。  \n",
    "\n",
    "create_history_aware_retriever 构造一个链，该链接受键 input 和 chat_history 作为输入，并具有与检索器相同的输出模式。"
   ]
  },
  {
   "cell_type": "code",
   "execution_count": 8,
   "id": "962303e2-1e30-4d60-ac89-4fd89f5a6620",
   "metadata": {},
   "outputs": [],
   "source": [
    "from langchain.chains import create_history_aware_retriever\n",
    "from langchain_core.prompts import MessagesPlaceholder\n",
    "\n",
    "contextualize_q_system_prompt = (\n",
    "    \"根据聊天记录和用户最新的问题，\"\n",
    "    \"该问题可能涉及聊天历史中的上下文，\"\n",
    "    \"形成一个独立的问题，\"\n",
    "    \"这个问题是可以在不了解聊天历史的情况下被理解的。\"\n",
    "    \"不要回答这个问题，只需在需要时进行重新表述，否则保持原样返回。\"\n",
    ")\n",
    "\n",
    "contextualize_q_prompt = ChatPromptTemplate.from_messages([\n",
    "    (\"system\",contextualize_q_system_prompt),\n",
    "    MessagesPlaceholder(\"chat_history\"),\n",
    "    (\"human\",\"{input}\")\n",
    "])\n",
    "\n",
    "history_aware_retriever = create_history_aware_retriever(llm,retriever,contextualize_q_prompt)"
   ]
  },
  {
   "cell_type": "markdown",
   "id": "aef25ba9-acb5-4c54-9b75-2848e68dcc4d",
   "metadata": {},
   "source": [
    "此链将在我们的检索器前添加输入查询的改写，从而让检索过程融入对话的上下文信息。\n",
    "\n",
    "现在我们可以构建完整的QA问答链条了。这个过程很简单，只需将检索器更新为我们新创建的history_aware_retriever即可。\n",
    "\n",
    "同样，我们将使用create_stuff_documents_chain来生成一个question_answer_chain，  \n",
    "其输入键包括context（上下文）、chat_history（聊天历史）和input（输入）——它接收检索到的上下文，连同对话历史和查询一起，来生成答案。\n",
    "\n",
    "我们通过create_retrieval_chain来构建最终的RAG（检索增强生成）链条。这条链条依次应用history_aware_retriever和question_answer_chain，为了方便起见，会保留诸如检索到的上下文等中间输出。  \n",
    "该链条的输入键包括input（输入）和chat_history（聊天历史），其输出则包含input（输入）、chat_history（聊天历史）、context（上下文）和answer（答案）。"
   ]
  },
  {
   "cell_type": "code",
   "execution_count": 9,
   "id": "822ffef5-dce8-4906-8759-99494b2c65bc",
   "metadata": {},
   "outputs": [],
   "source": [
    "from langchain.chains import create_retrieval_chain\n",
    "from langchain.chains.combine_documents import create_stuff_documents_chain\n",
    "\n",
    "qa_prompt = ChatPromptTemplate.from_messages([\n",
    "    (\"system\",system_prompt),\n",
    "    MessagesPlaceholder(\"chat_history\"),\n",
    "    (\"human\",\"{input}\")\n",
    "])\n",
    "\n",
    "question_answer_chain = create_stuff_documents_chain(llm,qa_prompt)\n",
    "rag_chain = create_retrieval_chain(history_aware_retriever,question_answer_chain)"
   ]
  },
  {
   "cell_type": "markdown",
   "id": "dbbf3e71-2feb-473b-ad87-91f9bcd22f45",
   "metadata": {},
   "source": [
    "让我们尝试一下。下面我们将提出一个问题以及一个需要结合上下文才能给出合理回答的跟进问题。  \n",
    "由于我们的链条包含了一个\"chat_history\"（聊天历史）输入，调用者需要管理这个聊天历史。  \n",
    "我们可以通过将输入和输出的消息追加到一个列表中来实现这一点："
   ]
  },
  {
   "cell_type": "code",
   "execution_count": 10,
   "id": "4b7c1b8b-5595-40d2-9b43-907f2f9ac6f5",
   "metadata": {},
   "outputs": [
    {
     "name": "stdout",
     "output_type": "stream",
     "text": [
      "根据提供的信息，2024年意大利队有26位球员。\n",
      "1. 18号：巴雷拉-国际米兰\n",
      "2. 19号：雷特吉-热那亚\n",
      "3. 20号：扎卡尼-拉齐奥\n",
      "4. 21号：法乔利-尤文图斯\n",
      "5. 22号：沙拉维-罗马\n",
      "6. 23号：巴斯托尼-国际米兰\n",
      "7. 24号：坎比亚索-尤文图斯\n",
      "8. 25号：弗洛伦肖-维罗纳\n",
      "9. 26号：梅雷特-那不勒斯\n"
     ]
    }
   ],
   "source": [
    "from langchain_core.messages import AIMessage,HumanMessage\n",
    "\n",
    "chat_history = []\n",
    "\n",
    "question = \"2024年，意大利队有多少位球员?\"\n",
    "ai_msg_1 = rag_chain.invoke({\n",
    "    \"input\":question,\n",
    "    \"chat_history\":chat_history\n",
    "})\n",
    "print(ai_msg_1[\"answer\"])\n",
    "chat_history.extend([\n",
    "    HumanMessage(content=question),\n",
    "    AIMessage(content=ai_msg_1[\"answer\"])\n",
    "])\n",
    "\n",
    "question2 = \"一一列出上述这些球员信息,按照：号码-姓名-俱乐部的格式输出。\"\n",
    "ai_msg_2 = rag_chain.invoke({\n",
    "    \"input\":question2,\n",
    "    \"chat_history\":chat_history\n",
    "})\n",
    "\n",
    "print(ai_msg_2[\"answer\"])"
   ]
  },
  {
   "cell_type": "code",
   "execution_count": 11,
   "id": "b5ee6cbe-c29f-4c6e-8f81-b50d070d5573",
   "metadata": {},
   "outputs": [
    {
     "name": "stdout",
     "output_type": "stream",
     "text": [
      "来自尤文图斯的球员有两位，分别是21号的法乔利和24号的坎比亚索。\n"
     ]
    }
   ],
   "source": [
    "chat_history.extend([\n",
    "    HumanMessage(content=question2),\n",
    "    AIMessage(content=ai_msg_2[\"answer\"])\n",
    "])\n",
    "\n",
    "question3 = \"上述球员有几位来自尤文图斯，分别是谁\"\n",
    "ai_msg_3 = rag_chain.invoke({\n",
    "    \"input\":question3,\n",
    "    \"chat_history\":chat_history\n",
    "})\n",
    "\n",
    "print(ai_msg_3[\"answer\"])"
   ]
  },
  {
   "cell_type": "markdown",
   "id": "1c43fd96-dbdd-4068-aaf2-cf80e49e124e",
   "metadata": {},
   "source": [
    "**聊天记录的状态管理**  \n",
    "\n",
    "这里我们介绍了如何添加应用程序逻辑来整合历史输出，但我们仍在手动更新聊天记录并将其插入到每个输入中。  \n",
    "在真正的问答应用程序中，我们需要某种方式来保存聊天记录，以及某种方式来自动插入和更新它。\n",
    "\n",
    "为此，我们可以使用以下两个组件：\n",
    "\n",
    " - **BaseChatMessageHistory**：用来存储聊天历史记录。这个类允许你保存和管理对话中的一系列消息，这对于构建有状态的对话系统至关重要，因为它可以帮助模型理解会话的上下文。\n",
    "\n",
    " - **RunnableWithMessageHistory**：这是一个包装器，它将一个LCEL（LangChain 表达语言）和一个BaseChatMessageHistory结合在一起，负责在每次调用输入时注入聊天历史，并在每次调用后更新历史记录。这个类简化了将聊天历史（即记忆）集成到对话逻辑中的过程，确保模型在生成响应时能考虑到之前的对话内容。\n",
    "\n",
    "下面，我们实现第二个选项的一个简单示例，其中聊天历史记录存储在一个简单的字典中。LangChain 管理与 Redis 和其他技术的内存集成，以提供更强大的持久性。\n",
    "\n",
    "RunnableWithMessageHistory 的实例为您管理聊天历史记录。  \n",
    "它们接受带有键（默认为“session_id”）的配置，该键指定要获取并添加到输入中的对话历史记录，并将输出附加到相同的对话历史记录。  \n",
    "以下是一个例子："
   ]
  },
  {
   "cell_type": "code",
   "execution_count": 12,
   "id": "0d842a3e-e455-4114-bbcb-d19cd70ba7c7",
   "metadata": {},
   "outputs": [],
   "source": [
    "from langchain_community.chat_message_histories import ChatMessageHistory\n",
    "from langchain_core.chat_history import BaseChatMessageHistory\n",
    "from langchain_core.runnables.history import RunnableWithMessageHistory\n",
    "\n",
    "store = {}\n",
    "\n",
    "def get_session_history(session_id:str) -> BaseChatMessageHistory:\n",
    "    if session_id not in store:\n",
    "        store[session_id] = ChatMessageHistory()\n",
    "    return store[session_id]\n",
    "\n",
    "conversational_rag_chain = RunnableWithMessageHistory(\n",
    "    rag_chain,\n",
    "    get_session_history,\n",
    "    input_messages_key=\"input\",\n",
    "    history_messages_key=\"chat_history\",\n",
    "    output_messages_key=\"answer\"\n",
    ")"
   ]
  },
  {
   "cell_type": "code",
   "execution_count": 29,
   "id": "9801ec1d-3f69-4f39-b6f4-87f12137f880",
   "metadata": {},
   "outputs": [
    {
     "name": "stderr",
     "output_type": "stream",
     "text": [
      "Parent run 62a85673-ec23-49df-a705-6e25f6eadeb0 not found for run a6b4153e-c1cd-4f85-99ea-bc03d2cc863e. Treating as a root run.\n"
     ]
    },
    {
     "data": {
      "text/plain": [
       "'2024年，意大利队共有26位球员参加欧洲杯。'"
      ]
     },
     "execution_count": 29,
     "metadata": {},
     "output_type": "execute_result"
    }
   ],
   "source": [
    "conversational_rag_chain.invoke(\n",
    "    {\"input\":\"2024年，意大利队有多少位球员?\"},\n",
    "    config={\"configurable\":{\n",
    "        \"session_id\":\"s1\"\n",
    "    }}\n",
    ")[\"answer\"]"
   ]
  },
  {
   "cell_type": "code",
   "execution_count": 30,
   "id": "8cf3807e-9e90-436c-bc99-6ec1e5e4dd08",
   "metadata": {},
   "outputs": [
    {
     "name": "stderr",
     "output_type": "stream",
     "text": [
      "Parent run 7713e991-3b3a-4352-9a89-36abcbb20097 not found for run ef257927-b986-4cb1-b7fa-9b633e13e98c. Treating as a root run.\n"
     ]
    },
    {
     "data": {
      "text/plain": [
       "'1号：多纳鲁马（巴黎圣日耳曼）2号：迪洛伦佐（那不勒斯）3号：托洛伊（亚特兰大）4号：斯皮纳佐拉（罗马）5号：阿切尔比（国际米兰）6号：博努奇（尤文图斯）7号：弗洛伦齐（AC米兰）8号：若日尼奥（阿森纳）9号：贝洛蒂（罗马）10号：因西涅（那不勒斯）11号：因莫比莱（拉齐奥）12号：戈里尼（热刺）13号：埃默森（切尔西）14号：克里斯坦特（罗马）15号：阿斯科尼（亚特兰大）16号：佩西纳（亚特兰大）17号：基耶萨（尤文图斯）18号：巴雷拉（国际米兰）19号：雷特吉（热那亚）20号：扎卡尼（拉齐奥）21号：法乔利（尤文图斯）22号：沙拉维（罗马）23号：巴斯托尼（国际米兰）24号：坎比亚索（尤文图斯）25号：弗洛伦肖（维罗纳）26号：梅雷特（那不勒斯）'"
      ]
     },
     "execution_count": 30,
     "metadata": {},
     "output_type": "execute_result"
    }
   ],
   "source": [
    "conversational_rag_chain.invoke(\n",
    "    {\"input\":\"一一列出上述这些球员信息,按照：号码-姓名-俱乐部的格式输出。\"},\n",
    "    config={\"configurable\":{\"session_id\":\"s1\"}}\n",
    ")[\"answer\"]"
   ]
  },
  {
   "cell_type": "code",
   "execution_count": 31,
   "id": "d4caca25-84c1-4d93-82a3-3a616d97c231",
   "metadata": {},
   "outputs": [
    {
     "name": "stderr",
     "output_type": "stream",
     "text": [
      "Parent run b79e22d6-c1cc-4d70-8690-0b992e2a3772 not found for run 563b8114-d97b-49a0-aaad-0d9c412e5971. Treating as a root run.\n"
     ]
    },
    {
     "data": {
      "text/plain": [
       "'来自尤文图斯的球员有四位，分别是：博努奇、基耶萨、巴雷拉和坎比亚索。'"
      ]
     },
     "execution_count": 31,
     "metadata": {},
     "output_type": "execute_result"
    }
   ],
   "source": [
    "conversational_rag_chain.invoke(\n",
    "    {\"input\":\"上述球员有几位来自尤文图斯，分别是谁?\"},\n",
    "    config={\"configurable\":{\"session_id\":\"s1\"}}\n",
    ")[\"answer\"]"
   ]
  },
  {
   "cell_type": "markdown",
   "id": "511ca25e-4303-4a6d-8802-d69a9cfdafcd",
   "metadata": {},
   "source": [
    "可以在store中检查对话历史记录："
   ]
  },
  {
   "cell_type": "code",
   "execution_count": 16,
   "id": "fc181a8d-837f-4085-bd4f-859cc6f0324a",
   "metadata": {},
   "outputs": [
    {
     "name": "stdout",
     "output_type": "stream",
     "text": [
      "User:意大利队有多少位球员? \n",
      "\n",
      "AI:意大利队有26位球员。 \n",
      "\n",
      "User:一一列出上述这些球员信息,按照：号码-姓名-俱乐部的格式输出。 \n",
      "\n",
      "AI:18号：巴雷拉（国际米兰）19号：雷特吉（热那亚）20号：扎卡尼（拉齐奥）21号：法乔利（尤文图斯）22号：沙拉维（罗马）23号：巴斯托尼（国际米兰）24号：坎比亚索（尤文图斯）25号：弗洛伦肖（维罗纳）26号：梅雷特（那不勒斯） \n",
      "\n",
      "User:上述球员有几位来自尤文图斯，分别是谁? \n",
      "\n",
      "AI:上述球员中有两位来自尤文图斯，分别是21号法乔利和24号坎比亚索。 \n",
      "\n"
     ]
    }
   ],
   "source": [
    "for message in store[\"s1\"].messages:\n",
    "    if isinstance(message,AIMessage):\n",
    "        prefix = \"AI\"\n",
    "    else:\n",
    "        prefix = \"User\"\n",
    "    print(f\"{prefix}:{message.content} \\n\")"
   ]
  },
  {
   "cell_type": "markdown",
   "id": "af66be89-a8ed-4fe1-bde2-f75199fcef05",
   "metadata": {},
   "source": [
    "为了方便起见，我们将所有必要的步骤整合到一个代码单元中："
   ]
  },
  {
   "cell_type": "code",
   "execution_count": 17,
   "id": "f4e76efb-3211-4384-b0e9-d820b16efca6",
   "metadata": {},
   "outputs": [],
   "source": [
    "import bs4\n",
    "from langchain.chains import create_history_aware_retriever,create_retrieval_chain\n",
    "from langchain.chains.combine_documents import create_stuff_documents_chain\n",
    "from langchain_chroma import Chroma\n",
    "from langchain_community.chat_message_histories import ChatMessageHistory\n",
    "from langchain_community.document_loaders import WebBaseLoader\n",
    "from langchain_core.chat_history import BaseChatMessageHistory\n",
    "from langchain_core.prompts import ChatPromptTemplate,MessagesPlaceholder\n",
    "from langchain_core.runnables.history import RunnableWithMessageHistory\n",
    "from langchain_openai import ChatOpenAI\n",
    "from langchain_text_splitters import RecursiveCharacterTextSplitter\n",
    "from langchain_community.embeddings import BaichuanTextEmbeddings\n",
    "\n",
    "llm = ChatOpenAI(\n",
    "    base_url=\"http://api.baichuan-ai.com/v1\",\n",
    "    api_key=os.environ[\"BAICHUAN_API_KEY\"],\n",
    "    model=\"Baichuan4\",\n",
    "    temperature=0,\n",
    ")\n",
    "embeddings = BaichuanTextEmbeddings(baichuan_api_key=os.environ[\"BAICHUAN_API_KEY\"])\n",
    "\n",
    "loader = WebBaseLoader(\n",
    "    web_paths=(\"https://ouzhoubei.co/article-794-1.html\",),\n",
    "    bs_kwargs=dict(\n",
    "        parse_only=bs4.SoupStrainer(id=(\"article_content\",))\n",
    "    )\n",
    ")\n",
    "docs = loader.load()\n",
    "\n",
    "text_splitter = RecursiveCharacterTextSplitter(chunk_size=800,chunk_overlap=100)\n",
    "splits = text_splitter.split_documents(docs)\n",
    "vectorstore = Chroma.from_documents(documents=splits,embedding=embeddings)\n",
    "retriever = vectorstore.as_retriever()\n",
    "\n",
    "### 有语境的问题 ###\n",
    "contextualize_q_system_prompt = (\n",
    "    \"根据聊天记录及用户最新的问题\"\n",
    "    \"该问题可能涉及聊天记录中的上下文信息，重新构思一个独立的问题，\"\n",
    "    \"使其能够在不参考聊天历史的情况下被理解。\"\n",
    "    \"不要直接回答问题，而是在需要时对其进行重新表述，否则直接按原样返回问题。\"\n",
    ")\n",
    "\n",
    "contextuallize_q_prompt = ChatPromptTemplate.from_messages([\n",
    "    (\"system\",contextualize_q_system_prompt),\n",
    "    MessagesPlaceholder(\"chat_history\"),\n",
    "    (\"human\",\"{input}\")\n",
    "])\n",
    "history_aware_retriever = create_history_aware_retriever(llm,retriever,contextualize_q_prompt)\n",
    "\n",
    "### 回答问题 ###\n",
    "system_prompt = (\n",
    "    \"您是问答任务的助手。\"\n",
    "    \"使用以下检索到的上下文来回答问题。\"\n",
    "    \"如果您不知道答案，就说您不知道。\"\n",
    "    \"最多使用三句话，并保持答案简洁。\"\n",
    "    \"\\n\\n\"\n",
    "    \"{context}\"\n",
    ")\n",
    "qa_prompt = ChatPromptTemplate.from_messages([\n",
    "    (\"system\",system_prompt),\n",
    "    MessagesPlaceholder(\"chat_history\"),\n",
    "    (\"human\",\"{input}\")\n",
    "])\n",
    "question_answer_chain = create_stuff_documents_chain(llm,qa_prompt)\n",
    "rag_chain = create_retrieval_chain(history_aware_retriever,question_answer_chain)\n",
    "\n",
    "### 状态化管理聊天记录 ###\n",
    "store = {}\n",
    "\n",
    "def get_session_hisotry(session_id:str) -> BaseChatMessageHistory:\n",
    "    if session_id not in store:\n",
    "        store[session_id] = ChatMessageHistory()\n",
    "    return store[session_id]\n",
    "\n",
    "conversational_rag_chain = RunnableWithMessageHistory(\n",
    "    rag_chain,\n",
    "    get_session_history,\n",
    "    input_messages_key=\"input\",\n",
    "    history_messages_key=\"chat_history\",\n",
    "    output_messages_key=\"answer\"\n",
    ")"
   ]
  },
  {
   "cell_type": "code",
   "execution_count": 18,
   "id": "927eee8e-d338-4c68-8e41-5112a841865b",
   "metadata": {},
   "outputs": [],
   "source": [
    "config = {\n",
    "    \"configurable\":{\n",
    "        \"session_id\":\"s2\"\n",
    "    }\n",
    "}"
   ]
  },
  {
   "cell_type": "code",
   "execution_count": 19,
   "id": "e7d17698-173a-42e8-acbb-fe411b99ef3b",
   "metadata": {},
   "outputs": [
    {
     "name": "stderr",
     "output_type": "stream",
     "text": [
      "Parent run 0cda3c2e-0fb6-4c4c-bf70-ccf26d915e55 not found for run c48b43de-f344-4b6a-aa0d-c644818326f2. Treating as a root run.\n"
     ]
    },
    {
     "data": {
      "text/plain": [
       "'在2024年的欧洲杯中，意大利队有26位球员。'"
      ]
     },
     "execution_count": 19,
     "metadata": {},
     "output_type": "execute_result"
    }
   ],
   "source": [
    "conversational_rag_chain.invoke(\n",
    "    {\"input\":\"2024年，意大利队有多少位球员?\"},\n",
    "    config=config\n",
    ")[\"answer\"]"
   ]
  },
  {
   "cell_type": "code",
   "execution_count": 20,
   "id": "851bc7d1-cf53-40eb-9348-26ca1bd5fed3",
   "metadata": {},
   "outputs": [
    {
     "name": "stderr",
     "output_type": "stream",
     "text": [
      "Parent run 152c17a4-ed5e-401f-a8e0-3a3ab60bcc97 not found for run a8b5b0a4-056d-4cb6-aba9-cfae56802fb0. Treating as a root run.\n"
     ]
    },
    {
     "data": {
      "text/plain": [
       "'1. 1号-多纳鲁马-巴黎圣日耳曼\\n2. 2号-迪洛伦佐-那不勒斯\\n3. 3号-迪马尔科-国际米兰\\n4. 4号-布翁乔尔诺-都灵\\n5. 5号-卡拉菲奥里-博洛尼亚\\n6. 6号-加蒂-尤文图斯\\n7. 7号-弗拉泰西-国际米兰\\n8. 8号-若日尼奥-阿森纳\\n9. 9号-斯卡马卡-亚特兰大\\n10. 10号-佩莱格里尼-罗马\\n11. 11号-拉斯帕多里-那不勒斯\\n12. 12号-维卡里奥-热刺\\n13. 13号-达米安-国际米兰\\n14. 14号-基耶萨-尤文图斯\\n15. 15号-贝拉诺瓦-都灵\\n16. 16号-克里斯坦特-罗马\\n17. 17号-曼奇尼-罗马\\n18. 18号-巴雷拉-国际米兰\\n19. 19号-雷特吉-热那亚\\n20. 20号-扎卡尼-拉齐奥\\n21. 21号-法乔利-尤文图斯\\n22. 22号-沙拉维-罗马\\n23. 23号-巴斯托尼-国际米兰\\n24. 24号-坎比亚索-尤文图斯\\n25. 25号-弗洛伦肖-维罗纳\\n26. 26号-梅雷特-那不勒斯'"
      ]
     },
     "execution_count": 20,
     "metadata": {},
     "output_type": "execute_result"
    }
   ],
   "source": [
    "conversational_rag_chain.invoke(\n",
    "    {\"input\":\"一一列出上述这些球员信息,按照：号码-姓名-俱乐部的格式输出。\"},\n",
    "    config=config\n",
    ")[\"answer\"]"
   ]
  },
  {
   "cell_type": "code",
   "execution_count": 21,
   "id": "1e04c3f3-1146-471e-9486-4e41c100d4c7",
   "metadata": {},
   "outputs": [
    {
     "name": "stderr",
     "output_type": "stream",
     "text": [
      "Parent run 639bd177-ade2-47f9-b36e-8a67f9fc0e88 not found for run 904df575-5e25-47ea-b296-2de8aaa2f3cc. Treating as a root run.\n"
     ]
    },
    {
     "data": {
      "text/plain": [
       "'有四位球员来自尤文图斯，分别是：6号-加蒂、14号-基耶萨、21号-法乔利和24号-坎比亚索。'"
      ]
     },
     "execution_count": 21,
     "metadata": {},
     "output_type": "execute_result"
    }
   ],
   "source": [
    "conversational_rag_chain.invoke(\n",
    "    {\"input\":\"有几位球员来自尤文图斯，分别是谁?\"},\n",
    "    config=config\n",
    ")[\"answer\"]"
   ]
  },
  {
   "cell_type": "markdown",
   "id": "de972f29-f52a-49e0-8d58-61d36604a544",
   "metadata": {},
   "source": [
    "## 代理 Agents\n",
    "\n",
    "代理（Agents）利用大型语言模型（LLMs）的推理能力在执行过程中作出决策。  \n",
    "使用代理允许你将检索过程的部分自主权转移出去。  \n",
    "尽管它们的行为比链条（chains）更难以预测，但在某些情况下，它们提供了一些优势：\n",
    "\n",
    " - 代理直接生成传递给检索器的输入，不必像上面那样明确地构建上下文关联；   \n",
    "   这意味着代理能够更加灵活地根据当前情境生成查询指令，而无需人工详细定义每次检索的上下文背景。\n",
    "\n",
    " - 代理可以根据查询需求执行多个检索步骤，或者根据情况完全跳过检索步骤（例如，当用户发出一般性的问候时）。  \n",
    "   这种灵活性使得代理能够更智能地适应不同场景，比如在需要深入信息搜索时连续执行检索，或在识别到简单互动时直接响应，无需进一步检索信息。\n",
    "\n",
    "综上所述，代理通过动态生成检索指令和自适应调整检索策略，为交互过程提供了更高层次的动态性和智能性。\n",
    "\n",
    "### 检索工具 Retrieval tool\n",
    "\n",
    "代理可以访问“工具”并管理其执行。在这种情况下，我们将把检索器retriever转换为 LangChain 工具，供代理使用："
   ]
  },
  {
   "cell_type": "code",
   "execution_count": 22,
   "id": "bb7f5973-3cf9-49ab-9ee0-eabab649efed",
   "metadata": {},
   "outputs": [],
   "source": [
    "from langchain.tools.retriever import create_retriever_tool\n",
    "\n",
    "tool = create_retriever_tool(\n",
    "    retriever,\n",
    "    \"2024年欧洲杯各球队球衣号码汇总\",\n",
    "    \"搜索并返回2024年欧洲杯各球队球衣号码文章的摘录。\"\n",
    ")\n",
    "tools = [tool]"
   ]
  },
  {
   "cell_type": "markdown",
   "id": "333ce132-717c-429e-a018-43f6139856c4",
   "metadata": {},
   "source": [
    "工具是指LangChain可运行组件，它们实现了通常的接口。"
   ]
  },
  {
   "cell_type": "code",
   "execution_count": 23,
   "id": "13ec539b-55a2-4aa2-8778-f415f0936cac",
   "metadata": {},
   "outputs": [
    {
     "data": {
      "text/plain": [
       "'莱德红星）25号：姆拉德诺维奇（帕纳辛奈科斯）26号：比曼切维奇（布拉格斯巴达）2024年欧洲杯英格兰球员号码：1号：皮克福德（埃弗顿）2号：沃克（曼城）3号：卢克·肖（曼联）4号：赖斯（阿森纳）5号：斯通斯（曼城）6号：格伊（水晶宫）7号：萨卡（阿森纳）8号：阿诺德（利物浦）9号：凯恩（拜仁）10号：贝林厄姆（皇马）11号：福登（曼城）12号：特里皮尔（纽卡）13号：拉姆斯代尔（阿森纳）14号：孔萨（维拉）15号：邓克（布莱顿）16号：加拉格尔（切尔西）17号：伊万·托尼（布伦特福德）18号：安东尼·戈登（纽卡）19号：沃特金斯（阿斯顿维拉）20号：鲍文（西汉姆）21号：埃泽（水晶宫）22号：戈麦斯（利物浦）23号：迪恩·亨德森（水晶宫）24号：帕尔默（切尔西）25号：沃顿（水晶宫）26号：梅努（曼联）【2024年欧洲杯小组赛D组】2024年欧洲杯波兰球员号码：1号：什琴斯尼（尤文图斯）2号：萨拉蒙（波兹南莱赫）3号：达维多维茨（维罗纳）4号：瓦卢基维茨（恩波利）5号：贝德纳雷克（南安普顿）6号：皮奥特洛夫斯基（卢多戈雷茨）7号：希维德尔斯基（维罗纳）8号：莫德尔（布莱顿）9号：莱万多夫斯基（巴萨）10号：泽林斯基（那不勒斯）11号：格罗西茨基（什切青波贡）12号：斯科鲁普斯基（博洛尼亚）13号：罗曼丘克（乔治罗尼亚）14号：基维奥尔（阿森纳）15号：蒂莫特斯·普沙茨（凯泽斯劳滕）16号：布克萨（安塔利亚体育）17号：希曼斯基（雅典AEK）18号：贝雷申斯基（恩波利）19号：弗兰科夫斯基（朗斯）20号：希曼斯基（费内巴切）21号：扎莱夫斯基（罗马）22号：布尔卡（尼斯）23号：皮亚特克（伊斯坦布尔）24号：斯利兹（亚特兰大联）25号：斯科拉斯（布鲁日）26号：乌尔班斯基（博洛尼亚）2024年欧洲杯荷兰球员号码：1号：维尔布鲁根（布莱顿）2号：海特勒伊达（费耶诺德）3号：德里赫特（拜仁慕尼黑）4号：范迪克（利物浦）5号：阿克（曼城）6号：德弗里（国际米兰）7号：哈维·西蒙斯（莱比锡）8号：维纳尔杜姆（达曼协作）9号：韦霍斯特（霍芬海姆）10号：德佩（马德里竞技）11号：加克波（利物浦）12号：弗林蓬（勒沃库森）13号：拜洛（费耶诺德）14号：赖因德斯（AC米兰）15号：范德文（热刺）16号：威尔曼（埃因霍温）17号：布林德（赫罗纳）18号：马伦（多特蒙德）19号：布\\n\\n奇（RB莱比锡）2号：亚当·朗（奥莫尼亚）3号：巴洛格（帕尔马）4号：阿提拉·绍洛伊（弗赖堡）5号：菲奥拉（费赫尔瓦尔）6号：奥尔班（莱比锡）7号：内戈（勒阿弗尔）8号：亚当·纳吉（斯佩齐亚）9号：亚当（蔚山HD）10号：索博斯洛伊（利物浦）11号：科尔克兹（伯恩茅斯）12号：迪布什（费伦茨瓦罗斯）13号：舍弗尔（柏林联合）14号：博拉（塞尔维特）15号：克莱因海斯勒（哈伊杜克）16号：加兹道格（费城联合）17号：斯泰尔斯（桑德兰）18号：佐尔特·纳吉（普斯卡什学院）19号：瓦尔加（费伦茨瓦罗斯）20号：罗兰·绍洛伊（弗赖堡）21号：博特卡（费伦茨瓦罗斯）22号：斯扎帕诺斯（保克什）23号：科索博什（乌比斯迪）24号：达尔代（柏林赫塔）25号：霍瓦特（凯奇凯梅特）26号：卡塔（MTK布达佩斯）2024年欧洲杯苏格兰球员号码：1号：冈恩（诺维奇）2号：拉尔斯顿（凯尔特人）3号：罗伯逊（利物浦）4号：麦克托米奈（曼联）5号：汉利（诺维奇）6号：蒂尔尼（皇家社会）7号：麦金（阿斯顿维拉）8号：麦格雷戈（凯尔特人）9号：香克兰德（哈茨）10号：亚当斯（南安普顿）11号：克里斯蒂（伯恩茅斯）12号：凯利（马瑟威尔）13号：亨德利（达曼协作）14号：吉尔莫（布莱顿）15号：波蒂厄斯（沃特福德）16号：库珀（利兹联）17号：阿姆斯特朗（南安普顿）18号：摩根（纽约公牛）19号：康威（布里斯托尔城）20号：杰克（格拉斯格流浪者）21号：克拉克（哈茨）22号：麦克罗里（布里斯托尔城）23号：麦克连恩（诺维奇）24号：泰勒（凯尔特人）25号：福雷斯特（凯尔特人）26号：麦肯纳（哥本哈根）【2024年欧洲杯小组赛B组】2024年欧洲杯西班牙球员号码：1号：拉亚（阿森纳）2号：卡瓦哈尔（皇家马德里）3号：勒诺尔芒（皇家社会）4号：纳乔（皇家马德里）5号：达尼·维维安（毕尔巴鄂竞技）6号：梅里诺（皇\\n\\n（汉堡）12号：罗达克（富勒姆）13号：赫罗索夫斯基（亨克）14号：什克里尼亚尔（巴黎圣日耳曼）15号：德马尔科（哈塔）16号：汉茨科（费耶诺德）17号：哈拉斯林（布拉格斯巴达）18号：斯特雷莱茨 （布拉迪斯拉发）19号：库茨卡（布拉迪斯拉发）20号：杜里斯（阿斯科利）21号：贝罗（波鸿）22号：洛博特卡（那不勒斯）23号：拉瓦斯（新英格兰革命）24号：绍尔（费耶诺德）25号：科萨（特尔纳瓦斯巴达）26号：施兰茨（布拉格斯拉维亚）2024年欧洲杯罗马尼亚球员号码：1号：尼塔（加济安泰普）2号：拉提乌（巴列卡诺）3号：德拉古辛（热刺）4号：鲁斯（帕福斯）5号：内德尔恰鲁（巴勒莫）6号：马里乌斯·马林（比萨）7号：阿利贝克（穆阿特尔）8号：西卡尔达乌（科尼亚体育）9号：普斯卡斯（巴里）10号：哈吉（阿拉维斯）11号：班库（克拉约瓦大学）12号：摩尔多万（马德里竞技）13号：米哈伊拉\\n\\n（汉堡）12号：罗达克（富勒姆）13号：赫罗索夫斯基（亨克）14号：什克里尼亚尔（巴黎圣日耳曼）15号：德马尔科（哈塔）16号：汉茨科（费耶诺德）17号：哈拉斯林（布拉格斯巴达）18号：斯特雷莱茨 （布拉迪斯拉发）19号：库茨卡（布拉迪斯拉发）20号：杜里斯（阿斯科利）21号：贝罗（波鸿）22号：洛博特卡（那不勒斯）23号：拉瓦斯（新英格兰革命）24号：绍尔（费耶诺德）25号：科萨（特尔纳瓦斯巴达）26号：施兰茨（布拉格斯拉维亚）2024年欧洲杯罗马尼亚球员号码：1号：尼塔（加济安泰普）2号：拉提乌（巴列卡诺）3号：德拉古辛（热刺）4号：鲁斯（帕福斯）5号：内德尔恰鲁（巴勒莫）6号：马里乌斯·马林（比萨）7号：阿利贝克（穆阿特尔）8号：西卡尔达乌（科尼亚体育）9号：普斯卡斯（巴里）10号：哈吉（阿拉维斯）11号：班库（克拉约瓦大学）12号：摩尔多万（马德里竞技）13号：米哈伊拉'"
      ]
     },
     "execution_count": 23,
     "metadata": {},
     "output_type": "execute_result"
    }
   ],
   "source": [
    "tool.invoke(\"一一列出2024年，意大利队球员信息,按照：号码-姓名-俱乐部的格式输出。\")"
   ]
  },
  {
   "cell_type": "markdown",
   "id": "32b8fae8-c4f8-483f-ab6a-4f79a2a82605",
   "metadata": {},
   "source": [
    "### 代理构造函数 Agent constructor\n",
    "\n",
    "现在我们已经定义了工具和LLM（大型语言模型），接下来可以创建代理（Agent）了。我们将使用LangGraph来构建这个代理。  \n",
    "目前，我们采用了一个高层级的接口来构造代理，但LangChain的一个优点是，这个高层级接口背后有一个低层级、高度可控的API支持。  \n",
    "这意味着如果你希望修改代理的逻辑或行为，完全可以深入到更低的层次进行定制和调整。  \n",
    "这样的设计既提供了便捷的快速构建能力，又保持了足够的灵活性以满足复杂的定制需求。"
   ]
  },
  {
   "cell_type": "code",
   "execution_count": 24,
   "id": "7111e8b5-1c90-4f4a-9675-e2ac7095aad5",
   "metadata": {},
   "outputs": [],
   "source": [
    "from langgraph.prebuilt import create_react_agent\n",
    "\n",
    "agent_executor = create_react_agent(llm,tools)"
   ]
  },
  {
   "cell_type": "markdown",
   "id": "98e17dd3-21ac-4c2e-ad5f-ebe888d5124e",
   "metadata": {},
   "source": [
    "我们现在可以尝试一下。请注意，到目前为止它还不是有状态的（我们仍然需要添加内存）"
   ]
  },
  {
   "cell_type": "code",
   "execution_count": 25,
   "id": "3f338dbd-a6d9-42ea-89df-94ff7a8ad6ac",
   "metadata": {},
   "outputs": [
    {
     "name": "stdout",
     "output_type": "stream",
     "text": [
      "{'agent': {'messages': [AIMessage(content='', additional_kwargs={'tool_calls': [{'id': 'ec91016JF97oW8x', 'function': {'arguments': '{\"query\": \"2024年意大利队欧洲杯球员名单\"}', 'name': '2024年欧洲杯各球队球衣号码汇总'}, 'type': 'function'}]}, response_metadata={'token_usage': {'completion_tokens': 34, 'prompt_tokens': 314, 'total_tokens': 348}, 'model_name': 'Baichuan4', 'system_fingerprint': None, 'finish_reason': 'tool_calls', 'logprobs': None}, id='run-11dcaa6a-6c6b-47bb-b40c-188f526b65f0-0', tool_calls=[{'name': '2024年欧洲杯各球队球衣号码汇总', 'args': {'query': '2024年意大利队欧洲杯球员名单'}, 'id': 'ec91016JF97oW8x'}], usage_metadata={'input_tokens': 314, 'output_tokens': 34, 'total_tokens': 348})]}}\n",
      "---\n",
      "{'tools': {'messages': [ToolMessage(content='林联合）23号：伊武希奇（帕福斯）24号：马尔科·帕萨利奇（里耶卡）25号：苏契奇（萨尔茨堡红牛）26号：巴图里纳（萨格勒布迪纳摩）2024年欧洲杯意大利球员号码：1号：多纳鲁马（巴黎圣日耳曼）2号：迪洛伦佐（那不勒斯）3号：迪马尔科（国际米兰）4号：布翁乔尔诺（都灵）5号：卡拉菲奥里（博洛尼亚）6号：加蒂（尤文图斯）7号：弗拉泰西（国际米兰）8号：若日尼奥（阿森纳）9号：斯卡马卡（亚特兰大）10号：佩莱格里尼（罗马）11号：拉斯帕多里（那不勒斯）12号：维卡里奥（热刺）13号：达米安（国际米兰）14号：基耶萨（尤文图斯）15号：贝拉诺瓦（都灵）16号：克里斯坦特（罗马）17号：曼奇尼（罗马）18号：巴雷拉（国际米兰）19号：雷特吉（热那亚）20号：扎卡尼（拉齐奥）21号：法乔利（尤文图斯）22号：沙拉维（罗马）23号：巴斯托尼（国际米兰）24号：坎比亚索（尤文图斯）25号：弗洛伦肖（维罗纳）26号：梅雷特（那不勒斯）2024年欧洲杯阿尔巴尼亚球员号码：1号：贝里沙（恩波利）2号：巴里乌（巴列卡诺）3号：米塔伊（莫斯科火车头）4号：海萨伊（拉齐奥）5号：阿耶蒂（克卢日）6号：吉姆西蒂（亚特兰大）7号：马纳伊（锡瓦斯体育）8号：贾苏拉（达姆施塔特）9号：阿萨尼（光州FC）10号：巴伊拉米（萨索洛）11号：布罗亚（富勒姆）12号：卡斯特拉蒂（奇塔代拉）13号：米哈伊（法马利康）14号：拉奇（布拉格斯巴达）15号：塞费里（班尼亚斯）16号：贝里沙（莱切）17号：穆奇（贝西克塔斯）18号：伊斯梅杰里（恩波利）19号：达库（喀山红宝石）20号：拉马达尼（莱切）21号：阿斯拉尼（国米）22号：阿布拉什（草蜢）23号：斯特拉科沙（布伦特福德）24号：库姆布拉（萨索洛）25号：阿利吉（沃伦塔利）26号：霍查（萨格勒布迪纳摩）【2024年欧洲杯小组赛C组】2024年欧洲杯斯洛文尼亚球员号码：\\n\\n18号：巴雷拉（国际米兰）19号：雷特吉（热那亚）20号：扎卡尼（拉齐奥）21号：法乔利（尤文图斯）22号：沙拉维（罗马）23号：巴斯托尼（国际米兰）24号：坎比亚索（尤文图斯）25号：弗洛伦肖（维罗纳）26号：梅雷特（那不勒斯）2024年欧洲杯阿尔巴尼亚球员号码：1号：贝里沙（恩波利）2号：巴里乌（巴列卡诺）3号：米塔伊（莫斯科火车头）4号：海萨伊（拉齐奥）5号：阿耶蒂（克卢日）6号：吉姆西蒂（亚特兰大）7号：马纳伊（锡瓦斯体育）8号：贾苏拉（达姆施塔特）9号：阿萨尼（光州FC）10号：巴伊拉米（萨索洛）11号：布罗亚（富勒姆）12号：卡斯特拉蒂（奇塔代拉）13号：米哈伊（法马利康）14号：拉奇（布拉格斯巴达）15号：塞费里（班尼亚斯）16号：贝里沙（莱切）17号：穆奇（贝西克塔斯）18号：伊斯梅杰里（恩波利）19号：达库（喀山红宝石）20号：拉马达尼（莱切）21号：阿斯拉尼（国米）22号：阿布拉什（草蜢）23号：斯特拉科沙（布伦特福德）24号：库姆布拉（萨索洛）25号：阿利吉（沃伦塔利）26号：霍查（萨格勒布迪纳摩）【2024年欧洲杯小组赛C组】2024年欧洲杯斯洛文尼亚球员号码：1号：奥布拉克（马德里竞技）2号：卡尔尼奇尼克（采列）3号：巴尔科维奇（阿拉尼亚体育）4号：布拉日奇（波兹南莱赫）5号：斯坦科维奇（格拉茨风暴）6号：比约尔（乌迪内斯）7号：韦尔比奇（帕纳辛奈科斯）8号：洛夫里奇（乌迪内斯）9号：斯波拉尔（帕纳辛奈科斯）10号：埃尔什尼克（卢布尔雅那奥林匹亚）11号：塞斯科（RB莱比锡）12号：贝莱克（希腊人竞技）13号：扬扎（扎布热矿工）14号：库尔蒂奇（南蒂罗尔）15号：霍尔瓦特（格拉茨风暴）16号：韦基奇（瓦埃勒）17号：马拉卡尔（比萨）18号：维波特尼克（波尔多）19号：塞拉尔（卢加诺）20号：斯托扬诺维奇（桑普多利亚）21号：德尔库希奇（索契）22号：采林（帕纳辛奈科斯）23号：布雷卡洛（奥兰多城）24号：茹格利（博多格林特）25号：泽利科维奇（特尔纳瓦斯巴达）26号：伊利契奇（马里博尔）2024年欧洲杯丹麦球员号码：1号：舒梅切尔（安德莱赫特）2号：安德森（水晶宫）3号：维斯特高（莱斯特城）4号：克亚尔（AC米兰）5号：梅勒（沃尔夫斯堡）6号：安德烈亚斯·克里斯滕森（巴萨）7号：延森（布伦特福德）8号：德莱尼（安德莱赫特）9号：霍伊伦德（曼\\n\\n号：阿布拉什（草蜢）23号：斯特拉科沙（布伦特福德）24号：库姆布拉（萨索洛）25号：阿利吉（沃伦塔利）26号：霍查（萨格勒布迪纳摩）【2024年欧洲杯小组赛C组】2024年欧洲杯斯洛文尼亚球员号码：1号：奥布拉克（马德里竞技）2号：卡尔尼奇尼克（采列）3号：巴尔科维奇（阿拉尼亚体育）4号：布拉日奇（波兹南莱赫）5号：斯坦科维奇（格拉茨风暴）6号：比约尔（乌迪内斯）7号：韦尔比奇（帕纳辛奈科斯）8号：洛夫里奇（乌迪内斯）9号：斯波拉尔（帕纳辛奈科斯）10号：埃尔什尼克（卢布尔雅那奥林匹亚）11号：塞斯科（RB莱比锡）12号：贝莱克（希腊人竞技）13号：扬扎（扎布热矿工）14号：库尔蒂奇（南蒂罗尔）15号：霍尔瓦特（格拉茨风暴）16号：韦基奇（瓦埃勒）17号：马拉卡尔（比萨）18号：维波特尼克（波尔多）19号：塞拉尔（卢加诺）20号：斯托扬诺维奇（桑普多利亚）21号：德尔库希奇（索契）22号：采林（帕纳辛奈科斯）23号：布雷卡洛（奥兰多城）24号：茹格利（博多格林特）25号：泽利科维奇（特尔纳瓦斯巴达）26号：伊利契奇（马里博尔）2024年欧洲杯丹麦球员号码：1号：舒梅切尔（安德莱赫特）2号：安德森（水晶宫）3号：维斯特高（莱斯特城）4号：克亚尔（AC米兰）5号：梅勒（沃尔夫斯堡）6号：安德烈亚斯·克里斯滕森（巴萨）7号：延森（布伦特福德）8号：德莱尼（安德莱赫特）9号：霍伊伦德（曼联）10号：埃里克森（曼联）11号：奥尔森（布鲁日）12号：多尔贝格（安德莱赫特）13号：约根森（布伦特福德）14号：达姆斯高（布伦特福德）15号：诺尔高（布伦特福德）16号：赫曼森（莱斯特城）17号：克里斯蒂安森（博洛尼亚）18号：亚历山大·巴（本菲卡）19号：温德（沃尔夫斯堡）20号：波尔森（莱比锡）21号：尤尔曼德（葡萄牙体育）22号：容诺夫（柏林联合）23号：霍伊别尔（热刺）24号：德雷尔\\n\\n加克波（利物浦）12号：弗林蓬（勒沃库森）13号：拜洛（费耶诺德）14号：赖因德斯（AC米兰）15号：范德文（热刺）16号：威尔曼（埃因霍温）17号：布林德（赫罗纳）18号：马伦（多特蒙德）19号：布罗贝（阿贾克斯）20号：库普梅纳斯（亚特兰大）21号：德容（巴塞罗那）22号：邓弗里斯（国际米兰）23号：弗莱肯（布伦特福德）24号：斯豪滕（埃因霍温）25号：贝尔温（阿贾克斯）26号：赫拉芬贝赫（利物浦）2024年欧洲杯奥地利球员号码：1号：林德纳（圣吉罗斯）2号：沃贝尔（门兴）3号：特劳纳（费耶诺德）4号：丹索（朗斯）5号：波施（博洛尼亚）6号：赛沃尔德（RB莱比锡）7号：阿瑙托维奇（国米）8号：普拉斯（格拉茨风暴）9号：萨比策（多特）10号：格里利奇（霍芬海姆）11号：格雷戈里施（弗赖堡）12号：赫德尔（维也纳快速）13号：彭茨（布隆德比）14号：奎菲尔德（维也纳快速）15号：林哈特（弗赖堡）16号：姆维尼（美因茨）17号：凯恩茨（科隆）18号：斯赫米德（不莱梅）19号：鲍姆加特纳（莱比锡）20号：莱默尔（拜仁慕尼黑）21号：达尼柳克（萨尔茨堡红牛）22号：赛德尔（维也纳快速）23号：维默尔（沃尔夫斯堡）24号：魏曼（西布朗）25号：恩特卢普（哈特堡格）26号：格吕尔（维也纳快速）2024年欧洲杯法国球员号码：1号：桑巴（朗斯）2号：帕瓦尔（国际米兰）3号：门迪（皇马）4号：于帕梅卡诺（拜仁）5号：孔德（巴萨）6号：卡马文加（皇马）7号：格列兹曼（马竞）8号：琼阿梅尼（皇马）9号：吉鲁（洛杉矶FC）10号：姆巴佩（皇马）11号：登贝莱（巴黎圣日耳曼）12号：穆阿尼（巴黎圣日耳曼）13号：坎特（吉达联合）14号：拉比奥特（尤文图斯）15号：图拉姆（国际米兰）16号：迈尼昂（AC米兰）17号：萨利巴（阿森纳）18号：埃梅里（巴黎圣日耳曼）19号：福法纳（摩纳哥）20号：科曼（', name='2024年欧洲杯各球队球衣号码汇总', tool_call_id='ec91016JF97oW8x')]}}\n",
      "---\n",
      "{'agent': {'messages': [AIMessage(content='根据检索到的信息，以下是2024年意大利队球员的信息列表，按照“号码-姓名-俱乐部”的格式：\\n\\n1. 多纳鲁马 - 巴黎圣日耳曼\\n2. 迪洛伦佐 - 那不勒斯\\n3. 迪马尔科 - 国际米兰\\n4. 布翁乔尔诺 - 都灵\\n5. 卡拉菲奥里 - 博洛尼亚\\n6. 加蒂 - 尤文图斯\\n7. 弗拉泰西 - 国际米兰\\n8. 若日尼奥 - 阿森纳\\n9. 斯卡马卡 - 亚特兰大\\n10. 佩莱格里尼 - 罗马\\n11. 拉斯帕多里 - 那不勒斯\\n12. 维卡里奥 - 热刺\\n13. 达米安 - 国际米兰\\n14. 基耶萨 - 尤文图斯\\n15. 贝拉诺瓦 - 都灵\\n16. 克里斯坦特 - 罗马\\n17. 曼奇尼 - 罗马\\n18. 巴雷拉 - 国际米兰\\n19. 雷特吉 - 热那亚\\n20. 扎卡尼 - 拉齐奥\\n21. 法乔利 - 尤文图斯\\n22. 沙拉维 - 罗马\\n23. 巴斯托尼 - 国际米兰\\n24. 坎比亚索 - 尤文图斯\\n25. 弗洛伦肖 - 维罗纳\\n26. 梅雷特 - 那不勒斯\\n\\n请注意，这些信息是基于可用的数据源，并可能随时更新或更改。', response_metadata={'token_usage': {'completion_tokens': 401, 'prompt_tokens': 3494, 'total_tokens': 3895}, 'model_name': 'Baichuan4', 'system_fingerprint': None, 'finish_reason': 'stop', 'logprobs': None}, id='run-f2cb409e-5274-4d64-926e-3689b016093e-0', usage_metadata={'input_tokens': 3494, 'output_tokens': 401, 'total_tokens': 3895})]}}\n",
      "---\n"
     ]
    }
   ],
   "source": [
    "query = \"一一列出2024年，意大利队球员信息,按照：号码-姓名-俱乐部的格式输出。\"\n",
    "\n",
    "for s in agent_executor.stream(\n",
    "    {\"messages\":[HumanMessage(content=query)]}\n",
    "):\n",
    "    print(s)\n",
    "    print(\"---\")"
   ]
  },
  {
   "cell_type": "markdown",
   "id": "1cbf0f82-4763-4ad6-a140-3adfb145f8de",
   "metadata": {},
   "source": [
    "LangGraph 具有内置持久性，因此我们不需要使用 ChatMessageHistory！  \n",
    "相反，我们可以直接将检查点传递给我们的 LangGraph 代理"
   ]
  },
  {
   "cell_type": "code",
   "execution_count": 26,
   "id": "a8b13fca-6743-4b69-97dd-953821af8eee",
   "metadata": {},
   "outputs": [],
   "source": [
    "from langgraph.checkpoint.sqlite import SqliteSaver\n",
    "\n",
    "memory = SqliteSaver.from_conn_string(\":memory:\")\n",
    "agent_executor = create_react_agent(llm,tools,checkpointer=memory)"
   ]
  },
  {
   "cell_type": "markdown",
   "id": "a611111d-d7a7-4586-9a68-36e2ac6eed28",
   "metadata": {},
   "source": [
    "这就是我们构建对话式 RAG 代理所需的全部内容。\n",
    "\n",
    "让我们观察一下它的行为。请注意，如果我们输入不需要检索步骤的查询，代理就不会执行该步骤："
   ]
  },
  {
   "cell_type": "code",
   "execution_count": 27,
   "id": "4a2d7219-7e14-4784-85c9-87b9969233fd",
   "metadata": {},
   "outputs": [
    {
     "name": "stdout",
     "output_type": "stream",
     "text": [
      "{'agent': {'messages': [AIMessage(content='你好，张三！有什么我可以帮助你的吗？', response_metadata={'token_usage': {'completion_tokens': 11, 'prompt_tokens': 294, 'total_tokens': 305}, 'model_name': 'Baichuan4', 'system_fingerprint': None, 'finish_reason': 'stop', 'logprobs': None}, id='run-9eb67dd9-03d5-4ec7-b819-7d017470781c-0', usage_metadata={'input_tokens': 294, 'output_tokens': 11, 'total_tokens': 305})]}}\n",
      "---\n"
     ]
    }
   ],
   "source": [
    "config = {\n",
    "    \"configurable\":{\n",
    "        \"thread_id\":\"t1\"\n",
    "    }\n",
    "}\n",
    "\n",
    "for s in agent_executor.stream(\n",
    "    {\"messages\":[HumanMessage(content=\"你好，我是张三\")]},\n",
    "    config=config\n",
    "):\n",
    "    print(s)\n",
    "    print(\"---\")"
   ]
  },
  {
   "cell_type": "markdown",
   "id": "e50c19f4-3213-4146-8469-6813a2d45947",
   "metadata": {},
   "source": [
    "此外，如果我们输入确实需要检索步骤的查询，代理将生成工具的输入："
   ]
  },
  {
   "cell_type": "code",
   "execution_count": 28,
   "id": "c80d1eda-574e-485b-ad31-711ef11491b6",
   "metadata": {},
   "outputs": [
    {
     "name": "stdout",
     "output_type": "stream",
     "text": [
      "{'agent': {'messages': [AIMessage(content='为了提供准确的信息，我需要进行一次搜索来找到最新的关于2024年意大利国家队成员和他们所属俱乐部的数据。请稍等片刻。', additional_kwargs={'tool_calls': [{'id': '3aaf016JFA2oWs6', 'function': {'arguments': '{\"query\": \"2024年意大利队尤文图斯球员\"}', 'name': '2024年欧洲杯各球队球衣号码汇总'}, 'type': 'function'}]}, response_metadata={'token_usage': {'completion_tokens': 66, 'prompt_tokens': 342, 'total_tokens': 408}, 'model_name': 'Baichuan4', 'system_fingerprint': None, 'finish_reason': 'tool_calls', 'logprobs': None}, id='run-ff0956eb-8f0d-4959-b8dc-7dda3c8a3f1a-0', tool_calls=[{'name': '2024年欧洲杯各球队球衣号码汇总', 'args': {'query': '2024年意大利队尤文图斯球员'}, 'id': '3aaf016JFA2oWs6'}], usage_metadata={'input_tokens': 342, 'output_tokens': 66, 'total_tokens': 408})]}}\n",
      "----\n",
      "{'tools': {'messages': [ToolMessage(content='林联合）23号：伊武希奇（帕福斯）24号：马尔科·帕萨利奇（里耶卡）25号：苏契奇（萨尔茨堡红牛）26号：巴图里纳（萨格勒布迪纳摩）2024年欧洲杯意大利球员号码：1号：多纳鲁马（巴黎圣日耳曼）2号：迪洛伦佐（那不勒斯）3号：迪马尔科（国际米兰）4号：布翁乔尔诺（都灵）5号：卡拉菲奥里（博洛尼亚）6号：加蒂（尤文图斯）7号：弗拉泰西（国际米兰）8号：若日尼奥（阿森纳）9号：斯卡马卡（亚特兰大）10号：佩莱格里尼（罗马）11号：拉斯帕多里（那不勒斯）12号：维卡里奥（热刺）13号：达米安（国际米兰）14号：基耶萨（尤文图斯）15号：贝拉诺瓦（都灵）16号：克里斯坦特（罗马）17号：曼奇尼（罗马）18号：巴雷拉（国际米兰）19号：雷特吉（热那亚）20号：扎卡尼（拉齐奥）21号：法乔利（尤文图斯）22号：沙拉维（罗马）23号：巴斯托尼（国际米兰）24号：坎比亚索（尤文图斯）25号：弗洛伦肖（维罗纳）26号：梅雷特（那不勒斯）2024年欧洲杯阿尔巴尼亚球员号码：1号：贝里沙（恩波利）2号：巴里乌（巴列卡诺）3号：米塔伊（莫斯科火车头）4号：海萨伊（拉齐奥）5号：阿耶蒂（克卢日）6号：吉姆西蒂（亚特兰大）7号：马纳伊（锡瓦斯体育）8号：贾苏拉（达姆施塔特）9号：阿萨尼（光州FC）10号：巴伊拉米（萨索洛）11号：布罗亚（富勒姆）12号：卡斯特拉蒂（奇塔代拉）13号：米哈伊（法马利康）14号：拉奇（布拉格斯巴达）15号：塞费里（班尼亚斯）16号：贝里沙（莱切）17号：穆奇（贝西克塔斯）18号：伊斯梅杰里（恩波利）19号：达库（喀山红宝石）20号：拉马达尼（莱切）21号：阿斯拉尼（国米）22号：阿布拉什（草蜢）23号：斯特拉科沙（布伦特福德）24号：库姆布拉（萨索洛）25号：阿利吉（沃伦塔利）26号：霍查（萨格勒布迪纳摩）【2024年欧洲杯小组赛C组】2024年欧洲杯斯洛文尼亚球员号码：\\n\\n：尤克塞克（费内巴切）17号：卡维奇（费内巴切）18号：穆尔杜（费内巴切）19号：伊尔迪兹（尤文图斯）20号：卡迪奥卢（费内巴切）21号：伊尔马兹（加拉塔萨雷）22号：艾汗（加拉塔萨雷）23号：恰基尔（特拉布宗体育）24号：基里索（贝西克塔斯）25号：阿克昆（加拉塔萨雷）26号：耶尔德勒姆（雷恩）2024年欧洲杯格鲁吉亚球员号码：1号：洛里亚（第比利斯迪纳摩）2号：卡卡巴泽（克拉科夫）3号：德瓦利（希腊人竞技）4号：卡希亚（斯洛万）5号：克维尔克维利亚（阿科多）6号：科乔拉什维利（莱万特）7号：克瓦拉茨赫利亚（那不勒斯）8号：齐夫齐瓦泽（卡尔斯鲁厄）9号：达维塔什维利（波尔多）10号：查克韦塔泽（沃特福德）11号：克维利泰亚（希腊人竞技）12号：古格沙什维利（卡拉巴赫）13号：戈乔列什维利（顿涅茨克矿工）14号：洛乔什维利（克雷莫纳）15号：格维列西亚尼（波斯波利斯）16号：克维克韦斯基里（波兹南莱赫）17号：基特希什维利（斯图姆）18号：阿尔图纳什维利（沃尔夫斯贝格）19号：申格利亚（帕纳托利科斯）20号：梅克瓦比什维利（克拉约瓦）21号：齐泰什维利（第比利斯迪纳摩）22号：米卡乌塔泽（梅斯）23号：洛布贾尼泽（亚特兰大联）24号：塔比泽（帕纳托利科斯）25号：玛玛达什维利（瓦伦西亚）26号：西格亚（巴塞尔）2024年欧洲杯葡萄牙球员号码：1号：帕特里西奥（罗马）2号：塞梅多（狼队）3号：佩佩（波尔图）4号：迪亚斯（曼城）5号：达洛特（曼联）6号：帕利尼亚（富勒姆）7号：C罗（利雅得胜利）8号：B费（曼联）9号：贡萨洛·拉莫斯（巴黎）10号：B席（曼城）11号：菲利克斯（巴萨）12号：若泽·萨（狼队）13号：达尼洛·佩雷拉（巴黎）14号：伊纳西奥（葡体）15号：若昂·内维斯（本菲卡）16号：努内斯（曼城）17号：莱奥（AC米兰）18号：鲁本·内维斯（利雅得新月）19号：门德斯（巴黎）20号：坎塞洛（巴萨）21号：若塔（利物浦）22号：迪奥戈·科斯塔（波尔图）23号：维蒂尼亚（巴黎）24号：安东尼奥·席尔瓦（本菲卡）25号：内托（狼队）26号：孔塞桑（波尔图）2024年欧洲杯捷克球员号码：1号：斯塔涅克（布拉格斯拉维亚）2号：齐马（布拉格斯拉维亚）3号：霍莱什（布拉格斯拉维亚）4号：赫拉纳克（比尔森胜利）5号：曹法尔（西汉姆）6号：维蒂克（布拉格斯巴达）7号：巴拉克\\n\\n：克里斯蒂安森（博洛尼亚）18号：亚历山大·巴（本菲卡）19号：温德（沃尔夫斯堡）20号：波尔森（莱比锡）21号：尤尔曼德（葡萄牙体育）22号：容诺夫（柏林联合）23号：霍伊别尔（热刺）24号：德雷尔（安德莱赫特）25号：拉斯穆斯·克里斯滕森（罗马）26号：拉尔森（伯恩利）2024年欧洲杯塞尔维亚球员号码：1号：拉伊科维奇（马洛卡）2号：帕夫洛维奇（萨尔茨堡红牛）3号：斯托伊奇（托波拉）4号：米伦科维奇（佛罗伦萨）5号：马克西莫维奇（赫塔费）6号：古德利（塞维利亚）7号：弗拉霍维奇（尤文图斯）8号：约维奇（AC米兰）9号：米特洛维奇（利雅得新月）10号：塔迪奇（费内巴切）11号：科斯蒂奇（尤文图斯）12号：佩特洛维奇（切尔西）13号：维利科维奇（不莱梅）14号：日夫科维奇（塞萨洛尼基）15号：巴比奇（莫斯科斯巴达）16号：米贾伊洛维奇（贝尔格莱德红星）17号：伊利奇（都灵）18号：拉特科夫（萨尔茨堡红牛）19号：萨马尔季奇（乌迪内斯）20号：塞尔吉·米林科维奇21号：加齐诺维奇（雅典AEK）22号：萨萨·卢基奇（富勒姆）23号：瓦尼亚·米林科维奇·萨维奇（都灵）24号：斯帕基奇（贝尔格莱德红星）25号：姆拉德诺维奇（帕纳辛奈科斯）26号：比曼切维奇（布拉格斯巴达）2024年欧洲杯英格兰球员号码：1号：皮克福德（埃弗顿）2号：沃克（曼城）3号：卢克·肖（曼联）4号：赖斯（阿森纳）5号：斯通斯（曼城）6号：格伊（水晶宫）7号：萨卡（阿森纳）8号：阿诺德（利物浦）9号：凯恩（拜仁）10号：贝林厄姆（皇马）11号：福登（曼城）12号：特里皮尔（纽卡）13号：拉姆斯代尔（阿森纳）14号：孔萨（维拉）15号：邓克（布莱顿）16号：加拉格尔（切尔西）17号：伊万·托尼（布伦特福德）18号：安东尼·戈登（纽卡）19号：沃特金斯（阿斯顿维拉）20号：鲍文（西汉姆）21号：埃泽（水晶宫）22号\\n\\n18号：巴雷拉（国际米兰）19号：雷特吉（热那亚）20号：扎卡尼（拉齐奥）21号：法乔利（尤文图斯）22号：沙拉维（罗马）23号：巴斯托尼（国际米兰）24号：坎比亚索（尤文图斯）25号：弗洛伦肖（维罗纳）26号：梅雷特（那不勒斯）2024年欧洲杯阿尔巴尼亚球员号码：1号：贝里沙（恩波利）2号：巴里乌（巴列卡诺）3号：米塔伊（莫斯科火车头）4号：海萨伊（拉齐奥）5号：阿耶蒂（克卢日）6号：吉姆西蒂（亚特兰大）7号：马纳伊（锡瓦斯体育）8号：贾苏拉（达姆施塔特）9号：阿萨尼（光州FC）10号：巴伊拉米（萨索洛）11号：布罗亚（富勒姆）12号：卡斯特拉蒂（奇塔代拉）13号：米哈伊（法马利康）14号：拉奇（布拉格斯巴达）15号：塞费里（班尼亚斯）16号：贝里沙（莱切）17号：穆奇（贝西克塔斯）18号：伊斯梅杰里（恩波利）19号：达库（喀山红宝石）20号：拉马达尼（莱切）21号：阿斯拉尼（国米）22号：阿布拉什（草蜢）23号：斯特拉科沙（布伦特福德）24号：库姆布拉（萨索洛）25号：阿利吉（沃伦塔利）26号：霍查（萨格勒布迪纳摩）【2024年欧洲杯小组赛C组】2024年欧洲杯斯洛文尼亚球员号码：1号：奥布拉克（马德里竞技）2号：卡尔尼奇尼克（采列）3号：巴尔科维奇（阿拉尼亚体育）4号：布拉日奇（波兹南莱赫）5号：斯坦科维奇（格拉茨风暴）6号：比约尔（乌迪内斯）7号：韦尔比奇（帕纳辛奈科斯）8号：洛夫里奇（乌迪内斯）9号：斯波拉尔（帕纳辛奈科斯）10号：埃尔什尼克（卢布尔雅那奥林匹亚）11号：塞斯科（RB莱比锡）12号：贝莱克（希腊人竞技）13号：扬扎（扎布热矿工）14号：库尔蒂奇（南蒂罗尔）15号：霍尔瓦特（格拉茨风暴）16号：韦基奇（瓦埃勒）17号：马拉卡尔（比萨）18号：维波特尼克（波尔多）19号：塞拉尔（卢加诺）20号：斯托扬诺维奇（桑普多利亚）21号：德尔库希奇（索契）22号：采林（帕纳辛奈科斯）23号：布雷卡洛（奥兰多城）24号：茹格利（博多格林特）25号：泽利科维奇（特尔纳瓦斯巴达）26号：伊利契奇（马里博尔）2024年欧洲杯丹麦球员号码：1号：舒梅切尔（安德莱赫特）2号：安德森（水晶宫）3号：维斯特高（莱斯特城）4号：克亚尔（AC米兰）5号：梅勒（沃尔夫斯堡）6号：安德烈亚斯·克里斯滕森（巴萨）7号：延森（布伦特福德）8号：德莱尼（安德莱赫特）9号：霍伊伦德（曼', name='2024年欧洲杯各球队球衣号码汇总', tool_call_id='3aaf016JFA2oWs6')]}}\n",
      "----\n",
      "{'agent': {'messages': [AIMessage(content='根据最新的数据，2024年意大利队中属于尤文图斯俱乐部的球员信息如下：\\n\\n- 6号：加蒂\\n- 14号：基耶萨\\n- 21号：法乔利\\n- 24号：坎比亚索', response_metadata={'token_usage': {'completion_tokens': 62, 'prompt_tokens': 3740, 'total_tokens': 3802}, 'model_name': 'Baichuan4', 'system_fingerprint': None, 'finish_reason': 'stop', 'logprobs': None}, id='run-1f67beef-4a73-44c7-afde-b558ac9249cc-0', usage_metadata={'input_tokens': 3740, 'output_tokens': 62, 'total_tokens': 3802})]}}\n",
      "----\n"
     ]
    }
   ],
   "source": [
    "query = \"列出2024年意大利队中属于尤文图斯俱乐部的球员信息，按照：号码-姓名-俱乐部的格式输出。\"\n",
    "\n",
    "for s in agent_executor.stream(\n",
    "    {\"messages\": [HumanMessage(content=query)]}, config=config\n",
    "):\n",
    "    print(s)\n",
    "    print(\"----\")"
   ]
  },
  {
   "cell_type": "markdown",
   "id": "d6cdc7ac-e2d2-4281-a4cf-3bdad94f6541",
   "metadata": {},
   "source": [
    "以上，代理没有将我们的查询逐字逐句地插入到工具中，而是删除了“什么”和“是”等不必要的单词。\n",
    "\n",
    "同样的原则允许代理在必要时使用对话的上下文："
   ]
  },
  {
   "cell_type": "markdown",
   "id": "139f0968-ad33-4da3-998b-6be679874ac6",
   "metadata": {},
   "source": [
    "### 将上面步骤结合在一起\n",
    "为方便起见，我们将所有必要的步骤都整合到一个代码单元中"
   ]
  },
  {
   "cell_type": "code",
   "execution_count": 32,
   "id": "215d2bd0-6738-4fd5-975d-febff12a4cb7",
   "metadata": {},
   "outputs": [],
   "source": [
    "import bs4\n",
    "from langchain.agents import AgentExecutor,create_tool_calling_agent\n",
    "from langchain.tools.retriever import create_retriever_tool\n",
    "from langchain_chroma import Chroma\n",
    "from langchain_community.document_loaders import WebBaseLoader\n",
    "from langchain_core.prompts import ChatPromptTemplate,MessagesPlaceholder\n",
    "from langchain_openai import ChatOpenAI\n",
    "from langchain_text_splitters import RecursiveCharacterTextSplitter\n",
    "from langgraph.checkpoint.sqlite import SqliteSaver\n",
    "from langchain_community.embeddings import BaichuanTextEmbeddings\n",
    "\n",
    "llm = ChatOpenAI(\n",
    "    base_url=\"http://api.baichuan-ai.com/v1\",\n",
    "    api_key=os.environ[\"BAICHUAN_API_KEY\"],\n",
    "    model=\"Baichuan4\",\n",
    "    temperature=0,\n",
    ")\n",
    "embeddings = BaichuanTextEmbeddings(baichuan_api_key=os.environ[\"BAICHUAN_API_KEY\"])\n",
    "memory = SqliteSaver.from_conn_string(\":memory:\")\n",
    "\n",
    "\n",
    "### 构造检查器 ###\n",
    "loader = WebBaseLoader(\n",
    "    web_paths=(\"https://ouzhoubei.co/article-794-1.html\",),\n",
    "    bs_kwargs=dict(parse_only=bs4.SoupStrainer(id=(\"article_content\",)))\n",
    ")\n",
    "docs = loader.load()\n",
    "\n",
    "text_splitter = RecursiveCharacterTextSplitter(chunk_size=800,chunk_overlap=100)\n",
    "splits = text_splitter.split_documents(docs)\n",
    "vectorstore = Chroma.from_documents(documents=splits,embedding=embeddings)\n",
    "retriever = vectorstore.as_retriever()\n",
    "\n",
    "### 构建检索工具 ###\n",
    "tool = create_retriever_tool(\n",
    "    retriever,\n",
    "    \"2024年欧洲杯各球队球衣号码汇总\",\n",
    "    \"搜索并返回2024年欧洲杯各球队球衣号码文章的摘录。\"\n",
    ")\n",
    "tools=[tool]\n",
    "\n",
    "agent_executor = create_react_agent(llm,tools,checkpointer=memory)"
   ]
  },
  {
   "cell_type": "code",
   "execution_count": 33,
   "id": "6dd300d2-23f7-40ed-8b0f-31522c1aeb40",
   "metadata": {},
   "outputs": [
    {
     "data": {
      "text/plain": [
       "{'messages': [HumanMessage(content='列出2024年意大利队中属于尤文图斯俱乐部的球员信息，按照：号码-姓名-俱乐部的格式输出。', id='38725819-beda-42c0-a2e6-e7b7ca2d6a62'),\n",
       "  AIMessage(content='', additional_kwargs={'tool_calls': [{'id': '72bc016JFCSoRAT', 'function': {'arguments': '{\"query\": \"2024年欧洲杯意大利队名单\"}', 'name': '2024年欧洲杯各球队球衣号码汇总'}, 'type': 'function'}]}, response_metadata={'token_usage': {'completion_tokens': 33, 'prompt_tokens': 319, 'total_tokens': 352}, 'model_name': 'Baichuan4', 'system_fingerprint': None, 'finish_reason': 'tool_calls', 'logprobs': None}, id='run-63740b8a-801b-489a-9241-b08c18acd045-0', tool_calls=[{'name': '2024年欧洲杯各球队球衣号码汇总', 'args': {'query': '2024年欧洲杯意大利队名单'}, 'id': '72bc016JFCSoRAT'}], usage_metadata={'input_tokens': 319, 'output_tokens': 33, 'total_tokens': 352}),\n",
       "  ToolMessage(content='林联合）23号：伊武希奇（帕福斯）24号：马尔科·帕萨利奇（里耶卡）25号：苏契奇（萨尔茨堡红牛）26号：巴图里纳（萨格勒布迪纳摩）2024年欧洲杯意大利球员号码：1号：多纳鲁马（巴黎圣日耳曼）2号：迪洛伦佐（那不勒斯）3号：迪马尔科（国际米兰）4号：布翁乔尔诺（都灵）5号：卡拉菲奥里（博洛尼亚）6号：加蒂（尤文图斯）7号：弗拉泰西（国际米兰）8号：若日尼奥（阿森纳）9号：斯卡马卡（亚特兰大）10号：佩莱格里尼（罗马）11号：拉斯帕多里（那不勒斯）12号：维卡里奥（热刺）13号：达米安（国际米兰）14号：基耶萨（尤文图斯）15号：贝拉诺瓦（都灵）16号：克里斯坦特（罗马）17号：曼奇尼（罗马）18号：巴雷拉（国际米兰）19号：雷特吉（热那亚）20号：扎卡尼（拉齐奥）21号：法乔利（尤文图斯）22号：沙拉维（罗马）23号：巴斯托尼（国际米兰）24号：坎比亚索（尤文图斯）25号：弗洛伦肖（维罗纳）26号：梅雷特（那不勒斯）2024年欧洲杯阿尔巴尼亚球员号码：1号：贝里沙（恩波利）2号：巴里乌（巴列卡诺）3号：米塔伊（莫斯科火车头）4号：海萨伊（拉齐奥）5号：阿耶蒂（克卢日）6号：吉姆西蒂（亚特兰大）7号：马纳伊（锡瓦斯体育）8号：贾苏拉（达姆施塔特）9号：阿萨尼（光州FC）10号：巴伊拉米（萨索洛）11号：布罗亚（富勒姆）12号：卡斯特拉蒂（奇塔代拉）13号：米哈伊（法马利康）14号：拉奇（布拉格斯巴达）15号：塞费里（班尼亚斯）16号：贝里沙（莱切）17号：穆奇（贝西克塔斯）18号：伊斯梅杰里（恩波利）19号：达库（喀山红宝石）20号：拉马达尼（莱切）21号：阿斯拉尼（国米）22号：阿布拉什（草蜢）23号：斯特拉科沙（布伦特福德）24号：库姆布拉（萨索洛）25号：阿利吉（沃伦塔利）26号：霍查（萨格勒布迪纳摩）【2024年欧洲杯小组赛C组】2024年欧洲杯斯洛文尼亚球员号码：\\n\\n林联合）23号：伊武希奇（帕福斯）24号：马尔科·帕萨利奇（里耶卡）25号：苏契奇（萨尔茨堡红牛）26号：巴图里纳（萨格勒布迪纳摩）2024年欧洲杯意大利球员号码：1号：多纳鲁马（巴黎圣日耳曼）2号：迪洛伦佐（那不勒斯）3号：迪马尔科（国际米兰）4号：布翁乔尔诺（都灵）5号：卡拉菲奥里（博洛尼亚）6号：加蒂（尤文图斯）7号：弗拉泰西（国际米兰）8号：若日尼奥（阿森纳）9号：斯卡马卡（亚特兰大）10号：佩莱格里尼（罗马）11号：拉斯帕多里（那不勒斯）12号：维卡里奥（热刺）13号：达米安（国际米兰）14号：基耶萨（尤文图斯）15号：贝拉诺瓦（都灵）16号：克里斯坦特（罗马）17号：曼奇尼（罗马）18号：巴雷拉（国际米兰）19号：雷特吉（热那亚）20号：扎卡尼（拉齐奥）21号：法乔利（尤文图斯）22号：沙拉维（罗马）23号：巴斯托尼（国际米兰）24号：坎比亚索（尤文图斯）25号：弗洛伦肖（维罗纳）26号：梅雷特（那不勒斯）2024年欧洲杯阿尔巴尼亚球员号码：1号：贝里沙（恩波利）2号：巴里乌（巴列卡诺）3号：米塔伊（莫斯科火车头）4号：海萨伊（拉齐奥）5号：阿耶蒂（克卢日）6号：吉姆西蒂（亚特兰大）7号：马纳伊（锡瓦斯体育）8号：贾苏拉（达姆施塔特）9号：阿萨尼（光州FC）10号：巴伊拉米（萨索洛）11号：布罗亚（富勒姆）12号：卡斯特拉蒂（奇塔代拉）13号：米哈伊（法马利康）14号：拉奇（布拉格斯巴达）15号：塞费里（班尼亚斯）16号：贝里沙（莱切）17号：穆奇（贝西克塔斯）18号：伊斯梅杰里（恩波利）19号：达库（喀山红宝石）20号：拉马达尼（莱切）21号：阿斯拉尼（国米）22号：阿布拉什（草蜢）23号：斯特拉科沙（布伦特福德）24号：库姆布拉（萨索洛）25号：阿利吉（沃伦塔利）26号：霍查（萨格勒布迪纳摩）【2024年欧洲杯小组赛C组】2024年欧洲杯斯洛文尼亚球员号码：\\n\\n18号：巴雷拉（国际米兰）19号：雷特吉（热那亚）20号：扎卡尼（拉齐奥）21号：法乔利（尤文图斯）22号：沙拉维（罗马）23号：巴斯托尼（国际米兰）24号：坎比亚索（尤文图斯）25号：弗洛伦肖（维罗纳）26号：梅雷特（那不勒斯）2024年欧洲杯阿尔巴尼亚球员号码：1号：贝里沙（恩波利）2号：巴里乌（巴列卡诺）3号：米塔伊（莫斯科火车头）4号：海萨伊（拉齐奥）5号：阿耶蒂（克卢日）6号：吉姆西蒂（亚特兰大）7号：马纳伊（锡瓦斯体育）8号：贾苏拉（达姆施塔特）9号：阿萨尼（光州FC）10号：巴伊拉米（萨索洛）11号：布罗亚（富勒姆）12号：卡斯特拉蒂（奇塔代拉）13号：米哈伊（法马利康）14号：拉奇（布拉格斯巴达）15号：塞费里（班尼亚斯）16号：贝里沙（莱切）17号：穆奇（贝西克塔斯）18号：伊斯梅杰里（恩波利）19号：达库（喀山红宝石）20号：拉马达尼（莱切）21号：阿斯拉尼（国米）22号：阿布拉什（草蜢）23号：斯特拉科沙（布伦特福德）24号：库姆布拉（萨索洛）25号：阿利吉（沃伦塔利）26号：霍查（萨格勒布迪纳摩）【2024年欧洲杯小组赛C组】2024年欧洲杯斯洛文尼亚球员号码：1号：奥布拉克（马德里竞技）2号：卡尔尼奇尼克（采列）3号：巴尔科维奇（阿拉尼亚体育）4号：布拉日奇（波兹南莱赫）5号：斯坦科维奇（格拉茨风暴）6号：比约尔（乌迪内斯）7号：韦尔比奇（帕纳辛奈科斯）8号：洛夫里奇（乌迪内斯）9号：斯波拉尔（帕纳辛奈科斯）10号：埃尔什尼克（卢布尔雅那奥林匹亚）11号：塞斯科（RB莱比锡）12号：贝莱克（希腊人竞技）13号：扬扎（扎布热矿工）14号：库尔蒂奇（南蒂罗尔）15号：霍尔瓦特（格拉茨风暴）16号：韦基奇（瓦埃勒）17号：马拉卡尔（比萨）18号：维波特尼克（波尔多）19号：塞拉尔（卢加诺）20号：斯托扬诺维奇（桑普多利亚）21号：德尔库希奇（索契）22号：采林（帕纳辛奈科斯）23号：布雷卡洛（奥兰多城）24号：茹格利（博多格林特）25号：泽利科维奇（特尔纳瓦斯巴达）26号：伊利契奇（马里博尔）2024年欧洲杯丹麦球员号码：1号：舒梅切尔（安德莱赫特）2号：安德森（水晶宫）3号：维斯特高（莱斯特城）4号：克亚尔（AC米兰）5号：梅勒（沃尔夫斯堡）6号：安德烈亚斯·克里斯滕森（巴萨）7号：延森（布伦特福德）8号：德莱尼（安德莱赫特）9号：霍伊伦德（曼\\n\\n号：阿布拉什（草蜢）23号：斯特拉科沙（布伦特福德）24号：库姆布拉（萨索洛）25号：阿利吉（沃伦塔利）26号：霍查（萨格勒布迪纳摩）【2024年欧洲杯小组赛C组】2024年欧洲杯斯洛文尼亚球员号码：1号：奥布拉克（马德里竞技）2号：卡尔尼奇尼克（采列）3号：巴尔科维奇（阿拉尼亚体育）4号：布拉日奇（波兹南莱赫）5号：斯坦科维奇（格拉茨风暴）6号：比约尔（乌迪内斯）7号：韦尔比奇（帕纳辛奈科斯）8号：洛夫里奇（乌迪内斯）9号：斯波拉尔（帕纳辛奈科斯）10号：埃尔什尼克（卢布尔雅那奥林匹亚）11号：塞斯科（RB莱比锡）12号：贝莱克（希腊人竞技）13号：扬扎（扎布热矿工）14号：库尔蒂奇（南蒂罗尔）15号：霍尔瓦特（格拉茨风暴）16号：韦基奇（瓦埃勒）17号：马拉卡尔（比萨）18号：维波特尼克（波尔多）19号：塞拉尔（卢加诺）20号：斯托扬诺维奇（桑普多利亚）21号：德尔库希奇（索契）22号：采林（帕纳辛奈科斯）23号：布雷卡洛（奥兰多城）24号：茹格利（博多格林特）25号：泽利科维奇（特尔纳瓦斯巴达）26号：伊利契奇（马里博尔）2024年欧洲杯丹麦球员号码：1号：舒梅切尔（安德莱赫特）2号：安德森（水晶宫）3号：维斯特高（莱斯特城）4号：克亚尔（AC米兰）5号：梅勒（沃尔夫斯堡）6号：安德烈亚斯·克里斯滕森（巴萨）7号：延森（布伦特福德）8号：德莱尼（安德莱赫特）9号：霍伊伦德（曼联）10号：埃里克森（曼联）11号：奥尔森（布鲁日）12号：多尔贝格（安德莱赫特）13号：约根森（布伦特福德）14号：达姆斯高（布伦特福德）15号：诺尔高（布伦特福德）16号：赫曼森（莱斯特城）17号：克里斯蒂安森（博洛尼亚）18号：亚历山大·巴（本菲卡）19号：温德（沃尔夫斯堡）20号：波尔森（莱比锡）21号：尤尔曼德（葡萄牙体育）22号：容诺夫（柏林联合）23号：霍伊别尔（热刺）24号：德雷尔', name='2024年欧洲杯各球队球衣号码汇总', id='0b9710a8-a61f-45de-b1bc-3da492e7e54e', tool_call_id='72bc016JFCSoRAT'),\n",
       "  AIMessage(content='根据提供的数据，以下是2024年欧洲杯中属于尤文图斯俱乐部的意大利队球员信息，按号码-姓名-俱乐部的格式输出：\\n\\n- 6号：加蒂（尤文图斯）\\n- 14号：基耶萨（尤文图斯）\\n- 21号：法乔利（尤文图斯）\\n- 24号：坎比亚索（尤文图斯）', response_metadata={'token_usage': {'completion_tokens': 93, 'prompt_tokens': 3486, 'total_tokens': 3579}, 'model_name': 'Baichuan4', 'system_fingerprint': None, 'finish_reason': 'stop', 'logprobs': None}, id='run-4740ba6f-9e32-46d3-a835-5e32c646f9b3-0', usage_metadata={'input_tokens': 3486, 'output_tokens': 93, 'total_tokens': 3579})]}"
      ]
     },
     "execution_count": 33,
     "metadata": {},
     "output_type": "execute_result"
    }
   ],
   "source": [
    "config = {\n",
    "    \"configurable\":{\n",
    "        \"thread_id\":\"t2\"\n",
    "    }\n",
    "}\n",
    "agent_executor.invoke({\"messages\":[HumanMessage(content=\"列出2024年意大利队中属于尤文图斯俱乐部的球员信息，按照：号码-姓名-俱乐部的格式输出。\")]},config)"
   ]
  },
  {
   "cell_type": "code",
   "execution_count": null,
   "id": "89e11aba-bd4a-442b-8fd4-7b9dfe6c304b",
   "metadata": {},
   "outputs": [],
   "source": []
  }
 ],
 "metadata": {
  "kernelspec": {
   "display_name": "Python 3 (ipykernel)",
   "language": "python",
   "name": "python3"
  },
  "language_info": {
   "codemirror_mode": {
    "name": "ipython",
    "version": 3
   },
   "file_extension": ".py",
   "mimetype": "text/x-python",
   "name": "python",
   "nbconvert_exporter": "python",
   "pygments_lexer": "ipython3",
   "version": "3.9.18"
  }
 },
 "nbformat": 4,
 "nbformat_minor": 5
}
