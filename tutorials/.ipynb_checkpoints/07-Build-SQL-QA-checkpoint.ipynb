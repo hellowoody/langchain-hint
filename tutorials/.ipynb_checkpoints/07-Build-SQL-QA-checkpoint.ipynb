{
 "cells": [
  {
   "cell_type": "markdown",
   "id": "7652d14d-9512-4e44-aa24-abec7147334d",
   "metadata": {},
   "source": [
    "# 构建一个基于SQL数据的问答系统 Build a Question/Answering system over SQL data\n",
    "\n",
    "使 LLM 系统能够查询结构化数据与非结构化文本数据在性质上可能有所不同。  \n",
    "后者通常生成可在向量数据库中搜索的文本，而结构化数据的方法通常是让 LLM 编写和执行 DSL（例如 SQL）中的查询。  \n",
    "在本指南中，我们将介绍在数据库中的表格数据上创建问答系统的基本方法。  \n",
    "我们将介绍使用链和代理的实现。  \n",
    "这些系统将允许我们询问有关数据库中数据的问题并得到自然语言答案。  \n",
    "两者之间的主要区别在于，我们的代理可以根据需要多次循环查询数据库以回答问题。\n",
    "\n",
    "## 架构\n",
    "从高层次来看，这些系统的步骤如下：\n",
    "\n",
    " - 将问题转换为 DSL 查询：模型将用户输入转换为 SQL 查询。\n",
    " - 执行 SQL 查询：执行查询。\n",
    " - 回答问题：模型使用查询结果响应用户输入。\n",
    "   \n",
    "请注意，查询 CSV 中的数据可以采用类似的方法。"
   ]
  },
  {
   "cell_type": "markdown",
   "id": "b9c40b4e-601b-4bbc-8cbc-a8839adf40bc",
   "metadata": {},
   "source": [
    "### Chinook数据库的脚本\n",
    "https://raw.githubusercontent.com/lerocha/chinook-database/master/ChinookDatabase/DataSources/Chinook_Sqlite.sql   \n",
    "可以安装sqlite客户端执行脚本，推荐使用Navicat Premium 17"
   ]
  },
  {
   "cell_type": "code",
   "execution_count": 1,
   "id": "c84debb1-d24a-4327-9957-f09b2535fc36",
   "metadata": {},
   "outputs": [
    {
     "name": "stdout",
     "output_type": "stream",
     "text": [
      "sqlite\n",
      "['Album', 'Artist', 'Customer', 'Employee', 'Genre', 'Invoice', 'InvoiceLine', 'MediaType', 'Playlist', 'PlaylistTrack', 'Track']\n"
     ]
    },
    {
     "data": {
      "text/plain": [
       "\"[(1, 'AC/DC'), (2, 'Accept'), (3, 'Aerosmith'), (4, 'Alanis Morissette'), (5, 'Alice In Chains'), (6, 'Antônio Carlos Jobim'), (7, 'Apocalyptica'), (8, 'Audioslave'), (9, 'BackBeat'), (10, 'Billy Cobham')]\""
      ]
     },
     "execution_count": 1,
     "metadata": {},
     "output_type": "execute_result"
    }
   ],
   "source": [
    "from langchain_community.utilities import SQLDatabase\n",
    "\n",
    "db = SQLDatabase.from_uri(\"sqlite:///Chinook.db\")\n",
    "print(db.dialect)\n",
    "print(db.get_usable_table_names())\n",
    "db.run(\"select * from Artist limit 10;\")"
   ]
  },
  {
   "cell_type": "markdown",
   "id": "f189edb2-d6b7-4e76-8c01-047a2242a846",
   "metadata": {},
   "source": [
    "## Chains 链\n",
    "链（即 LangChain Runnable 的组合）支持步骤可预测的应用程序。  \n",
    "我们可以创建一个简单的链，它接受一个问题并执行以下操作：\n",
    "\n",
    " - 将问题转换为 SQL 查询；\n",
    " - 执行查询；\n",
    " - 使用结果回答原始问题。\n",
    "   \n",
    "有些场景不受此安排的支持。例如，此系统将对任何用户输入执行 SQL 查询 - 甚至是“你好”。  \n",
    "重要的是，正如我们将在下面看到的，有些问题需要多个查询才能回答。  \n",
    "我们将在代理部分中解决这些情况。\n",
    "\n",
    "### 将问题转换为 SQL 查询\n",
    "SQL 链或代理中的第一步是获取用户输入并将其转换为 SQL 查询。  \n",
    "LangChain 带有一个内置链：create_sql_query_chain。"
   ]
  },
  {
   "cell_type": "code",
   "execution_count": 2,
   "id": "7211f284-0f3b-4b16-abbf-d830ae212901",
   "metadata": {},
   "outputs": [],
   "source": [
    "import os\n",
    "from dotenv import find_dotenv,load_dotenv\n",
    "\n",
    "_ = load_dotenv(find_dotenv())"
   ]
  },
  {
   "cell_type": "code",
   "execution_count": 29,
   "id": "6801d6dd-c949-4698-9e71-d46deaa1583c",
   "metadata": {},
   "outputs": [],
   "source": [
    "from langchain_openai import ChatOpenAI\n",
    "\n",
    "llm = ChatOpenAI(\n",
    "    base_url=\"https://open.bigmodel.cn/api/paas/v4\",\n",
    "    api_key=os.environ[\"ZHIPUAI_API_KEY\"],\n",
    "    model=\"glm-4\",\n",
    ")"
   ]
  },
  {
   "cell_type": "code",
   "execution_count": 30,
   "id": "38e8fe1d-cfad-4928-8aa6-3a6568c24e3f",
   "metadata": {},
   "outputs": [
    {
     "data": {
      "text/plain": [
       "'SELECT COUNT(\"EmployeeId\") FROM \"Employee\"\\nSQLResult:'"
      ]
     },
     "execution_count": 30,
     "metadata": {},
     "output_type": "execute_result"
    }
   ],
   "source": [
    "from langchain.chains import create_sql_query_chain\n",
    "\n",
    "chain = create_sql_query_chain(llm,db)\n",
    "resp = chain.invoke({\"question\":\"有多少名员工?\"})\n",
    "resp"
   ]
  },
  {
   "cell_type": "code",
   "execution_count": 31,
   "id": "7efd1fec-7338-425c-bc99-08aa1da9378b",
   "metadata": {},
   "outputs": [
    {
     "data": {
      "text/plain": [
       "'[(8,)]'"
      ]
     },
     "execution_count": 31,
     "metadata": {},
     "output_type": "execute_result"
    }
   ],
   "source": [
    "db.run(resp.split(\"\\n\")[0])"
   ]
  },
  {
   "cell_type": "code",
   "execution_count": 32,
   "id": "d7dfeec6-cfdc-48c2-8438-9d6196bb8ebc",
   "metadata": {},
   "outputs": [
    {
     "name": "stdout",
     "output_type": "stream",
     "text": [
      "You are a SQLite expert. Given an input question, first create a syntactically correct SQLite query to run, then look at the results of the query and return the answer to the input question.\n",
      "Unless the user specifies in the question a specific number of examples to obtain, query for at most 5 results using the LIMIT clause as per SQLite. You can order the results to return the most informative data in the database.\n",
      "Never query for all columns from a table. You must query only the columns that are needed to answer the question. Wrap each column name in double quotes (\") to denote them as delimited identifiers.\n",
      "Pay attention to use only the column names you can see in the tables below. Be careful to not query for columns that do not exist. Also, pay attention to which column is in which table.\n",
      "Pay attention to use date('now') function to get the current date, if the question involves \"today\".\n",
      "\n",
      "Use the following format:\n",
      "\n",
      "Question: Question here\n",
      "SQLQuery: SQL Query to run\n",
      "SQLResult: Result of the SQLQuery\n",
      "Answer: Final answer here\n",
      "\n",
      "Only use the following tables:\n",
      "\u001b[33;1m\u001b[1;3m{table_info}\u001b[0m\n",
      "\n",
      "Question: \u001b[33;1m\u001b[1;3m{input}\u001b[0m\n"
     ]
    }
   ],
   "source": [
    "chain.get_prompts()[0].pretty_print()"
   ]
  },
  {
   "cell_type": "markdown",
   "id": "6fee97be-48e8-4756-ab25-e8baf78dbc56",
   "metadata": {},
   "source": [
    "### 执行 SQL 查询\n",
    "现在我们已经生成了 SQL 查询，我们将要执行它。这是创建 SQL 链中最危险的部分。  \n",
    "请仔细考虑是否可以对数据运行自动查询。尽可能减少数据库连接权限。  \n",
    "考虑在查询执行之前向链中添加人工批准步骤。\n",
    "\n",
    "我们可以使用 QuerySQLDatabaseTool 轻松地将查询执行添加到我们的链中："
   ]
  },
  {
   "cell_type": "code",
   "execution_count": 33,
   "id": "2a4c8c45-45ac-4d4b-9b1f-53c6bcb17bf5",
   "metadata": {},
   "outputs": [
    {
     "data": {
      "text/plain": [
       "'[(8,)]'"
      ]
     },
     "execution_count": 33,
     "metadata": {},
     "output_type": "execute_result"
    }
   ],
   "source": [
    "from operator import itemgetter\n",
    "from langchain_community.tools.sql_database.tool import QuerySQLDataBaseTool\n",
    "from langchain_core.runnables import RunnablePassthrough\n",
    "\n",
    "execute_query = QuerySQLDataBaseTool(db=db)\n",
    "write_query = create_sql_query_chain(llm,db)\n",
    "chain = RunnablePassthrough.assign(query=lambda x: write_query.invoke(x).split(\"\\n\")[0]) | execute_query\n",
    "chain.invoke({\"question\":\"有多少名员工?\"})"
   ]
  },
  {
   "cell_type": "markdown",
   "id": "279f6372-e511-418d-b235-e7504bc50c85",
   "metadata": {},
   "source": [
    "### 回答问题\n",
    "现在我们已经有了自动生成和执行查询的方法，我们只需要将原始问题和 SQL 查询结果结合起来即可生成最终答案。  \n",
    "我们可以通过再次将问题和结果传递给 LLM 来实现这一点："
   ]
  },
  {
   "cell_type": "code",
   "execution_count": 34,
   "id": "909a592b-8c45-423e-8486-3fbf4404e06f",
   "metadata": {},
   "outputs": [
    {
     "data": {
      "text/plain": [
       "'根据提供的SQL查询结果，有8名员工。'"
      ]
     },
     "execution_count": 34,
     "metadata": {},
     "output_type": "execute_result"
    }
   ],
   "source": [
    "from operator import itemgetter\n",
    "\n",
    "from langchain_core.output_parsers import StrOutputParser\n",
    "from langchain_core.prompts import PromptTemplate\n",
    "from langchain_core.runnables import RunnablePassthrough\n",
    "\n",
    "answer_prompt = PromptTemplate.from_template(\n",
    "    \"\"\"给出以下用户问题、相应的 SQL 查询和 SQL 结果，回答用户问题。\n",
    "\n",
    "Question: {question}\n",
    "SQL Query: {query}\n",
    "SQL Result: {result}\n",
    "Answer: \"\"\"\n",
    ")\n",
    "\n",
    "chain = (\n",
    "    RunnablePassthrough.assign(query=lambda x: write_query.invoke(x).split(\"\\n\")[0]).assign(\n",
    "        result=itemgetter(\"query\") | execute_query\n",
    "    )\n",
    "    | answer_prompt\n",
    "    | llm\n",
    "    | StrOutputParser()\n",
    ")\n",
    "\n",
    "chain.invoke({\"question\": \"有多少名员工?\"})"
   ]
  },
  {
   "cell_type": "markdown",
   "id": "dcf82558-91b9-4631-b033-11cc29b3c438",
   "metadata": {},
   "source": [
    "让我们回顾一下上述 LCEL 中发生的事情。假设调用了此链。\n",
    "\n",
    " - 在第一个 RunnablePassthrough.assign 之后，我们有一个包含两个元素的可运行程序：\n",
    "{\"question\": question, \"query\": write_query.invoke(question)}\n",
    "其中 write_query 将生成一个 SQL 查询来回答问题。\n",
    " - 在第二个 RunnablePassthrough.assign 之后，我们添加了第三个元素“result”，其中包含 execute_query.invoke(query)，其中 query 是在上一步中计算的。\n",
    " - 这三个输入被格式化为提示并传递到 LLM。\n",
    " - StrOutputParser() 提取输出消息的字符串内容。  \n",
    "请注意，我们正在将 LLM、工具、提示和其他链组合在一起，但由于每个链都实现了 Runnable 接口，因此它们的输入和输出可以以合理的方式绑定在一起。"
   ]
  },
  {
   "cell_type": "markdown",
   "id": "9032cfaa-a12b-4136-b11f-e03dd1cafb9d",
   "metadata": {},
   "source": [
    "## 代理\n",
    "LangChain 有一个 SQL 代理，它提供了一种比链更灵活的与 SQL 数据库交互的方式。使用 SQL 代理的主要优点是：\n",
    "\n",
    " - 它可以根据数据库的架构以及数据库的内容（如描述特定表）回答问题。\n",
    " - 它可以通过运行生成的查询、捕获回溯并正确地重新生成它来从错误中恢复。\n",
    " - 它可以根据需要多次查询数据库以回答用户问题。\n",
    " - 它将仅通过从相关表中检索架构来保存令牌。\n",
    "   \n",
    "为了初始化代理，我们将使用 SQLDatabaseToolkit 创建一组工具：\n",
    "\n",
    " - 创建和执行查询\n",
    " - 检查查询语法\n",
    " - 检索表描述\n",
    " - ... 等等"
   ]
  },
  {
   "cell_type": "code",
   "execution_count": 35,
   "id": "4c604dc2-4915-4a0d-a581-eba30c4de0ea",
   "metadata": {},
   "outputs": [
    {
     "data": {
      "text/plain": [
       "[QuerySQLDataBaseTool(description=\"Input to this tool is a detailed and correct SQL query, output is a result from the database. If the query is not correct, an error message will be returned. If an error is returned, rewrite the query, check the query, and try again. If you encounter an issue with Unknown column 'xxxx' in 'field list', use sql_db_schema to query the correct table fields.\", db=<langchain_community.utilities.sql_database.SQLDatabase object at 0x000002783ED7ABD0>),\n",
       " InfoSQLDatabaseTool(description='Input to this tool is a comma-separated list of tables, output is the schema and sample rows for those tables. Be sure that the tables actually exist by calling sql_db_list_tables first! Example Input: table1, table2, table3', db=<langchain_community.utilities.sql_database.SQLDatabase object at 0x000002783ED7ABD0>),\n",
       " ListSQLDatabaseTool(db=<langchain_community.utilities.sql_database.SQLDatabase object at 0x000002783ED7ABD0>),\n",
       " QuerySQLCheckerTool(description='Use this tool to double check if your query is correct before executing it. Always use this tool before executing a query with sql_db_query!', db=<langchain_community.utilities.sql_database.SQLDatabase object at 0x000002783ED7ABD0>, llm=ChatOpenAI(client=<openai.resources.chat.completions.Completions object at 0x0000027841B28890>, async_client=<openai.resources.chat.completions.AsyncCompletions object at 0x0000027841B61010>, model_name='glm-4', openai_api_key=SecretStr('**********'), openai_api_base='https://open.bigmodel.cn/api/paas/v4', openai_proxy=''), llm_chain=LLMChain(prompt=PromptTemplate(input_variables=['dialect', 'query'], template='\\n{query}\\nDouble check the {dialect} query above for common mistakes, including:\\n- Using NOT IN with NULL values\\n- Using UNION when UNION ALL should have been used\\n- Using BETWEEN for exclusive ranges\\n- Data type mismatch in predicates\\n- Properly quoting identifiers\\n- Using the correct number of arguments for functions\\n- Casting to the correct data type\\n- Using the proper columns for joins\\n\\nIf there are any of the above mistakes, rewrite the query. If there are no mistakes, just reproduce the original query.\\n\\nOutput the final SQL query only.\\n\\nSQL Query: '), llm=ChatOpenAI(client=<openai.resources.chat.completions.Completions object at 0x0000027841B28890>, async_client=<openai.resources.chat.completions.AsyncCompletions object at 0x0000027841B61010>, model_name='glm-4', openai_api_key=SecretStr('**********'), openai_api_base='https://open.bigmodel.cn/api/paas/v4', openai_proxy='')))]"
      ]
     },
     "execution_count": 35,
     "metadata": {},
     "output_type": "execute_result"
    }
   ],
   "source": [
    "from langchain_community.agent_toolkits import SQLDatabaseToolkit\n",
    "\n",
    "toolkit = SQLDatabaseToolkit(db=db,llm=llm)\n",
    "\n",
    "tools = toolkit.get_tools()\n",
    "\n",
    "tools"
   ]
  },
  {
   "cell_type": "markdown",
   "id": "de0f6368-819a-420a-86b5-ef621857cfaf",
   "metadata": {},
   "source": [
    "### System Prompt\n",
    "我们还想为我们的代理创建一个系统提示。这将包括如何操作的说明。"
   ]
  },
  {
   "cell_type": "code",
   "execution_count": 36,
   "id": "74535d8d-c1b4-4e11-8e87-1a68c2c970d3",
   "metadata": {},
   "outputs": [],
   "source": [
    "from langchain_core.messages import SystemMessage\n",
    "\n",
    "SQL_PREFIX = \"\"\"您是设计用于与 SQL 数据库交互的代理。\n",
    "给定一个输入问题，创建一个语法正确的 SQLite 查询来运行，然后查看查询结果并返回答案。\n",
    "除非用户指定他们希望获得的特定示例数量，否则请始终将查询限制为最多 5 个结果。\n",
    "您可以按相关列对结果进行排序，以返回数据库中最有趣的示例。\n",
    "切勿查询特定表中的所有列，只询问给定问题的相关列。\n",
    "您可以使用与数据库交互的工具。\n",
    "仅使用以下工具。仅使用以下工具返回的信息来构建最终答案。\n",
    "在执行查询之前，您必须仔细检查查询。如果在执行查询时出现错误，请重写查询并重试。\n",
    "\n",
    "不要对数据库执行任何 DML 语句（INSERT、UPDATE、DELETE、DROP 等）。\n",
    "\n",
    "首先，您应该始终查看数据库中的表以查看可以查询的内容。\n",
    "不要跳过此步骤。\n",
    "然后您应该查询最相关的表的模式。\"\"\"\n",
    "\n",
    "system_message = SystemMessage(content=SQL_PREFIX)"
   ]
  },
  {
   "cell_type": "code",
   "execution_count": 37,
   "id": "83a562f2-1f6b-4f58-bbba-c4cd9d124b14",
   "metadata": {},
   "outputs": [],
   "source": [
    "from langchain_core.messages import HumanMessage\n",
    "from langgraph.prebuilt import create_react_agent\n",
    "\n",
    "agent_executor = create_react_agent(llm, tools, messages_modifier=system_message)"
   ]
  },
  {
   "cell_type": "code",
   "execution_count": 38,
   "id": "20851417-bc8c-4034-bdb1-5aefd902b6e4",
   "metadata": {},
   "outputs": [
    {
     "name": "stdout",
     "output_type": "stream",
     "text": [
      "{'agent': {'messages': [AIMessage(content='', additional_kwargs={'tool_calls': [{'id': 'call_8775526313750640562', 'function': {'arguments': '{}', 'name': 'sql_db_list_tables'}, 'type': 'function', 'index': 0}]}, response_metadata={'token_usage': {'completion_tokens': 13, 'prompt_tokens': 728, 'total_tokens': 741}, 'model_name': 'glm-4', 'system_fingerprint': None, 'finish_reason': 'tool_calls', 'logprobs': None}, id='run-63a92921-8a96-4df1-aaab-3126da4b3827-0', tool_calls=[{'name': 'sql_db_list_tables', 'args': {}, 'id': 'call_8775526313750640562'}])]}}\n",
      "----\n",
      "{'tools': {'messages': [ToolMessage(content='Album, Artist, Customer, Employee, Genre, Invoice, InvoiceLine, MediaType, Playlist, PlaylistTrack, Track', name='sql_db_list_tables', tool_call_id='call_8775526313750640562')]}}\n",
      "----\n",
      "{'agent': {'messages': [AIMessage(content='', additional_kwargs={'tool_calls': [{'id': 'call_8775532807741551406', 'function': {'arguments': '{\"table_names\":\"Customer, Invoice\"}', 'name': 'sql_db_schema'}, 'type': 'function', 'index': 0}]}, response_metadata={'token_usage': {'completion_tokens': 18, 'prompt_tokens': 766, 'total_tokens': 784}, 'model_name': 'glm-4', 'system_fingerprint': None, 'finish_reason': 'tool_calls', 'logprobs': None}, id='run-ae924c5b-0819-4ede-b5a1-3cb5385e72e5-0', tool_calls=[{'name': 'sql_db_schema', 'args': {'table_names': 'Customer, Invoice'}, 'id': 'call_8775532807741551406'}])]}}\n",
      "----\n",
      "{'tools': {'messages': [ToolMessage(content='\\nCREATE TABLE \"Customer\" (\\n\\t\"CustomerId\" INTEGER NOT NULL, \\n\\t\"FirstName\" NVARCHAR(40) NOT NULL, \\n\\t\"LastName\" NVARCHAR(20) NOT NULL, \\n\\t\"Company\" NVARCHAR(80), \\n\\t\"Address\" NVARCHAR(70), \\n\\t\"City\" NVARCHAR(40), \\n\\t\"State\" NVARCHAR(40), \\n\\t\"Country\" NVARCHAR(40), \\n\\t\"PostalCode\" NVARCHAR(10), \\n\\t\"Phone\" NVARCHAR(24), \\n\\t\"Fax\" NVARCHAR(24), \\n\\t\"Email\" NVARCHAR(60) NOT NULL, \\n\\t\"SupportRepId\" INTEGER, \\n\\tPRIMARY KEY (\"CustomerId\"), \\n\\tFOREIGN KEY(\"SupportRepId\") REFERENCES \"Employee\" (\"EmployeeId\")\\n)\\n\\n/*\\n3 rows from Customer table:\\nCustomerId\\tFirstName\\tLastName\\tCompany\\tAddress\\tCity\\tState\\tCountry\\tPostalCode\\tPhone\\tFax\\tEmail\\tSupportRepId\\n1\\tLuís\\tGonçalves\\tEmbraer - Empresa Brasileira de Aeronáutica S.A.\\tAv. Brigadeiro Faria Lima, 2170\\tSão José dos Campos\\tSP\\tBrazil\\t12227-000\\t+55 (12) 3923-5555\\t+55 (12) 3923-5566\\tluisg@embraer.com.br\\t3\\n2\\tLeonie\\tKöhler\\tNone\\tTheodor-Heuss-Straße 34\\tStuttgart\\tNone\\tGermany\\t70174\\t+49 0711 2842222\\tNone\\tleonekohler@surfeu.de\\t5\\n3\\tFrançois\\tTremblay\\tNone\\t1498 rue Bélanger\\tMontréal\\tQC\\tCanada\\tH2G 1A7\\t+1 (514) 721-4711\\tNone\\tftremblay@gmail.com\\t3\\n*/\\n\\n\\nCREATE TABLE \"Invoice\" (\\n\\t\"InvoiceId\" INTEGER NOT NULL, \\n\\t\"CustomerId\" INTEGER NOT NULL, \\n\\t\"InvoiceDate\" DATETIME NOT NULL, \\n\\t\"BillingAddress\" NVARCHAR(70), \\n\\t\"BillingCity\" NVARCHAR(40), \\n\\t\"BillingState\" NVARCHAR(40), \\n\\t\"BillingCountry\" NVARCHAR(40), \\n\\t\"BillingPostalCode\" NVARCHAR(10), \\n\\t\"Total\" NUMERIC(10, 2) NOT NULL, \\n\\tPRIMARY KEY (\"InvoiceId\"), \\n\\tFOREIGN KEY(\"CustomerId\") REFERENCES \"Customer\" (\"CustomerId\")\\n)\\n\\n/*\\n3 rows from Invoice table:\\nInvoiceId\\tCustomerId\\tInvoiceDate\\tBillingAddress\\tBillingCity\\tBillingState\\tBillingCountry\\tBillingPostalCode\\tTotal\\n1\\t2\\t2021-01-01 00:00:00\\tTheodor-Heuss-Straße 34\\tStuttgart\\tNone\\tGermany\\t70174\\t1.98\\n2\\t4\\t2021-01-02 00:00:00\\tUllevålsveien 14\\tOslo\\tNone\\tNorway\\t0171\\t3.96\\n3\\t8\\t2021-01-03 00:00:00\\tGrétrystraat 63\\tBrussels\\tNone\\tBelgium\\t1000\\t5.94\\n*/', name='sql_db_schema', tool_call_id='call_8775532807741551406')]}}\n",
      "----\n",
      "{'agent': {'messages': [AIMessage(content='', additional_kwargs={'tool_calls': [{'id': 'call_8775522053143045691', 'function': {'arguments': '{\"query\":\"SELECT Customer.Country, SUM(Invoice.Total) AS TotalSpent FROM Customer JOIN Invoice ON Customer.CustomerId = Invoice.CustomerId GROUP BY Customer.Country ORDER BY TotalSpent DESC LIMIT 5\"}', 'name': 'sql_db_query'}, 'type': 'function', 'index': 0}]}, response_metadata={'token_usage': {'completion_tokens': 52, 'prompt_tokens': 1481, 'total_tokens': 1533}, 'model_name': 'glm-4', 'system_fingerprint': None, 'finish_reason': 'tool_calls', 'logprobs': None}, id='run-78abab5b-e322-4852-a8e5-487aa028d8df-0', tool_calls=[{'name': 'sql_db_query', 'args': {'query': 'SELECT Customer.Country, SUM(Invoice.Total) AS TotalSpent FROM Customer JOIN Invoice ON Customer.CustomerId = Invoice.CustomerId GROUP BY Customer.Country ORDER BY TotalSpent DESC LIMIT 5'}, 'id': 'call_8775522053143045691'}])]}}\n",
      "----\n",
      "{'tools': {'messages': [ToolMessage(content=\"[('USA', 523.06), ('Canada', 303.96), ('France', 195.1), ('Brazil', 190.1), ('Germany', 156.48)]\", name='sql_db_query', tool_call_id='call_8775522053143045691')]}}\n",
      "----\n",
      "{'agent': {'messages': [AIMessage(content='根据查询结果，美国的顾客花费最多，总花费为523.06美元。其次是加拿大，总花费为303.96美元。排名第三的是法国，总花费为195.1美元。巴西和德国分别排在第四和第五位，分别花费了190.1美元和156.48美元。', response_metadata={'token_usage': {'completion_tokens': 67, 'prompt_tokens': 1571, 'total_tokens': 1638}, 'model_name': 'glm-4', 'system_fingerprint': None, 'finish_reason': 'stop', 'logprobs': None}, id='run-0b4b85a0-0e6a-4793-9f64-d36870de3b8c-0')]}}\n",
      "----\n"
     ]
    }
   ],
   "source": [
    "for s in agent_executor.stream(\n",
    "    {\"messages\": [HumanMessage(content=\"哪个国家的顾客花费最多?\")]}\n",
    "):\n",
    "    print(s)\n",
    "    print(\"----\")"
   ]
  },
  {
   "cell_type": "markdown",
   "id": "3f06a9eb-92d7-4095-a19f-b19de9601eec",
   "metadata": {},
   "source": [
    "## 处理高基数列\n",
    "为了过滤包含专有名词（例如地址、歌曲名称或艺术家）的列，我们首先需要仔细检查拼写，以便正确过滤数据。\n",
    "\n",
    "我们可以通过创建一个向量存储来实现这一点，该向量存储包含数据库中存在的所有不同专有名词。  \n",
    "然后，我们可以让代理在每次用户在问题中包含专有名词时查询该向量存储，以找到该单词的正确拼写。  \n",
    "通过这种方式，代理可以在构建目标查询之前确保它了解用户指的是哪个实体。\n",
    "\n",
    "首先，我们需要每个实体的唯一值，为此我们定义一个函数将结果解析为元素列表："
   ]
  },
  {
   "cell_type": "code",
   "execution_count": 39,
   "id": "d824bf1e-4454-44cf-aa4c-7fa769e7c269",
   "metadata": {},
   "outputs": [
    {
     "name": "stdout",
     "output_type": "stream",
     "text": [
      "['UB40', 'Sabotage E Instituto', \"Guns N' Roses\", 'JET', 'Planet Hemp']\n"
     ]
    },
    {
     "data": {
      "text/plain": [
       "['B-Sides -',\n",
       " 'St. Anger',\n",
       " 'The Real Thing',\n",
       " 'Sir Neville Marriner: A Celebration',\n",
       " 'International Superhits']"
      ]
     },
     "execution_count": 39,
     "metadata": {},
     "output_type": "execute_result"
    }
   ],
   "source": [
    "import ast\n",
    "import re\n",
    "\n",
    "def query_as_list(db,query):\n",
    "    res = db.run(query)\n",
    "    res = [el for sub in ast.literal_eval(res) for el in sub if el]\n",
    "    res = [re.sub(r\"\\b\\d+\\b\",\"\",string).strip() for string in res]\n",
    "    return list(set(res))\n",
    "\n",
    "artists = query_as_list(db, \"SELECT Name FROM Artist\")\n",
    "print(artists[:5])\n",
    "albums = query_as_list(db, \"SELECT Title FROM Album\")\n",
    "albums[:5]"
   ]
  },
  {
   "cell_type": "markdown",
   "id": "9b88f04a-4d6e-42a3-98a7-928aff7141e4",
   "metadata": {},
   "source": [
    "利用这个函数，我们可以创建一个代理可以自行执行的检索工具。"
   ]
  },
  {
   "cell_type": "code",
   "execution_count": 45,
   "id": "edaeff93-7de6-4bbf-9938-15754978b439",
   "metadata": {},
   "outputs": [],
   "source": [
    "from langchain.agents.agent_toolkits import create_retriever_tool\n",
    "from langchain_community.vectorstores import FAISS\n",
    "from langchain_community.embeddings import BaichuanTextEmbeddings\n",
    "\n",
    "\n",
    "embeddings = BaichuanTextEmbeddings(baichuan_api_key=os.environ[\"BAICHUAN_API_KEY\"])\n",
    "\n",
    "vector_db = FAISS.from_texts(artists[:5] + albums[:5], embeddings)\n",
    "retriever = vector_db.as_retriever(search_kwargs={\"k\": 5})\n",
    "description = \"\"\"使用查找要过滤的值。输入是专有名词的近似拼写，输出是 \\\n",
    "有效专有名词。使用与搜索最相似的名词。\"\"\"\n",
    "retriever_tool = create_retriever_tool(\n",
    "    retriever,\n",
    "    name=\"搜索专有名词\",\n",
    "    description=description,\n",
    ")"
   ]
  },
  {
   "cell_type": "code",
   "execution_count": 50,
   "id": "ad5131ee-b5a4-4617-a2b2-26fbdf5c31fb",
   "metadata": {},
   "outputs": [
    {
     "name": "stdout",
     "output_type": "stream",
     "text": [
      "Guns N' Roses\n",
      "\n",
      "B-Sides -\n",
      "\n",
      "St. Anger\n",
      "\n",
      "The Real Thing\n",
      "\n",
      "Sir Neville Marriner: A Celebration\n"
     ]
    }
   ],
   "source": [
    "print(retriever_tool.invoke(\"Guns N' Roses\"))"
   ]
  },
  {
   "cell_type": "markdown",
   "id": "55622b93-ae05-4aff-b2db-852b9f0277e2",
   "metadata": {},
   "source": [
    "这样，如果代理确定需要根据“爱丽丝链”之类的艺术家编写过滤器，它可以首先使用检索工具来观察列的相关值。\n",
    "\n",
    "将它们放在一起："
   ]
  },
  {
   "cell_type": "code",
   "execution_count": 47,
   "id": "35421e5e-28fd-4c9b-9ec5-01adc3af32b8",
   "metadata": {},
   "outputs": [],
   "source": [
    "llm = ChatOpenAI(\n",
    "    base_url=\"http://api.baichuan-ai.com/v1\",\n",
    "    api_key=os.environ[\"BAICHUAN_API_KEY\"],\n",
    "    model=\"Baichuan4\",\n",
    ")"
   ]
  },
  {
   "cell_type": "code",
   "execution_count": 48,
   "id": "5d4ca454-3509-4754-ad3c-c72eb46ce818",
   "metadata": {},
   "outputs": [],
   "source": [
    "system = \"\"\"您是设计用于与 SQL 数据库交互的代理。\n",
    "给定一个输入问题，创建一个语法正确的 SQLite 查询来运行，然后查看查询结果并返回答案。\n",
    "除非用户指定他们希望获得的特定示例数量，否则请始终将查询限制为最多 5 个结果。\n",
    "您可以按相关列对结果进行排序，以返回数据库中最有趣的示例。\n",
    "切勿查询特定表中的所有列，仅询问给定问题的相关列。\n",
    "您可以使用与数据库交互的工具。\n",
    "仅使用给定的工具。仅使用工具返回的信息来构建最终答案。\n",
    "在执行查询之前，您必须仔细检查查询。如果在执行查询时出现错误，请重写查询并重试。\n",
    "\n",
    "请勿对数据库执行任何 DML 语句（INSERT、UPDATE、DELETE、DROP 等）。\n",
    "\n",
    "您可以访问以下表格：{table_names}\n",
    "\n",
    "如果您需要过滤专有名词，则必须始终先使用“search_proper_nouns”工具查找过滤值！\n",
    "不要试图猜测专有名词 - 使用此功能查找类似名称。\"\"\".format(\n",
    "    table_names=db.get_usable_table_names()\n",
    ")\n",
    "\n",
    "system_message = SystemMessage(content=system)\n",
    "\n",
    "tools.append(retriever_tool)\n",
    "\n",
    "agent = create_react_agent(llm, tools, messages_modifier=system_message)"
   ]
  },
  {
   "cell_type": "code",
   "execution_count": 52,
   "id": "4e66fa84-e2e4-48fb-8fec-8e344351ef10",
   "metadata": {},
   "outputs": [
    {
     "name": "stdout",
     "output_type": "stream",
     "text": [
      "{'agent': {'messages': [AIMessage(content='', additional_kwargs={'tool_calls': [{'id': 'f9f9016NGeWoJtV', 'function': {'arguments': '{\"query\": \"Guns N\\' Roses\"}', 'name': '搜索专有名词'}, 'type': 'function'}]}, response_metadata={'token_usage': {'completion_tokens': 19, 'prompt_tokens': 790, 'total_tokens': 809}, 'model_name': 'Baichuan4', 'system_fingerprint': None, 'finish_reason': 'tool_calls', 'logprobs': None}, id='run-6ce97472-766d-471d-8550-9cd2031cbd4e-0', tool_calls=[{'name': '搜索专有名词', 'args': {'query': \"Guns N' Roses\"}, 'id': 'f9f9016NGeWoJtV'}])]}}\n",
      "----\n",
      "{'tools': {'messages': [ToolMessage(content=\"Guns N' Roses\\n\\nB-Sides -\\n\\nSt. Anger\\n\\nThe Real Thing\\n\\nSir Neville Marriner: A Celebration\", name='搜索专有名词', tool_call_id='f9f9016NGeWoJtV')]}}\n",
      "----\n",
      "{'agent': {'messages': [AIMessage(content='', additional_kwargs={'tool_calls': [{'id': '193c016NGeaosjx', 'function': {'arguments': '{\"query\": \"SELECT COUNT(*) FROM Album WHERE Title = \\'B-Sides -\\' OR Title = \\'St. Anger\\' OR Title = \\'The Real Thing\\' OR Title = \\'Sir Neville Marriner: A Celebration\\'\"}', 'name': 'sql_db_query'}, 'type': 'function'}]}, response_metadata={'token_usage': {'completion_tokens': 67, 'prompt_tokens': 858, 'total_tokens': 925}, 'model_name': 'Baichuan4', 'system_fingerprint': None, 'finish_reason': 'tool_calls', 'logprobs': None}, id='run-f990fffb-7575-4ddb-ae38-a3cdf26bb6a2-0', tool_calls=[{'name': 'sql_db_query', 'args': {'query': \"SELECT COUNT(*) FROM Album WHERE Title = 'B-Sides -' OR Title = 'St. Anger' OR Title = 'The Real Thing' OR Title = 'Sir Neville Marriner: A Celebration'\"}, 'id': '193c016NGeaosjx'}])]}}\n",
      "----\n",
      "{'tools': {'messages': [ToolMessage(content='[(3,)]', name='sql_db_query', tool_call_id='193c016NGeaosjx')]}}\n",
      "----\n",
      "{'agent': {'messages': [AIMessage(content=\"Guns N' Roses has 3 albums in the database.\", response_metadata={'token_usage': {'completion_tokens': 14, 'prompt_tokens': 946, 'total_tokens': 960}, 'model_name': 'Baichuan4', 'system_fingerprint': None, 'finish_reason': 'stop', 'logprobs': None}, id='run-93525e86-cc58-482d-b89f-e36094a1e924-0')]}}\n",
      "----\n"
     ]
    }
   ],
   "source": [
    "for s in agent.stream(\n",
    "    {\"messages\": [HumanMessage(content=\"How many albums does Guns N' Roses have?\")]}\n",
    "):\n",
    "    print(s)\n",
    "    print(\"----\")"
   ]
  },
  {
   "cell_type": "code",
   "execution_count": null,
   "id": "5101557d-7442-4558-a124-f1466f952d98",
   "metadata": {},
   "outputs": [],
   "source": []
  }
 ],
 "metadata": {
  "kernelspec": {
   "display_name": "Python 3 (ipykernel)",
   "language": "python",
   "name": "python3"
  },
  "language_info": {
   "codemirror_mode": {
    "name": "ipython",
    "version": 3
   },
   "file_extension": ".py",
   "mimetype": "text/x-python",
   "name": "python",
   "nbconvert_exporter": "python",
   "pygments_lexer": "ipython3",
   "version": "3.11.9"
  }
 },
 "nbformat": 4,
 "nbformat_minor": 5
}
