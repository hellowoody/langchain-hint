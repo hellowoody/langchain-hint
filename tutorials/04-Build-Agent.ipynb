{
 "cells": [
  {
   "cell_type": "markdown",
   "id": "8b8f3128-e473-4a91-bb9f-f44c79d9fe07",
   "metadata": {},
   "source": [
    "# Build an Agent - 构建代理\n",
    "\n",
    "语言模型本身无法采取行动 - 它们只是输出文本。LangChain 的一个重要用例是创建代理。  \n",
    "代理是使用 LLM 作为推理引擎来确定要采取哪些操作以及要传递给它们的输入的系统。执行操作后，结果可以反馈到 LLM 中，以确定是否需要更多操作，或者是否可以完成。\n",
    "\n",
    "在本教程中，我们将构建一个可以与搜索引擎交互的代理。您将能够向该代理提问，观察它调用搜索工具，并与其进行对话。 \n",
    "\n",
    "## 概念\n",
    "在本教程中，您将学习如何：\n",
    "\n",
    " - 使用语言模型，特别是其工具调用能力\n",
    " - 使用搜索工具从互联网上查找信息\n",
    " - 编写 LangGraph 代理，使用 LLM 确定操作然后执行它们\n"
   ]
  },
  {
   "cell_type": "code",
   "execution_count": 7,
   "id": "d94041cb-d9f8-4ed4-af16-39a2ef8798ca",
   "metadata": {},
   "outputs": [],
   "source": [
    "# 获取你的智谱 API Key\n",
    "# 在当前文件下创建一个.env文件，将api-key复制进去，如ZHIPUAI_API_KEY = \"api-key\"\n",
    "\n",
    "from dotenv import load_dotenv,find_dotenv\n",
    "import os \n",
    "_ = load_dotenv(find_dotenv())"
   ]
  },
  {
   "cell_type": "markdown",
   "id": "131a74fe-2c43-4f60-b778-80a752c90c57",
   "metadata": {},
   "source": [
    "## Define tools - 定义工具\n",
    "\n",
    "我们首先需要创建我们想要使用的工具。我们选择的主要工具是 Tavily - 一个搜索引擎。我们在 LangChain 中有一个内置工具，可以轻松使用 Tavily 搜索引擎作为工具。"
   ]
  },
  {
   "cell_type": "code",
   "execution_count": 14,
   "id": "44241527-f414-4927-9c90-1f93a20f12db",
   "metadata": {},
   "outputs": [
    {
     "name": "stdout",
     "output_type": "stream",
     "text": [
      "[{'url': 'https://www.tianqi.com/tianjin/', 'content': '天气预警\\n天气插件\\n微信公众号\\n扫码随时看天气\\n天津天气\\n14℃\\n24小时天气\\n天津一周天气\\n天津15天天气\\n天津30天天气\\n天津主要地区天气预报\\n晴3 ~ 15℃\\n多云1 ~ 15℃\\n多云4 ~ 16℃\\n多云4 ~ 16℃\\n多云4 ~ 16℃\\n多云3 ~ 12℃\\n多云4 ~ 15℃\\n多云4 ~ 13℃\\n多云4 ~ 15℃\\n多云4 ~ 16℃\\n多云5 ~ 16℃\\n多云5 ~ 16℃\\n多云4 ~ 16℃\\n多云4 ~ 16℃\\n多云4 ~ 16℃\\n多云4 ~ 12℃\\n多云3 ~ 12℃\\n多云4 ~ 16℃\\n多云1 ~ 13℃\\n天津周边市县天气预报\\n晴4 ~ 15℃\\n晴2 ~ 13℃\\n晴4 ~ 17℃\\n晴7 ~ 14℃\\n晴5 ~ 16℃\\n多云3 ~ 18℃\\n多云6 ~ 18℃\\n多云0 ~ 18℃\\n小雨-1 ~ 14℃\\n多云2 ~ 17℃\\n多云0 ~ 13℃\\n晴7 ~ 20℃\\n天气生活\\n如何破解wifi密码 wifi密码怎么简单破解\\n2022-08-09\\n维生素c的作用和功效 吃维生素c有什么好处\\n2024-03-18\\n2024年元宵节怎么休 2024年元宵节怎么放假\\n2024-03-12\\n2024西双版纳不跟团怎么游 西双版纳游玩攻略自助游\\n2024-02-22\\n劳动法2024年新规定辞退补偿 2024劳动法辞退员工的补偿标准\\n2024-03-12\\n\\u200b元宵节是怎么来的故事传说 元宵节的由来\\n2024-03-13\\n2024去云南旅游最佳路线 云南旅游的最佳路线安排\\n2024-02-22\\n芒果,芒果不能和什么一起吃 芒果与什么食物相克\\n2024-03-18\\n水杨酸的作用和危害 水杨酸对皮肤的作用\\n2024-03-18\\n毛豆煮多久 毛豆煮多长时间\\n2022-08-09\\n十种最佳降糖主食 什么主食可以降血糖\\n2024-03-18\\n罗汉果泡水的正确方法 罗汉果泡水喝的功效与作用\\n2024-03-18\\n鲍鱼怎么做好吃 鲍鱼的家常做法\\n2022-08-10\\n元宵节的祝福语句有哪些 元宵节祝福语大全\\n2024-03-13\\ncpu是什么 cpu功能是什么\\n2022-06-07\\n城市文化\\n天津周边资讯\\n天津天气预报资讯\\n天津今日生活指数\\n无需\\n较适宜\\n最弱\\n极易发\\n一般般\\n凉爽\\n适宜\\n适宜\\n天津邮编查询\\n精选问答\\n• 什么是涨停跌停\\n• 外汇交易平台的区别和种类是什么\\n• 基金赎回怎么算收益\\n• 什么样的合同称为无效合同\\n• 信用卡上可以多还钱吗\\n• 有三高能买保险吗\\n• 保单贷款有几种形式\\n• 微信转账转错了怎么追回\\n• 储蓄卡冲正存入是什么意思\\n• 央行LPR是什么意思\\n四季豆干煸茄子\\n香辣金针菇\\n五香豆腐干\\n虾仁蒸蛋\\n天津十大景点天气\\n• 天津南翠屏滑雪场\\n• 水上公园滑雪场\\n•\\n蓟县玉龙滑雪场\\n• 南翠屏山滑雪场\\n• 毛家峪印象滑雪场\\n• 帝景温泉滑雪场\\n• 民园广场\\n• 蓟洲国际滑雪场\\n• 盘山滑雪场\\n• 天津热带植物观光园\\n天津十大美食排行\\n1上岗子面茶\\n2耳朵眼炸糕\\n3果仁张\\n4天津面塑\\n5天津剪纸\\n6泥人张彩塑\\n7风筝魏\\n8杨柳青年画\\n9十八街麻花\\n10石头门坎素包\\n最新天气资讯\\n2024年3月18日环境气象预报:西北地区东部华北西部有沙尘天气\\n据最新3月18日环境气象预报显示，18日，受冷空气影响，内蒙古中西部、宁夏、甘肃北部等地有扬沙或浮尘天气，不过未来一周，全国大部地区大气扩散条件较好，无持续性污染天气，并且也没有无持续性霾天气。\\n2024年3月18日环境气象预报:西北地区东部华北西部有沙尘天气\\n2024年3月18日国外天气预报：加拿大美国等地有较强雨雪\\n据最新2024年3月18日国外天气预报显示，未来三天，受极涡冷空气影响，加拿大中东部、美国中东部等地将有新一轮大范围雨雪降温天气，并且受热带气旋“梅甘”影响，澳大利亚北部沿海有大到暴雨、局地大暴雨，而且澳大利亚中部和东部地区日最高气温可达35～38℃，局地超40℃。\\n2024年3月18日国外天气预报：加拿大美国等地有较强雨雪\\n全国未来十天天气预报：江南北部江淮等地后期降雨增强\\n据气象台最新发布全国未来十天天气预报显示，从3月17-26日，江淮、江汉西部和东部、江南北部、华南北部、四川盆地东部、贵州东北部、云南西北部、西藏东南部等地累计降水量有50～80毫米，并且新疆西部和北部、宁夏、陕西西部、内蒙古中西部、华北东部等地气温较常年同期偏高2～4℃。\\n全国未来十天天气预报：江南北部江淮等地后期降雨增强\\n青海地震最新消息：玉树州杂多县发生3.6级地震\\n据中国地震台网发布地震最新消息，今天(18日)9时24分青海玉树州杂多县发生3.6级地震，震源深度10公里。虽然地震级别不算高，但也给不少地方带来了震感。那么，青海为什么会地震呢?位于什么地震带?一起来了解。\\n青海地震最新消息：玉树州杂多县发生3.6级地震\\n3月18日青海地震最新消息：树州杂多县发生4.3级地震\\n据中国地震台网发布地震最新消息，今天(18日)上午6时5分青海玉树州杂多县发生4.3级地震，震源深度10公里。此次地震级别相对较高，而从网友的反映来看，除了震中之外，还有周边有明显震感。\\n3月18日青海地震最新消息：树州杂多县发生4.3级地震\\n2024全国交通天气最新预报:3月18日高速路况最新实时查询\\n据2024全国交通天气最新预报显示，内蒙古东南部、吉林东部、西藏东部、青海东部、甘肃东南部、河北北部、川西高原北部等地部分地区有小雪或雨夹雪，其中，西藏东北部等地部分地区有中到大雪。西北地区东南部、黄淮西部、江淮西部、江汉、江南、西南地区东部、华南大部等地部分地区有小到中雨，其中，湖南北部、江西北部、浙江西部等地部分地区有大雨。另外，甘肃东北部、陕西中部、浙江东南部、福建中部和东部、江西中部、湖南南部、贵州东北部、广东南部和东北部、广西东北部等地局地有雾。\\n2024全国交通天气最新预报:3月18日高速路况最新实时查询\\n2024年3月18日森林火险气象预报：东北广西四川等部分地区森林火险气象等级较高\\n相信大家都知道森林火灾不但给人类社会带来了巨大的经济损失和生命危险，而且在火灾肆虐时，农田、房屋、基础设施都有可能被波及，造成巨额财产损失，更为严重的是，火灾往往伴随着浓烟滚滚和热浪袭来，给人们的生命安全带来极大威胁，据最新气象部门发布的预报，东北广西四川等部分地区森林火险气象等级较高，下面就一起去了解了解!\\n2024年3月18日森林火险气象预报：东北广西四川等部分地区森林火险气象等级较高\\n3月18日健康气象预报：西北新疆西藏紫外线强度强\\n现在紫外线的高度敏感性已经成为人们关注的焦点。而且据统计数据显示，全球范围内，紫外线强度呈逐年上升的趋势，这意味着我们的皮肤更容易受到紫外线的伤害。而在日常生活中，很多人对紫外线的危害认识不足，导致在户外活动时防晒措施不到位，加剧了皮肤老化和色斑等问题的产生。据中国气象局公共气象服务中心发布的3月18日健康气象预报，预计西北新疆西藏紫外线强度强。\\n3月18日健康气象预报：西北新疆西藏紫外线强度强\\n冰岛雷克雅内斯半岛火山喷发 熔岩向南流了约1200米\\n火山喷发是大自然中令人震撼的现象之一，蕴含着无法想象的能量和破坏力。从地质学角度看，火山喷发是地球内部能量释放的结果，也是地球演化过程中的重要一环。据冰岛国家广播公司报道，当地时间3月16日20时23分，冰岛西南部雷克雅内斯半岛的火山再次喷发，并且一个半小时内，熔岩向南流了约1200米。\\n冰岛雷克雅内斯半岛火山喷发 熔岩向南流了约1200米\\n广东今日雨雾天气发展增多 广州回南天又上线\\n不知道大家发现没有，就是最近一段时间广东的天气，似乎一直在回南和降温间来回拉扯，而且就在17日的时候空气中有些湿润了，没错，又双叒回南了，并且据气象预报显示，广东今日雨雾天气发展增多，广州回南天又上线，春天天气多变，气温起伏大，大家要多留意最新天气消息。\\n广东今日雨雾天气发展增多 广州回南天又上线\\n温馨提示：数据来源中国气象局，仅供参考\\n本站部分文字内容、图片选取自网络，如侵权请联系删除，联系邮箱:kf@tianqi.com\\n渝公网安备 50010302002269号'}, {'url': 'http://www.weather.com.cn/weathern/101030100.shtml', 'content': '天津天气预报，及时准确发布中央气象台天气信息，便捷查询北京今日天气，天津周末天气，天津一周天气预报，天津15日天气预报，天津40日天气预报，天津天气预报还提供天津各区县的生活指数、健康指数、交通指数、旅游指数，及时发布天津气象预警信号、各类气象资讯。'}]\n"
     ]
    }
   ],
   "source": [
    "from langchain_community.tools.tavily_search import TavilySearchResults\n",
    "\n",
    "search = TavilySearchResults(max_results=2,tavily_api_key=os.environ[\"TAVILY_API_KEY\"])\n",
    "search_results = search.invoke(\"天津的天气怎么样?\")\n",
    "print(search_results)\n",
    "# 如果我们愿意，我们可以创建其他工具。\n",
    "# 一旦我们拥有了所有想要的工具，我们就可以将它们放入一个列表中。\n",
    "tools = [search]"
   ]
  },
  {
   "cell_type": "markdown",
   "id": "dab7dd28-e4fb-4f9a-98e8-df9fa0f83275",
   "metadata": {},
   "source": [
    "# Using Language Models 使用语言模型\n",
    "\n",
    "接下来，让我们学习如何使用语言模型来调用工具。LangChain 支持许多不同的语言模型,我们用的清华的智谱模型。"
   ]
  },
  {
   "cell_type": "code",
   "execution_count": 15,
   "id": "42b7c56f-8c61-4cd5-b0f5-0507ef3a777f",
   "metadata": {},
   "outputs": [],
   "source": [
    "from langchain_openai import ChatOpenAI\n",
    "\n",
    "model = ChatOpenAI(\n",
    "    base_url=\"https://open.bigmodel.cn/api/paas/v4\",\n",
    "    api_key=os.environ[\"ZHIPUAI_API_KEY\"],\n",
    "    model=\"glm-4\",\n",
    ")"
   ]
  },
  {
   "cell_type": "markdown",
   "id": "1e45ed5d-621c-4484-8458-83f0c92ffa78",
   "metadata": {},
   "source": [
    "您可以通过传入消息列表来调用语言模型。默认情况下，响应是内容字符串。"
   ]
  },
  {
   "cell_type": "code",
   "execution_count": 16,
   "id": "4f8b001e-3211-4e96-8d9e-b8dc157be14d",
   "metadata": {},
   "outputs": [
    {
     "data": {
      "text/plain": [
       "'你好！有什么我可以帮助你的吗？'"
      ]
     },
     "execution_count": 16,
     "metadata": {},
     "output_type": "execute_result"
    }
   ],
   "source": [
    "from langchain_core.messages import HumanMessage\n",
    "\n",
    "resp = model.invoke([HumanMessage(content=\"你好。\")])\n",
    "resp.content"
   ]
  },
  {
   "cell_type": "markdown",
   "id": "22feae07-1928-449a-890e-efced405c9d8",
   "metadata": {},
   "source": [
    "现在，我们可以看看如何让这个模型进行工具调用。为了实现这一点，我们使用 .bind_tools 为语言模型提供这些工具的知识"
   ]
  },
  {
   "cell_type": "code",
   "execution_count": 17,
   "id": "5776de5e-ed0e-4909-beb3-0fe51f8877f8",
   "metadata": {},
   "outputs": [],
   "source": [
    "model_with_tools = model.bind_tools(tools)"
   ]
  },
  {
   "cell_type": "markdown",
   "id": "123f6c4b-9cb9-4461-b640-d01a4ea458b6",
   "metadata": {},
   "source": [
    "现在我们可以调用该模型了。我们先用普通消息调用它，看看它如何响应。我们可以查看 content 字段以及 tool_calls 字段。"
   ]
  },
  {
   "cell_type": "code",
   "execution_count": 18,
   "id": "19339670-9433-4884-884e-7fc49f56e618",
   "metadata": {},
   "outputs": [
    {
     "name": "stdout",
     "output_type": "stream",
     "text": [
      "ContentString: 你好，请问有什么可以帮助你的吗？\n",
      "ToolCalls: []\n"
     ]
    }
   ],
   "source": [
    "resp = model_with_tools.invoke([HumanMessage(content=\"你好。\")])\n",
    "\n",
    "print(f\"ContentString: {resp.content}\")\n",
    "print(f\"ToolCalls: {resp.tool_calls}\")"
   ]
  },
  {
   "cell_type": "markdown",
   "id": "f5666a34-f1fd-454a-b6e0-f109e98b87dc",
   "metadata": {},
   "source": [
    "现在，让我们尝试使用一些需要调用工具的输入来调用它。"
   ]
  },
  {
   "cell_type": "code",
   "execution_count": 30,
   "id": "bfe4b3ac-c26f-4b8e-9a06-13a903929b87",
   "metadata": {},
   "outputs": [
    {
     "name": "stdout",
     "output_type": "stream",
     "text": [
      "ContentString: \n",
      "ToolCalls: [{'name': 'tavily_search_results_json', 'args': {'query': '天津明天限号是多少'}, 'id': 'call_8741766118450732492'}]\n"
     ]
    }
   ],
   "source": [
    "resp = model_with_tools.invoke([HumanMessage(content=\"天津明天的限号是多少?\")])\n",
    "\n",
    "print(f\"ContentString: {resp.content}\")\n",
    "print(f\"ToolCalls: {resp.tool_calls}\")"
   ]
  },
  {
   "cell_type": "markdown",
   "id": "24ae4821-6fb3-43cc-8408-2e758af0b612",
   "metadata": {},
   "source": [
    "我们可以看到现在没有文本内容，但有一个工具调用！它希望我们调用 Tavily Search 工具。\n",
    "\n",
    "这还没有调用该工具 - 它只是告诉我们这样做。为了真正调用它，我们需要创建我们的代理。"
   ]
  },
  {
   "cell_type": "markdown",
   "id": "5009d3d4-dcbe-498d-9f6d-4296e6cbb656",
   "metadata": {},
   "source": [
    "## Create the agent - 创建代理\n",
    "\n",
    "现在我们已经定义了工具和 LLM，我们可以创建代理了。我们将使用 LangGraph 来构建代理。  \n",
    "目前，我们使用高级接口来构建代理，但 LangGraph 的优点在于，如果您想要修改代理逻辑，这个高级接口由低级、高度可控的 API 支持。\n",
    "\n",
    "现在，我们可以使用 LLM 和工具初始化代理。\n",
    "\n",
    "请注意，我们传入的是模型，而不是 model_with_tools。这是因为 create_react_agent 会在后台为我们调用 .bind_tools。"
   ]
  },
  {
   "cell_type": "markdown",
   "id": "06aad941-252a-43f5-a54f-212699fcfaa9",
   "metadata": {},
   "source": [
    "### 安装 LangGraph¶"
   ]
  },
  {
   "cell_type": "code",
   "execution_count": 32,
   "id": "9c9cef92-7d9e-421f-a1cf-f4985c73d8ff",
   "metadata": {},
   "outputs": [],
   "source": [
    "# pip install -U langgraph"
   ]
  },
  {
   "cell_type": "code",
   "execution_count": 33,
   "id": "b93841cb-54a7-4de9-bfc0-b6bf8bf3bb5b",
   "metadata": {},
   "outputs": [],
   "source": [
    "from langgraph.prebuilt import create_react_agent\n",
    "\n",
    "agent_executor = create_react_agent(model,tools)"
   ]
  },
  {
   "cell_type": "markdown",
   "id": "95a8b307-28f8-468e-a846-d935ba357c97",
   "metadata": {},
   "source": [
    "## Run the agent - 运行代理\n",
    "\n",
    "我们现在可以在几个查询上运行代理！请注意，目前这些都是无状态查询（它不会记住以前的交互）。  \n",
    "请注意，代理将在交互结束时返回最终状态（其中包括任何输入，我们稍后将了解如何仅获取输出）。\n",
    "\n",
    "首先，让我们看看当不需要调用工具时它如何响应："
   ]
  },
  {
   "cell_type": "code",
   "execution_count": 34,
   "id": "21d95f40-d031-40e2-8d32-71bbf4cbc076",
   "metadata": {},
   "outputs": [
    {
     "data": {
      "text/plain": [
       "[HumanMessage(content='你好。', id='ea11dcb7-bbd9-49b5-91c6-e911c9b3f867'),\n",
       " AIMessage(content='你好，请问有什么可以帮助您的吗？', response_metadata={'token_usage': {'completion_tokens': 10, 'prompt_tokens': 139, 'total_tokens': 149}, 'model_name': 'glm-4', 'system_fingerprint': None, 'finish_reason': 'stop', 'logprobs': None}, id='run-bd7e5736-411c-44ad-8a41-4f4017f59291-0')]"
      ]
     },
     "execution_count": 34,
     "metadata": {},
     "output_type": "execute_result"
    }
   ],
   "source": [
    "response = agent_executor.invoke({\"messages\": [HumanMessage(content=\"你好。\")]})\n",
    "\n",
    "response[\"messages\"]"
   ]
  },
  {
   "cell_type": "markdown",
   "id": "3e804fdb-2260-4bfc-b2b2-3b8cbffcace2",
   "metadata": {},
   "source": [
    "现在让我们在一个应该调用该工具的示例上尝试一下"
   ]
  },
  {
   "cell_type": "code",
   "execution_count": 36,
   "id": "981fb052-a91d-4bd6-be6a-7938f4d68916",
   "metadata": {},
   "outputs": [
    {
     "data": {
      "text/plain": [
       "[HumanMessage(content='天津明天6月17日的限号是多少?', id='74a1d228-f7a8-4da4-b9a8-3a99bf09751f'),\n",
       " AIMessage(content='', additional_kwargs={'tool_calls': [{'id': 'call_8741766255889691704', 'function': {'arguments': '{\"query\":\"天津明天6月17日的限号是多少\"}', 'name': 'tavily_search_results_json'}, 'type': 'function', 'index': 0}]}, response_metadata={'token_usage': {'completion_tokens': 26, 'prompt_tokens': 147, 'total_tokens': 173}, 'model_name': 'glm-4', 'system_fingerprint': None, 'finish_reason': 'tool_calls', 'logprobs': None}, id='run-87044df6-f191-482d-bf2e-0b5c31e69ae4-0', tool_calls=[{'name': 'tavily_search_results_json', 'args': {'query': '天津明天6月17日的限号是多少'}, 'id': 'call_8741766255889691704'}]),\n",
       " ToolMessage(content='[{\"url\": \"http://tj.bendibao.com/traffic/2024325/144128.shtm\", \"content\": \"2024\\\\u5929\\\\u6d25\\\\u6700\\\\u65b0\\\\u9650\\\\u884c \\\\u9650\\\\u53f7\\\\u5b89\\\\u6392\\\\u5df2\\\\u516c\\\\u5e03\\\\uff082024.4.1-2025.3.30\\\\uff09 \\\\u81ea2024\\\\u5e744\\\\u67081\\\\u65e5\\\\u81f32025\\\\u5e743\\\\u670830\\\\u65e5 \\\\uff0c\\\\u5de5\\\\u4f5c\\\\u65e5\\\\uff08\\\\u56e0\\\\u6cd5\\\\u5b9a\\\\u8282\\\\u5047\\\\u65e5\\\\u653e\\\\u5047\\\\u8c03\\\\u4f11\\\\u800c\\\\u8c03\\\\u6574\\\\u4e3a\\\\u4e0a\\\\u73ed\\\\u7684\\\\u661f\\\\u671f\\\\u516d\\\\u3001\\\\u661f\\\\u671f\\\\u65e5\\\\u9664\\\\u5916\\\\uff09\\\\u6bcf\\\\u65e57\\\\u65f6\\\\u81f319\\\\u65f6\\\\uff0c\\\\u672c\\\\u5e02\\\\u53ca\\\\u5916\\\\u57e0\\\\u53f7\\\\u724c\\\\u673a\\\\u52a8\\\\u8f66\\\\u5728\\\\u5916\\\\u73af\\\\u7ebf\\\\uff08\\\\u4e0d\\\\u542b\\\\uff09\\\\u4ee5\\\\u5185\\\\u9053\\\\u8def\\\\uff0c\\\\u7ee7\\\\u7eed\\\\u5b9e\\\\u65bd\\\\u6309\\\\u8f66\\\\u724c\\\\u5c3e\\\\u53f7\\\\u533a\\\\u57df\\\\u9650\\\\u884c\\\\u4ea4\\\\u901a\\\\u7ba1\\\\u7406\\\\u63aa\\\\u65bd\\\\u3002\"}, {\"url\": \"https://www.163.com/dy/article/J4POG1EG0545BQ6G.html\", \"content\": \"6\\\\u670817\\\\u65e5\\\\u8d77. \\\\u4e0b\\\\u521715\\\\u6761\\\\u8def\\\\u6bb5\\\\u8bbe\\\\u7f6e\\\\u4e3a. \\\\u673a\\\\u52a8\\\\u8f66\\\\u8fdd\\\\u6cd5\\\\u505c\\\\u8f66\\\\u4e25\\\\u683c\\\\u7ba1\\\\u7406\\\\u8def\\\\u6bb5. \\\\u8fd9\\\\u4e9b\\\\u5730\\\\u65b9\\\\u53ef\\\\u8981\\\\u6ce8\\\\u610f\\\\u4e86. \\\\u8d76\\\\u7d27\\\\u6765\\\\u770b\\\\u6709\\\\u54ea\\\\u4e9b\\\\u5730\\\\u65b9\\\\u5427!. \\\\u5929\\\\u6d2515\\\\u4e2a\\\\u8def\\\\u6bb5\\\\u4e25\\\\u7ba1\\\\u8fdd\\\\u505c. 6\\\\u670812\\\\u65e5\\\\uff0c\\\\u5929\\\\u6d25\\\\u5e02\\\\u516c\\\\u5b89\\\\u4ea4\\\\u901a\\\\u7ba1\\\\u7406\\\\u5c40\\\\u53d1\\\\u5e03\\\\u300a\\\\u5173\\\\u4e8e\\\\u8bbe\\\\u7f6e\\\\u673a\\\\u52a8\\\\u8f66\\\\u8fdd\\\\u6cd5\\\\u505c\\\\u8f66\\\\u4e25\\\\u683c\\\\u7ba1\\\\u7406\\\\u8def\\\\u6bb5\\\\u7684\\\\u516c\\\\u544a\\\\u300b\\\\u2014\\\\u2014. \\\\u56fe\\\\u6e90\\\\uff1a\\\\u5929\\\\u6d25\\\\u5e02\\\\u516c\\\\u5b89\\\\u4ea4\\\\u901a\\\\u7ba1\\\\u7406\\\\u5c40. \\\\u4e3a ...\"}]', name='tavily_search_results_json', id='2b38988b-2210-4672-9276-8ca4234daece', tool_call_id='call_8741766255889691704'),\n",
       " AIMessage(content='天津明天（6月17日）的限号信息目前没有在搜索引擎中找到。但是，我注意到天津市政府已经发布了关于设置机动车违法停车严格管理路段的公告。从6月12日起，天津市公安交通管理局对15个路段设置了严格的机动车违法停车管理。具体路段信息请参考相关新闻报道。', response_metadata={'token_usage': {'completion_tokens': 69, 'prompt_tokens': 1140, 'total_tokens': 1209}, 'model_name': 'glm-4', 'system_fingerprint': None, 'finish_reason': 'stop', 'logprobs': None}, id='run-05295a40-6b4f-4db8-9dec-71264e0fb531-0')]"
      ]
     },
     "execution_count": 36,
     "metadata": {},
     "output_type": "execute_result"
    }
   ],
   "source": [
    "response = agent_executor.invoke(\n",
    "    {\"messages\": [HumanMessage(content=\"天津明天6月17日的限号是多少?\")]}\n",
    ")\n",
    "response[\"messages\"]"
   ]
  },
  {
   "cell_type": "markdown",
   "id": "dd4d841f-1b40-45a3-a5f6-d7af61329ad8",
   "metadata": {},
   "source": [
    "## Streaming Messages - 流式消息\n",
    "我们已经了解了如何使用 .invoke 调用代理来获取最终响应。如果代理正在执行多个步骤，则可能需要一段时间。  \n",
    "为了显示中间进度，我们可以在消息发生时流式返回消息。"
   ]
  },
  {
   "cell_type": "code",
   "execution_count": 39,
   "id": "1dd397f4-add0-44c6-b23f-545e90209af1",
   "metadata": {},
   "outputs": [
    {
     "name": "stdout",
     "output_type": "stream",
     "text": [
      "{'agent': {'messages': [AIMessage(content='', additional_kwargs={'tool_calls': [{'id': 'call_8741760723971565035', 'function': {'arguments': '{\"query\":\"2024年6月17日天津限号是多少\"}', 'name': 'tavily_search_results_json'}, 'type': 'function', 'index': 0}]}, response_metadata={'token_usage': {'completion_tokens': 28, 'prompt_tokens': 151, 'total_tokens': 179}, 'model_name': 'glm-4', 'system_fingerprint': None, 'finish_reason': 'tool_calls', 'logprobs': None}, id='run-9c342ec8-ddf2-4014-9557-bbcd084967e1-0', tool_calls=[{'name': 'tavily_search_results_json', 'args': {'query': '2024年6月17日天津限号是多少'}, 'id': 'call_8741760723971565035'}])]}}\n",
      "----\n",
      "{'tools': {'messages': [ToolMessage(content='[{\"url\": \"http://tj.bendibao.com/traffic/2024325/144129.shtm\", \"content\": \"\\\\u5de5\\\\u4f5c\\\\u65e5\\\\u6bcf\\\\u65e57\\\\u65f6\\\\u81f319\\\\u65f6\\\\uff0c\\\\u5929\\\\u6d25\\\\u5b9e\\\\u65bd\\\\u6309\\\\u8f66\\\\u724c\\\\u5c3e\\\\u53f7\\\\u533a\\\\u57df\\\\u9650\\\\u884c\\\\u4ea4\\\\u901a\\\\u7ba1\\\\u7406\\\\u63aa\\\\u65bd\\\\u3002\\\\u81ea2024\\\\u5e744\\\\u67081\\\\u65e5\\\\u81f32024\\\\u5e746\\\\u670830\\\\u65e5\\\\uff0c\\\\u661f\\\\u671f\\\\u4e00\\\\u81f3\\\\u661f\\\\u671f\\\\u4e94\\\\u9650\\\\u884c\\\\u673a\\\\u52a8\\\\u8f66\\\\u53f7\\\\u724c\\\\u5c3e\\\\u53f7\\\\uff08\\\\u673a\\\\u52a8\\\\u8f66\\\\u53f7\\\\u724c\\\\u5c3e\\\\u53f7\\\\u4e3a\\\\u82f1\\\\u6587\\\\u5b57\\\\u6bcd\\\\u7684\\\\u63090\\\\u53f7\\\\u7ba1\\\\u7406\\\\uff0c\\\\u4e0b\\\\u540c\\\\uff09\\\\u5206\\\\u522b\\\\u4e3a5\\\\u548c0\\\\u30011\\\\u548c6\\\\u30012\\\\u548c. \\\\u5929\\\\u6d25\\\\u673a\\\\u52a8\\\\u8f66\\\\u9650\\\\u884c\\\\u6700\\\\u65b0\\\\u6d88\\\\u606f\\\\uff08\\\\u6301\\\\u7eed\\\\u66f4\\\\u65b0\\\\uff09\"}, {\"url\": \"http://tj.bendibao.com/news/2016425/76706.shtm\", \"content\": \"\\\\u81ea2024\\\\u5e744\\\\u67081\\\\u65e5\\\\u81f32024\\\\u5e744\\\\u670830\\\\u65e5\\\\uff0c \\\\u661f\\\\u671f\\\\u4e00\\\\u81f3\\\\u661f\\\\u671f\\\\u4e94\\\\u5929\\\\u6d25\\\\u9650\\\\u884c\\\\u673a\\\\u52a8\\\\u8f66\\\\u53f7\\\\u724c\\\\u5c3e\\\\u53f7\\\\uff08\\\\u673a\\\\u52a8\\\\u8f66\\\\u53f7\\\\u724c\\\\u5c3e\\\\u53f7\\\\u4e3a\\\\u82f1\\\\u6587\\\\u5b57\\\\u6bcd\\\\u7684\\\\u63090\\\\u53f7\\\\u7ba1\\\\u7406\\\\uff09\\\\u5206\\\\u522b\\\\u4e3a5\\\\u548c0\\\\u30011\\\\u548c6\\\\u30012\\\\u548c7\\\\u30013\\\\u548c8\\\\u30014\\\\u548c9. \\\\u5c3e\\\\u53f7\\\\u9650\\\\u884c\\\\u89c4\\\\u5b9a\\\\uff1a \\\\u5de5\\\\u4f5c\\\\u65e5 (\\\\u56e0\\\\u6cd5\\\\u5b9a\\\\u8282\\\\u5047\\\\u65e5\\\\u653e\\\\u5047\\\\u8c03\\\\u4f11\\\\u800c\\\\u8c03\\\\u6574\\\\u4e3a\\\\u4e0a\\\\u73ed\\\\u7684\\\\u661f\\\\u671f\\\\u516d\\\\u3001\\\\u661f\\\\u671f\\\\u65e5\\\\u9664\\\\u5916)\\\\u6bcf\\\\u65e57\\\\u65f6\\\\u81f319\\\\u65f6\\\\uff0c\\\\u5929\\\\u6d25\\\\u5e02\\\\u53ca ...\"}]', name='tavily_search_results_json', tool_call_id='call_8741760723971565035')]}}\n",
      "----\n",
      "{'agent': {'messages': [AIMessage(content='根据2024年6月17日的信息，天津限号是5和0。天津自2024年4月1日起至2024年6月30日，星期一至星期五限行机动车车牌尾号分别为5和0、1和6、2和7、3和8、4和9。周末不限行。此外，限行时间为工作日（因法定节假日放假调休而调整为上班的星期六、星期日除外）每7时至19时。', response_metadata={'token_usage': {'completion_tokens': 105, 'prompt_tokens': 1108, 'total_tokens': 1213}, 'model_name': 'glm-4', 'system_fingerprint': None, 'finish_reason': 'stop', 'logprobs': None}, id='run-7b4782b7-ce2c-430f-8b85-2da8c6222644-0')]}}\n",
      "----\n"
     ]
    }
   ],
   "source": [
    "for chunk in agent_executor.stream(\n",
    "    {\"messages\": [HumanMessage(content=\"2024年6月17日，天津的限号是多少?\")]}\n",
    "):\n",
    "    print(chunk)\n",
    "    print(\"----\")"
   ]
  },
  {
   "cell_type": "markdown",
   "id": "55d050b2-eead-45a7-b720-c843143301ff",
   "metadata": {},
   "source": [
    "## Streaming tokens - 流式传输令牌\n",
    "除了流式传输消息之外，流式传输令牌也很有用。我们可以使用 .astream_events 方法来实现这一点。"
   ]
  },
  {
   "cell_type": "code",
   "execution_count": 44,
   "id": "8c2dde02-1af6-4a0f-a865-aa5be6b5c420",
   "metadata": {},
   "outputs": [
    {
     "name": "stdout",
     "output_type": "stream",
     "text": [
      "--\n",
      "Starting tool: tavily_search_results_json with inputs: {'query': '2024年6月17日天津限号是多少'}\n",
      "Done tool: tavily_search_results_json\n",
      "Tool output was: [{'url': 'http://m.tj.bendibao.com/news/xianxingchaxun/', 'content': '不限号. 限行时间. 尾号限行：. ☞工作日每日7时至19时（因法定节假日放假调休而调整为上班的星期六、星期日除外）. 早晚高峰限行：. ☞工作日每日7时至9时、16时至19时（因法定节假日放假调休而调整为上班的星期六、星期日除外）. 限行区域. 天津外环线 ...'}, {'url': 'http://tj.bendibao.com/traffic/2024325/144128.shtm', 'content': '2024天津最新限行 限号安排已公布（2024.4.1-2025.3.30） 自2024年4月1日至2025年3月30日 ，工作日（因法定节假日放假调休而调整为上班的星期六、星期日除外）每日7时至19时，本市及外埠号牌机动车在外环线（不含）以内道路，继续实施按车牌尾号区域限行交通管理措施。'}]\n",
      "--\n",
      "根据|202|4|年|6|月|17|日的|日期|，|我们可以|通过|查看|限|号|安排|来确定|天津|的|限|号|。|但是|，|由于|限|号|安排|可能会|根据|法定|节假日|和|调|休|进行调整|，|因此|我们|还需要|考虑|这些|因素|。|从|搜索|结果|中|可以看出|，|限|号|安排|已经|调整|，|但是|没有|找到|202|4|年|6|月|17|日的|具体|限|号|信息|。|因此|，|我|建议|您|在|接近|那个|日期|时|再|查询|限|号|安排|，|以|获取|最|准确|的信息|。|"
     ]
    }
   ],
   "source": [
    "async for event in agent_executor.astream_events(\n",
    "    {\"messages\": [HumanMessage(content=\"2024年6月17日，天津的限号是多少?\")]}, version=\"v1\"\n",
    "):\n",
    "    kind = event[\"event\"]\n",
    "    if kind == \"on_chain_start\":\n",
    "        if (event[\"name\"] == \"Agent\"):  # Was assigned when creating the agent with `.with_config({\"run_name\": \"Agent\"})`\n",
    "            print(f\"Starting agent: {event['name']} with input: {event['data'].get('input')}\")\n",
    "    elif kind == \"on_chain_end\":\n",
    "        if ( event[\"name\"] == \"Agent\"):  # Was assigned when creating the agent with `.with_config({\"run_name\": \"Agent\"})`\n",
    "            print()\n",
    "            print(\"--\")\n",
    "            print(f\"Done agent: {event['name']} with output: {event['data'].get('output')['output']}\" )\n",
    "    if kind == \"on_chat_model_stream\":\n",
    "        content = event[\"data\"][\"chunk\"].content\n",
    "        if content:\n",
    "            # Empty content in the context of OpenAI means\n",
    "            # that the model is asking for a tool to be invoked.\n",
    "            # So we only print non-empty content\n",
    "            print(content, end=\"|\")\n",
    "    elif kind == \"on_tool_start\":\n",
    "        print(\"--\")\n",
    "        print(f\"Starting tool: {event['name']} with inputs: {event['data'].get('input')}\")\n",
    "    elif kind == \"on_tool_end\":\n",
    "        print(f\"Done tool: {event['name']}\")\n",
    "        print(f\"Tool output was: {event['data'].get('output')}\")\n",
    "        print(\"--\")"
   ]
  },
  {
   "cell_type": "markdown",
   "id": "36949023-b2b7-4d97-8714-aee26013d3f1",
   "metadata": {},
   "source": [
    "## Adding in memory - 添加内存\n",
    "如前所述，此代理是无状态的。这意味着它不记得以前的交互。  \n",
    "为了给它内存，我们需要传入一个检查点。传入检查点时，我们还必须在调用代理时传入一个thread_id（这样它就知道从哪个线程/对话恢复）。"
   ]
  },
  {
   "cell_type": "code",
   "execution_count": 45,
   "id": "703919e4-09b2-4240-ac62-2d1c0021fcf9",
   "metadata": {},
   "outputs": [],
   "source": [
    "from langgraph.checkpoint.sqlite import SqliteSaver\n",
    "\n",
    "memory = SqliteSaver.from_conn_string(\":memory:\")"
   ]
  },
  {
   "cell_type": "code",
   "execution_count": 46,
   "id": "ffb2ba17-640e-4d43-8334-2c0f2b391fff",
   "metadata": {},
   "outputs": [],
   "source": [
    "agent_executor = create_react_agent(model, tools, checkpointer=memory)\n",
    "\n",
    "config = {\"configurable\": {\"thread_id\": \"abc123\"}}"
   ]
  },
  {
   "cell_type": "code",
   "execution_count": 47,
   "id": "c58691c1-4471-4898-b261-7907f44eb636",
   "metadata": {},
   "outputs": [
    {
     "name": "stdout",
     "output_type": "stream",
     "text": [
      "{'agent': {'messages': [AIMessage(content='你好，张三！有什么可以帮助你的吗？', response_metadata={'token_usage': {'completion_tokens': 12, 'prompt_tokens': 142, 'total_tokens': 154}, 'model_name': 'glm-4', 'system_fingerprint': None, 'finish_reason': 'stop', 'logprobs': None}, id='run-b31f3e74-fd39-41aa-abf2-160facbdb41d-0')]}}\n",
      "----\n"
     ]
    }
   ],
   "source": [
    "for chunk in agent_executor.stream(\n",
    "    {\"messages\": [HumanMessage(content=\"你好 我是张三!\")]}, config\n",
    "):\n",
    "    print(chunk)\n",
    "    print(\"----\")"
   ]
  },
  {
   "cell_type": "code",
   "execution_count": 49,
   "id": "c72ac354-d5f2-46e1-a1d1-57ad2167e8ce",
   "metadata": {},
   "outputs": [
    {
     "name": "stdout",
     "output_type": "stream",
     "text": [
      "{'agent': {'messages': [AIMessage(content='是的，你之前说过你叫张三。如果你有其他问题或需要帮助，请随时告诉我！', response_metadata={'token_usage': {'completion_tokens': 23, 'prompt_tokens': 193, 'total_tokens': 216}, 'model_name': 'glm-4', 'system_fingerprint': None, 'finish_reason': 'stop', 'logprobs': None}, id='run-29a80792-c452-4fdd-a707-080eb7555678-0')]}}\n",
      "----\n"
     ]
    }
   ],
   "source": [
    "for chunk in agent_executor.stream(\n",
    "    {\"messages\": [HumanMessage(content=\"你知道我叫什么吗?\")]}, config\n",
    "):\n",
    "    print(chunk)\n",
    "    print(\"----\")"
   ]
  },
  {
   "cell_type": "markdown",
   "id": "3523f32a-899b-4843-9296-5abf96c43b52",
   "metadata": {},
   "source": [
    "如果我想开始新的对话，我所要做的就是更改使用的thread_id"
   ]
  },
  {
   "cell_type": "code",
   "execution_count": 50,
   "id": "98e1edd2-e73e-49f2-934d-eb581e0a704e",
   "metadata": {},
   "outputs": [
    {
     "name": "stdout",
     "output_type": "stream",
     "text": [
      "{'agent': {'messages': [AIMessage(content='作为人工智能助手，我没有访问您个人信息的能力，所以我不知道您的名字。如果您需要个性化的帮助，请告诉我您希望如何称呼您。', response_metadata={'token_usage': {'completion_tokens': 30, 'prompt_tokens': 142, 'total_tokens': 172}, 'model_name': 'glm-4', 'system_fingerprint': None, 'finish_reason': 'stop', 'logprobs': None}, id='run-9834b61c-68cd-4e3e-8885-063b52dbae48-0')]}}\n",
      "----\n"
     ]
    }
   ],
   "source": [
    "config = {\"configurable\": {\"thread_id\": \"xyz123\"}}\n",
    "for chunk in agent_executor.stream(\n",
    "    {\"messages\": [HumanMessage(content=\"你知道我叫什么吗?\")]}, config\n",
    "):\n",
    "    print(chunk)\n",
    "    print(\"----\")"
   ]
  },
  {
   "cell_type": "code",
   "execution_count": null,
   "id": "709614f4-fe9a-45fa-8270-d1eb7d1c3023",
   "metadata": {},
   "outputs": [],
   "source": []
  }
 ],
 "metadata": {
  "kernelspec": {
   "display_name": "Python 3 (ipykernel)",
   "language": "python",
   "name": "python3"
  },
  "language_info": {
   "codemirror_mode": {
    "name": "ipython",
    "version": 3
   },
   "file_extension": ".py",
   "mimetype": "text/x-python",
   "name": "python",
   "nbconvert_exporter": "python",
   "pygments_lexer": "ipython3",
   "version": "3.11.9"
  }
 },
 "nbformat": 4,
 "nbformat_minor": 5
}
