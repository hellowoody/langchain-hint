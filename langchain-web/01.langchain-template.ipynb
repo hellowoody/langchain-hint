{
 "cells": [
  {
   "cell_type": "markdown",
   "id": "1d71a705-7fc7-41af-88ed-8a16fa8317d6",
   "metadata": {},
   "source": [
    "# 模型，提示和输出解释器\n",
    "\n",
    "### 目录\n",
    "\n",
    " - 获取你的智谱 API Key\n",
    " - 直接调用智谱的API\n",
    " - 通过LangChain进行的API调用：\n",
    "    - 提示（Prompts）\n",
    "    - 模型（Models)\n",
    "    - 输出解析器（Output parsers）"
   ]
  },
  {
   "cell_type": "code",
   "execution_count": 1,
   "id": "c5cf57df-1e70-4892-b843-1a49c4c8c073",
   "metadata": {},
   "outputs": [],
   "source": [
    "from langchain_community.chat_models import ChatZhipuAI\n",
    "from dotenv import load_dotenv,find_dotenv\n",
    "import os "
   ]
  },
  {
   "cell_type": "markdown",
   "id": "3c4928ba-6560-464d-97f3-e3781aa02bd4",
   "metadata": {},
   "source": [
    "### 获取你的智谱 API Key\n",
    "在当前文件下创建一个.env文件，将api-key复制进去，如ZHIPUAI_API_KEY = \"api-key\""
   ]
  },
  {
   "cell_type": "code",
   "execution_count": 2,
   "id": "da2b91ae-715c-415c-bc23-b6c803430c01",
   "metadata": {},
   "outputs": [],
   "source": [
    "_ = load_dotenv(find_dotenv())\n",
    "# 这里我们将参数temperature设置为0.0，从而减少生成答案的随机性。\n",
    "# 如果你想要每次得到不一样的有新意的答案，可以尝试调整该参数。\n",
    "chat = ChatZhipuAI(\n",
    "    model=\"glm-4\",\n",
    "    temperature=0.5\n",
    ")"
   ]
  },
  {
   "cell_type": "markdown",
   "id": "fd851fe9-3d85-4697-ab09-90d17f23d0ae",
   "metadata": {},
   "source": [
    "### 提示模板\n",
    "langchain提供了接口方便快速的构造和使用提示。现在我们来看看如何使用langchain来构造提示。  \n",
    "\n",
    "我们构造一个提示模版字符串：template_string"
   ]
  },
  {
   "cell_type": "code",
   "execution_count": 3,
   "id": "00eb60a6-e5a2-4cc1-9620-a9766eaca090",
   "metadata": {},
   "outputs": [],
   "source": [
    "template_string = \"\"\"用{style}格式,翻译一下这个用三个反引号分隔的文本 .\n",
    "```{orginal_txt}```\n",
    "\"\"\""
   ]
  },
  {
   "cell_type": "markdown",
   "id": "f16178f5-c955-46d0-afc0-4bd377e96e07",
   "metadata": {},
   "source": [
    "### 构造LangChain提示模版\n",
    "\n",
    "我们调用ChatPromptTemplatee.from_template()函数将上面的提示模版字符template_string转换为提示模版prompt_template"
   ]
  },
  {
   "cell_type": "code",
   "execution_count": 4,
   "id": "7caa486c-fdcf-4fb8-a032-44dba8f005eb",
   "metadata": {},
   "outputs": [],
   "source": [
    "from langchain.prompts import ChatPromptTemplate"
   ]
  },
  {
   "cell_type": "code",
   "execution_count": 5,
   "id": "ff8b8fc0-434d-4a7b-905a-604ba8fe4184",
   "metadata": {},
   "outputs": [],
   "source": [
    "prompt_template = ChatPromptTemplate.from_template(template_string)"
   ]
  },
  {
   "cell_type": "code",
   "execution_count": 6,
   "id": "9f1f2a65-f407-4364-be4c-d447399c41f2",
   "metadata": {},
   "outputs": [
    {
     "data": {
      "text/plain": [
       "PromptTemplate(input_variables=['orginal_txt', 'style'], template='用{style}格式,翻译一下这个用三个反引号分隔的文本 .\\n```{orginal_txt}```\\n')"
      ]
     },
     "execution_count": 6,
     "metadata": {},
     "output_type": "execute_result"
    }
   ],
   "source": [
    "prompt_template.messages[0].prompt"
   ]
  },
  {
   "cell_type": "markdown",
   "id": "6c3afd91-5234-4911-a338-47d225a4a81c",
   "metadata": {},
   "source": [
    "从上面的输出可以看出，prompt_template 有两个输入变量： style 和 orginal_txt。"
   ]
  },
  {
   "cell_type": "code",
   "execution_count": 7,
   "id": "fb64d43b-2772-467b-81bd-707ff278cb9b",
   "metadata": {},
   "outputs": [
    {
     "data": {
      "text/plain": [
       "['orginal_txt', 'style']"
      ]
     },
     "execution_count": 7,
     "metadata": {},
     "output_type": "execute_result"
    }
   ],
   "source": [
    "prompt_template.messages[0].prompt.input_variables"
   ]
  },
  {
   "cell_type": "markdown",
   "id": "8d892bbf-045a-4447-885e-0f97beb919db",
   "metadata": {},
   "source": [
    "### 使用模版得到客户消息提示\n",
    "\n",
    "langchain提示模版prompt_template需要两个输入变量： style 和 text。 这里分别对应\n",
    "\n",
    " - style: 我们想要的语言风格\n",
    " - orginal_txt: 用户的原始文本。"
   ]
  },
  {
   "cell_type": "code",
   "execution_count": 8,
   "id": "c6a8e872-4a7c-4a47-972a-5c0582a09929",
   "metadata": {},
   "outputs": [],
   "source": [
    "style = \"\"\"\n",
    "中国大陆普通话 \\\n",
    "日常口语 \\\n",
    "平常和礼貌的语气\n",
    "\"\"\""
   ]
  },
  {
   "cell_type": "code",
   "execution_count": 9,
   "id": "ba568618-2a90-4e66-8d3e-223a7446cf02",
   "metadata": {},
   "outputs": [],
   "source": [
    "orginal_txt = \"\"\"\n",
    " ぺ畱ぅ很9的頭發能ゐ尒説剪就剪，愛ぅ很9的尒也能説忘就忘。\n",
    "\"\"\""
   ]
  },
  {
   "cell_type": "markdown",
   "id": "fb6eea62-edf9-4bc0-a0a8-1da81c455996",
   "metadata": {},
   "source": [
    "对于给定的style和orginal_txt, 我们可以使用提示模版prompt_template的format_messages方法生成想要的客户消息customer_messages。"
   ]
  },
  {
   "cell_type": "code",
   "execution_count": 10,
   "id": "95b45e7d-60e4-4028-b24e-522060aed373",
   "metadata": {},
   "outputs": [],
   "source": [
    "customer_messages = prompt_template.format_messages(style=style,orginal_txt=orginal_txt)"
   ]
  },
  {
   "cell_type": "code",
   "execution_count": 11,
   "id": "5d5439ac-4ee0-4644-9da8-aa21f7d1267f",
   "metadata": {},
   "outputs": [
    {
     "data": {
      "text/plain": [
       "list"
      ]
     },
     "execution_count": 11,
     "metadata": {},
     "output_type": "execute_result"
    }
   ],
   "source": [
    "type(customer_messages)"
   ]
  },
  {
   "cell_type": "code",
   "execution_count": 12,
   "id": "0672c8e9-7b43-4fba-b6af-283d50d4d05f",
   "metadata": {},
   "outputs": [
    {
     "data": {
      "text/plain": [
       "langchain_core.messages.human.HumanMessage"
      ]
     },
     "execution_count": 12,
     "metadata": {},
     "output_type": "execute_result"
    }
   ],
   "source": [
    "type(customer_messages[0])"
   ]
  },
  {
   "cell_type": "code",
   "execution_count": 13,
   "id": "aef8311f-f510-409e-863f-90dc7aeed2fd",
   "metadata": {},
   "outputs": [
    {
     "data": {
      "text/plain": [
       "HumanMessage(content='用\\n中国大陆普通话 日常口语 平常和礼貌的语气\\n格式,翻译一下这个用三个反引号分隔的文本 .\\n```\\n ぺ畱ぅ很9的頭發能ゐ尒説剪就剪，愛ぅ很9的尒也能説忘就忘。\\n```\\n')"
      ]
     },
     "execution_count": 13,
     "metadata": {},
     "output_type": "execute_result"
    }
   ],
   "source": [
    "customer_messages[0]"
   ]
  },
  {
   "cell_type": "markdown",
   "id": "d8ffa7c3-b05e-4ee5-9522-88f8c644bb93",
   "metadata": {},
   "source": [
    "可以看出customer_messages变量类型为列表(list)，  \n",
    "而列表里的元素变量类型为langchain自定义消息(langchain.schema.HumanMessage)。"
   ]
  },
  {
   "cell_type": "markdown",
   "id": "02dae02a-4a69-49cb-8caf-676d3517e936",
   "metadata": {},
   "source": [
    "### 调用chat模型转换客户消息风格"
   ]
  },
  {
   "cell_type": "code",
   "execution_count": 14,
   "id": "04eedda4-4141-4804-9ef2-83f581746117",
   "metadata": {},
   "outputs": [],
   "source": [
    "customer_resp = chat.invoke(customer_messages)"
   ]
  },
  {
   "cell_type": "code",
   "execution_count": 15,
   "id": "6246f3aa-4ad4-42a6-b2dc-d7d4fc6e4af6",
   "metadata": {},
   "outputs": [
    {
     "data": {
      "text/plain": [
       "AIMessage(content='这段日文文本用中国大陆普通话的日常口语表达，并以礼貌的语气翻译如下：\\n\\n“留着那么久的头发你说剪就剪了，那么深爱的你也能说忘就忘。” \\n\\n（注意：原文中的“很9”可能是输入错误或网络用语，这里我假设它是指“很久”。）', response_metadata={'token_usage': {'completion_tokens': 68, 'prompt_tokens': 75, 'total_tokens': 143}, 'model_name': 'glm-4', 'finish_reason': 'stop'}, id='run-d2d75963-c6b1-4e29-83c4-48f04120d5bc-0')"
      ]
     },
     "execution_count": 15,
     "metadata": {},
     "output_type": "execute_result"
    }
   ],
   "source": [
    "customer_resp"
   ]
  },
  {
   "cell_type": "code",
   "execution_count": 16,
   "id": "e8180594-4d7b-49f2-beed-7b07e0f775e2",
   "metadata": {},
   "outputs": [
    {
     "data": {
      "text/plain": [
       "'这段日文文本用中国大陆普通话的日常口语表达，并以礼貌的语气翻译如下：\\n\\n“留着那么久的头发你说剪就剪了，那么深爱的你也能说忘就忘。” \\n\\n（注意：原文中的“很9”可能是输入错误或网络用语，这里我假设它是指“很久”。）'"
      ]
     },
     "execution_count": 16,
     "metadata": {},
     "output_type": "execute_result"
    }
   ],
   "source": [
    "customer_resp.content"
   ]
  },
  {
   "cell_type": "markdown",
   "id": "1f7d0907-8533-4d32-b0d9-172da3af4705",
   "metadata": {},
   "source": [
    "### 使用模版得到回复消息提示\n",
    "\n",
    "接下来，我们更进一步，将客服人员回复的消息，转换为港剧的语言风格。\n",
    "\n",
    "这里，我们可以继续使用之前构造的langchain提示模版，来获得我们回复消息提示。"
   ]
  },
  {
   "cell_type": "code",
   "execution_count": 17,
   "id": "f7ea7a0b-d45d-48b6-998e-8b4789cbb3c5",
   "metadata": {},
   "outputs": [
    {
     "data": {
      "text/plain": [
       "'```\\n咪嘥心机啦，放開D啦嘛！\\n``` \\n\\n这里的“咪嘥心机”相当于“不要费心”，“放開D”即“放松一点”。这种表达方式带有典型的香港TVB台词风格，轻松而且口语化。'"
      ]
     },
     "execution_count": 17,
     "metadata": {},
     "output_type": "execute_result"
    }
   ],
   "source": [
    "style = \"\"\"\n",
    "香港TVB台词风格的粤语 \\\n",
    "日常口语俚语 \n",
    "\"\"\"\n",
    "orginal_txt = \"\"\"\n",
    " 没什么大不了的事，看开一点吧\n",
    "\"\"\"\n",
    "customer_messages = prompt_template.format_messages(style=style,orginal_txt=orginal_txt)\n",
    "customer_resp = chat.invoke(customer_messages)\n",
    "customer_resp.content"
   ]
  },
  {
   "cell_type": "markdown",
   "id": "c3512e73-fc4f-43c5-9e59-9f02808c013f",
   "metadata": {},
   "source": [
    "### 对于给定的评价customer_review, 我们希望提取信息，并按JSON格式输出：\n",
    "\n",
    "```\n",
    "{\n",
    "    \"key\":value,\n",
    "    \"key2\":value2,\n",
    "}\n",
    "```"
   ]
  },
  {
   "cell_type": "code",
   "execution_count": 18,
   "id": "ced4401a-b87c-44b1-9c09-b0814f061ff3",
   "metadata": {},
   "outputs": [],
   "source": [
    "constomer_review = \"\"\"\\\n",
    "犯罪不分大人小孩，都是坏人。\\\n",
    "单身父亲李长峰（王千源 饰）在女儿被几名未成年人凌虐死亡后，绝望地踏上了复仇之路，他似乎想用自己的方式让少年恶魔们付出应有的代价。面对李长峰和警方的追踪，这群少年犯会得到何种惩罚？\\\n",
    "影片根据东野圭吾同名小说改编。\\\n",
    "\"\"\"\n",
    "\n",
    "review_template = \"\"\"\\\n",
    "请根据下面的文本，提取信息：\n",
    "\n",
    "演员:出演这部电影的演员\n",
    "剧情:电影的剧情，故事情节\n",
    "原著:是改编自哪一部电影或者图书\n",
    "\n",
    "将输出的文本转成JSON格式,按下面的键值：\n",
    "演员\n",
    "剧情\n",
    "原著\n",
    "\n",
    "text:{text}\n",
    "\"\"\""
   ]
  },
  {
   "cell_type": "code",
   "execution_count": 19,
   "id": "fa881f49-f35a-44a1-9483-13980f6df469",
   "metadata": {},
   "outputs": [
    {
     "data": {
      "text/plain": [
       "ChatPromptTemplate(input_variables=['text'], messages=[HumanMessagePromptTemplate(prompt=PromptTemplate(input_variables=['text'], template='请根据下面的文本，提取信息：\\n\\n演员:出演这部电影的演员\\n剧情:电影的剧情，故事情节\\n原著:是改编自哪一部电影或者图书\\n\\n将输出的文本转成JSON格式,按下面的键值：\\n演员\\n剧情\\n原著\\n\\ntext:{text}\\n'))])"
      ]
     },
     "execution_count": 19,
     "metadata": {},
     "output_type": "execute_result"
    }
   ],
   "source": [
    "prompt_template = ChatPromptTemplate.from_template(review_template)\n",
    "prompt_template"
   ]
  },
  {
   "cell_type": "code",
   "execution_count": 20,
   "id": "1bb7eecc-b830-4b08-aa3b-ece2fb00643f",
   "metadata": {},
   "outputs": [
    {
     "name": "stdout",
     "output_type": "stream",
     "text": [
      "以下是提取的信息，按照您提供的键值以JSON格式呈现：\n",
      "\n",
      "```json\n",
      "{\n",
      "  \"演员\": \"王千源\",\n",
      "  \"剧情\": \"犯罪不分大人小孩，都是坏人。单身父亲李长峰在女儿被几名未成年人凌虐死亡后，绝望地踏上了复仇之路，他似乎想用自己的方式让少年恶魔们付出应有的代价。面对李长峰和警方的追踪，这群少年犯会得到何种惩罚？\",\n",
      "  \"原著\": \"东野圭吾同名小说\"\n",
      "}\n",
      "```\n",
      "\n",
      "请注意，原著字段中只提到了作者和小说的同名性质，未提供具体的书名，因此按照原文信息进行了呈现。如果需要具体的原著名称，需要进一步的信息来确认。\n"
     ]
    }
   ],
   "source": [
    "messages = prompt_template.format_messages(text=constomer_review)\n",
    "customer_resp = chat.invoke(messages)\n",
    "print(customer_resp.content)"
   ]
  },
  {
   "cell_type": "code",
   "execution_count": 21,
   "id": "f923495f-c955-4eb1-a0e2-3b7fab3d7ac8",
   "metadata": {},
   "outputs": [
    {
     "data": {
      "text/plain": [
       "str"
      ]
     },
     "execution_count": 21,
     "metadata": {},
     "output_type": "execute_result"
    }
   ],
   "source": [
    "type(customer_resp.content)"
   ]
  },
  {
   "cell_type": "markdown",
   "id": "7fc8cf90-4dc3-4433-bbf1-a019d1f83cda",
   "metadata": {},
   "source": [
    "customer_resp.content类型为字符串（str），而并非字典(dict), 直接使用get方法会报错。因此，我们需要输出解释器。"
   ]
  },
  {
   "cell_type": "markdown",
   "id": "4d2e06cb-fa0a-41d5-98a6-8b94bc72d45b",
   "metadata": {},
   "source": [
    "### LangChain输出解析器"
   ]
  },
  {
   "cell_type": "code",
   "execution_count": 22,
   "id": "42a87bd8-04b6-45cc-a95f-5d4d566cc649",
   "metadata": {},
   "outputs": [],
   "source": [
    "from langchain.output_parsers import ResponseSchema,StructuredOutputParser"
   ]
  },
  {
   "cell_type": "markdown",
   "id": "27d239e8-dda9-4ac8-ae4d-3356ad724166",
   "metadata": {},
   "source": [
    "构造输出解析器"
   ]
  },
  {
   "cell_type": "code",
   "execution_count": 23,
   "id": "56fe956b-55b3-420c-b06c-50b509433183",
   "metadata": {},
   "outputs": [],
   "source": [
    "actor_schema = ResponseSchema(name=\"演员\",description=\"出演这部电影的演员\")\n",
    "story_schema = ResponseSchema(name=\"剧情\",description=\"电影的剧情，故事情节\")\n",
    "ref_schema = ResponseSchema(name=\"原著\",description=\"是改编自哪一部电影或者图书\")\n",
    "\n",
    "response_schemas = [actor_schema,story_schema,ref_schema]\n",
    "output_parser = StructuredOutputParser.from_response_schemas(response_schemas)"
   ]
  },
  {
   "cell_type": "code",
   "execution_count": 24,
   "id": "381bb76f-5822-4632-847d-fe1ad4e2ee73",
   "metadata": {},
   "outputs": [
    {
     "name": "stdout",
     "output_type": "stream",
     "text": [
      "The output should be a markdown code snippet formatted in the following schema, including the leading and trailing \"```json\" and \"```\":\n",
      "\n",
      "```json\n",
      "{\n",
      "\t\"演员\": string  // 出演这部电影的演员\n",
      "\t\"剧情\": string  // 电影的剧情，故事情节\n",
      "\t\"原著\": string  // 是改编自哪一部电影或者图书\n",
      "}\n",
      "```\n"
     ]
    }
   ],
   "source": [
    "format_instructions = output_parser.get_format_instructions()\n",
    "print(format_instructions)"
   ]
  },
  {
   "cell_type": "markdown",
   "id": "380ba8b2-2c27-41dd-b624-d503bdef738d",
   "metadata": {},
   "source": [
    "构造提示模版字符串"
   ]
  },
  {
   "cell_type": "code",
   "execution_count": 25,
   "id": "08321914-814d-4fa3-9f7d-e4cac684d558",
   "metadata": {},
   "outputs": [],
   "source": [
    "review_template_2 = \"\"\"\\\n",
    "请根据下面的文本，提取信息：\n",
    "\n",
    "演员:出演这部电影的演员\n",
    "剧情:电影的剧情，故事情节\n",
    "原著:是改编自哪一部电影或者图书\n",
    "\n",
    "text:{text}\n",
    "\n",
    "{format_instructions}\n",
    "\"\"\""
   ]
  },
  {
   "cell_type": "markdown",
   "id": "7f99897d-1732-4c5b-b403-740edeb0d5ce",
   "metadata": {},
   "source": [
    "构造langchain提示模版"
   ]
  },
  {
   "cell_type": "code",
   "execution_count": 26,
   "id": "b93e89e2-eced-4f48-bb6d-1126e18f264c",
   "metadata": {},
   "outputs": [
    {
     "data": {
      "text/plain": [
       "ChatPromptTemplate(input_variables=['format_instructions', 'text'], messages=[HumanMessagePromptTemplate(prompt=PromptTemplate(input_variables=['format_instructions', 'text'], template='请根据下面的文本，提取信息：\\n\\n演员:出演这部电影的演员\\n剧情:电影的剧情，故事情节\\n原著:是改编自哪一部电影或者图书\\n\\ntext:{text}\\n\\n{format_instructions}\\n'))])"
      ]
     },
     "execution_count": 26,
     "metadata": {},
     "output_type": "execute_result"
    }
   ],
   "source": [
    "prompt_template2 = ChatPromptTemplate.from_template(review_template_2)\n",
    "prompt_template2"
   ]
  },
  {
   "cell_type": "code",
   "execution_count": 27,
   "id": "67d6b4d1-5fe9-4d5b-ac6d-2e89d944c9cc",
   "metadata": {},
   "outputs": [
    {
     "name": "stdout",
     "output_type": "stream",
     "text": [
      "以下是提取的信息，以JSON格式表示：\n",
      "\n",
      "```json\n",
      "{\n",
      "  \"演员\": \"王千源\",\n",
      "  \"剧情\": \"犯罪不分大人小孩，都是坏人。单身父亲李长峰在女儿被几名未成年人凌虐死亡后，绝望地踏上了复仇之路，他似乎想用自己的方式让少年恶魔们付出应有的代价。面对李长峰和警方的追踪，这群少年犯会得到何种惩罚？\",\n",
      "  \"原著\": \"东野圭吾同名小说\"\n",
      "}\n",
      "```\n",
      "\n",
      "请注意，原著字段只包含了作者和作品类型（小说），未包含具体的小说名称，因为原始文本没有提供具体的书名。如果需要书名，请提供完整的书名以便更准确地填充该字段。\n"
     ]
    }
   ],
   "source": [
    "messages = prompt_template.format_messages(text=constomer_review,format_instructions=format_instructions)\n",
    "customer_resp = chat.invoke(messages)\n",
    "print(customer_resp.content)"
   ]
  },
  {
   "cell_type": "code",
   "execution_count": 28,
   "id": "b59bfdd5-8a76-4dd2-8423-b323cfdb5d1c",
   "metadata": {},
   "outputs": [
    {
     "data": {
      "text/plain": [
       "{'演员': '王千源',\n",
       " '剧情': '犯罪不分大人小孩，都是坏人。单身父亲李长峰在女儿被几名未成年人凌虐死亡后，绝望地踏上了复仇之路，他似乎想用自己的方式让少年恶魔们付出应有的代价。面对李长峰和警方的追踪，这群少年犯会得到何种惩罚？',\n",
       " '原著': '东野圭吾同名小说'}"
      ]
     },
     "execution_count": 28,
     "metadata": {},
     "output_type": "execute_result"
    }
   ],
   "source": [
    "output_dict = output_parser.parse(customer_resp.content)\n",
    "output_dict"
   ]
  },
  {
   "cell_type": "code",
   "execution_count": 29,
   "id": "20c19160-7cbc-4d2d-8d86-c8bc81330226",
   "metadata": {},
   "outputs": [
    {
     "data": {
      "text/plain": [
       "'王千源'"
      ]
     },
     "execution_count": 29,
     "metadata": {},
     "output_type": "execute_result"
    }
   ],
   "source": [
    "output_dict.get(\"演员\")"
   ]
  },
  {
   "cell_type": "code",
   "execution_count": 30,
   "id": "1ac64881-394f-4664-ad46-621a3752b2fa",
   "metadata": {},
   "outputs": [
    {
     "data": {
      "text/plain": [
       "'犯罪不分大人小孩，都是坏人。单身父亲李长峰在女儿被几名未成年人凌虐死亡后，绝望地踏上了复仇之路，他似乎想用自己的方式让少年恶魔们付出应有的代价。面对李长峰和警方的追踪，这群少年犯会得到何种惩罚？'"
      ]
     },
     "execution_count": 30,
     "metadata": {},
     "output_type": "execute_result"
    }
   ],
   "source": [
    "output_dict.get(\"剧情\")"
   ]
  },
  {
   "cell_type": "code",
   "execution_count": null,
   "id": "b54bfd18-be57-4218-86a2-9363f6d79a60",
   "metadata": {},
   "outputs": [],
   "source": []
  }
 ],
 "metadata": {
  "kernelspec": {
   "display_name": "Python 3 (ipykernel)",
   "language": "python",
   "name": "python3"
  },
  "language_info": {
   "codemirror_mode": {
    "name": "ipython",
    "version": 3
   },
   "file_extension": ".py",
   "mimetype": "text/x-python",
   "name": "python",
   "nbconvert_exporter": "python",
   "pygments_lexer": "ipython3",
   "version": "3.11.9"
  }
 },
 "nbformat": 4,
 "nbformat_minor": 5
}
