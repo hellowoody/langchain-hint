{
 "cells": [
  {
   "cell_type": "code",
   "execution_count": 1,
   "id": "f010b688-7186-4c20-9766-4ec030eb397e",
   "metadata": {},
   "outputs": [],
   "source": [
    "from langchain_community.chat_models import ChatZhipuAI\n",
    "from dotenv import load_dotenv,find_dotenv\n",
    "import os "
   ]
  },
  {
   "cell_type": "code",
   "execution_count": 17,
   "id": "27fb67d0-5366-4a38-8f31-976a1ea67d6e",
   "metadata": {},
   "outputs": [],
   "source": [
    "_ = load_dotenv(find_dotenv())\n",
    "chat = ChatZhipuAI(\n",
    "    model=\"glm-4\",\n",
    "    temperature=0.5\n",
    ")"
   ]
  },
  {
   "cell_type": "code",
   "execution_count": 18,
   "id": "00eb60a6-e5a2-4cc1-9620-a9766eaca090",
   "metadata": {},
   "outputs": [],
   "source": [
    "template_string = \"\"\"用{style}格式,翻译一下这个用三个反引号分隔的文本 .\n",
    "```{orginal_txt}```\n",
    "\"\"\""
   ]
  },
  {
   "cell_type": "code",
   "execution_count": 19,
   "id": "d129b6da-6411-4d62-9476-dbea055aafa2",
   "metadata": {},
   "outputs": [],
   "source": [
    "from langchain.prompts import ChatPromptTemplate"
   ]
  },
  {
   "cell_type": "code",
   "execution_count": 20,
   "id": "ff8b8fc0-434d-4a7b-905a-604ba8fe4184",
   "metadata": {},
   "outputs": [],
   "source": [
    "prompt_template = ChatPromptTemplate.from_template(template_string)"
   ]
  },
  {
   "cell_type": "code",
   "execution_count": 21,
   "id": "9f1f2a65-f407-4364-be4c-d447399c41f2",
   "metadata": {},
   "outputs": [
    {
     "data": {
      "text/plain": [
       "PromptTemplate(input_variables=['orginal_txt', 'style'], template='用{style}格式,翻译一下这个用三个反引号分隔的文本 .\\n```{orginal_txt}```\\n')"
      ]
     },
     "execution_count": 21,
     "metadata": {},
     "output_type": "execute_result"
    }
   ],
   "source": [
    "prompt_template.messages[0].prompt"
   ]
  },
  {
   "cell_type": "code",
   "execution_count": 22,
   "id": "fb64d43b-2772-467b-81bd-707ff278cb9b",
   "metadata": {},
   "outputs": [
    {
     "data": {
      "text/plain": [
       "['orginal_txt', 'style']"
      ]
     },
     "execution_count": 22,
     "metadata": {},
     "output_type": "execute_result"
    }
   ],
   "source": [
    "prompt_template.messages[0].prompt.input_variables"
   ]
  },
  {
   "cell_type": "code",
   "execution_count": 23,
   "id": "c6a8e872-4a7c-4a47-972a-5c0582a09929",
   "metadata": {},
   "outputs": [],
   "source": [
    "style = \"\"\"\n",
    "中国大陆普通话 \\\n",
    "日常口语 \\\n",
    "平常和礼貌的语气\n",
    "\"\"\""
   ]
  },
  {
   "cell_type": "code",
   "execution_count": 32,
   "id": "ba568618-2a90-4e66-8d3e-223a7446cf02",
   "metadata": {},
   "outputs": [],
   "source": [
    "orginal_txt = \"\"\"\n",
    " ぺ畱ぅ很9的頭發能ゐ尒説剪就剪，愛ぅ很9的尒也能説忘就忘。\n",
    "\"\"\""
   ]
  },
  {
   "cell_type": "code",
   "execution_count": 33,
   "id": "95b45e7d-60e4-4028-b24e-522060aed373",
   "metadata": {},
   "outputs": [],
   "source": [
    "customer_messages = prompt_template.format_messages(style=style,orginal_txt=orginal_txt)"
   ]
  },
  {
   "cell_type": "code",
   "execution_count": 34,
   "id": "5d5439ac-4ee0-4644-9da8-aa21f7d1267f",
   "metadata": {},
   "outputs": [
    {
     "data": {
      "text/plain": [
       "list"
      ]
     },
     "execution_count": 34,
     "metadata": {},
     "output_type": "execute_result"
    }
   ],
   "source": [
    "type(customer_messages)"
   ]
  },
  {
   "cell_type": "code",
   "execution_count": 35,
   "id": "0672c8e9-7b43-4fba-b6af-283d50d4d05f",
   "metadata": {},
   "outputs": [
    {
     "data": {
      "text/plain": [
       "langchain_core.messages.human.HumanMessage"
      ]
     },
     "execution_count": 35,
     "metadata": {},
     "output_type": "execute_result"
    }
   ],
   "source": [
    "type(customer_messages[0])"
   ]
  },
  {
   "cell_type": "code",
   "execution_count": 36,
   "id": "aef8311f-f510-409e-863f-90dc7aeed2fd",
   "metadata": {},
   "outputs": [
    {
     "data": {
      "text/plain": [
       "HumanMessage(content='用\\n中国大陆普通话 日常口语 平常和礼貌的语气\\n格式,翻译一下这个用三个反引号分隔的文本 .\\n```\\n ぺ畱ぅ很9的頭發能ゐ尒説剪就剪，愛ぅ很9的尒也能説忘就忘。\\n```\\n')"
      ]
     },
     "execution_count": 36,
     "metadata": {},
     "output_type": "execute_result"
    }
   ],
   "source": [
    "customer_messages[0]\n"
   ]
  },
  {
   "cell_type": "code",
   "execution_count": 37,
   "id": "04eedda4-4141-4804-9ef2-83f581746117",
   "metadata": {},
   "outputs": [],
   "source": [
    "customer_resp = chat.invoke(customer_messages)"
   ]
  },
  {
   "cell_type": "code",
   "execution_count": 38,
   "id": "6246f3aa-4ad4-42a6-b2dc-d7d4fc6e4af6",
   "metadata": {},
   "outputs": [
    {
     "data": {
      "text/plain": [
       "AIMessage(content='```\\n留着很长的头发你说剪就剪，深爱着你的我也能说忘就忘。\\n``` \\n\\n（这里做了一点语序上的调整，以使其更符合汉语的表达习惯。）', response_metadata={'token_usage': {'completion_tokens': 42, 'prompt_tokens': 75, 'total_tokens': 117}, 'model_name': 'glm-4', 'finish_reason': 'stop'}, id='run-58bbc7eb-64d8-4b52-88cc-82205fdb36c2-0')"
      ]
     },
     "execution_count": 38,
     "metadata": {},
     "output_type": "execute_result"
    }
   ],
   "source": [
    "customer_resp"
   ]
  },
  {
   "cell_type": "code",
   "execution_count": 39,
   "id": "e8180594-4d7b-49f2-beed-7b07e0f775e2",
   "metadata": {},
   "outputs": [
    {
     "data": {
      "text/plain": [
       "'```\\n留着很长的头发你说剪就剪，深爱着你的我也能说忘就忘。\\n``` \\n\\n（这里做了一点语序上的调整，以使其更符合汉语的表达习惯。）'"
      ]
     },
     "execution_count": 39,
     "metadata": {},
     "output_type": "execute_result"
    }
   ],
   "source": [
    "customer_resp.content"
   ]
  },
  {
   "cell_type": "markdown",
   "id": "6f5107e7-5625-4303-ab1e-9b6680706ba7",
   "metadata": {},
   "source": [
    "style = \"\"\"\n",
    "中国香港粤语 \\\n",
    "日常口语俚语 \n",
    "\"\"\"\n",
    "orginal_txt = \"\"\"\n",
    " 没什么大不了的事，看开一点吧\n",
    "\"\"\"\n",
    "customer_messages = prompt_template.format_messages(style=style,orginal_txt=orginal_txt)\n",
    "customer_resp = chat.invoke(customer_messages)\n",
    "customer_resp.content"
   ]
  },
  {
   "cell_type": "code",
   "execution_count": 48,
   "id": "ced4401a-b87c-44b1-9c09-b0814f061ff3",
   "metadata": {},
   "outputs": [],
   "source": [
    "constomer_review = \"\"\"\\\n",
    "犯罪不分大人小孩，都是坏人。\\\n",
    "单身父亲李长峰（王千源 饰）在女儿被几名未成年人凌虐死亡后，绝望地踏上了复仇之路，他似乎想用自己的方式让少年恶魔们付出应有的代价。面对李长峰和警方的追踪，这群少年犯会得到何种惩罚？\\\n",
    "影片根据东野圭吾同名小说改编。\\\n",
    "\"\"\"\n",
    "\n",
    "review_template = \"\"\"\\\n",
    "请根据下面的文本，提取信息：\n",
    "\n",
    "演员:出演这部电影的演员\n",
    "剧情:电影的剧情，故事情节\n",
    "原著:是改编自哪一部电影或者图书\n",
    "\n",
    "将输出的文本转成JSON格式,按下面的键值：\n",
    "演员\n",
    "剧情\n",
    "原著\n",
    "\n",
    "text:{text}\n",
    "\"\"\""
   ]
  },
  {
   "cell_type": "code",
   "execution_count": 49,
   "id": "fa881f49-f35a-44a1-9483-13980f6df469",
   "metadata": {},
   "outputs": [
    {
     "data": {
      "text/plain": [
       "ChatPromptTemplate(input_variables=['text'], messages=[HumanMessagePromptTemplate(prompt=PromptTemplate(input_variables=['text'], template='请根据下面的文本，提取信息：\\n\\n演员:出演这部电影的演员\\n剧情:电影的剧情，故事情节\\n原著:是改编自哪一部电影或者图书\\n\\n将输出的文本转成JSON格式,按下面的键值：\\n演员\\n剧情\\n原著\\n\\ntext:{text}\\n'))])"
      ]
     },
     "execution_count": 49,
     "metadata": {},
     "output_type": "execute_result"
    }
   ],
   "source": [
    "prompt_template = ChatPromptTemplate.from_template(review_template)\n",
    "prompt_template"
   ]
  },
  {
   "cell_type": "code",
   "execution_count": 52,
   "id": "1bb7eecc-b830-4b08-aa3b-ece2fb00643f",
   "metadata": {},
   "outputs": [
    {
     "name": "stdout",
     "output_type": "stream",
     "text": [
      "以下是提取的信息，按照您提供的键值以JSON格式组织：\n",
      "\n",
      "```json\n",
      "{\n",
      "  \"演员\": \"王千源\",\n",
      "  \"剧情\": \"犯罪不分大人小孩，都是坏人。单身父亲李长峰在女儿被几名未成年人凌虐死亡后，绝望地踏上了复仇之路，他似乎想用自己的方式让少年恶魔们付出应有的代价。面对李长峰和警方的追踪，这群少年犯会得到何种惩罚？\",\n",
      "  \"原著\": \"东野圭吾同名小说\"\n",
      "}\n",
      "```\n",
      "\n",
      "请注意，由于原始文本中没有提供原著具体的书名，所以在此JSON中“原著”字段只是简单地引用了“东野圭吾同名小说”。如果需要更详细的信息，可能需要进一步核实原著的确切名称。\n"
     ]
    }
   ],
   "source": [
    "messages = prompt_template.format_messages(text=constomer_review)\n",
    "customer_resp = chat.invoke(messages)\n",
    "print(customer_resp.content)"
   ]
  },
  {
   "cell_type": "code",
   "execution_count": 53,
   "id": "f923495f-c955-4eb1-a0e2-3b7fab3d7ac8",
   "metadata": {},
   "outputs": [
    {
     "data": {
      "text/plain": [
       "str"
      ]
     },
     "execution_count": 53,
     "metadata": {},
     "output_type": "execute_result"
    }
   ],
   "source": [
    "type(customer_resp.content)"
   ]
  },
  {
   "cell_type": "code",
   "execution_count": 58,
   "id": "42a87bd8-04b6-45cc-a95f-5d4d566cc649",
   "metadata": {},
   "outputs": [],
   "source": [
    "from langchain.output_parsers import ResponseSchema,StructuredOutputParser"
   ]
  },
  {
   "cell_type": "code",
   "execution_count": 59,
   "id": "56fe956b-55b3-420c-b06c-50b509433183",
   "metadata": {},
   "outputs": [],
   "source": [
    "actor_schema = ResponseSchema(name=\"演员\",description=\"出演这部电影的演员\")\n",
    "story_schema = ResponseSchema(name=\"剧情\",description=\"电影的剧情，故事情节\")\n",
    "ref_schema = ResponseSchema(name=\"原著\",description=\"是改编自哪一部电影或者图书\")\n",
    "\n",
    "response_schemas = [actor_schema,story_schema,ref_schema]\n",
    "output_parser = StructuredOutputParser.from_response_schemas(response_schemas)"
   ]
  },
  {
   "cell_type": "code",
   "execution_count": 62,
   "id": "381bb76f-5822-4632-847d-fe1ad4e2ee73",
   "metadata": {},
   "outputs": [
    {
     "name": "stdout",
     "output_type": "stream",
     "text": [
      "The output should be a markdown code snippet formatted in the following schema, including the leading and trailing \"```json\" and \"```\":\n",
      "\n",
      "```json\n",
      "{\n",
      "\t\"演员\": string  // 出演这部电影的演员\n",
      "\t\"剧情\": string  // 电影的剧情，故事情节\n",
      "\t\"原著\": string  // 是改编自哪一部电影或者图书\n",
      "}\n",
      "```\n"
     ]
    }
   ],
   "source": [
    "format_instructions = output_parser.get_format_instructions()\n",
    "print(format_instructions)"
   ]
  },
  {
   "cell_type": "code",
   "execution_count": 63,
   "id": "08321914-814d-4fa3-9f7d-e4cac684d558",
   "metadata": {},
   "outputs": [],
   "source": [
    "review_template_2 = \"\"\"\\\n",
    "请根据下面的文本，提取信息：\n",
    "\n",
    "演员:出演这部电影的演员\n",
    "剧情:电影的剧情，故事情节\n",
    "原著:是改编自哪一部电影或者图书\n",
    "\n",
    "text:{text}\n",
    "\n",
    "{format_instructions}\n",
    "\"\"\""
   ]
  },
  {
   "cell_type": "code",
   "execution_count": 64,
   "id": "b93e89e2-eced-4f48-bb6d-1126e18f264c",
   "metadata": {},
   "outputs": [
    {
     "data": {
      "text/plain": [
       "ChatPromptTemplate(input_variables=['format_instructions', 'text'], messages=[HumanMessagePromptTemplate(prompt=PromptTemplate(input_variables=['format_instructions', 'text'], template='请根据下面的文本，提取信息：\\n\\n演员:出演这部电影的演员\\n剧情:电影的剧情，故事情节\\n原著:是改编自哪一部电影或者图书\\n\\ntext:{text}\\n\\n{format_instructions}\\n'))])"
      ]
     },
     "execution_count": 64,
     "metadata": {},
     "output_type": "execute_result"
    }
   ],
   "source": [
    "prompt_template2 = ChatPromptTemplate.from_template(review_template_2)\n",
    "prompt_template2"
   ]
  },
  {
   "cell_type": "code",
   "execution_count": 65,
   "id": "67d6b4d1-5fe9-4d5b-ac6d-2e89d944c9cc",
   "metadata": {},
   "outputs": [
    {
     "name": "stdout",
     "output_type": "stream",
     "text": [
      "以下是提取的信息，以JSON格式表示：\n",
      "\n",
      "```json\n",
      "{\n",
      "  \"演员\": \"王千源\",\n",
      "  \"剧情\": \"犯罪不分大人小孩，都是坏人。单身父亲李长峰在女儿被几名未成年人凌虐死亡后，绝望地踏上了复仇之路，他似乎想用自己的方式让少年恶魔们付出应有的代价。面对李长峰和警方的追踪，这群少年犯会得到何种惩罚？\",\n",
      "  \"原著\": \"东野圭吾同名小说\"\n",
      "}\n",
      "```\n",
      "\n",
      "请注意，原著字段中只提到了作者和小说的同名性质，但没有具体的书名。如果需要更详细的书名，需要进一步的信息来完善这一字段。\n"
     ]
    }
   ],
   "source": [
    "messages = prompt_template.format_messages(text=constomer_review,format_instructions=format_instructions)\n",
    "customer_resp = chat.invoke(messages)\n",
    "print(customer_resp.content)"
   ]
  },
  {
   "cell_type": "code",
   "execution_count": 66,
   "id": "b59bfdd5-8a76-4dd2-8423-b323cfdb5d1c",
   "metadata": {},
   "outputs": [
    {
     "data": {
      "text/plain": [
       "{'演员': '王千源',\n",
       " '剧情': '犯罪不分大人小孩，都是坏人。单身父亲李长峰在女儿被几名未成年人凌虐死亡后，绝望地踏上了复仇之路，他似乎想用自己的方式让少年恶魔们付出应有的代价。面对李长峰和警方的追踪，这群少年犯会得到何种惩罚？',\n",
       " '原著': '东野圭吾同名小说'}"
      ]
     },
     "execution_count": 66,
     "metadata": {},
     "output_type": "execute_result"
    }
   ],
   "source": [
    "output_dict = output_parser.parse(customer_resp.content)\n",
    "output_dict"
   ]
  },
  {
   "cell_type": "code",
   "execution_count": 67,
   "id": "20c19160-7cbc-4d2d-8d86-c8bc81330226",
   "metadata": {},
   "outputs": [
    {
     "data": {
      "text/plain": [
       "'王千源'"
      ]
     },
     "execution_count": 67,
     "metadata": {},
     "output_type": "execute_result"
    }
   ],
   "source": [
    "output_dict.get(\"演员\")"
   ]
  },
  {
   "cell_type": "code",
   "execution_count": 68,
   "id": "1ac64881-394f-4664-ad46-621a3752b2fa",
   "metadata": {},
   "outputs": [
    {
     "data": {
      "text/plain": [
       "'犯罪不分大人小孩，都是坏人。单身父亲李长峰在女儿被几名未成年人凌虐死亡后，绝望地踏上了复仇之路，他似乎想用自己的方式让少年恶魔们付出应有的代价。面对李长峰和警方的追踪，这群少年犯会得到何种惩罚？'"
      ]
     },
     "execution_count": 68,
     "metadata": {},
     "output_type": "execute_result"
    }
   ],
   "source": [
    "output_dict.get(\"剧情\")"
   ]
  },
  {
   "cell_type": "code",
   "execution_count": null,
   "id": "68fa101a-2fe5-403c-9c4b-23263fda76c0",
   "metadata": {},
   "outputs": [],
   "source": []
  }
 ],
 "metadata": {
  "kernelspec": {
   "display_name": "Python 3 (ipykernel)",
   "language": "python",
   "name": "python3"
  },
  "language_info": {
   "codemirror_mode": {
    "name": "ipython",
    "version": 3
   },
   "file_extension": ".py",
   "mimetype": "text/x-python",
   "name": "python",
   "nbconvert_exporter": "python",
   "pygments_lexer": "ipython3",
   "version": "3.11.9"
  }
 },
 "nbformat": 4,
 "nbformat_minor": 5
}
