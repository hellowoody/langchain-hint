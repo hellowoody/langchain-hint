{
 "cells": [
  {
   "cell_type": "code",
   "execution_count": null,
   "id": "b5849305-f5e9-473f-8573-fdde105fb505",
   "metadata": {},
   "outputs": [],
   "source": [
    "import json\n",
    "import requests\n",
    "\n",
    "from langchain.llms.base import LLM\n",
    "from langchain.llms.utils import enforce_stop_tokens\n",
    "from typing import List, Optional\n",
    "\n",
    "class ChatGLM2(LLM):\n",
    "    max_token: int = 2048\n",
    "    temperature: float = 0.1\n",
    "    top_p = 0.7\n",
    "    history = []\n",
    "    \n",
    "    def __init__(self, temperature=temperature):\n",
    "        super().__init__()\n",
    "        self.temperature = temperature\n",
    "        \n",
    "    @property\n",
    "    def _llm_type(self) -> str:\n",
    "        return \"ChatGLM2\"\n",
    "    \n",
    "    def _call(self, prompt: str, stop: Optional[List[str]] = None) -> str:\n",
    "        headers = {'Content-Type': 'application/json'}\n",
    "        data = json.dumps({\n",
    "            'prompt':prompt,\n",
    "            'temperature':self.temperature, \n",
    "            'history':self.history,\n",
    "            'max_length':self.max_token})\n",
    "        print(\"ChatGLM prompt:\", prompt)\n",
    "        # 调用api \n",
    "        response = requests.post(\"http://192.168.16.150:8000\", headers=headers, data=data, timeout=30)\n",
    "        if response.status_code!=200:\n",
    "            return \"查询结果错误\"\n",
    "        resp = response.json()\n",
    "        if stop is not None:\n",
    "            response = enforce_stop_tokens(response, stop)\n",
    "        self.history = self.history + [[None, resp['response']]]\n",
    "        return resp['response']"
   ]
  }
 ],
 "metadata": {
  "kernelspec": {
   "display_name": "Python 3 (ipykernel)",
   "language": "python",
   "name": "python3"
  },
  "language_info": {
   "codemirror_mode": {
    "name": "ipython",
    "version": 3
   },
   "file_extension": ".py",
   "mimetype": "text/x-python",
   "name": "python",
   "nbconvert_exporter": "python",
   "pygments_lexer": "ipython3",
   "version": "3.11.9"
  }
 },
 "nbformat": 4,
 "nbformat_minor": 5
}
