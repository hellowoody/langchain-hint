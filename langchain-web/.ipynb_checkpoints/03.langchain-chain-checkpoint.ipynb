{
 "cells": [
  {
   "cell_type": "code",
   "execution_count": 1,
   "id": "fcd3acfe-ccaa-4acf-be76-05f0b4d79613",
   "metadata": {},
   "outputs": [],
   "source": [
    "from dotenv import load_dotenv,find_dotenv\n",
    "_ = load_dotenv(find_dotenv())"
   ]
  },
  {
   "cell_type": "code",
   "execution_count": 2,
   "id": "80031f45-7e08-4da5-80b0-af41c0a140f6",
   "metadata": {},
   "outputs": [],
   "source": [
    "# !pip install pandas"
   ]
  },
  {
   "cell_type": "code",
   "execution_count": 3,
   "id": "44467511-6550-4043-8b87-a4e9d7612852",
   "metadata": {},
   "outputs": [
    {
     "data": {
      "text/html": [
       "<div>\n",
       "<style scoped>\n",
       "    .dataframe tbody tr th:only-of-type {\n",
       "        vertical-align: middle;\n",
       "    }\n",
       "\n",
       "    .dataframe tbody tr th {\n",
       "        vertical-align: top;\n",
       "    }\n",
       "\n",
       "    .dataframe thead th {\n",
       "        text-align: right;\n",
       "    }\n",
       "</style>\n",
       "<table border=\"1\" class=\"dataframe\">\n",
       "  <thead>\n",
       "    <tr style=\"text-align: right;\">\n",
       "      <th></th>\n",
       "      <th>Product</th>\n",
       "      <th>Review</th>\n",
       "    </tr>\n",
       "  </thead>\n",
       "  <tbody>\n",
       "    <tr>\n",
       "      <th>0</th>\n",
       "      <td>加大床单套装</td>\n",
       "      <td>我订购了一套特大号床单。我唯一的批评是，我希望卖家能提供带有4个枕套的特大号套装。我另外单独...</td>\n",
       "    </tr>\n",
       "    <tr>\n",
       "      <th>1</th>\n",
       "      <td>防水手机袋</td>\n",
       "      <td>我喜欢这个防水袋，尽管开口处是硬塑料做的。我不知道它是否会轻易破裂。但我的手机一旦放入袋子里...</td>\n",
       "    </tr>\n",
       "    <tr>\n",
       "      <th>2</th>\n",
       "      <td>豪华空气床垫</td>\n",
       "      <td>这款床垫顶部有一个小洞（花了很长时间才找到），而他们提供的补丁没有起作用，可能是因为是在床垫...</td>\n",
       "    </tr>\n",
       "    <tr>\n",
       "      <th>3</th>\n",
       "      <td>枕头内胆</td>\n",
       "      <td>这是亚马逊上最好的抱枕填充物。我已经试过好几种，不管你怎么拍打，它们都很便宜且扁平。当你把它...</td>\n",
       "    </tr>\n",
       "    <tr>\n",
       "      <th>4</th>\n",
       "      <td>手持奶泡器</td>\n",
       "      <td>我非常喜欢这个产品。但它似乎只能用几个月。公司第一次更换时表现很好（奶泡器从手柄中掉出，无法...</td>\n",
       "    </tr>\n",
       "  </tbody>\n",
       "</table>\n",
       "</div>"
      ],
      "text/plain": [
       "  Product                                             Review\n",
       "0  加大床单套装  我订购了一套特大号床单。我唯一的批评是，我希望卖家能提供带有4个枕套的特大号套装。我另外单独...\n",
       "1   防水手机袋  我喜欢这个防水袋，尽管开口处是硬塑料做的。我不知道它是否会轻易破裂。但我的手机一旦放入袋子里...\n",
       "2  豪华空气床垫  这款床垫顶部有一个小洞（花了很长时间才找到），而他们提供的补丁没有起作用，可能是因为是在床垫...\n",
       "3    枕头内胆  这是亚马逊上最好的抱枕填充物。我已经试过好几种，不管你怎么拍打，它们都很便宜且扁平。当你把它...\n",
       "4   手持奶泡器  我非常喜欢这个产品。但它似乎只能用几个月。公司第一次更换时表现很好（奶泡器从手柄中掉出，无法..."
      ]
     },
     "execution_count": 3,
     "metadata": {},
     "output_type": "execute_result"
    }
   ],
   "source": [
    "import pandas as pd\n",
    "df = pd.read_csv(\"Data.csv\")\n",
    "df.head()"
   ]
  },
  {
   "cell_type": "code",
   "execution_count": 4,
   "id": "c4686319-3992-46ba-8f50-7d86e68e4c14",
   "metadata": {},
   "outputs": [],
   "source": [
    "from langchain_community.chat_models import ChatZhipuAI\n",
    "from langchain.prompts import ChatPromptTemplate\n",
    "from langchain.chains import LLMChain"
   ]
  },
  {
   "cell_type": "code",
   "execution_count": 5,
   "id": "e5e58243-5ab5-43fb-b8ab-3ba7aa4fb75a",
   "metadata": {},
   "outputs": [],
   "source": [
    "llm = ChatZhipuAI(temperature=0.9)"
   ]
  },
  {
   "cell_type": "code",
   "execution_count": 6,
   "id": "756d089d-b351-4eb6-b6e3-87d046a0ee3d",
   "metadata": {},
   "outputs": [],
   "source": [
    "prompt = ChatPromptTemplate.from_template(\"描述一家生产{product}的公司的最佳名称是什么?\")"
   ]
  },
  {
   "cell_type": "code",
   "execution_count": 7,
   "id": "7f58c39f-bcf0-4115-b856-b867f967119d",
   "metadata": {},
   "outputs": [
    {
     "data": {
      "text/plain": [
       "AIMessage(content='为一家专注于生产加大床单套装的公司起名，最佳名称应当简洁、易记，同时体现出公司产品的特色。以下是一些建议：\\n\\n1. \"巨眠宫殿\"：这个名字既突出了床单的加大尺寸，又给人以舒适、宽敞的联想。\\n2. \"加加大梦幻坊\"：强调了床单套装的加大特点，同时寓意为消费者带来美好的睡眠体验。\\n3. \"舒梦之源\"：这个名字体现了床品带给人们的舒适感受，同时寓意企业致力于提供优质的产品。\\n4. \"悦大居床品\"：结合了“愉悦”和“加大”的概念，传达出企业希望为消费者带来满意的产品。\\n5. \"宽域美梦\"：这个名字表达了加大床单带来的宽敞感受，同时寓意美好的睡眠。\\n\\n综合考虑，个人认为“巨眠宫殿”是一个既符合产品特点，又易于传播的最佳名称。', response_metadata={'token_usage': {'completion_tokens': 186, 'prompt_tokens': 18, 'total_tokens': 204}, 'model_name': 'glm-4', 'finish_reason': 'stop'}, id='run-9b1248b5-fb9e-4b85-b183-2266412f5be5-0')"
      ]
     },
     "execution_count": 7,
     "metadata": {},
     "output_type": "execute_result"
    }
   ],
   "source": [
    "product = \"加大床单套装\"\n",
    "(prompt|llm).invoke(product)"
   ]
  },
  {
   "cell_type": "code",
   "execution_count": 8,
   "id": "8d35ec02-26d5-4dea-91c5-c1b73b6cd2a3",
   "metadata": {},
   "outputs": [],
   "source": [
    "from langchain.chains import SimpleSequentialChain"
   ]
  },
  {
   "cell_type": "code",
   "execution_count": 9,
   "id": "876dd2bc-8627-4870-ae33-172cb80fee5c",
   "metadata": {},
   "outputs": [
    {
     "name": "stderr",
     "output_type": "stream",
     "text": [
      "C:\\Users\\Administrator\\miniconda3\\envs\\langchain-web-1\\Lib\\site-packages\\langchain_core\\_api\\deprecation.py:119: LangChainDeprecationWarning: The class `LLMChain` was deprecated in LangChain 0.1.17 and will be removed in 0.3.0. Use RunnableSequence, e.g., `prompt | llm` instead.\n",
      "  warn_deprecated(\n"
     ]
    }
   ],
   "source": [
    "# chain_one = (prompt|llm)\n",
    "chain_one = LLMChain(llm=llm, prompt=prompt)"
   ]
  },
  {
   "cell_type": "code",
   "execution_count": 10,
   "id": "6a46fb1e-d263-4add-a856-d012bfc9d250",
   "metadata": {},
   "outputs": [],
   "source": [
    "prompt2 = ChatPromptTemplate.from_template(\"写一个20字的描述对于下面这个公司：{company_name}的\")\n",
    "chain_two = LLMChain(llm=llm, prompt=prompt2)"
   ]
  },
  {
   "cell_type": "code",
   "execution_count": 11,
   "id": "64dbb597-7764-45c2-89c7-54fc8d69db88",
   "metadata": {},
   "outputs": [],
   "source": [
    "overall_simple_chain = SimpleSequentialChain(\n",
    "    chains=[chain_one, chain_two], verbose=True\n",
    ")"
   ]
  },
  {
   "cell_type": "code",
   "execution_count": 12,
   "id": "650b0b44-a6ee-45b7-a154-6ba8c070059d",
   "metadata": {},
   "outputs": [
    {
     "name": "stdout",
     "output_type": "stream",
     "text": [
      "\n",
      "\n",
      "\u001b[1m> Entering new SimpleSequentialChain chain...\u001b[0m\n",
      "\u001b[36;1m\u001b[1;3m结合提供的信息，一家生产加大床单套装的公司需要一个既能体现其产品特色，又能传达品牌形象和企业文化的名称。以下是一些建议：\n",
      "\n",
      "1. **\"宜眠空间\"（ComfySpace）**\n",
      "   - 这个名称强调了产品为用户提供的一个舒适睡眠空间的特点。\n",
      "\n",
      "2. **\"净逸家居\"（PureEase Home）**\n",
      "   - “净逸”结合了产品卫生、纯净和便捷的特性，同时“家居”表明了产品适用的场景。\n",
      "\n",
      "3. **\"梦舒宝\"（DreamSofter）**\n",
      "   - 这个名称突出了产品为用户带来的舒适睡眠体验，同时易于记忆和发音。\n",
      "\n",
      "4. **\"隔脏守护者\"（DirtGuardian）**\n",
      "   - 直接表明了产品的主要功能，即为用户提供一个隔脏的睡眠环境。\n",
      "\n",
      "5. **\"悠眠雅集\"（RestfulHarbor）**\n",
      "   - 这个名称传递出一种高端、优雅的品牌形象，同时暗示产品能提供优质的睡眠体验。\n",
      "\n",
      "6. **\"洁眠优选\"（CleanRest Select）**\n",
      "   - 突出产品的洁净特性，同时表达了对品质的承诺。\n",
      "\n",
      "7. **\"舒睡宝\"（SlumberBuddy）**\n",
      "   - 这个名称亲切友好，易于发音，强调了产品的舒适性和陪伴感。\n",
      "\n",
      "综合考虑上述因素，如果必须选择一个最佳的名称，\"梦舒宝\"（DreamSofter）可能是最佳选项。它不仅体现了产品的加柔加厚特点，还暗示用户可以享受如在家般的安心睡眠，同时简单易记，有助于品牌传播和形象的建立。\u001b[0m\n",
      "\u001b[33;1m\u001b[1;3m\"梦舒宝，加柔呵护，尽享安眠。\"\u001b[0m\n",
      "\n",
      "\u001b[1m> Finished chain.\u001b[0m\n"
     ]
    },
    {
     "data": {
      "text/plain": [
       "{'input': '加大床单套装', 'output': '\"梦舒宝，加柔呵护，尽享安眠。\"'}"
      ]
     },
     "execution_count": 12,
     "metadata": {},
     "output_type": "execute_result"
    }
   ],
   "source": [
    "overall_simple_chain.invoke(product)"
   ]
  },
  {
   "cell_type": "code",
   "execution_count": 13,
   "id": "96aa66b8-5933-4867-965c-cd8a4deb1eff",
   "metadata": {},
   "outputs": [],
   "source": [
    "from langchain.chains import SequentialChain"
   ]
  },
  {
   "cell_type": "code",
   "execution_count": 14,
   "id": "2a343864-28ff-4418-9ef3-a534efdae829",
   "metadata": {},
   "outputs": [],
   "source": [
    "prompt1 = ChatPromptTemplate.from_template(\"用中文翻译下面的评论：\"\n",
    "                                           \"\\n\\n{Review}\")\n",
    "chain1 = LLMChain(llm=llm,prompt=prompt1,output_key=\"ch_Review\")"
   ]
  },
  {
   "cell_type": "code",
   "execution_count": 15,
   "id": "e965c37a-d7eb-4bbf-b5ce-9d8d7484aaf3",
   "metadata": {},
   "outputs": [],
   "source": [
    "prompt2 = ChatPromptTemplate.from_template(\"能否用一句话概括以下评论的内容:\"\n",
    "                                           \"\\n\\n{ch_Review}\")\n",
    "chain2 = LLMChain(llm=llm,prompt=prompt2,output_key=\"summary\")"
   ]
  },
  {
   "cell_type": "code",
   "execution_count": 16,
   "id": "57ed8db8-d4ce-433e-9190-8e81784019b0",
   "metadata": {},
   "outputs": [],
   "source": [
    "prompt3 = ChatPromptTemplate.from_template(\"下面review使用的什么语言:\\n\\n{Review}\")\n",
    "chain3 = LLMChain(llm=llm,prompt=prompt3,output_key=\"language\")"
   ]
  },
  {
   "cell_type": "code",
   "execution_count": 17,
   "id": "c32fe556-9889-4c0e-ad6d-c58f1a49b483",
   "metadata": {},
   "outputs": [],
   "source": [
    "prompt4 = ChatPromptTemplate.from_template(\n",
    "    \"使用特定的语言对下面的总结写一个后续回复:\"\n",
    "    \"\\n\\n总结:{summary}\"\n",
    "    \"\\n\\n语言:{language}\"\n",
    ")\n",
    "chain4 = LLMChain(llm=llm,prompt=prompt3,output_key=\"followup_message\")"
   ]
  },
  {
   "cell_type": "code",
   "execution_count": 18,
   "id": "0c234ea8-6aad-4e87-89de-458a67f879d7",
   "metadata": {},
   "outputs": [],
   "source": [
    "overall_chain = SequentialChain(\n",
    "    chains=[chain1,chain2,chain3,chain4],\n",
    "    input_variables=[\"Review\"],\n",
    "    output_variables=[\"ch_Review\",\"summary\",\"followup_message\"],\n",
    "    verbose=False\n",
    ")"
   ]
  },
  {
   "cell_type": "code",
   "execution_count": 21,
   "id": "56665413-96e8-4814-849b-13f342555c4f",
   "metadata": {},
   "outputs": [],
   "source": [
    "df = pd.read_csv(\"Data.csv\")\n",
    "# df.head()\n",
    "review = df.Review[5]"
   ]
  },
  {
   "cell_type": "code",
   "execution_count": 22,
   "id": "49627005-9990-4733-b04b-8300cba2586d",
   "metadata": {},
   "outputs": [
    {
     "data": {
      "text/plain": [
       "{'Review': \"I find the taste mediocre. The foam doesn't last, which is strange. The ones I buy in-store of the same type taste much better... Is it an old batch or a counterfeit!?!\",\n",
       " 'ch_Review': '我觉得这个味道一般般。泡沫不持久，很奇怪。我店里购买的同类型产品口感要好得多……这是不是一个旧批次或者是假货！？！',\n",
       " 'summary': '\"这款产品味道普通，泡沫不持久，让人怀疑其品质，与店里同类型商品相比较差距明显，可能是旧批次或假货。\" \\n\\n（注：由于一句话概括需要包含主要信息点，这句话相对较长以满足内容需求。）',\n",
       " 'followup_message': '这段评论使用的是英语。评论中提到了对产品口感的失望，泡沫持久性的问题，以及对该批次产品真实性的质疑。'}"
      ]
     },
     "execution_count": 22,
     "metadata": {},
     "output_type": "execute_result"
    }
   ],
   "source": [
    "overall_chain.invoke(review)"
   ]
  },
  {
   "cell_type": "markdown",
   "id": "7b3b5191-d1c0-4a14-b1a8-1274ca5937ca",
   "metadata": {},
   "source": [
    "# Router Chain"
   ]
  },
  {
   "cell_type": "code",
   "execution_count": null,
   "id": "db9459a4-bcb1-4703-8cb4-106f5f06d685",
   "metadata": {},
   "outputs": [],
   "source": [
    "#第一个提示适合回答物理问题\n",
    "physics_template = \"\"\"你是一位非常聪明的物理学教授。\\\n",
    "你在以简洁且易于理解的方式回答物理学问题上非常出色。\\\n",
    "当遇到不知道问题的答案时，你会坦诚表示自己不知道。\n",
    "\n",
    "这里有一个问题：\n",
    "{input}\"\"\"\n",
    "\n",
    "\n",
    "#第二个提示适合回答数学问题\n",
    "math_template = \"\"\"你是一个非常优秀的数学家。\\\n",
    "你非常擅长解答数学问题。\\\n",
    "你之所以如此出色，是因为你能将难题分解成各个组成部分，\\\n",
    "分别解答这些组成部分，然后再将它们组合起来，\\\n",
    "从而解答更广泛的问题。\n",
    "\n",
    "这里有一个问题：\n",
    "{input}\"\"\"\n",
    "\n",
    "\n",
    "#第三个适合回答历史问题\n",
    "history_template = \"\"\"你是一位非常出色的历史学家。\\\n",
    "你对横跨多个历史时期的人物、事件和背景拥有卓越的知识和深刻的理解。\\\n",
    "你具备思考、反思、辩论、讨论及评估过去的能力。\\\n",
    "你尊重历史证据，并能利用这些证据来支持你的解释和判断。\n",
    "\n",
    "这里有一个问题：\n",
    "{input}\"\"\"\n",
    "\n",
    "\n",
    "#第四个适合回答计算机问题\n",
    "computerscience_template = \"\"\" You are a successful computer scientist.\\\n",
    "You have a passion for creativity, collaboration,\\\n",
    "forward-thinking, confidence, strong problem-solving capabilities,\\\n",
    "understanding of theories and algorithms, and excellent communication \\\n",
    "skills. You are great at answering coding questions. \\\n",
    "You are so good because you know how to solve a problem by \\\n",
    "describing the solution in imperative steps \\\n",
    "that a machine can easily interpret and you know how to \\\n",
    "choose a solution that has a good balance between \\\n",
    "time complexity and space complexity. \n",
    "\n",
    "Here is a question:\n",
    "{input}\"\"\""
   ]
  }
 ],
 "metadata": {
  "kernelspec": {
   "display_name": "Python 3 (ipykernel)",
   "language": "python",
   "name": "python3"
  },
  "language_info": {
   "codemirror_mode": {
    "name": "ipython",
    "version": 3
   },
   "file_extension": ".py",
   "mimetype": "text/x-python",
   "name": "python",
   "nbconvert_exporter": "python",
   "pygments_lexer": "ipython3",
   "version": "3.11.9"
  }
 },
 "nbformat": 4,
 "nbformat_minor": 5
}
