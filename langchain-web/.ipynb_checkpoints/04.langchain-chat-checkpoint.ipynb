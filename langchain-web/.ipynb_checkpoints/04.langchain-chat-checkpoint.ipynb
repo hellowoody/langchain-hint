{
 "cells": [
  {
   "cell_type": "markdown",
   "id": "e533d3c9-6656-4b0e-ba57-13548159578a",
   "metadata": {},
   "source": [
    "# 基于LangChain的文档问答\n",
    "本章内容主要利用langchain构建向量数据库，可以在文档上方或关于文档回答问题，因此，给定从PDF文件、网页或某些公司的内部文档收集中提取的文本，使用llm回答有关这些文档内容的问题\n",
    "\n",
    "## 环境配置\n",
    "安装langchain，设置chatGPT的OPENAI_API_KEY\n",
    "\n",
    " - 安装langchain\n",
    "\n",
    "    ```\n",
    "    pip install langchain\n",
    "    ```  \n",
    " \n",
    " - 安装docarray\n",
    "\n",
    "    ```\n",
    "    pip install docarray\n",
    "    ```  \n",
    " \n",
    " - 设置API-KEY环境变量\n",
    "\n",
    "    ```  \n",
    "    export BAICHUAN_API_KEY='api-key'\n",
    "    ```\n"
   ]
  },
  {
   "cell_type": "code",
   "execution_count": 1,
   "id": "69207b84-f1e5-4df7-8384-ce7491910600",
   "metadata": {},
   "outputs": [],
   "source": [
    "# !pip install --upgrade langchain\n",
    "# !pip install --upgrade langchain-community langchain-core"
   ]
  },
  {
   "cell_type": "code",
   "execution_count": 2,
   "id": "76fedf59-e192-4f3d-8ada-11bb0012b1bd",
   "metadata": {},
   "outputs": [],
   "source": [
    "# !pip list | find \"langchain\""
   ]
  },
  {
   "cell_type": "code",
   "execution_count": 3,
   "id": "22939f0a-8c54-4f27-b11c-70844ba9a162",
   "metadata": {},
   "outputs": [],
   "source": [
    "from dotenv import load_dotenv, find_dotenv\n",
    "_ = load_dotenv(find_dotenv()) #读取环境变量"
   ]
  },
  {
   "cell_type": "code",
   "execution_count": 4,
   "id": "89340318-a013-493f-b580-d082354942a2",
   "metadata": {},
   "outputs": [
    {
     "data": {
      "text/plain": [
       "AIMessage(content='$1+1=2$', response_metadata={'token_usage': {'prompt_tokens': 7, 'completion_tokens': 8, 'total_tokens': 15}, 'model': 'Baichuan2-Turbo-192K'}, id='run-dd3c2859-eb0c-411b-82b7-819c5cdcf43f-0')"
      ]
     },
     "execution_count": 4,
     "metadata": {},
     "output_type": "execute_result"
    }
   ],
   "source": [
    "from langchain_community.chat_models import ChatBaichuan\n",
    "llm = ChatBaichuan(temperature=0.9)\n",
    "llm.invoke(\"1+1=？\")   # 证明模型可以使用"
   ]
  },
  {
   "cell_type": "markdown",
   "id": "5c009b44-19f2-4512-92ee-68fbdb976adf",
   "metadata": {},
   "source": [
    "## 导入embedding模型和向量存储组件\n",
    "\n",
    "使用Dock Array内存搜索向量存储，作为一个内存向量存储，不需要连接外部数据库"
   ]
  },
  {
   "cell_type": "code",
   "execution_count": 5,
   "id": "f7a8e6a3-f96b-4d3d-9f88-20896927d1d0",
   "metadata": {},
   "outputs": [],
   "source": [
    "from langchain.chains import RetrievalQA #检索QA链，在文档上进行检索\n",
    "from langchain.document_loaders import CSVLoader #文档加载器，采用csv格式存储\n",
    "from langchain.vectorstores import DocArrayInMemorySearch #向量存储\n",
    "from IPython.display import display, Markdown #在jupyter显示信息的工具"
   ]
  },
  {
   "cell_type": "code",
   "execution_count": 6,
   "id": "6a089250-7f78-4284-93b3-b85354728eea",
   "metadata": {},
   "outputs": [],
   "source": [
    "# !pip install docarray"
   ]
  },
  {
   "cell_type": "code",
   "execution_count": 7,
   "id": "80821b45-38b8-4091-9dcf-dc5532b5a45c",
   "metadata": {},
   "outputs": [],
   "source": [
    "#读取文件\n",
    "file = 'OutdoorClothingCatalog_1000.csv'\n",
    "loader = CSVLoader(file_path=file,encoding='utf8')"
   ]
  },
  {
   "cell_type": "code",
   "execution_count": 8,
   "id": "38dffe04-c4f9-4fc0-bd7f-7407415da2d5",
   "metadata": {},
   "outputs": [
    {
     "data": {
      "text/html": [
       "<div>\n",
       "<style scoped>\n",
       "    .dataframe tbody tr th:only-of-type {\n",
       "        vertical-align: middle;\n",
       "    }\n",
       "\n",
       "    .dataframe tbody tr th {\n",
       "        vertical-align: top;\n",
       "    }\n",
       "\n",
       "    .dataframe thead th {\n",
       "        text-align: right;\n",
       "    }\n",
       "</style>\n",
       "<table border=\"1\" class=\"dataframe\">\n",
       "  <thead>\n",
       "    <tr style=\"text-align: right;\">\n",
       "      <th></th>\n",
       "      <th>Unnamed: 0</th>\n",
       "      <th>name</th>\n",
       "      <th>description</th>\n",
       "    </tr>\n",
       "  </thead>\n",
       "  <tbody>\n",
       "    <tr>\n",
       "      <th>0</th>\n",
       "      <td>0</td>\n",
       "      <td>Women's Campside Oxfords</td>\n",
       "      <td>This ultracomfortable lace-to-toe Oxford boast...</td>\n",
       "    </tr>\n",
       "    <tr>\n",
       "      <th>1</th>\n",
       "      <td>1</td>\n",
       "      <td>Recycled Waterhog Dog Mat, Chevron Weave</td>\n",
       "      <td>Protect your floors from spills and splashing ...</td>\n",
       "    </tr>\n",
       "    <tr>\n",
       "      <th>2</th>\n",
       "      <td>2</td>\n",
       "      <td>Infant and Toddler Girls' Coastal Chill Swimsu...</td>\n",
       "      <td>She'll love the bright colors, ruffles and exc...</td>\n",
       "    </tr>\n",
       "    <tr>\n",
       "      <th>3</th>\n",
       "      <td>3</td>\n",
       "      <td>Refresh Swimwear, V-Neck Tankini Contrasts</td>\n",
       "      <td>Whether you're going for a swim or heading out...</td>\n",
       "    </tr>\n",
       "    <tr>\n",
       "      <th>4</th>\n",
       "      <td>4</td>\n",
       "      <td>Sun Shield Shirt by</td>\n",
       "      <td>\"Block the sun, not the fun – our high-perform...</td>\n",
       "    </tr>\n",
       "    <tr>\n",
       "      <th>5</th>\n",
       "      <td>5</td>\n",
       "      <td>Men's Plaid Tropic Shirt, Short-Sleeve</td>\n",
       "      <td>Our Ultracomfortable sun protection is rated t...</td>\n",
       "    </tr>\n",
       "  </tbody>\n",
       "</table>\n",
       "</div>"
      ],
      "text/plain": [
       "   Unnamed: 0                                               name  \\\n",
       "0           0                           Women's Campside Oxfords   \n",
       "1           1           Recycled Waterhog Dog Mat, Chevron Weave   \n",
       "2           2  Infant and Toddler Girls' Coastal Chill Swimsu...   \n",
       "3           3         Refresh Swimwear, V-Neck Tankini Contrasts   \n",
       "4           4                               Sun Shield Shirt by    \n",
       "5           5             Men's Plaid Tropic Shirt, Short-Sleeve   \n",
       "\n",
       "                                         description  \n",
       "0  This ultracomfortable lace-to-toe Oxford boast...  \n",
       "1  Protect your floors from spills and splashing ...  \n",
       "2  She'll love the bright colors, ruffles and exc...  \n",
       "3  Whether you're going for a swim or heading out...  \n",
       "4  \"Block the sun, not the fun – our high-perform...  \n",
       "5  Our Ultracomfortable sun protection is rated t...  "
      ]
     },
     "execution_count": 8,
     "metadata": {},
     "output_type": "execute_result"
    }
   ],
   "source": [
    "#查看数据\n",
    "import pandas as pd\n",
    "data = pd.read_csv(file)\n",
    "data"
   ]
  },
  {
   "cell_type": "markdown",
   "id": "5a8fcaa4-a7df-4568-bb51-a1da2fc81f08",
   "metadata": {},
   "source": [
    "提供了一个户外服装的CSV文件，我们将使用它与语言模型结合使用\n",
    "\n",
    "## 创建向量存储 \n",
    "\n",
    "将导入一个索引，即向量存储索引创建器"
   ]
  },
  {
   "cell_type": "code",
   "execution_count": 9,
   "id": "b963526c-172b-4290-bafe-098e13908c93",
   "metadata": {},
   "outputs": [],
   "source": [
    "from langchain_community.embeddings import BaichuanTextEmbeddings\n",
    "import os\n",
    "\n",
    "embeddings = BaichuanTextEmbeddings(baichuan_api_key=os.environ[\"BAICHUAN_API_KEY\"])"
   ]
  },
  {
   "cell_type": "code",
   "execution_count": 10,
   "id": "edb6ea20-40a5-41b1-9eff-b90fbcb0cf55",
   "metadata": {},
   "outputs": [],
   "source": [
    "from langchain.indexes import VectorstoreIndexCreator #导入向量存储索引创建器"
   ]
  },
  {
   "cell_type": "markdown",
   "id": "06e5a6cb-0ae0-41b2-8ee1-93c04121c55c",
   "metadata": {},
   "source": [
    "从langchain.indexes模块中导入VectorstoreIndexCreator类，这个类用于创建基于向量存储的索引。\n",
    "\n",
    "接下来，实例化一个VectorstoreIndexCreator对象，命名为index_creator。在这个过程中，传入了两个参数：\n",
    "\n",
    " - embedding参数：这里传入了一个名为embeddings的变量，它应该是之前定义的一个embedding模型或者对象。这个模型负责将文本数据转化为高维向量，以便于之后在向量空间中进行相似性搜索。\n",
    " - vectorstore_cls参数：设置为DocArrayInMemorySearch类，这指定了所使用的向量数据库类型。DocArrayInMemorySearch是一种在内存中存储和搜索向量数据的实现方式，适用于数据量不大且追求快速检索的场景。这意味着创建的索引将会存储在内存中，而非持久化到磁盘，这样可以提高查询速度，但可能会占用较多的内存资源。"
   ]
  },
  {
   "cell_type": "code",
   "execution_count": 11,
   "id": "4cd9d38e-f7a9-4f2d-9275-41176cc1eea5",
   "metadata": {},
   "outputs": [],
   "source": [
    "index_creator = VectorstoreIndexCreator(\n",
    "    embedding = embeddings,\n",
    "    vectorstore_cls=DocArrayInMemorySearch\n",
    ")"
   ]
  },
  {
   "cell_type": "code",
   "execution_count": 12,
   "id": "ea0c0384-7d17-4fbd-87d0-6d805a370a7b",
   "metadata": {},
   "outputs": [
    {
     "name": "stderr",
     "output_type": "stream",
     "text": [
      "C:\\Users\\Administrator\\miniconda3\\envs\\langchain-web-1\\Lib\\site-packages\\pydantic\\_migration.py:283: UserWarning: `pydantic.error_wrappers:ValidationError` has been moved to `pydantic:ValidationError`.\n",
      "  warnings.warn(f'`{import_path}` has been moved to `{new_location}`.')\n"
     ]
    }
   ],
   "source": [
    "'''\n",
    "将指定向量存储类,创建完成后，我们将从加载器中调用,通过文档记载器列表加载\n",
    "'''\n",
    "index = index_creator.from_loaders([loader])"
   ]
  },
  {
   "cell_type": "code",
   "execution_count": 13,
   "id": "1b21c6a0-1445-4435-92bc-4cae72a691e5",
   "metadata": {},
   "outputs": [],
   "source": [
    "# 请列出您所有具有防晒功能的衬衫 在 Markdown 的表格中并总结每一个。\n",
    "query =\"Please list all your shirts with sun protection \\\n",
    "in a table in markdown and summarize each one.\""
   ]
  },
  {
   "cell_type": "markdown",
   "id": "b442c954-7cce-44c3-9475-80c55e58532a",
   "metadata": {},
   "source": [
    "我们可以使用自定义提示模板修改查询以满足我们的需求"
   ]
  },
  {
   "cell_type": "code",
   "execution_count": 14,
   "id": "4e063c03-2828-4e7b-8054-f335b0b0e80d",
   "metadata": {},
   "outputs": [],
   "source": [
    "from langchain.prompts import PromptTemplate\n",
    "# 因为原始数据是英文的所以模板是英文的这样更好,下面的中文模板也是能正常运行可能输出的答案有时又会偏颇\n",
    "\n",
    "prompt_template = \"\"\"Use the following pieces of context to answer the question at the end. \n",
    "If you don't know the answer, please think rationally and answer from your own knowledge base \n",
    "\n",
    "{context}\n",
    "\n",
    "Question: {question}\n",
    "\"\"\"\n",
    "# prompt_template = \"\"\"使用以下上下文片段来回答最后的问题。如果你不知道答案，只需说不知道，不要试图编造答案。\n",
    "# 答案最多使用三个句子。尽量简明扼要地回答。在回答的最后一定要说\"感谢您的提问！\"\n",
    "\n",
    "# {context}\n",
    "\n",
    "# Question: {question}\n",
    "# \"\"\"\n",
    "PROMPT = PromptTemplate(\n",
    "    template=prompt_template, input_variables=[\"context\",\"question\"]\n",
    ")\n",
    "chain_type_kwargs = {\"prompt\": PROMPT}"
   ]
  },
  {
   "cell_type": "code",
   "execution_count": 18,
   "id": "78b7eeb2-5c42-4cc5-a94f-f1eb5babc5ee",
   "metadata": {
    "scrolled": true
   },
   "outputs": [
    {
     "data": {
      "text/markdown": [
       "| Item         | Fabric | UPF | Moisture Wicking | Machine Washable |\n",
       "|---------------|--------|-----|----------------|----------------|\n",
       "| Men's Plaid Tropic Shirt, Short-Sleeve | 52% polyester, 48% nylon | 50+ | Yes | Yes |\n",
       "| Sun Shield Shirt by | 78% nylon, 22% Lycra Xtra Life fiber | 50+ | Yes | No |"
      ],
      "text/plain": [
       "<IPython.core.display.Markdown object>"
      ]
     },
     "metadata": {},
     "output_type": "display_data"
    }
   ],
   "source": [
    "response = index.query(query,llm=llm, chain_type_kwargs=chain_type_kwargs)  #使用索引查询创建一个响应，并传入这个查询\n",
    "# print(response)\n",
    "display(Markdown(response))"
   ]
  },
  {
   "cell_type": "markdown",
   "id": "09287ecc-6780-4d57-ae67-9749fee54732",
   "metadata": {},
   "source": [
    "得到了一个Markdown表格，其中包含所有带有防晒衣的衬衫的名称和描述，还得到了一个语言模型提供的不错的小总结\n",
    "\n",
    "使用语言模型与文档结合使用\n",
    "想要使用语言模型并将其与我们的许多文档结合使用，但是语言模型一次只能检查几千个单词（不同模型对支持一次检查多少个单词不一样，比如百川一次支持 512 个 token，token 数 = 汉字数+单词数*1.3），如果我们有非常大的文档，如何让语言模型回答关于其中所有内容的问题呢？通过embedding和向量存储实现\n",
    "\n",
    " - embedding\n",
    "   \n",
    "    文本片段创建数值表示文本语义，相似内容的文本片段将具有相似的向量，这使我们可以在向量空间中比较文本片段  \n",
    " \n",
    " - 向量数据库\n",
    "\n",
    "    向量数据库是存储我们在上一步中创建的这些向量表示的一种方式，我们创建这个向量数据库的方式是用来自传入文档的文本块填充它。 当我们获得一个大的传入文档时，我们首先将其分成较小的块，因为我们可能无法将整个文档传递给语言模型，因此采用分块embedding的方式储存到向量数据库中。这就是创建索引的过程。\n",
    "\n",
    "通过运行时使用索引来查找与传入查询最相关的文本片段，然后我们将其与向量数据库中的所有向量进行比较，并选择最相似的n个，返回语言模型得到最终答案"
   ]
  },
  {
   "cell_type": "code",
   "execution_count": 19,
   "id": "16fa7521-928e-430d-b080-1d28262b1ad0",
   "metadata": {},
   "outputs": [],
   "source": [
    "#创建一个文档加载器，通过csv格式加载\n",
    "loader = CSVLoader(file_path=file,encoding='utf8')\n",
    "docs = loader.load()"
   ]
  },
  {
   "cell_type": "code",
   "execution_count": 20,
   "id": "6bba8f55-4d5f-441b-a29f-f665d5e01e36",
   "metadata": {},
   "outputs": [
    {
     "data": {
      "text/plain": [
       "Document(page_content=\": 0\\nname: Women's Campside Oxfords\\ndescription: This ultracomfortable lace-to-toe Oxford boasts a super-soft canvas, thick cushioning, and quality construction for a broken-in feel from the first time you put them on. \\n\\nSize & Fit: Order regular shoe size. For half sizes not offered, order up to next whole size. \\n\\nSpecs: Approx. weight: 1 lb.1 oz. per pair. \\n\\nConstruction: Soft canvas material for a broken-in feel and look. Comfortable EVA innersole with Cleansport NXT® antimicrobial odor control. Vintage hunt, fish and camping motif on innersole. Moderate arch contour of innersole. EVA foam midsole for cushioning and support. Chain-tread-inspired molded rubber outsole with modified chain-tread pattern. Imported. \\n\\nQuestions? Please contact us for any inquiries.\", metadata={'source': 'OutdoorClothingCatalog_1000.csv', 'row': 0})"
      ]
     },
     "execution_count": 20,
     "metadata": {},
     "output_type": "execute_result"
    }
   ],
   "source": [
    "docs[0]#查看单个文档，我们可以看到每个文档对应于CSV中的一个块"
   ]
  },
  {
   "cell_type": "code",
   "execution_count": 21,
   "id": "87c72055-ebbb-4129-8e64-fa8cb0751018",
   "metadata": {},
   "outputs": [
    {
     "data": {
      "text/plain": [
       "6"
      ]
     },
     "execution_count": 21,
     "metadata": {},
     "output_type": "execute_result"
    }
   ],
   "source": [
    "len(docs)"
   ]
  },
  {
   "cell_type": "code",
   "execution_count": 22,
   "id": "00b473f9-509d-4da3-a63d-7ba35c2bf40c",
   "metadata": {},
   "outputs": [],
   "source": [
    "'''\n",
    "因为这些文档已经非常小了，所以我们实际上不需要在这里进行任何分块,可以直接进行embedding\n",
    "'''\n",
    "\n",
    "from langchain_community.embeddings import BaichuanTextEmbeddings  #要创建可以直接进行embedding，我们将使用baichuanAI的可以直接进行embedding类\n",
    "# embeddings = BaichuanTextEmbeddings(baichuan_api_key=os.environ[\"BAICHUAN_API_KEY\"])\n",
    "embeddings = BaichuanTextEmbeddings() #初始化"
   ]
  },
  {
   "cell_type": "code",
   "execution_count": 23,
   "id": "3504e408-f57d-4965-9a8c-6a9febd34593",
   "metadata": {},
   "outputs": [],
   "source": [
    " #让我们使用embedding上的查询方法为特定文本创建embedding\n",
    "embed = embeddings.embed_query(\"Hi my name is Harrison\")"
   ]
  },
  {
   "cell_type": "code",
   "execution_count": 24,
   "id": "876104a5-c44f-4188-aae7-7fb9b4ae3423",
   "metadata": {},
   "outputs": [
    {
     "name": "stdout",
     "output_type": "stream",
     "text": [
      "1024\n"
     ]
    }
   ],
   "source": [
    "print(len(embed))#查看这个embedding，我们可以看到有超过一千个不同的元素"
   ]
  },
  {
   "cell_type": "code",
   "execution_count": 25,
   "id": "934f77d4-7738-4684-9c5f-c2ef87e59d6d",
   "metadata": {},
   "outputs": [
    {
     "name": "stdout",
     "output_type": "stream",
     "text": [
      "[0.027318535, 0.00078973273, -0.011749281, 0.05348684, -0.035398442]\n"
     ]
    }
   ],
   "source": [
    "#每个元素都是不同的数字值，组合起来，这就创建了这段文本的总体数值表示\n",
    "print(embed[:5])"
   ]
  },
  {
   "cell_type": "code",
   "execution_count": 26,
   "id": "73e8d340-6002-47cc-9189-9058a13fb2c0",
   "metadata": {},
   "outputs": [],
   "source": [
    "'''\n",
    "为刚才的文本创建embedding，准备将它们存储在向量存储中，使用向量存储上的from documents方法来实现。\n",
    "该方法接受文档列表、嵌入对象，然后我们将创建一个总体向量存储\n",
    "'''\n",
    "db = DocArrayInMemorySearch.from_documents(\n",
    "    docs, \n",
    "    embeddings\n",
    ")"
   ]
  },
  {
   "cell_type": "code",
   "execution_count": 27,
   "id": "fda83cc7-1946-43ea-8f8b-f00efb3def8b",
   "metadata": {},
   "outputs": [],
   "source": [
    "# 请推荐一件有防晒功能的衬衫\n",
    "query = \"Please suggest a shirt with sunblocking\""
   ]
  },
  {
   "cell_type": "code",
   "execution_count": 28,
   "id": "1af40ec8-c972-4eea-8c41-53277c011655",
   "metadata": {},
   "outputs": [],
   "source": [
    "# 使用这个向量存储来查找与传入查询类似的文本，如果我们在向量存储中使用相似性搜索方法并传入一个查询，我们将得到一个文档列表\n",
    "docs = db.similarity_search(query) "
   ]
  },
  {
   "cell_type": "code",
   "execution_count": 29,
   "id": "bd342edc-0f14-4db7-b9fd-f72c00a80044",
   "metadata": {},
   "outputs": [
    {
     "data": {
      "text/plain": [
       "4"
      ]
     },
     "execution_count": 29,
     "metadata": {},
     "output_type": "execute_result"
    }
   ],
   "source": [
    "len(docs) # 我们可以看到它返回了四个文档"
   ]
  },
  {
   "cell_type": "code",
   "execution_count": 30,
   "id": "0422878b-2521-4d04-8483-5d7f24e6e286",
   "metadata": {},
   "outputs": [
    {
     "data": {
      "text/plain": [
       "Document(page_content=\": 5\\nname: Men's Plaid Tropic Shirt, Short-Sleeve\\ndescription: Our Ultracomfortable sun protection is rated to UPF 50+, helping you stay cool and dry. Originally designed for fishing, this lightest hot-weather shirt offers UPF 50+ coverage and is great for extended travel. SunSmart technology blocks 98% of the sun's harmful UV rays, while the high-performance fabric is wrinkle-free and quickly evaporates perspiration. Made with 52% polyester and 48% nylon, this shirt is machine washable and dryable. Additional features include front and back cape venting, two front bellows pockets and an imported design. With UPF 50+ coverage, you can limit sun exposure and feel secure with the highest rated sun protection available.\", metadata={'source': 'OutdoorClothingCatalog_1000.csv', 'row': 5})"
      ]
     },
     "execution_count": 30,
     "metadata": {},
     "output_type": "execute_result"
    }
   ],
   "source": [
    "docs[0] #，如果我们看第一个文档，我们可以看到它确实是一件关于防晒的衬衫"
   ]
  },
  {
   "cell_type": "markdown",
   "id": "7fd3d655-ce31-4363-9038-5d1be682a0a3",
   "metadata": {},
   "source": [
    "### 如何回答我们文档的相关问题\n",
    "\n",
    "首先，我们需要从这个向量存储中创建一个检索器，检索器是一个通用接口，可以由任何接受查询并返回文档的方法支持。接下来，因为我们想要进行文本生成并返回自然语言响应"
   ]
  },
  {
   "cell_type": "code",
   "execution_count": 31,
   "id": "917434f3-9251-40aa-8c77-04783310695e",
   "metadata": {},
   "outputs": [],
   "source": [
    "retriever = db.as_retriever() #创建检索器通用接口"
   ]
  },
  {
   "cell_type": "code",
   "execution_count": 32,
   "id": "889c56e9-a18d-4271-a853-c34687846f1a",
   "metadata": {},
   "outputs": [
    {
     "name": "stderr",
     "output_type": "stream",
     "text": [
      "WARNING! max_tokens is not default parameter.\n",
      "                    max_tokens was transferred to model_kwargs.\n",
      "                    Please confirm that max_tokens is what you intended.\n"
     ]
    }
   ],
   "source": [
    "llm = ChatBaichuan(temperature = 0.0,max_tokens=1024) #导入语言模型"
   ]
  },
  {
   "cell_type": "code",
   "execution_count": 33,
   "id": "79a5f67f-8a0a-4035-96cb-9eeb6dea00a4",
   "metadata": {},
   "outputs": [],
   "source": [
    "qdocs = \"\".join([docs[i].page_content for i in range(len(docs))])  # 将合并文档中的所有页面内容到一个变量中"
   ]
  },
  {
   "cell_type": "code",
   "execution_count": 34,
   "id": "698ccd06-9d5d-42f7-8f90-825481539757",
   "metadata": {},
   "outputs": [
    {
     "name": "stdout",
     "output_type": "stream",
     "text": [
      ": 5\n",
      "name: Men's Plaid Tropic Shirt, Short-Sleeve\n",
      "description: Our Ultracomfortable sun protection is rated to UPF 50+, helping you stay cool and dry. Originally designed for fishing, this lightest hot-weather shirt offers UPF 50+ coverage and is great for extended travel. SunSmart technology blocks 98% of the sun's harmful UV rays, while the high-performance fabric is wrinkle-free and quickly evaporates perspiration. Made with 52% polyester and 48% nylon, this shirt is machine washable and dryable. Additional features include front and back cape venting, two front bellows pockets and an imported design. With UPF 50+ coverage, you can limit sun exposure and feel secure with the highest rated sun protection available.: 4\n",
      "name: Sun Shield Shirt by\n",
      "description: \"Block the sun, not the fun – our high-performance sun shirt is guaranteed to protect from harmful UV rays. \n",
      "\n",
      "Size & Fit: Slightly Fitted: Softly shapes the body. Falls at hip.\n",
      "\n",
      "Fabric & Care: 78% nylon, 22% Lycra Xtra Life fiber. UPF 50+ rated – the highest rated sun protection possible. Handwash, line dry.\n",
      "\n",
      "Additional Features: Wicks moisture for quick-drying comfort. Fits comfortably over your favorite swimsuit. Abrasion resistant for season after season of wear. Imported.\n",
      "\n",
      "Sun Protection That Won't Wear Off\n",
      "Our high-performance fabric provides SPF 50+ sun protection, blocking 98% of the sun's harmful rays. This fabric is recommended by The Skin Cancer Foundation as an effective UV protectant.: 2\n",
      "name: Infant and Toddler Girls' Coastal Chill Swimsuit, Two-Piece\n",
      "description: She'll love the bright colors, ruffles and exclusive whimsical prints of this toddler's two-piece swimsuit! Our four-way-stretch and chlorine-resistant fabric keeps its shape and resists snags. The UPF 50+ rated fabric provides the highest rated sun protection possible, blocking 98% of the sun's harmful rays. The crossover no-slip straps and fully lined bottom ensure a secure fit and maximum coverage. Machine wash and line dry for best results. Imported.: 3\n",
      "name: Refresh Swimwear, V-Neck Tankini Contrasts\n",
      "description: Whether you're going for a swim or heading out on an SUP, this watersport-ready tankini top is designed to move with you and stay comfortable. All while looking great in an eye-catching colorblock style. \n",
      "\n",
      "Size & Fit\n",
      "Fitted: Sits close to the body.\n",
      "\n",
      "Why We Love It\n",
      "Not only does this swimtop feel good to wear, its fabric is good for the earth too. In recycled nylon, with Lycra® spandex for the perfect amount of stretch. \n",
      "\n",
      "Fabric & Care\n",
      "The premium Italian-blend is breathable, quick drying and abrasion resistant. \n",
      "Body in 82% recycled nylon with 18% Lycra® spandex. \n",
      "Lined in 90% recycled nylon with 10% Lycra® spandex. \n",
      "UPF 50+ rated – the highest rated sun protection possible. \n",
      "Handwash, line dry.\n",
      "\n",
      "Additional Features\n",
      "Lightweight racerback straps are easy to get on and off, and won't get in your way. \n",
      "Flattering V-neck silhouette. \n",
      "Imported.\n",
      "\n",
      "Sun Protection That Won't Wear Off\n",
      "Our high-performance fabric provides SPF\n"
     ]
    }
   ],
   "source": [
    "print(qdocs)"
   ]
  },
  {
   "cell_type": "code",
   "execution_count": 35,
   "id": "37cb8292-abfe-4378-a4f0-d42f6822205a",
   "metadata": {},
   "outputs": [],
   "source": [
    "#列出所有具有防晒功能的衬衫并在Markdown表格中总结每个衬衫的语言模型,请用中文\n",
    "\n",
    "response = llm.invoke(f\"{qdocs} Question: Please list all your \\\n",
    "shirts with sun protection in a table in markdown and summarize each one,using chinese.\") "
   ]
  },
  {
   "cell_type": "code",
   "execution_count": 36,
   "id": "27ff1f69-9e28-42a4-9032-dcf6b6570852",
   "metadata": {},
   "outputs": [
    {
     "data": {
      "text/markdown": [
       "| 商品名称 | 描述 |\n",
       "| --- | --- |\n",
       "| 男士格子热带衬衫，短袖 | 这款衬衫采用52%涤纶和48%尼龙制成，具有UPF 50+的防晒功能，可阻挡98%的紫外线。它适合钓鱼和长时间旅行，具有防皱和快速吸湿排汗的特性。正面和背面有通风设计，两个前袋，进口设计。 |\n",
       "| Sun Shield 衬衫 | 这款衬衫采用78%尼龙和22%莱卡制成，UPF 50+，可阻挡98%的紫外线。它的面料可以迅速吸湿排汗，舒适地覆盖泳装，并且耐磨。 |\n",
       "| 女婴和幼儿Coastal Chill泳衣，两件套 | 这款泳衣的UPF 50+可以阻挡98%的紫外线，采用四向弹力、抗氯面料，交叉防滑肩带和全衬底确保贴合度和遮盖。 |\n",
       "| Refresh泳装，V领拼接比基尼上装 | 这款泳装上装采用82%再生尼龙和18%莱卡制成，UPF 50+，可阻挡98%的紫外线。轻盈的工字背带易于穿脱，V领设计凸显女性魅力。 |"
      ],
      "text/plain": [
       "<IPython.core.display.Markdown object>"
      ]
     },
     "metadata": {},
     "output_type": "display_data"
    }
   ],
   "source": [
    "display(Markdown(response.content))"
   ]
  },
  {
   "cell_type": "code",
   "execution_count": 37,
   "id": "44b4db9d-14bb-4536-8520-7a4c8b202ac2",
   "metadata": {},
   "outputs": [],
   "source": [
    "''' \n",
    "通过LangChain链封装起来\n",
    "创建一个检索QA链，对检索到的文档进行问题回答，要创建这样的链，我们将传入几个不同的东西\n",
    "1、语言模型，在最后进行文本生成\n",
    "2、传入链类型，这里使用stuff，将所有文档塞入上下文并对语言模型进行一次调用\n",
    "3、传入一个检索器\n",
    "'''\n",
    "\n",
    "prompt_template = \"\"\"Use the following pieces of context to answer the question at the end. \n",
    "If you don't know the answer, please think rationally and answer from your own knowledge base \n",
    "\n",
    "{context}\n",
    "\n",
    "Question: {question}\n",
    "\"\"\"\n",
    "PROMPT = PromptTemplate(\n",
    "    template=prompt_template, input_variables=[\"context\", \"question\"]\n",
    ")\n",
    "chain_type_kwargs = {\"prompt\": PROMPT}\n",
    "\n",
    "qa_stuff = RetrievalQA.from_chain_type(\n",
    "    llm=llm, \n",
    "    chain_type=\"stuff\", \n",
    "    retriever=retriever, \n",
    "    verbose=True,\n",
    "    chain_type_kwargs=chain_type_kwargs\n",
    ")"
   ]
  },
  {
   "cell_type": "code",
   "execution_count": 38,
   "id": "8b0c0104-8357-4055-8f74-a090497a716f",
   "metadata": {},
   "outputs": [],
   "source": [
    "#创建一个查询并在此查询上运行链\n",
    "query =  \"Please list all your shirts with sun protection in a table \\\n",
    "in markdown and summarize each one.\""
   ]
  },
  {
   "cell_type": "code",
   "execution_count": 42,
   "id": "d49bc8eb-a251-45ac-af7e-d79b9fda1e0d",
   "metadata": {
    "scrolled": true
   },
   "outputs": [
    {
     "name": "stdout",
     "output_type": "stream",
     "text": [
      "\n",
      "\n",
      "\u001b[1m> Entering new RetrievalQA chain...\u001b[0m\n",
      "\n",
      "\u001b[1m> Finished chain.\u001b[0m\n"
     ]
    }
   ],
   "source": [
    "response = qa_stuff.invoke(query)"
   ]
  },
  {
   "cell_type": "code",
   "execution_count": 43,
   "id": "cbbe7985-97c1-47e2-808f-d753fa44da94",
   "metadata": {
    "scrolled": true
   },
   "outputs": [
    {
     "data": {
      "text/markdown": [
       "| Product | Material | Sun Protection |\n",
       "|----------------------|-------------------------------|---------------|\n",
       "| Men's Plaid Tropic Shirt | 52% polyester, 48% nylon | UPF 50+ |\n",
       "| Sun Shield Shirt | 78% nylon, 22% Lycra Xtra Life fiber | UPF 50+ |\n",
       "| Refresh Swimwear Tankini | 82% recycled nylon, 18% Lycra® spandex | UPF 50+ |\n",
       "\n",
       "These three shirts offer the highest level of sun protection, blocking 98% of the sun's harmful UV rays. They are suitable for outdoor activities such as fishing, extended travel, and swimming. The fabrics are breathable, quick-drying, and abrasion resistant, making them ideal for active lifestyles."
      ],
      "text/plain": [
       "<IPython.core.display.Markdown object>"
      ]
     },
     "metadata": {},
     "output_type": "display_data"
    }
   ],
   "source": [
    "display(Markdown(response[\"result\"]))"
   ]
  },
  {
   "cell_type": "code",
   "execution_count": 46,
   "id": "4c0faec8-5e00-4599-9953-c495f2dd5894",
   "metadata": {},
   "outputs": [
    {
     "name": "stdout",
     "output_type": "stream",
     "text": [
      "\n",
      "\n",
      "\u001b[1m> Entering new RetrievalQA chain...\u001b[0m\n",
      "\n",
      "\u001b[1m> Finished chain.\u001b[0m\n"
     ]
    },
    {
     "data": {
      "text/markdown": [
       "| 序号 | 商品名称                                       | 材质                                                         | 防晒系数 | 特点                                                                                   |\n",
       "|----|----------------------------------------------|-----------------------------------------------------------|------|---------------------------------------------------------------------------------------|\n",
       "| 1  | Men's Plaid Tropic Shirt, Short-Sleeve          | 52% polyester, 48% nylon                                       | UPF 50+ | 轻薄透气，快速吸汗，防皱，适合炎热天气穿着，可机洗和干洗。                                   |\n",
       "| 2  | Sun Shield Shirt by                            | 78% nylon, 22% Lycra Xtra Life fiber                            | UPF 50+ | 吸湿排汗，舒适贴身，可搭配泳装穿着，抗摩擦，适合长期穿着，需手洗、晾干。                       |\n",
       "| 3  | Refresh Swimwear, V-Neck Tankini Contrasts        | 82% recycled nylon, 18% Lycra® spandex (主体)；90% recycled nylon, 10% Lycra® spandex (内衬) | UPF 50+ | 适合游泳和水运动穿着，舒适贴合，环保材质，需手洗、晾干。                                         |\n",
       "\n",
       "这些衬衫都具有UPF 50+的防晒系数，可以有效阻挡紫外线，保护皮肤。它们分别适用于不同的场合，如日常穿着、游泳和运动等。请根据您的需求选择合适的衬衫。"
      ],
      "text/plain": [
       "<IPython.core.display.Markdown object>"
      ]
     },
     "metadata": {},
     "output_type": "display_data"
    }
   ],
   "source": [
    "query =  \"Please list all your \\\n",
    "shirts with sun protection in a table in markdown and summarize each one,using chinese.\"\n",
    "response = qa_stuff.invoke(query)\n",
    "display(Markdown(response[\"result\"]))"
   ]
  },
  {
   "cell_type": "markdown",
   "id": "9bbdbea4-7ac5-4c74-9eef-e187ed5cabce",
   "metadata": {},
   "source": [
    "### 不同类型的chain链\n",
    "想在许多不同类型的块上执行相同类型的问答，该怎么办？之前的实验中只返回了4个文档，如果有多个文档，那么我们可以使用几种不同的方法\n",
    "\n",
    " - Map Reduce\n",
    "    将所有块与问题一起传递给语言模型，获取回复，使用另一个语言模型调用将所有单独的回复总结成最终答案，它可以在任意数量的文档上运行。可以并行处理单个问题，同时也需要更多的调用。它将所有文档视为独立的\n",
    " - Refine\n",
    "    用于循环许多文档，际上是迭代的，建立在先前文档的答案之上，非常适合前后因果信息并随时间逐步构建答案，依赖于先前调用的结果。它通常需要更长的时间，并且基本上需要与Map Reduce一样多的调用\n",
    " - Map Re-rank\n",
    "    对每个文档进行单个语言模型调用，要求它返回一个分数，选择最高分，这依赖于语言模型知道分数应该是什么，需要告诉它，如果它与文档相关，则应该是高分，并在那里精细调整说明，可以批量处理它们相对较快，但是更加昂贵\n",
    " - Stuff\n",
    "    将所有内容组合成一个文档"
   ]
  },
  {
   "cell_type": "code",
   "execution_count": null,
   "id": "ef087ea3-c3cb-48a0-9a9f-e7b986235bd2",
   "metadata": {},
   "outputs": [],
   "source": []
  }
 ],
 "metadata": {
  "kernelspec": {
   "display_name": "Python 3 (ipykernel)",
   "language": "python",
   "name": "python3"
  },
  "language_info": {
   "codemirror_mode": {
    "name": "ipython",
    "version": 3
   },
   "file_extension": ".py",
   "mimetype": "text/x-python",
   "name": "python",
   "nbconvert_exporter": "python",
   "pygments_lexer": "ipython3",
   "version": "3.11.9"
  }
 },
 "nbformat": 4,
 "nbformat_minor": 5
}
