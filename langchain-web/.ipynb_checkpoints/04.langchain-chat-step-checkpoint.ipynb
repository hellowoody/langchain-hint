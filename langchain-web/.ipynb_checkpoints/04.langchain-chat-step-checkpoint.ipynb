{
 "cells": [
  {
   "cell_type": "markdown",
   "id": "e533d3c9-6656-4b0e-ba57-13548159578a",
   "metadata": {},
   "source": [
    "# 基于LangChain的文档问答\n",
    "本章内容主要利用langchain构建向量数据库，可以在文档上方或关于文档回答问题，因此，给定从PDF文件、网页或某些公司的内部文档收集中提取的文本，使用llm回答有关这些文档内容的问题\n",
    "\n",
    "## 环境配置\n",
    "安装langchain，设置chatGPT的OPENAI_API_KEY\n",
    "\n",
    " - 安装langchain\n",
    "\n",
    "    ```\n",
    "    pip install langchain\n",
    "    ```  \n",
    " \n",
    " - 安装docarray\n",
    "\n",
    "    ```\n",
    "    pip install docarray\n",
    "    ```  \n",
    " \n",
    " - 设置API-KEY环境变量\n",
    "\n",
    "    ```  \n",
    "    export BAICHUAN_API_KEY='api-key'\n",
    "    ```\n"
   ]
  },
  {
   "cell_type": "code",
   "execution_count": 2,
   "id": "69207b84-f1e5-4df7-8384-ce7491910600",
   "metadata": {},
   "outputs": [],
   "source": [
    "# !pip install --upgrade langchain\n",
    "# !pip install --upgrade langchain-community langchain-core"
   ]
  },
  {
   "cell_type": "code",
   "execution_count": 3,
   "id": "76fedf59-e192-4f3d-8ada-11bb0012b1bd",
   "metadata": {},
   "outputs": [],
   "source": [
    "# !pip list | find \"langchain\""
   ]
  },
  {
   "cell_type": "code",
   "execution_count": 4,
   "id": "22939f0a-8c54-4f27-b11c-70844ba9a162",
   "metadata": {},
   "outputs": [],
   "source": [
    "from dotenv import load_dotenv, find_dotenv\n",
    "_ = load_dotenv(find_dotenv()) #读取环境变量"
   ]
  },
  {
   "cell_type": "code",
   "execution_count": 5,
   "id": "89340318-a013-493f-b580-d082354942a2",
   "metadata": {},
   "outputs": [
    {
     "data": {
      "text/plain": [
       "AIMessage(content='1+1=2', response_metadata={'token_usage': {'prompt_tokens': 7, 'completion_tokens': 6, 'total_tokens': 13}, 'model': 'Baichuan2-Turbo-192K'}, id='run-c33385db-d57f-4779-9cc9-b616fbda40cd-0')"
      ]
     },
     "execution_count": 5,
     "metadata": {},
     "output_type": "execute_result"
    }
   ],
   "source": [
    "from langchain_community.chat_models import ChatBaichuan\n",
    "llm = ChatBaichuan(temperature=0.9)\n",
    "llm.invoke(\"1+1=？\")   # 证明模型可以使用"
   ]
  },
  {
   "cell_type": "markdown",
   "id": "5c009b44-19f2-4512-92ee-68fbdb976adf",
   "metadata": {},
   "source": [
    "## 导入embedding模型和向量存储组件\n",
    "\n",
    "使用Dock Array内存搜索向量存储，作为一个内存向量存储，不需要连接外部数据库"
   ]
  },
  {
   "cell_type": "code",
   "execution_count": 16,
   "id": "f7a8e6a3-f96b-4d3d-9f88-20896927d1d0",
   "metadata": {},
   "outputs": [],
   "source": [
    "from langchain.chains import RetrievalQA #检索QA链，在文档上进行检索\n",
    "from langchain.document_loaders import CSVLoader #文档加载器，采用csv格式存储\n",
    "from langchain.vectorstores import DocArrayInMemorySearch #向量存储\n",
    "from IPython.display import display, Markdown #在jupyter显示信息的工具"
   ]
  },
  {
   "cell_type": "code",
   "execution_count": 17,
   "id": "6a089250-7f78-4284-93b3-b85354728eea",
   "metadata": {},
   "outputs": [],
   "source": [
    "# !pip install docarray"
   ]
  },
  {
   "cell_type": "code",
   "execution_count": 64,
   "id": "80821b45-38b8-4091-9dcf-dc5532b5a45c",
   "metadata": {},
   "outputs": [],
   "source": [
    "#读取文件\n",
    "file = 'OutdoorClothingCatalog_1000.csv'\n",
    "loader = CSVLoader(file_path=file,encoding='utf8')"
   ]
  },
  {
   "cell_type": "code",
   "execution_count": 65,
   "id": "10452fd8-ff6f-40de-970e-60ccd54456ba",
   "metadata": {},
   "outputs": [],
   "source": [
    "# file = \"people.csv\"\n",
    "# loader = CSVLoader(file_path=file,encoding='utf8')"
   ]
  },
  {
   "cell_type": "code",
   "execution_count": 66,
   "id": "ac6469d0-2b11-4cb1-a6b2-7856b24b3609",
   "metadata": {},
   "outputs": [],
   "source": [
    "# import pandas as pd\n",
    "# names = [\"Akuce\",\"Bob\",\"Charlie\",\"David\",\"Eva\",\"Frank\"]\n",
    "# descs = [\n",
    "#     \"是一位优秀的科学家，专注于研究人工智能。\",\n",
    "#     \"是一位出色的艺术家，擅长绘画和雕塑。\",\n",
    "#     \"是一位杰出的企业家，创办了多家成功的公司。\",\n",
    "#     \"是一位卓越的音乐家，精通多种乐器。\",\n",
    "#     \"是一位卓越的运动员，多次获得世界冠军。\",\n",
    "#     \"是一位杰出的作家，创作了多部畅销书籍。\",\n",
    "# ]\n",
    "# file = \"people.csv\"\n",
    "# df = pd.DataFrame({\"name\":names,\"description\":descs})\n",
    "# df.to_csv(file,index=False)\n",
    "# loader = CSVLoader(file_path=file,encoding='utf8')"
   ]
  },
  {
   "cell_type": "code",
   "execution_count": 67,
   "id": "38dffe04-c4f9-4fc0-bd7f-7407415da2d5",
   "metadata": {},
   "outputs": [
    {
     "data": {
      "text/html": [
       "<div>\n",
       "<style scoped>\n",
       "    .dataframe tbody tr th:only-of-type {\n",
       "        vertical-align: middle;\n",
       "    }\n",
       "\n",
       "    .dataframe tbody tr th {\n",
       "        vertical-align: top;\n",
       "    }\n",
       "\n",
       "    .dataframe thead th {\n",
       "        text-align: right;\n",
       "    }\n",
       "</style>\n",
       "<table border=\"1\" class=\"dataframe\">\n",
       "  <thead>\n",
       "    <tr style=\"text-align: right;\">\n",
       "      <th></th>\n",
       "      <th>Unnamed: 0</th>\n",
       "      <th>name</th>\n",
       "      <th>description</th>\n",
       "    </tr>\n",
       "  </thead>\n",
       "  <tbody>\n",
       "    <tr>\n",
       "      <th>0</th>\n",
       "      <td>0</td>\n",
       "      <td>Women's Campside Oxfords</td>\n",
       "      <td>This ultracomfortable lace-to-toe Oxford boast...</td>\n",
       "    </tr>\n",
       "    <tr>\n",
       "      <th>1</th>\n",
       "      <td>1</td>\n",
       "      <td>Recycled Waterhog Dog Mat, Chevron Weave</td>\n",
       "      <td>Protect your floors from spills and splashing ...</td>\n",
       "    </tr>\n",
       "  </tbody>\n",
       "</table>\n",
       "</div>"
      ],
      "text/plain": [
       "   Unnamed: 0                                      name  \\\n",
       "0           0                  Women's Campside Oxfords   \n",
       "1           1  Recycled Waterhog Dog Mat, Chevron Weave   \n",
       "\n",
       "                                         description  \n",
       "0  This ultracomfortable lace-to-toe Oxford boast...  \n",
       "1  Protect your floors from spills and splashing ...  "
      ]
     },
     "execution_count": 67,
     "metadata": {},
     "output_type": "execute_result"
    }
   ],
   "source": [
    "#查看数据\n",
    "import pandas as pd\n",
    "data = pd.read_csv(file)\n",
    "data"
   ]
  },
  {
   "cell_type": "markdown",
   "id": "5a8fcaa4-a7df-4568-bb51-a1da2fc81f08",
   "metadata": {},
   "source": [
    "提供了一个户外服装的CSV文件，我们将使用它与语言模型结合使用\n",
    "\n",
    "## 创建向量存储 \n",
    "\n",
    "将导入一个索引，即向量存储索引创建器"
   ]
  },
  {
   "cell_type": "code",
   "execution_count": 68,
   "id": "b963526c-172b-4290-bafe-098e13908c93",
   "metadata": {},
   "outputs": [],
   "source": [
    "from langchain_community.embeddings import BaichuanTextEmbeddings\n",
    "import os\n",
    "\n",
    "embeddings = BaichuanTextEmbeddings(baichuan_api_key=os.environ[\"BAICHUAN_API_KEY\"])"
   ]
  },
  {
   "cell_type": "code",
   "execution_count": 69,
   "id": "edb6ea20-40a5-41b1-9eff-b90fbcb0cf55",
   "metadata": {},
   "outputs": [],
   "source": [
    "from langchain.indexes import VectorstoreIndexCreator #导入向量存储索引创建器"
   ]
  },
  {
   "cell_type": "code",
   "execution_count": 70,
   "id": "4cd9d38e-f7a9-4f2d-9275-41176cc1eea5",
   "metadata": {},
   "outputs": [],
   "source": [
    "'''\n",
    "将指定向量存储类,创建完成后，我们将从加载器中调用,通过文档记载器列表加载\n",
    "'''\n",
    "\n",
    "index_creator = VectorstoreIndexCreator(\n",
    "    embedding = embeddings,\n",
    "    vectorstore_cls=DocArrayInMemorySearch\n",
    ")"
   ]
  },
  {
   "cell_type": "code",
   "execution_count": 71,
   "id": "ea0c0384-7d17-4fbd-87d0-6d805a370a7b",
   "metadata": {},
   "outputs": [],
   "source": [
    "index = index_creator.from_loaders([loader])"
   ]
  },
  {
   "cell_type": "code",
   "execution_count": 34,
   "id": "1b21c6a0-1445-4435-92bc-4cae72a691e5",
   "metadata": {},
   "outputs": [],
   "source": [
    "query =\"谁喜欢计算机，为什么呢？\""
   ]
  },
  {
   "cell_type": "markdown",
   "id": "b442c954-7cce-44c3-9475-80c55e58532a",
   "metadata": {},
   "source": [
    "我们可以使用自定义提示模板修改查询以满足我们的需求"
   ]
  },
  {
   "cell_type": "code",
   "execution_count": 54,
   "id": "4e063c03-2828-4e7b-8054-f335b0b0e80d",
   "metadata": {},
   "outputs": [],
   "source": [
    "from langchain.prompts import PromptTemplate\n",
    "prompt_template = \"\"\"使用以下上下文来回答最后的问题。\n",
    "如果您不知道答案，请理性思考并根据自己的知识库进行回答\n",
    "\n",
    "{context}\n",
    "\n",
    "Question: {question}\n",
    "\"\"\"\n",
    "PROMPT = PromptTemplate(\n",
    "    template=prompt_template, input_variables=[\"context\", \"question\"]\n",
    ")\n",
    "chain_type_kwargs = {\"prompt\": PROMPT}"
   ]
  },
  {
   "cell_type": "code",
   "execution_count": 55,
   "id": "78b7eeb2-5c42-4cc5-a94f-f1eb5babc5ee",
   "metadata": {
    "scrolled": true
   },
   "outputs": [
    {
     "data": {
      "text/plain": [
       "'喜欢弹琴的是David。因为根据上下文描述，David是一位卓越的音乐家，精通多种乐器。'"
      ]
     },
     "execution_count": 55,
     "metadata": {},
     "output_type": "execute_result"
    }
   ],
   "source": [
    "response = index.query(query,llm=llm, chain_type_kwargs=chain_type_kwargs)  #使用索引查询创建一个响应，并传入这个查询\n",
    "response"
   ]
  },
  {
   "cell_type": "code",
   "execution_count": 36,
   "id": "16fa7521-928e-430d-b080-1d28262b1ad0",
   "metadata": {},
   "outputs": [
    {
     "data": {
      "text/plain": [
       "Document(page_content='name: Akuce\\ndescription: 是一位优秀的科学家，专注于研究人工智能。', metadata={'source': 'people.csv', 'row': 0})"
      ]
     },
     "execution_count": 36,
     "metadata": {},
     "output_type": "execute_result"
    }
   ],
   "source": [
    "docs = loader.load()\n",
    "docs[0]"
   ]
  },
  {
   "cell_type": "code",
   "execution_count": 37,
   "id": "6bba8f55-4d5f-441b-a29f-f665d5e01e36",
   "metadata": {},
   "outputs": [],
   "source": [
    "embed = embeddings.embed_query(\"我喜欢研究算法\")"
   ]
  },
  {
   "cell_type": "code",
   "execution_count": 39,
   "id": "00b473f9-509d-4da3-a63d-7ba35c2bf40c",
   "metadata": {},
   "outputs": [
    {
     "data": {
      "text/plain": [
       "[0.04571808, 0.02734232, -0.0057214918, 0.028426658, -0.028289212]"
      ]
     },
     "execution_count": 39,
     "metadata": {},
     "output_type": "execute_result"
    }
   ],
   "source": [
    "embed[:5]"
   ]
  },
  {
   "cell_type": "code",
   "execution_count": 40,
   "id": "3504e408-f57d-4965-9a8c-6a9febd34593",
   "metadata": {},
   "outputs": [],
   "source": [
    "db = DocArrayInMemorySearch.from_documents(\n",
    "    docs,\n",
    "    embeddings\n",
    ")\n",
    "docs = db.similarity_search(\"我喜欢弹琴\")"
   ]
  },
  {
   "cell_type": "code",
   "execution_count": 41,
   "id": "876104a5-c44f-4188-aae7-7fb9b4ae3423",
   "metadata": {},
   "outputs": [
    {
     "data": {
      "text/plain": [
       "[Document(page_content='name: David\\ndescription: 是一位卓越的音乐家，精通多种乐器。', metadata={'source': 'people.csv', 'row': 3}),\n",
       " Document(page_content='name: Bob\\ndescription: 是一位出色的艺术家，擅长绘画和雕塑。', metadata={'source': 'people.csv', 'row': 1}),\n",
       " Document(page_content='name: Eva\\ndescription: 是一位卓越的运动员，多次获得世界冠军。', metadata={'source': 'people.csv', 'row': 4}),\n",
       " Document(page_content='name: Akuce\\ndescription: 是一位优秀的科学家，专注于研究人工智能。', metadata={'source': 'people.csv', 'row': 0})]"
      ]
     },
     "execution_count": 41,
     "metadata": {},
     "output_type": "execute_result"
    }
   ],
   "source": [
    "docs"
   ]
  },
  {
   "cell_type": "code",
   "execution_count": 42,
   "id": "934f77d4-7738-4684-9c5f-c2ef87e59d6d",
   "metadata": {},
   "outputs": [
    {
     "data": {
      "text/plain": [
       "'name: David\\ndescription: 是一位卓越的音乐家，精通多种乐器。name: Bob\\ndescription: 是一位出色的艺术家，擅长绘画和雕塑。name: Eva\\ndescription: 是一位卓越的运动员，多次获得世界冠军。name: Akuce\\ndescription: 是一位优秀的科学家，专注于研究人工智能。'"
      ]
     },
     "execution_count": 42,
     "metadata": {},
     "output_type": "execute_result"
    }
   ],
   "source": [
    "retriever= db.as_retriever()\n",
    "llm = ChatBaichuan(temperature=0.0)\n",
    "qdocs = \"\".join([docs[i].page_content for i in range(len(docs))])\n",
    "qdocs"
   ]
  },
  {
   "cell_type": "code",
   "execution_count": 51,
   "id": "73e8d340-6002-47cc-9189-9058a13fb2c0",
   "metadata": {},
   "outputs": [
    {
     "data": {
      "text/plain": [
       "AIMessage(content='Bob（艺术家，擅长绘画和雕塑）和Akuce（科学家，专注于研究人工智能）与科学和艺术相关。', response_metadata={'token_usage': {'prompt_tokens': 76, 'completion_tokens': 26, 'total_tokens': 102}, 'model': 'Baichuan2-Turbo-192K'}, id='run-cc30b963-f922-41d0-bca1-4cd78bd8e1bd-0')"
      ]
     },
     "execution_count": 51,
     "metadata": {},
     "output_type": "execute_result"
    }
   ],
   "source": [
    "resp = llm.invoke(f\"{qdocs} 问题：请列出跟科学艺术相关的人\")\n",
    "resp"
   ]
  },
  {
   "cell_type": "code",
   "execution_count": 49,
   "id": "fda83cc7-1946-43ea-8f8b-f00efb3def8b",
   "metadata": {},
   "outputs": [
    {
     "name": "stdout",
     "output_type": "stream",
     "text": [
      "\n",
      "\n",
      "\u001b[1m> Entering new RetrievalQA chain...\u001b[0m\n",
      "\n",
      "\u001b[1m> Finished chain.\u001b[0m\n"
     ]
    }
   ],
   "source": [
    "from langchain.prompts import PromptTemplate\n",
    "prompt_template = \"\"\"Use the following pieces of context to answer the question at the end. \n",
    "If you don't know the answer, please think rationally and answer from your own knowledge base \n",
    "\n",
    "{context}\n",
    "\n",
    "Question: {question}\n",
    "\"\"\"\n",
    "PROMPT = PromptTemplate(\n",
    "    template=prompt_template, input_variables=[\"context\", \"question\"]\n",
    ")\n",
    "chain_type_kwargs = {\"prompt\": PROMPT}\n",
    "qa_stuff = RetrievalQA.from_chain_type(\n",
    "    llm=llm,\n",
    "    chain_type=\"stuff\",\n",
    "    retriever=retriever,\n",
    "    verbose=True,\n",
    "    chain_type_kwargs=chain_type_kwargs\n",
    ")\n",
    "query = \"喜欢弹琴的是谁，为什么？\"\n",
    "resp = qa_stuff.invoke(query)"
   ]
  },
  {
   "cell_type": "code",
   "execution_count": 50,
   "id": "1af40ec8-c972-4eea-8c41-53277c011655",
   "metadata": {},
   "outputs": [
    {
     "data": {
      "text/plain": [
       "{'query': '喜欢弹琴的是谁，为什么？', 'result': '根据描述，喜欢弹琴的人是David，因为他是一位卓越的音乐家，精通多种乐器。'}"
      ]
     },
     "execution_count": 50,
     "metadata": {},
     "output_type": "execute_result"
    }
   ],
   "source": [
    "resp"
   ]
  },
  {
   "cell_type": "code",
   "execution_count": null,
   "id": "bd342edc-0f14-4db7-b9fd-f72c00a80044",
   "metadata": {},
   "outputs": [],
   "source": []
  }
 ],
 "metadata": {
  "kernelspec": {
   "display_name": "Python 3 (ipykernel)",
   "language": "python",
   "name": "python3"
  },
  "language_info": {
   "codemirror_mode": {
    "name": "ipython",
    "version": 3
   },
   "file_extension": ".py",
   "mimetype": "text/x-python",
   "name": "python",
   "nbconvert_exporter": "python",
   "pygments_lexer": "ipython3",
   "version": "3.11.9"
  }
 },
 "nbformat": 4,
 "nbformat_minor": 5
}
