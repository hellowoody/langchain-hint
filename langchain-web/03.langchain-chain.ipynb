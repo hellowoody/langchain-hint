{
 "cells": [
  {
   "cell_type": "markdown",
   "id": "ccbcdfea-2347-4ab9-99c9-d51b0a8f6caf",
   "metadata": {},
   "source": [
    "# Chains in LangChain（LangChain中的链）\n",
    "## Outline大纲\n",
    " - LLMChain（大语言模型链）\n",
    " - Sequential Chains（顺序链）\n",
    "    - SimpleSequentialChain\n",
    "    - SequentialChain\n",
    " - Router Chain（路由链）\n",
    "\n",
    "### 为什么我们需要Chains ？\n",
    "\n",
    "链允许我们将多个组件组合在一起，以创建一个单一的、连贯的应用程序。链（Chains）通常将一个LLM（大语言模型）与提示结合在一起，使用这个构建块，您还可以将一堆这些构建块组合在一起，对您的文本或其他数据进行一系列操作。例如，我们可以创建一个链，该链接受用户输入，使用提示模板对其进行格式化，然后将格式化的响应传递给LLM。我们可以通过将多个链组合在一起，或者通过将链与其他组件组合在一起来构建更复杂的链。"
   ]
  },
  {
   "cell_type": "code",
   "execution_count": 1,
   "id": "fcd3acfe-ccaa-4acf-be76-05f0b4d79613",
   "metadata": {},
   "outputs": [],
   "source": [
    "from dotenv import load_dotenv,find_dotenv\n",
    "_ = load_dotenv(find_dotenv())"
   ]
  },
  {
   "cell_type": "code",
   "execution_count": 2,
   "id": "80031f45-7e08-4da5-80b0-af41c0a140f6",
   "metadata": {},
   "outputs": [],
   "source": [
    "# !pip install pandas"
   ]
  },
  {
   "cell_type": "code",
   "execution_count": 3,
   "id": "44467511-6550-4043-8b87-a4e9d7612852",
   "metadata": {},
   "outputs": [
    {
     "data": {
      "text/html": [
       "<div>\n",
       "<style scoped>\n",
       "    .dataframe tbody tr th:only-of-type {\n",
       "        vertical-align: middle;\n",
       "    }\n",
       "\n",
       "    .dataframe tbody tr th {\n",
       "        vertical-align: top;\n",
       "    }\n",
       "\n",
       "    .dataframe thead th {\n",
       "        text-align: right;\n",
       "    }\n",
       "</style>\n",
       "<table border=\"1\" class=\"dataframe\">\n",
       "  <thead>\n",
       "    <tr style=\"text-align: right;\">\n",
       "      <th></th>\n",
       "      <th>Product</th>\n",
       "      <th>Review</th>\n",
       "    </tr>\n",
       "  </thead>\n",
       "  <tbody>\n",
       "    <tr>\n",
       "      <th>0</th>\n",
       "      <td>加大床单套装</td>\n",
       "      <td>我订购了一套特大号床单。我唯一的批评是，我希望卖家能提供带有4个枕套的特大号套装。我另外单独...</td>\n",
       "    </tr>\n",
       "    <tr>\n",
       "      <th>1</th>\n",
       "      <td>防水手机袋</td>\n",
       "      <td>我喜欢这个防水袋，尽管开口处是硬塑料做的。我不知道它是否会轻易破裂。但我的手机一旦放入袋子里...</td>\n",
       "    </tr>\n",
       "    <tr>\n",
       "      <th>2</th>\n",
       "      <td>豪华空气床垫</td>\n",
       "      <td>这款床垫顶部有一个小洞（花了很长时间才找到），而他们提供的补丁没有起作用，可能是因为是在床垫...</td>\n",
       "    </tr>\n",
       "    <tr>\n",
       "      <th>3</th>\n",
       "      <td>枕头内胆</td>\n",
       "      <td>这是亚马逊上最好的抱枕填充物。我已经试过好几种，不管你怎么拍打，它们都很便宜且扁平。当你把它...</td>\n",
       "    </tr>\n",
       "    <tr>\n",
       "      <th>4</th>\n",
       "      <td>手持奶泡器</td>\n",
       "      <td>我非常喜欢这个产品。但它似乎只能用几个月。公司第一次更换时表现很好（奶泡器从手柄中掉出，无法...</td>\n",
       "    </tr>\n",
       "  </tbody>\n",
       "</table>\n",
       "</div>"
      ],
      "text/plain": [
       "  Product                                             Review\n",
       "0  加大床单套装  我订购了一套特大号床单。我唯一的批评是，我希望卖家能提供带有4个枕套的特大号套装。我另外单独...\n",
       "1   防水手机袋  我喜欢这个防水袋，尽管开口处是硬塑料做的。我不知道它是否会轻易破裂。但我的手机一旦放入袋子里...\n",
       "2  豪华空气床垫  这款床垫顶部有一个小洞（花了很长时间才找到），而他们提供的补丁没有起作用，可能是因为是在床垫...\n",
       "3    枕头内胆  这是亚马逊上最好的抱枕填充物。我已经试过好几种，不管你怎么拍打，它们都很便宜且扁平。当你把它...\n",
       "4   手持奶泡器  我非常喜欢这个产品。但它似乎只能用几个月。公司第一次更换时表现很好（奶泡器从手柄中掉出，无法..."
      ]
     },
     "execution_count": 3,
     "metadata": {},
     "output_type": "execute_result"
    }
   ],
   "source": [
    "import pandas as pd\n",
    "df = pd.read_csv(\"Data.csv\")\n",
    "df.head()"
   ]
  },
  {
   "cell_type": "markdown",
   "id": "d1b7856d-b16b-42e1-a4e9-d74756ece768",
   "metadata": {},
   "source": [
    "## 1. LLMChain \n",
    "LLMChain是一个简单但非常强大的链，也是后面我们将要介绍的许多链的基础。"
   ]
  },
  {
   "cell_type": "code",
   "execution_count": 4,
   "id": "c4686319-3992-46ba-8f50-7d86e68e4c14",
   "metadata": {},
   "outputs": [],
   "source": [
    "from langchain_community.chat_models import ChatZhipuAI\n",
    "from langchain.prompts import ChatPromptTemplate\n",
    "from langchain.chains import LLMChain"
   ]
  },
  {
   "cell_type": "markdown",
   "id": "9b811132-7cdf-494b-b1c1-3c7177734dc2",
   "metadata": {},
   "source": [
    "初始化语言模型"
   ]
  },
  {
   "cell_type": "code",
   "execution_count": 5,
   "id": "e5e58243-5ab5-43fb-b8ab-3ba7aa4fb75a",
   "metadata": {},
   "outputs": [],
   "source": [
    "llm = ChatZhipuAI(temperature=0.9)"
   ]
  },
  {
   "cell_type": "markdown",
   "id": "735c2097-208d-4459-bc13-5412f39986b1",
   "metadata": {},
   "source": [
    "初始化prompt，这个prompt将接受一个名为product的变量。该prompt将要求LLM生成一个描述制造该产品的公司的最佳名称"
   ]
  },
  {
   "cell_type": "code",
   "execution_count": 6,
   "id": "756d089d-b351-4eb6-b6e3-87d046a0ee3d",
   "metadata": {},
   "outputs": [],
   "source": [
    "prompt = ChatPromptTemplate.from_template(\"描述一家生产{product}的公司的最佳名称是什么?\")"
   ]
  },
  {
   "cell_type": "markdown",
   "id": "c516ad7d-e229-40ef-b58e-82be4728fb62",
   "metadata": {},
   "source": [
    "将llm和prompt组合成链---这个LLM链非常简单，他只是llm和prompt的结合，但是现在，这个链让我们可以以一种顺序的方式去通过prompt运行并且结合到LLM中  \n",
    "因此，如果我们有一个名为\"加大床单套装\"的产品，我们可以通过使用chain.invoke将其通过这个链运行  \n",
    "您也可以输入任何产品描述，然后查看链将输出什么结果"
   ]
  },
  {
   "cell_type": "code",
   "execution_count": 7,
   "id": "7f58c39f-bcf0-4115-b856-b867f967119d",
   "metadata": {},
   "outputs": [
    {
     "data": {
      "text/plain": [
       "AIMessage(content='为一家专注于生产加大床单套装的公司起名，最佳名称应当简洁、易于记忆，并且能够反映出公司的产品特色。以下是一些建议：\\n\\n1. \"KingPlus Linens\"\\n2. \"MegaSheet Co.\"\\n3. \"Supersize Comforts\"\\n4. \"XL DreamSpace\"\\n5. \"Grandeur Bedsheets\"\\n6. \"UltraGigant Linen Hub\"\\n7. \"Majesty\\'s oversized\"\\n8. \"BigRest Textiles\"\\n9. \"JumboSlumber Co.\"\\n10. \"PlushMax Linens\"\\n\\n我个人认为“MegaSheet Co.”是一个不错的选择，因为它直接传达了产品的主要特点——加大尺寸的床单，同时易于记忆和发音。不过，最终的选择还需根据公司的品牌定位、目标市场以及创始人的偏好来决定。', response_metadata={'token_usage': {'completion_tokens': 171, 'prompt_tokens': 18, 'total_tokens': 189}, 'model_name': 'glm-4', 'finish_reason': 'stop'}, id='run-05217c2b-75bf-473a-a71d-2df4fa20c474-0')"
      ]
     },
     "execution_count": 7,
     "metadata": {},
     "output_type": "execute_result"
    }
   ],
   "source": [
    "product = \"加大床单套装\"\n",
    "(prompt|llm).invoke(product)"
   ]
  },
  {
   "cell_type": "markdown",
   "id": "d7c39045-78be-4245-93d4-f86d15ae2515",
   "metadata": {},
   "source": [
    "## 2. Sequential Chains\n",
    "\n",
    "### 2.1 SimpleSequentialChain\n",
    "\n",
    "顺序链（Sequential Chains）是按预定义顺序执行其链接的链。具体来说，我们将使用简单顺序链（SimpleSequentialChain），这是顺序链的最简单类型，其中每个步骤都有一个输入/输出，一个步骤的输出是下一个步骤的输入"
   ]
  },
  {
   "cell_type": "code",
   "execution_count": 8,
   "id": "8d35ec02-26d5-4dea-91c5-c1b73b6cd2a3",
   "metadata": {},
   "outputs": [],
   "source": [
    "from langchain.chains import SimpleSequentialChain"
   ]
  },
  {
   "cell_type": "markdown",
   "id": "a9bb50a4-318d-4cea-8d54-6336207c201c",
   "metadata": {},
   "source": [
    "子链 1"
   ]
  },
  {
   "cell_type": "code",
   "execution_count": 9,
   "id": "876dd2bc-8627-4870-ae33-172cb80fee5c",
   "metadata": {},
   "outputs": [
    {
     "name": "stderr",
     "output_type": "stream",
     "text": [
      "C:\\Users\\Administrator\\miniconda3\\envs\\langchain-web-1\\Lib\\site-packages\\langchain_core\\_api\\deprecation.py:119: LangChainDeprecationWarning: The class `LLMChain` was deprecated in LangChain 0.1.17 and will be removed in 0.3.0. Use RunnableSequence, e.g., `prompt | llm` instead.\n",
      "  warn_deprecated(\n"
     ]
    }
   ],
   "source": [
    "prompt1 = ChatPromptTemplate.from_template(\"描述一家生产{product}的公司的最佳名称是什么?\")\n",
    "# chain_one = (prompt|llm)\n",
    "chain_one = LLMChain(llm=llm, prompt=prompt1)"
   ]
  },
  {
   "cell_type": "markdown",
   "id": "2fa14991-f4f3-48fb-8d65-de02f2e39fed",
   "metadata": {},
   "source": [
    "子链 2"
   ]
  },
  {
   "cell_type": "code",
   "execution_count": 10,
   "id": "6a46fb1e-d263-4add-a856-d012bfc9d250",
   "metadata": {},
   "outputs": [],
   "source": [
    "prompt2 = ChatPromptTemplate.from_template(\"写一个20字的描述对于下面这个公司：{company_name}的\")\n",
    "chain_two = LLMChain(llm=llm, prompt=prompt2)"
   ]
  },
  {
   "cell_type": "code",
   "execution_count": 11,
   "id": "64dbb597-7764-45c2-89c7-54fc8d69db88",
   "metadata": {},
   "outputs": [],
   "source": [
    "overall_simple_chain = SimpleSequentialChain(\n",
    "    chains=[chain_one, chain_two], verbose=True\n",
    ")"
   ]
  },
  {
   "cell_type": "markdown",
   "id": "36bc0656-1630-4b62-a9c1-66adf3f3735e",
   "metadata": {},
   "source": [
    "现在我们可以组合两个LLMChain，以便我们可以在一个步骤中创建公司名称和描述  \n",
    "给一个输入，然后运行上面的链"
   ]
  },
  {
   "cell_type": "code",
   "execution_count": 12,
   "id": "01f08921-e63a-4262-abe7-5e9bfdb4b4b4",
   "metadata": {},
   "outputs": [
    {
     "name": "stdout",
     "output_type": "stream",
     "text": [
      "\n",
      "\n",
      "\u001b[1m> Entering new SimpleSequentialChain chain...\u001b[0m\n",
      "\u001b[36;1m\u001b[1;3m结合提供的信息，一家专注于生产加大床单套装，强调舒适、卫生和便捷性的公司，最佳的名称可能是“舒睡宝床品套装”（Sucarey Comfort Kit）。这个名字简洁易记，既体现了产品的主要特点——提供舒适睡眠的宝贝，又暗示了其床品套装的卫生与便捷性，有助于在市场上建立良好的品牌形象。\"舒睡宝\"传递了产品的使用价值和品牌承诺，而“Comfort Kit”则强调了产品作为一个完整的舒适睡眠解决方案的概念。此外，这个名字也具有一定的可扩展性，能够适应公司未来可能推出的其他相关产品线。\u001b[0m\n",
      "\u001b[33;1m\u001b[1;3m舒睡宝床品，舒适卫生，加大便捷。\u001b[0m\n",
      "\n",
      "\u001b[1m> Finished chain.\u001b[0m\n"
     ]
    },
    {
     "data": {
      "text/plain": [
       "{'input': '加大床单套装', 'output': '舒睡宝床品，舒适卫生，加大便捷。'}"
      ]
     },
     "execution_count": 12,
     "metadata": {},
     "output_type": "execute_result"
    }
   ],
   "source": [
    "overall_simple_chain.invoke(product)"
   ]
  },
  {
   "cell_type": "markdown",
   "id": "24ec7c63-9caf-4d0f-8f0d-98527d8e608f",
   "metadata": {},
   "source": [
    "### 2.2 SequentialChain\n",
    "\n",
    "当只有一个输入和一个输出时，简单的顺序链可以顺利完成。但是当有多个输入或多个输出时该如何实现呢？  \n",
    "\n",
    "我们可以使用普通的顺序链来实现这一点"
   ]
  },
  {
   "cell_type": "code",
   "execution_count": 13,
   "id": "96aa66b8-5933-4867-965c-cd8a4deb1eff",
   "metadata": {},
   "outputs": [],
   "source": [
    "from langchain.chains import SequentialChain\n",
    "from langchain_community.chat_models import ChatZhipuAI  #导入OpenAI模型\n",
    "from langchain.prompts import ChatPromptTemplate          #导入聊天提示模板\n",
    "from langchain.chains import LLMChain                     #导入LLM链。"
   ]
  },
  {
   "cell_type": "markdown",
   "id": "37cee3eb-0eea-4b5a-a0aa-1d335a7f9e75",
   "metadata": {},
   "source": [
    "初始化语言模型"
   ]
  },
  {
   "cell_type": "code",
   "execution_count": 14,
   "id": "c582f36f-8aeb-42ee-a2a8-4d2d9f23f570",
   "metadata": {},
   "outputs": [],
   "source": [
    "llm = ChatZhipuAI(temperature=0.9)"
   ]
  },
  {
   "cell_type": "markdown",
   "id": "3b9073c9-9544-4821-8736-e15cba01c4eb",
   "metadata": {},
   "source": [
    "接下来我们将创建一系列的链，然后一个接一个使用他们"
   ]
  },
  {
   "cell_type": "code",
   "execution_count": 15,
   "id": "2a343864-28ff-4418-9ef3-a534efdae829",
   "metadata": {},
   "outputs": [],
   "source": [
    "# prompt模板 1: 翻译成中文（把下面的review翻译成中文）\n",
    "prompt1 = ChatPromptTemplate.from_template(\"用中文翻译下面的评论：\"\n",
    "                                           \"\\n\\n{Review}\")\n",
    "# chain 1: 输入：Review 输出： 中文的 Review\n",
    "chain1 = LLMChain(llm=llm,prompt=prompt1,output_key=\"ch_Review\")"
   ]
  },
  {
   "cell_type": "code",
   "execution_count": 16,
   "id": "e965c37a-d7eb-4bbf-b5ce-9d8d7484aaf3",
   "metadata": {},
   "outputs": [],
   "source": [
    "# prompt模板 2: 用一句话总结下面的 review\n",
    "prompt2 = ChatPromptTemplate.from_template(\"能否用一句话概括以下评论的内容:\"\n",
    "                                           \"\\n\\n{ch_Review}\")\n",
    "# chain 2: 输入：中文的Review   输出：总结\n",
    "chain2 = LLMChain(llm=llm,prompt=prompt2,output_key=\"summary\")"
   ]
  },
  {
   "cell_type": "code",
   "execution_count": 17,
   "id": "57ed8db8-d4ce-433e-9190-8e81784019b0",
   "metadata": {},
   "outputs": [],
   "source": [
    "# prompt模板 3: 下面review使用的什么语言\n",
    "prompt3 = ChatPromptTemplate.from_template(\"下面review使用的什么语言,只输出语种:\\n\\n{Review}\")\n",
    "# chain 3: 输入：Review  输出：语言\n",
    "chain3 = LLMChain(llm=llm,prompt=prompt3,output_key=\"language\")"
   ]
  },
  {
   "cell_type": "code",
   "execution_count": 18,
   "id": "c32fe556-9889-4c0e-ad6d-c58f1a49b483",
   "metadata": {},
   "outputs": [],
   "source": [
    "# prompt模板 4: 使用特定的语言对下面的总结写一个后续回复\n",
    "prompt4 = ChatPromptTemplate.from_template(\n",
    "    \"使用下面的指定语言对下面的总结写后续回复:\"\n",
    "    \"\\n\\n总结:{summary}\"\n",
    "    \"\\n\\n语言:{language}\"\n",
    ")\n",
    "# chain 4: 输入： 总结, 语言    输出： 后续回复\n",
    "chain4 = LLMChain(llm=llm,prompt=prompt4,output_key=\"followup_message\")"
   ]
  },
  {
   "cell_type": "code",
   "execution_count": 19,
   "id": "0c234ea8-6aad-4e87-89de-458a67f879d7",
   "metadata": {},
   "outputs": [],
   "source": [
    "# 对四个子链进行组合\n",
    "\n",
    "#输入：review    输出：英文review，总结，后续回复 \n",
    "overall_chain = SequentialChain(\n",
    "    chains=[chain1,chain2,chain3,chain4],\n",
    "    input_variables=[\"Review\"],\n",
    "    output_variables=[\"ch_Review\",\"summary\",\"language\",\"followup_message\"],\n",
    "    verbose=False\n",
    ")"
   ]
  },
  {
   "cell_type": "markdown",
   "id": "07386633-7dd5-498a-b7f5-a78cf07e13d0",
   "metadata": {},
   "source": [
    "让我们选择一篇评论并通过整个链传递它，可以发现，原始review是英文，可以把中文review看做是一种翻译，接下来是根据中文review得到的总结，最后输出的是用英文原文进行的续写信息。"
   ]
  },
  {
   "cell_type": "code",
   "execution_count": 20,
   "id": "56665413-96e8-4814-849b-13f342555c4f",
   "metadata": {},
   "outputs": [],
   "source": [
    "df = pd.read_csv(\"Data.csv\")\n",
    "# df.head()\n",
    "review = df.Review[5]"
   ]
  },
  {
   "cell_type": "code",
   "execution_count": 21,
   "id": "49627005-9990-4733-b04b-8300cba2586d",
   "metadata": {},
   "outputs": [
    {
     "data": {
      "text/plain": [
       "{'Review': \"I find the taste mediocre. The foam doesn't last, which is strange. The ones I buy in-store of the same type taste much better... Is it an old batch or a counterfeit!?!\",\n",
       " 'ch_Review': '我觉得这个味道平平无奇。泡沫持续时间不长，这很奇怪。我在店里买的同款产品口感要好得多……这是否是旧批次或者是假货！？！',\n",
       " 'summary': '\"评论者对产品味道和泡沫表现失望，怀疑购买的产品可能是旧批次或假货。\"',\n",
       " 'language': 'English',\n",
       " 'followup_message': 'Follow-up Response:\\n\\n\"I appreciate your summary of the reviewer\\'s concerns regarding the product\\'s taste and foam performance. It\\'s disheartening to hear that they suspect the item might be from an old batch or even a counterfeit. We take such feedback seriously and will look into the matter promptly to ensure our customers receive only the highest quality products. Thank you for bringing this to our attention.\"'}"
      ]
     },
     "execution_count": 21,
     "metadata": {},
     "output_type": "execute_result"
    }
   ],
   "source": [
    "overall_chain.invoke(review)"
   ]
  },
  {
   "cell_type": "markdown",
   "id": "7b3b5191-d1c0-4a14-b1a8-1274ca5937ca",
   "metadata": {},
   "source": [
    "## 3.Router Chain\n",
    "\n",
    "到目前为止，我们已经学习了LLM链和顺序链。但是，如果您想做一些更复杂的事情怎么办？\n",
    "\n",
    "一个相当常见但基本的操作是根据输入将其路由到一条链，具体取决于该输入到底是什么。如果你有多个子链，每个子链都专门用于特定类型的输入，那么可以组成一个路由链，它首先决定将它传递给哪个子链，然后将它传递给那个链。\n",
    "\n",
    "路由器由两个组件组成：\n",
    "\n",
    " - 路由器链本身（负责选择要调用的下一个链）\n",
    " - destination_chains：路由器链可以路由到的链  \n",
    "\n",
    "举一个具体的例子，让我们看一下我们在不同类型的链之间路由的地方，我们在这里有不同的prompt:"
   ]
  },
  {
   "cell_type": "code",
   "execution_count": 22,
   "id": "db9459a4-bcb1-4703-8cb4-106f5f06d685",
   "metadata": {},
   "outputs": [],
   "source": [
    "#第一个提示适合回答物理问题\n",
    "physics_template = \"\"\"你是一位非常聪明的物理学教授。\\\n",
    "你在以简洁且易于理解的方式回答物理学问题上非常出色。\\\n",
    "当遇到不知道问题的答案时，你会坦诚表示自己不知道。\n",
    "\n",
    "这里有一个问题：\n",
    "{input}\"\"\"\n",
    "\n",
    "\n",
    "#第二个提示适合回答数学问题\n",
    "math_template = \"\"\"你是一个非常优秀的数学家。\\\n",
    "你非常擅长解答数学问题。\\\n",
    "你之所以如此出色，是因为你能将难题分解成各个组成部分，\\\n",
    "分别解答这些组成部分，然后再将它们组合起来，\\\n",
    "从而解答更广泛的问题。\n",
    "\n",
    "这里有一个问题：\n",
    "{input}\"\"\"\n",
    "\n",
    "\n",
    "#第三个适合回答历史问题\n",
    "history_template = \"\"\"你是一位非常出色的历史学家。\\\n",
    "你对横跨多个历史时期的人物、事件和背景拥有卓越的知识和深刻的理解。\\\n",
    "你具备思考、反思、辩论、讨论及评估过去的能力。\\\n",
    "你尊重历史证据，并能利用这些证据来支持你的解释和判断。\n",
    "\n",
    "这里有一个问题：\n",
    "{input}\"\"\"\n",
    "\n",
    "\n",
    "#第四个适合回答计算机问题\n",
    "computerscience_template = \"\"\" 你是一位成功的计算机科学家。\\\n",
    "你对创新、合作、前瞻思维、自信、强大的解决问题能力、\\\n",
    "理论与算法的理解以及出色的沟通技巧充满热情。\\\n",
    "你非常擅长回答编程问题。\\\n",
    "你之所以如此出色，是因为你知道如何通过描述命令式步骤来解决问题，\\\n",
    "使机器能轻松解读，并且你知道如何选择一个在时间复杂度和空间复杂度之间\\\n",
    "具有良好平衡的解决方案。\n",
    "\n",
    "这里有一个问题：\n",
    "{input}\"\"\""
   ]
  },
  {
   "cell_type": "markdown",
   "id": "0558519e-f824-4c73-9ede-5098af3ae801",
   "metadata": {},
   "source": [
    "首先需要定义这些提示模板，在我们拥有了这些提示模板后，可以为每个模板命名，然后提供描述。例如，第一个物理学的描述适合回答关于物理学的问题，这些信息将传递给路由链，然后由路由链决定何时使用此子链。"
   ]
  },
  {
   "cell_type": "code",
   "execution_count": 23,
   "id": "29767a39-ca8e-4e1a-b106-3dd9a7747bdf",
   "metadata": {},
   "outputs": [],
   "source": [
    "prompt_infos = [\n",
    "    {\n",
    "        \"name\": \"物理\", \n",
    "        \"description\": \"适合回答物理问题\", \n",
    "        \"prompt_template\": physics_template\n",
    "    },\n",
    "    {\n",
    "        \"name\": \"数学\", \n",
    "        \"description\": \"适合回答数学问题\", \n",
    "        \"prompt_template\": math_template\n",
    "    },\n",
    "    {\n",
    "        \"name\": \"历史\", \n",
    "        \"description\": \"适合回答历史问题\", \n",
    "        \"prompt_template\": history_template\n",
    "    },\n",
    "    {\n",
    "        \"name\": \"计算机科学\", \n",
    "        \"description\": \"适合回答计算机科学问题\", \n",
    "        \"prompt_template\": computerscience_template\n",
    "    }\n",
    "]"
   ]
  },
  {
   "cell_type": "markdown",
   "id": "add78710-c89a-4f19-a58d-8828cdbe7a7c",
   "metadata": {},
   "source": [
    "导入相关的包"
   ]
  },
  {
   "cell_type": "code",
   "execution_count": 24,
   "id": "6e39806f-88d2-4ea3-9b2b-89c074a1e9a1",
   "metadata": {},
   "outputs": [],
   "source": [
    "from langchain.chains.router import MultiPromptChain # 导入多提示连\n",
    "from langchain.chains.router.llm_router import LLMRouterChain,RouterOutputParser\n",
    "from langchain.prompts import PromptTemplate,ChatPromptTemplate\n",
    "from langchain_community.chat_models import ChatZhipuAI  #导入OpenAI模型"
   ]
  },
  {
   "cell_type": "markdown",
   "id": "af205db9-125c-46ee-8d4e-b4a285c6cba2",
   "metadata": {},
   "source": [
    "定义语言模型"
   ]
  },
  {
   "cell_type": "code",
   "execution_count": 25,
   "id": "2e1e6240-bd4a-4395-a345-6866f12f5303",
   "metadata": {},
   "outputs": [],
   "source": [
    "llm = ChatZhipuAI(temperature=0.0)"
   ]
  },
  {
   "cell_type": "markdown",
   "id": "f802c273-761d-4cc6-bde1-c2f61afcb77a",
   "metadata": {},
   "source": [
    "### LLMRouterChain（此链使用 LLM 来确定如何路由事物）\n",
    "\n",
    "在这里，我们需要一个多提示链。这是一种特定类型的链，用于在多个不同的提示模板之间进行路由。 但是，这只是你可以路由的一种类型。你也可以在任何类型的链之间进行路由。  \n",
    "\n",
    "这里我们要实现的几个类是LLM路由器链。这个类本身使用语言模型来在不同的子链之间进行路由。 这就是上面提供的描述和名称将被使用的地方。  \n",
    "\n",
    "#### 创建目标链  \n",
    "目标链是由路由链调用的链，每个目标链都是一个语言模型链  "
   ]
  },
  {
   "cell_type": "code",
   "execution_count": 26,
   "id": "adc9244a-a62e-4285-b54a-8eb1a4f34e0b",
   "metadata": {},
   "outputs": [
    {
     "data": {
      "text/plain": [
       "'物理:适合回答物理问题\\n数学:适合回答数学问题\\n历史:适合回答历史问题\\n计算机科学:适合回答计算机科学问题'"
      ]
     },
     "execution_count": 26,
     "metadata": {},
     "output_type": "execute_result"
    }
   ],
   "source": [
    "destination_chains = {}\n",
    "for p_info in prompt_infos:\n",
    "    name = p_info[\"name\"]\n",
    "    prompt_template = p_info[\"prompt_template\"]\n",
    "    prompt = ChatPromptTemplate.from_template(template=prompt_template)\n",
    "    chain = LLMChain(llm=llm,prompt=prompt)\n",
    "    destination_chains[name] = chain\n",
    "\n",
    "destinations = [f\"{p['name']}:{p['description']}\" for p in prompt_infos]\n",
    "destinations_str = \"\\n\".join(destinations)\n",
    "destinations_str"
   ]
  },
  {
   "cell_type": "markdown",
   "id": "7e56051e-3b4c-4002-857b-d3898047e5d8",
   "metadata": {},
   "source": [
    "#### 创建默认目标链\n",
    "除了目标链之外，我们还需要一个默认目标链。这是一个当路由器无法决定使用哪个子链时调用的链。在上面的示例中，当输入问题与物理、数学、历史或计算机科学无关时，可能会调用它。"
   ]
  },
  {
   "cell_type": "code",
   "execution_count": 27,
   "id": "5e8646f1-2ef8-45b8-a873-c412dd9f4eb2",
   "metadata": {},
   "outputs": [],
   "source": [
    "default_prompt = ChatPromptTemplate.from_template(\"{input}\")\n",
    "default_chain = LLMChain(llm=llm,prompt=default_prompt)"
   ]
  },
  {
   "cell_type": "markdown",
   "id": "cd5c94cc-e57b-4596-b47f-604b698225a5",
   "metadata": {},
   "source": [
    "#### 创建LLM用于在不同链之间进行路由的模板 \n",
    "\n",
    "这包括要完成的任务的说明以及输出应该采用的特定格式。"
   ]
  },
  {
   "cell_type": "code",
   "execution_count": 28,
   "id": "9d2c151b-818e-47b9-b624-a10850226449",
   "metadata": {},
   "outputs": [],
   "source": [
    "# from langchain.chains.router.multi_prompt_prompt import MULTI_PROMPT_ROUTER_TEMPLATE\n",
    "MULTI_PROMPT_ROUTER_TEMPLATE = \"\"\"\n",
    "Given a raw text input to a language model select the model prompt best suited for the input. \\\n",
    "You will be given the names of the available prompts and a description of what the prompt is best suited for.\\\n",
    "You may also revise the original input if you think that revising it will ultimately lead to a better response from the language model.\\\n",
    "\n",
    "<< FORMATTING >>\n",
    "Return a markdown code snippet with a JSON object formatted to look like:\n",
    "```json\n",
    "{{{{\n",
    "    \"destination\": string \\ name of the prompt to use or \"DEFAULT\"\n",
    "    \"next_inputs\": string \\ a potentially modified version of the original input\n",
    "}}}}\n",
    "```\n",
    "\n",
    "REMEMBER: \"destination\" MUST be one of the candidate prompt names specified below OR it can be \"DEFAULT\".\n",
    "REMEMBER: \"next_inputs\" can just be the original input if you don't think any modifications are needed.\n",
    "\n",
    "<< CANDIDATE PROMPTS >>\n",
    "{destinations}\n",
    "\n",
    "<< INPUT >>\n",
    "{{input}}\n",
    "\n",
    "<< OUTPUT (must include ```json at the start of the response) >>\n",
    "<< OUTPUT (must end with ```) >>\n",
    "\"\"\""
   ]
  },
  {
   "cell_type": "raw",
   "id": "b4cc5a9c-3997-4905-928f-6512df92d1bb",
   "metadata": {},
   "source": [
    "MULTI_PROMPT_ROUTER_TEMPLATE 的内容如下\n",
    "可以print(MULTI_PROMPT_ROUTER_TEMPLATE)\n",
    "\n",
    "给定语言模型的原始文本输入，选择最适合输入的模型提示。 \n",
    "您将获得可用提示的名称以及该提示最适合的说明。 \n",
    "如果您认为修改原始输入最终会导致语言模型得到更好的响应，您也可以修改原始输入。\n",
    "\n",
    "<< 格式化 >>\n",
    "返回一个 Markdown 代码片段，其中 JSON 对象的格式如下：\n",
    "```json\n",
    "{{{{\n",
    "     “destination”：字符串\\要使用的提示名称或“DEFAULT”\n",
    "     “next_inputs”：字符串\\原始输入的可能修改版本\n",
    "}}}}\n",
    "````\n",
    "\n",
    "请记住：“destination”必须是下面指定的候选提示名称之一，或者如果输入不太适合任何候选提示，则它可以是“DEFAULT”。\n",
    "请记住：如果您认为不需要任何修改，“next_inputs”可以只是原始输入。\n",
    "\n",
    "<< 候选人提示 >>\n",
    "{destinations}\n",
    "\n",
    "<< INPUT >>\n",
    "{{input}}\n",
    "\n",
    "<< OUTPUT (must include ```json at the start of the response) >>\n",
    "<< OUTPUT (must end with ```) >>"
   ]
  },
  {
   "cell_type": "markdown",
   "id": "de502954-053d-4c8c-a8b8-60edd73c7f09",
   "metadata": {},
   "source": [
    "#### 构建路由链\n",
    "首先，我们通过格式化上面定义的目标创建完整的路由器模板。这个模板可以适用许多不同类型的目标。 因此，在这里，您可以添加一个不同的学科，如英语或拉丁语，而不仅仅是物理、数学、历史和计算机科学。  \n",
    "\n",
    "接下来，我们从这个模板创建提示模板  \n",
    "\n",
    "最后，通过传入llm和整个路由提示来创建路由链。需要注意的是这里有路由输出解析，这很重要，因为它将帮助这个链路决定在哪些子链路之间进行路由。"
   ]
  },
  {
   "cell_type": "code",
   "execution_count": 29,
   "id": "6884f8d0-2bf6-4546-a8fa-9712cfa1f033",
   "metadata": {},
   "outputs": [
    {
     "name": "stdout",
     "output_type": "stream",
     "text": [
      "\n",
      "Given a raw text input to a language model select the model prompt best suited for the input. You will be given the names of the available prompts and a description of what the prompt is best suited for.You may also revise the original input if you think that revising it will ultimately lead to a better response from the language model.\n",
      "<< FORMATTING >>\n",
      "Return a markdown code snippet with a JSON object formatted to look like:\n",
      "```json\n",
      "{{\n",
      "    \"destination\": string \\ name of the prompt to use or \"DEFAULT\"\n",
      "    \"next_inputs\": string \\ a potentially modified version of the original input\n",
      "}}\n",
      "```\n",
      "\n",
      "REMEMBER: \"destination\" MUST be one of the candidate prompt names specified below OR it can be \"DEFAULT\".\n",
      "REMEMBER: \"next_inputs\" can just be the original input if you don't think any modifications are needed.\n",
      "\n",
      "<< CANDIDATE PROMPTS >>\n",
      "物理:适合回答物理问题\n",
      "数学:适合回答数学问题\n",
      "历史:适合回答历史问题\n",
      "计算机科学:适合回答计算机科学问题\n",
      "\n",
      "<< INPUT >>\n",
      "{input}\n",
      "\n",
      "<< OUTPUT (must include ```json at the start of the response) >>\n",
      "<< OUTPUT (must end with ```) >>\n",
      "\n"
     ]
    }
   ],
   "source": [
    "router_template = MULTI_PROMPT_ROUTER_TEMPLATE.format(destinations=destinations_str)\n",
    "print(router_template)"
   ]
  },
  {
   "cell_type": "code",
   "execution_count": 30,
   "id": "d4f0462b-5ddd-4ea7-8439-2f94d8c6bc7f",
   "metadata": {},
   "outputs": [],
   "source": [
    "router_prompt = PromptTemplate(\n",
    "    template=router_template,\n",
    "    input_variables=[\"input\"],\n",
    "    output_parser=RouterOutputParser()\n",
    ")\n",
    "router_chain = LLMRouterChain.from_llm(llm,router_prompt)"
   ]
  },
  {
   "cell_type": "markdown",
   "id": "90f8ab76-ba21-445c-b3b7-261ec76a1748",
   "metadata": {},
   "source": [
    "最后，将所有内容整合在一起，创建整体链路"
   ]
  },
  {
   "cell_type": "code",
   "execution_count": 31,
   "id": "86f7bb25-bcd9-4396-8e56-fa868a372cc9",
   "metadata": {},
   "outputs": [],
   "source": [
    "#多提示链\n",
    "chain = MultiPromptChain(\n",
    "    router_chain = router_chain,              #路由链路\n",
    "    destination_chains = destination_chains,  #目标链路\n",
    "    default_chain = default_chain,            #默认链路\n",
    "    verbose = True\n",
    ")"
   ]
  },
  {
   "cell_type": "markdown",
   "id": "c1dbcf3b-0c5e-4046-8a0a-e748f9b98073",
   "metadata": {},
   "source": [
    "#### 进行提问\n",
    "\n",
    "如果我们问一个物理问题，我们希望看到他被路由到物理链路"
   ]
  },
  {
   "cell_type": "code",
   "execution_count": 32,
   "id": "a06a40cf-3fa6-4aec-9b02-f529be834961",
   "metadata": {},
   "outputs": [
    {
     "name": "stdout",
     "output_type": "stream",
     "text": [
      "\n",
      "\n",
      "\u001b[1m> Entering new MultiPromptChain chain...\u001b[0m\n",
      "物理: {'input': '什么是黑体辐射?'}\n",
      "\u001b[1m> Finished chain.\u001b[0m\n",
      "{'input': '什么是黑体辐射?', 'text': '黑体辐射是指理想化的物体，它能够吸收所有入射的电磁辐射，不反射也不透过，而且在任何温度下都会以一定的频谱分布发射电磁辐射。在热平衡状态下，这个频谱分布只依赖于黑体的温度。\\n\\n简单来说，我们可以把黑体想象成一个完美的发射体，它按照温度的不同，发射出不同颜色和强度的光。例如，当黑体的温度较低时，它主要发射红外光；温度升高后，发射的红光和蓝光成分增多，最终呈现出可见光范围内连续的颜色变化。\\n\\n黑体辐射的规律由普朗克通过量子理论进行了描述，他提出了能量以量子的形式发射和吸收的概念，这是量子力学发展的重要起点。\\n\\n需要注意的是，现实中并不存在完美的黑体，但许多物体在特定条件下的辐射行为可以近似看作黑体，如恒星、炉火等。通过研究黑体辐射，我们可以更好地理解物体热辐射的一般规律。'}\n"
     ]
    }
   ],
   "source": [
    "# 问题：什么是黑体辐射？\n",
    "res = chain.invoke(\"什么是黑体辐射?\")\n",
    "print(res)"
   ]
  },
  {
   "cell_type": "code",
   "execution_count": 33,
   "id": "53908716-3649-44c5-83c7-954b0a42e504",
   "metadata": {},
   "outputs": [
    {
     "name": "stdout",
     "output_type": "stream",
     "text": [
      "黑体辐射是指理想化的物体，它能够吸收所有入射的电磁辐射，不反射也不透过，而且在任何温度下都会以一定的频谱分布发射电磁辐射。在热平衡状态下，这个频谱分布只依赖于黑体的温度。\n",
      "\n",
      "简单来说，我们可以把黑体想象成一个完美的发射体，它按照温度的不同，发射出不同颜色和强度的光。例如，当黑体的温度较低时，它主要发射红外光；温度升高后，发射的红光和蓝光成分增多，最终呈现出可见光范围内连续的颜色变化。\n",
      "\n",
      "黑体辐射的规律由普朗克通过量子理论进行了描述，他提出了能量以量子的形式发射和吸收的概念，这是量子力学发展的重要起点。\n",
      "\n",
      "需要注意的是，现实中并不存在完美的黑体，但许多物体在特定条件下的辐射行为可以近似看作黑体，如恒星、炉火等。通过研究黑体辐射，我们可以更好地理解物体热辐射的一般规律。\n"
     ]
    }
   ],
   "source": [
    "print(res[\"text\"])"
   ]
  },
  {
   "cell_type": "code",
   "execution_count": 34,
   "id": "a58eff02-15bd-4295-9a14-5db31def8e61",
   "metadata": {},
   "outputs": [
    {
     "name": "stdout",
     "output_type": "stream",
     "text": [
      "\n",
      "\n",
      "\u001b[1m> Entering new MultiPromptChain chain...\u001b[0m\n",
      "数学: {'input': '三进制是否存在，以及它在数学上的应用是怎样的？'}\n",
      "\u001b[1m> Finished chain.\u001b[0m\n"
     ]
    },
    {
     "data": {
      "text/plain": [
       "{'input': '三进制是否存在，以及它在数学上的应用是怎样的？',\n",
       " 'text': '三进制确实存在，并且在数学和计算机科学中有着广泛的应用。三进制数系统是一种计数系统，使用三个数字（通常为0、1和2）来表示所有的数值。与我们所熟悉的双进制（即二进制）和十进制系统类似，三进制系统也是位置数值系统，意味着一个数字在数中的位置决定了它的值。\\n\\n在三进制系统中，每一位的值是3的幂次，从右到左开始，最右边是3的0次方，然后是3的1次方，3的2次方，依此类推。\\n\\n以下是三进制的一些数学应用：\\n\\n1. **数论**：在三进制中研究数字的性质可以揭示数论中的一些有趣现象，例如数字的模运算和同余。\\n\\n2. **编码理论**：三进制可以用于编码理论中，用于设计纠错码。由于三进制比二进制有更多的状态，它可以在相同的数据长度下提供更多的信息。\\n\\n3. **计算机科学**：尽管二进制是现代计算机中的标准，但三进制（以及其他进制）在理论上可以用于构建计算机系统。实际上，三进制计算机曾被提出和实验过，因为它们在某些操作上可能比二进制的计算机更高效。\\n\\n   - 三进制计算机的一个潜在优势是它们可能需要更少的硬件来实现相同的计算能力，因为三进制的一个数字可以表示比二进制更多的信息。\\n\\n4. **信息论**：在信息论中，三进制可以用于研究信源编码和信道编码，尤其是在需要高效利用带宽的场合。\\n\\n5. **数学娱乐和谜题**：三进制数可以用于创建数学谜题和游戏，例如转换数字系统的问题，或者寻找在三进制下的特殊数字模式。\\n\\n6. **数值分析**：在某些数值分析问题中，使用三进制可以减少舍入误差，因为与二进制相比，三进制可以更精确地表示某些分数。\\n\\n7. **天文学**：在天文学中，三进制有时被用作简化某些计算的工具，尤其是在涉及到天体轨道的计算时。\\n\\n三进制在数学上的应用是多样化的，它不仅是一个有趣的数学概念，而且在多个领域都有其实际的应用潜力。'}"
      ]
     },
     "execution_count": 34,
     "metadata": {},
     "output_type": "execute_result"
    }
   ],
   "source": [
    "chain.invoke(\"有三进制吗?\")"
   ]
  },
  {
   "cell_type": "code",
   "execution_count": 35,
   "id": "9348aac5-700b-4f69-a8a5-48be85b203b5",
   "metadata": {},
   "outputs": [
    {
     "name": "stdout",
     "output_type": "stream",
     "text": [
      "\n",
      "\n",
      "\u001b[1m> Entering new MultiPromptChain chain...\u001b[0m\n",
      "计算机科学: {'input': '什么是显卡? 请提供关于显卡的基本解释和它在计算机中的作用。'}\n",
      "\u001b[1m> Finished chain.\u001b[0m\n"
     ]
    },
    {
     "data": {
      "text/plain": [
       "{'input': '什么是显卡? 请提供关于显卡的基本解释和它在计算机中的作用。',\n",
       " 'text': '显卡，也称为图形处理单元（Graphics Processing Unit，GPU），是一种专门设计用来快速处理和渲染图像的电子组件。它是计算机系统中负责图形相关的计算和输出的关键部分。\\n\\n### 显卡的基本解释：\\n\\n显卡主要由以下几部分组成：\\n1. **图形处理单元（GPU）**：是显卡的核心，负责处理图形相关的计算，如渲染3D模型、2D图形、视频解码等。\\n2. **显存（VRAM）**：一种特殊的内存，用于存储GPU处理的数据，如纹理、顶点数据等。\\n3. **接口**：连接显卡和主板的部分，如PCI Express接口。\\n4. **输出接口**：用于将图像输出到显示器，如HDMI、DisplayPort、DVI等。\\n\\n### 显卡在计算机中的作用：\\n\\n1. **图形渲染**：显卡负责将计算机生成的图形数据转换成显示器可以理解的格式，并进行渲染，以供用户观看。\\n2. **计算加速**：现代显卡不仅用于图形处理，还能进行通用计算（GPGPU），加速如视频编辑、科学计算等任务。\\n3. **视频解码**：显卡通常包含硬件解码器，可以减轻CPU的负担，流畅地播放高清视频。\\n4. **多显示器支持**：许多显卡支持多个显示器输出，提高了工作效率和多任务处理能力。\\n5. **游戏性能**：对于游戏玩家来说，显卡是决定游戏流畅度和图像质量的关键因素。\\n\\n在解决问题时，显卡的设计理念也体现了对时间复杂度和空间复杂度的平衡。例如，在渲染复杂的3D场景时，显卡需要在保证渲染速度（时间复杂度）的同时，合理利用显存资源（空间复杂度）。\\n\\n总之，显卡是现代计算机系统中不可或缺的一部分，它通过高效的图形处理能力，极大地提升了用户体验和计算机的实用性。'}"
      ]
     },
     "execution_count": 35,
     "metadata": {},
     "output_type": "execute_result"
    }
   ],
   "source": [
    "chain.invoke(\"什么是显卡?\")"
   ]
  },
  {
   "cell_type": "code",
   "execution_count": 36,
   "id": "e9760fde-4fe0-44b5-9acc-348d2f91ef59",
   "metadata": {},
   "outputs": [
    {
     "name": "stdout",
     "output_type": "stream",
     "text": [
      "\n",
      "\n",
      "\u001b[1m> Entering new MultiPromptChain chain...\u001b[0m\n",
      "生物: {'input': '为什么我们体内的每个细胞都含有DNA？'}"
     ]
    },
    {
     "ename": "ValueError",
     "evalue": "Received invalid destination chain name '生物'",
     "output_type": "error",
     "traceback": [
      "\u001b[1;31m---------------------------------------------------------------------------\u001b[0m",
      "\u001b[1;31mValueError\u001b[0m                                Traceback (most recent call last)",
      "Cell \u001b[1;32mIn[36], line 2\u001b[0m\n\u001b[0;32m      1\u001b[0m \u001b[38;5;66;03m# 问题：为什么我们身体里的每个细胞都包含DNA？\u001b[39;00m\n\u001b[1;32m----> 2\u001b[0m \u001b[43mchain\u001b[49m\u001b[38;5;241;43m.\u001b[39;49m\u001b[43minvoke\u001b[49m\u001b[43m(\u001b[49m\u001b[38;5;124;43m\"\u001b[39;49m\u001b[38;5;124;43m为什么我们体内的每个细胞都含有DNA?\u001b[39;49m\u001b[38;5;124;43m\"\u001b[39;49m\u001b[43m)\u001b[49m\n",
      "File \u001b[1;32m~\\miniconda3\\envs\\langchain-web-1\\Lib\\site-packages\\langchain\\chains\\base.py:166\u001b[0m, in \u001b[0;36mChain.invoke\u001b[1;34m(self, input, config, **kwargs)\u001b[0m\n\u001b[0;32m    164\u001b[0m \u001b[38;5;28;01mexcept\u001b[39;00m \u001b[38;5;167;01mBaseException\u001b[39;00m \u001b[38;5;28;01mas\u001b[39;00m e:\n\u001b[0;32m    165\u001b[0m     run_manager\u001b[38;5;241m.\u001b[39mon_chain_error(e)\n\u001b[1;32m--> 166\u001b[0m     \u001b[38;5;28;01mraise\u001b[39;00m e\n\u001b[0;32m    167\u001b[0m run_manager\u001b[38;5;241m.\u001b[39mon_chain_end(outputs)\n\u001b[0;32m    169\u001b[0m \u001b[38;5;28;01mif\u001b[39;00m include_run_info:\n",
      "File \u001b[1;32m~\\miniconda3\\envs\\langchain-web-1\\Lib\\site-packages\\langchain\\chains\\base.py:156\u001b[0m, in \u001b[0;36mChain.invoke\u001b[1;34m(self, input, config, **kwargs)\u001b[0m\n\u001b[0;32m    153\u001b[0m \u001b[38;5;28;01mtry\u001b[39;00m:\n\u001b[0;32m    154\u001b[0m     \u001b[38;5;28mself\u001b[39m\u001b[38;5;241m.\u001b[39m_validate_inputs(inputs)\n\u001b[0;32m    155\u001b[0m     outputs \u001b[38;5;241m=\u001b[39m (\n\u001b[1;32m--> 156\u001b[0m         \u001b[38;5;28;43mself\u001b[39;49m\u001b[38;5;241;43m.\u001b[39;49m\u001b[43m_call\u001b[49m\u001b[43m(\u001b[49m\u001b[43minputs\u001b[49m\u001b[43m,\u001b[49m\u001b[43m \u001b[49m\u001b[43mrun_manager\u001b[49m\u001b[38;5;241;43m=\u001b[39;49m\u001b[43mrun_manager\u001b[49m\u001b[43m)\u001b[49m\n\u001b[0;32m    157\u001b[0m         \u001b[38;5;28;01mif\u001b[39;00m new_arg_supported\n\u001b[0;32m    158\u001b[0m         \u001b[38;5;28;01melse\u001b[39;00m \u001b[38;5;28mself\u001b[39m\u001b[38;5;241m.\u001b[39m_call(inputs)\n\u001b[0;32m    159\u001b[0m     )\n\u001b[0;32m    161\u001b[0m     final_outputs: Dict[\u001b[38;5;28mstr\u001b[39m, Any] \u001b[38;5;241m=\u001b[39m \u001b[38;5;28mself\u001b[39m\u001b[38;5;241m.\u001b[39mprep_outputs(\n\u001b[0;32m    162\u001b[0m         inputs, outputs, return_only_outputs\n\u001b[0;32m    163\u001b[0m     )\n\u001b[0;32m    164\u001b[0m \u001b[38;5;28;01mexcept\u001b[39;00m \u001b[38;5;167;01mBaseException\u001b[39;00m \u001b[38;5;28;01mas\u001b[39;00m e:\n",
      "File \u001b[1;32m~\\miniconda3\\envs\\langchain-web-1\\Lib\\site-packages\\langchain\\chains\\router\\base.py:106\u001b[0m, in \u001b[0;36mMultiRouteChain._call\u001b[1;34m(self, inputs, run_manager)\u001b[0m\n\u001b[0;32m    104\u001b[0m     \u001b[38;5;28;01mreturn\u001b[39;00m \u001b[38;5;28mself\u001b[39m\u001b[38;5;241m.\u001b[39mdefault_chain(route\u001b[38;5;241m.\u001b[39mnext_inputs, callbacks\u001b[38;5;241m=\u001b[39mcallbacks)\n\u001b[0;32m    105\u001b[0m \u001b[38;5;28;01melse\u001b[39;00m:\n\u001b[1;32m--> 106\u001b[0m     \u001b[38;5;28;01mraise\u001b[39;00m \u001b[38;5;167;01mValueError\u001b[39;00m(\n\u001b[0;32m    107\u001b[0m         \u001b[38;5;124mf\u001b[39m\u001b[38;5;124m\"\u001b[39m\u001b[38;5;124mReceived invalid destination chain name \u001b[39m\u001b[38;5;124m'\u001b[39m\u001b[38;5;132;01m{\u001b[39;00mroute\u001b[38;5;241m.\u001b[39mdestination\u001b[38;5;132;01m}\u001b[39;00m\u001b[38;5;124m'\u001b[39m\u001b[38;5;124m\"\u001b[39m\n\u001b[0;32m    108\u001b[0m     )\n",
      "\u001b[1;31mValueError\u001b[0m: Received invalid destination chain name '生物'"
     ]
    }
   ],
   "source": [
    "# 问题：为什么我们身体里的每个细胞都包含DNA？\n",
    "chain.invoke(\"为什么我们体内的每个细胞都含有DNA?\")"
   ]
  },
  {
   "cell_type": "code",
   "execution_count": 38,
   "id": "ff2304b9-75fc-4411-b3c4-412d5ecdfcb3",
   "metadata": {},
   "outputs": [],
   "source": [
    "# from langchain.chains.router.multi_prompt_prompt import MULTI_PROMPT_ROUTER_TEMPLATE\n",
    "# print(MULTI_PROMPT_ROUTER_TEMPLATE)"
   ]
  },
  {
   "cell_type": "code",
   "execution_count": 37,
   "id": "13d3beb9-3c1f-4aa5-89d0-9861085a2793",
   "metadata": {},
   "outputs": [
    {
     "name": "stdout",
     "output_type": "stream",
     "text": [
      "\n",
      "\n",
      "\u001b[1m> Entering new MultiPromptChain chain...\u001b[0m\n",
      "历史: {'input': '你知道李白是谁嘛?'}\n",
      "\u001b[1m> Finished chain.\u001b[0m\n"
     ]
    },
    {
     "data": {
      "text/plain": [
       "{'input': '你知道李白是谁嘛?',\n",
       " 'text': '当然，李白是唐代（公元618-907年）著名的诗人，被誉为“诗仙”。他的诗歌以其豪放、奔放、富有想象力和深邃的意境而著称，是唐诗中的杰出代表之一。\\n\\n李白出生于701年，据传是唐朝的皇室远亲，但他的一生并未在朝中担任要职。他的生平充满了传奇色彩，据说他遍历名山大川，酷爱杯中物，追求自由与超脱。他的诗作中，既有歌颂自然美景的，也有表达对英雄梦想和远大理想的追求，还有反映个人政治失意的作品。\\n\\n李白的诗歌在中国文学史上有着极其重要的地位，对后世文人墨客产生了深远的影响。他的许多诗篇，如《将进酒》、《庐山谣》、《夜泊牛渚怀古》等，至今仍广为传诵，是中国文化宝库中的瑰宝。'}"
      ]
     },
     "execution_count": 37,
     "metadata": {},
     "output_type": "execute_result"
    }
   ],
   "source": [
    "chain.invoke(\"你知道李白是谁嘛?\")"
   ]
  },
  {
   "cell_type": "code",
   "execution_count": null,
   "id": "ffb4d6e4-9583-40bf-bc2a-ddfe1ce7a4a1",
   "metadata": {},
   "outputs": [],
   "source": []
  }
 ],
 "metadata": {
  "kernelspec": {
   "display_name": "Python 3 (ipykernel)",
   "language": "python",
   "name": "python3"
  },
  "language_info": {
   "codemirror_mode": {
    "name": "ipython",
    "version": 3
   },
   "file_extension": ".py",
   "mimetype": "text/x-python",
   "name": "python",
   "nbconvert_exporter": "python",
   "pygments_lexer": "ipython3",
   "version": "3.11.9"
  }
 },
 "nbformat": 4,
 "nbformat_minor": 5
}
