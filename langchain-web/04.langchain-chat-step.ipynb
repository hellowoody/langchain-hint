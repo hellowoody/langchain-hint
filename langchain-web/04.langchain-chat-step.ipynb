{
 "cells": [
  {
   "cell_type": "markdown",
   "id": "e533d3c9-6656-4b0e-ba57-13548159578a",
   "metadata": {},
   "source": [
    "# 基于LangChain的文档问答\n",
    "本章内容主要利用langchain构建向量数据库，可以在文档上方或关于文档回答问题，因此，给定从PDF文件、网页或某些公司的内部文档收集中提取的文本，使用llm回答有关这些文档内容的问题\n",
    "\n",
    "## 环境配置\n",
    "安装langchain，设置chatGPT的OPENAI_API_KEY\n",
    "\n",
    " - 安装langchain\n",
    "\n",
    "    ```\n",
    "    pip install langchain\n",
    "    ```  \n",
    " \n",
    " - 安装docarray\n",
    "\n",
    "    ```\n",
    "    pip install docarray\n",
    "    ```  \n",
    " \n",
    " - 设置API-KEY环境变量\n",
    "\n",
    "    ```  \n",
    "    export BAICHUAN_API_KEY='api-key'\n",
    "    ```\n"
   ]
  },
  {
   "cell_type": "code",
   "execution_count": 1,
   "id": "22939f0a-8c54-4f27-b11c-70844ba9a162",
   "metadata": {},
   "outputs": [],
   "source": [
    "from dotenv import load_dotenv, find_dotenv\n",
    "_ = load_dotenv(find_dotenv()) #读取环境变量"
   ]
  },
  {
   "cell_type": "code",
   "execution_count": 2,
   "id": "89340318-a013-493f-b580-d082354942a2",
   "metadata": {},
   "outputs": [
    {
     "data": {
      "text/plain": [
       "AIMessage(content='1+1=2', response_metadata={'token_usage': {'prompt_tokens': 7, 'completion_tokens': 6, 'total_tokens': 13}, 'model': 'Baichuan2-Turbo-192K'}, id='run-652f153b-2a85-4a4e-bfc1-15ca0afb213d-0')"
      ]
     },
     "execution_count": 2,
     "metadata": {},
     "output_type": "execute_result"
    }
   ],
   "source": [
    "from langchain_community.chat_models import ChatBaichuan\n",
    "llm = ChatBaichuan(temperature=0.9)\n",
    "llm.invoke(\"1+1=？\")   # 证明模型可以使用"
   ]
  },
  {
   "cell_type": "markdown",
   "id": "5c009b44-19f2-4512-92ee-68fbdb976adf",
   "metadata": {},
   "source": [
    "## 导入embedding模型和向量存储组件\n",
    "\n",
    "使用Dock Array内存搜索向量存储，作为一个内存向量存储，不需要连接外部数据库"
   ]
  },
  {
   "cell_type": "code",
   "execution_count": 3,
   "id": "f7a8e6a3-f96b-4d3d-9f88-20896927d1d0",
   "metadata": {},
   "outputs": [],
   "source": [
    "from langchain.chains import RetrievalQA #检索QA链，在文档上进行检索\n",
    "from langchain.document_loaders import CSVLoader #文档加载器，采用csv格式存储\n",
    "from langchain.vectorstores import DocArrayInMemorySearch #向量存储\n",
    "from IPython.display import display, Markdown #在jupyter显示信息的工具"
   ]
  },
  {
   "cell_type": "code",
   "execution_count": 5,
   "id": "ac6469d0-2b11-4cb1-a6b2-7856b24b3609",
   "metadata": {},
   "outputs": [],
   "source": [
    "# import pandas as pd\n",
    "# names = [\"Akuce\",\"Bob\",\"Charlie\",\"David\",\"Eva\",\"Frank\"]\n",
    "# descs = [\n",
    "#     \"是一位优秀的科学家，专注于研究人工智能。\",\n",
    "#     \"是一位出色的艺术家，擅长绘画和雕塑。\",\n",
    "#     \"是一位杰出的企业家，创办了多家成功的公司。\",\n",
    "#     \"是一位卓越的音乐家，精通多种乐器。\",\n",
    "#     \"是一位卓越的运动员，多次获得世界冠军。\",\n",
    "#     \"是一位杰出的作家，创作了多部畅销书籍。\",\n",
    "# ]\n",
    "# file = \"people.csv\"\n",
    "# df = pd.DataFrame({\"name\":names,\"description\":descs})\n",
    "# df.to_csv(file,index=False)\n",
    "# loader = CSVLoader(file_path=file,encoding='utf8')"
   ]
  },
  {
   "cell_type": "markdown",
   "id": "a8e3b6fa-39d6-4859-b144-df7188f71fed",
   "metadata": {},
   "source": [
    "## index和query"
   ]
  },
  {
   "cell_type": "code",
   "execution_count": 6,
   "id": "400986e5-c3b7-4741-a334-f8538ee8eb9d",
   "metadata": {},
   "outputs": [
    {
     "name": "stdout",
     "output_type": "stream",
     "text": [
      "      name            description\n",
      "0    Akuce   是一位优秀的科学家，专注于研究人工智能。\n",
      "1      Bob     是一位出色的艺术家，擅长绘画和雕塑。\n",
      "2  Charlie  是一位杰出的企业家，创办了多家成功的公司。\n",
      "3    David      是一位卓越的音乐家，精通多种乐器。\n",
      "4      Eva    是一位卓越的运动员，多次获得世界冠军。\n",
      "5    Frank    是一位杰出的作家，创作了多部畅销书籍。\n"
     ]
    }
   ],
   "source": [
    "file = \"people.csv\"\n",
    "loader = CSVLoader(file_path=file,encoding='utf8')\n",
    "#查看数据\n",
    "import pandas as pd\n",
    "data = pd.read_csv(file)\n",
    "print(data)"
   ]
  },
  {
   "cell_type": "markdown",
   "id": "5a8fcaa4-a7df-4568-bb51-a1da2fc81f08",
   "metadata": {},
   "source": [
    "提供了一个简单的CSV文件，我们将使用它与语言模型结合使用\n",
    "\n",
    "## 创建向量存储 \n",
    "\n",
    "将导入一个索引，即向量存储索引创建器"
   ]
  },
  {
   "cell_type": "code",
   "execution_count": 7,
   "id": "b963526c-172b-4290-bafe-098e13908c93",
   "metadata": {},
   "outputs": [],
   "source": [
    "from langchain_community.embeddings import BaichuanTextEmbeddings\n",
    "import os\n",
    "\n",
    "embeddings = BaichuanTextEmbeddings(baichuan_api_key=os.environ[\"BAICHUAN_API_KEY\"])"
   ]
  },
  {
   "cell_type": "code",
   "execution_count": 8,
   "id": "edb6ea20-40a5-41b1-9eff-b90fbcb0cf55",
   "metadata": {},
   "outputs": [],
   "source": [
    "from langchain.indexes import VectorstoreIndexCreator #导入向量存储索引创建器"
   ]
  },
  {
   "cell_type": "markdown",
   "id": "ef28e010-1f18-456e-8ada-21fe1f06c4ca",
   "metadata": {},
   "source": [
    "从langchain.indexes模块中导入VectorstoreIndexCreator类，这个类用于创建基于向量存储的索引。\n",
    "\n",
    "接下来，实例化一个VectorstoreIndexCreator对象，命名为index_creator。在这个过程中，传入了两个参数：\n",
    "\n",
    " - embedding参数：这里传入了一个名为embeddings的变量，它应该是之前定义的一个embedding模型或者对象。这个模型负责将文本数据转化为高维向量，以便于之后在向量空间中进行相似性搜索。\n",
    " - vectorstore_cls参数：设置为DocArrayInMemorySearch类，这指定了所使用的向量数据库类型。DocArrayInMemorySearch是一种在内存中存储和搜索向量数据的实现方式，适用于数据量不大且追求快速检索的场景。这意味着创建的索引将会存储在内存中，而非持久化到磁盘，这样可以提高查询速度，但可能会占用较多的内存资源。"
   ]
  },
  {
   "cell_type": "code",
   "execution_count": 10,
   "id": "4cd9d38e-f7a9-4f2d-9275-41176cc1eea5",
   "metadata": {},
   "outputs": [],
   "source": [
    "index_creator = VectorstoreIndexCreator(\n",
    "    embedding = embeddings,\n",
    "    vectorstore_cls=DocArrayInMemorySearch\n",
    ")"
   ]
  },
  {
   "cell_type": "code",
   "execution_count": 11,
   "id": "ea0c0384-7d17-4fbd-87d0-6d805a370a7b",
   "metadata": {},
   "outputs": [
    {
     "name": "stderr",
     "output_type": "stream",
     "text": [
      "C:\\Users\\Administrator\\miniconda3\\envs\\langchain-web-1\\Lib\\site-packages\\pydantic\\_migration.py:283: UserWarning: `pydantic.error_wrappers:ValidationError` has been moved to `pydantic:ValidationError`.\n",
      "  warnings.warn(f'`{import_path}` has been moved to `{new_location}`.')\n"
     ]
    }
   ],
   "source": [
    "'''\n",
    "将指定向量存储类,创建完成后，我们将从加载器中调用,通过文档记载器列表加载\n",
    "'''\n",
    "index = index_creator.from_loaders([loader])"
   ]
  },
  {
   "cell_type": "code",
   "execution_count": 12,
   "id": "1b21c6a0-1445-4435-92bc-4cae72a691e5",
   "metadata": {},
   "outputs": [],
   "source": [
    "query =\"谁喜欢计算机，为什么呢？\""
   ]
  },
  {
   "cell_type": "markdown",
   "id": "b442c954-7cce-44c3-9475-80c55e58532a",
   "metadata": {},
   "source": [
    "我们可以使用自定义提示模板修改查询以满足我们的需求"
   ]
  },
  {
   "cell_type": "code",
   "execution_count": 13,
   "id": "4e063c03-2828-4e7b-8054-f335b0b0e80d",
   "metadata": {},
   "outputs": [],
   "source": [
    "from langchain.prompts import PromptTemplate\n",
    "prompt_template = \"\"\"使用以下上下文来回答最后的问题。\n",
    "如果您不知道答案，请理性思考并根据自己的知识库进行回答\n",
    "\n",
    "{context}\n",
    "\n",
    "Question: {question}\n",
    "\"\"\"\n",
    "PROMPT = PromptTemplate(\n",
    "    template=prompt_template, input_variables=[\"context\", \"question\"]\n",
    ")\n",
    "chain_type_kwargs = {\"prompt\": PROMPT}"
   ]
  },
  {
   "cell_type": "code",
   "execution_count": 15,
   "id": "78b7eeb2-5c42-4cc5-a94f-f1eb5babc5ee",
   "metadata": {
    "scrolled": true
   },
   "outputs": [
    {
     "data": {
      "text/plain": [
       "'根据上下文，Akuce 是一位专注于研究人工智能的科学家，因此他可能会喜欢计算机。科学家通常对新技术和设备感兴趣，特别是那些有助于他们进行研究和创新的工具。Akuce 可能会喜欢计算机，因为它们是他在人工智能领域工作的重要工具。'"
      ]
     },
     "execution_count": 15,
     "metadata": {},
     "output_type": "execute_result"
    }
   ],
   "source": [
    "response = index.query(query,llm=llm, chain_type_kwargs=chain_type_kwargs)  #使用索引查询创建一个响应，并传入这个查询\n",
    "response"
   ]
  },
  {
   "cell_type": "code",
   "execution_count": 17,
   "id": "16fa7521-928e-430d-b080-1d28262b1ad0",
   "metadata": {},
   "outputs": [
    {
     "data": {
      "text/plain": [
       "Document(page_content='name: Akuce\\ndescription: 是一位优秀的科学家，专注于研究人工智能。', metadata={'source': 'people.csv', 'row': 0})"
      ]
     },
     "execution_count": 17,
     "metadata": {},
     "output_type": "execute_result"
    }
   ],
   "source": [
    "docs = loader.load()\n",
    "docs[0]"
   ]
  },
  {
   "cell_type": "markdown",
   "id": "c3632d30-98d1-49ca-8aca-b9e6f7d070f4",
   "metadata": {},
   "source": [
    "## Embedding"
   ]
  },
  {
   "cell_type": "code",
   "execution_count": 18,
   "id": "6bba8f55-4d5f-441b-a29f-f665d5e01e36",
   "metadata": {},
   "outputs": [],
   "source": [
    "embed = embeddings.embed_query(\"我喜欢研究算法\")"
   ]
  },
  {
   "cell_type": "code",
   "execution_count": 19,
   "id": "00b473f9-509d-4da3-a63d-7ba35c2bf40c",
   "metadata": {},
   "outputs": [
    {
     "data": {
      "text/plain": [
       "[0.04571808, 0.02734232, -0.0057214918, 0.028426658, -0.028289212]"
      ]
     },
     "execution_count": 19,
     "metadata": {},
     "output_type": "execute_result"
    }
   ],
   "source": [
    "embed[:5]"
   ]
  },
  {
   "cell_type": "markdown",
   "id": "e3a182c0-cf33-4128-8e31-bd6c199d7aa2",
   "metadata": {},
   "source": [
    "## 相似文档查找"
   ]
  },
  {
   "cell_type": "code",
   "execution_count": 22,
   "id": "3504e408-f57d-4965-9a8c-6a9febd34593",
   "metadata": {},
   "outputs": [],
   "source": [
    "db = DocArrayInMemorySearch.from_documents(\n",
    "    docs,\n",
    "    embeddings\n",
    ")\n",
    "docs = db.similarity_search(\"我喜欢弹琴\")"
   ]
  },
  {
   "cell_type": "code",
   "execution_count": 23,
   "id": "876104a5-c44f-4188-aae7-7fb9b4ae3423",
   "metadata": {},
   "outputs": [
    {
     "data": {
      "text/plain": [
       "[Document(page_content='name: David\\ndescription: 是一位卓越的音乐家，精通多种乐器。', metadata={'source': 'people.csv', 'row': 3}),\n",
       " Document(page_content='name: Bob\\ndescription: 是一位出色的艺术家，擅长绘画和雕塑。', metadata={'source': 'people.csv', 'row': 1}),\n",
       " Document(page_content='name: Eva\\ndescription: 是一位卓越的运动员，多次获得世界冠军。', metadata={'source': 'people.csv', 'row': 4}),\n",
       " Document(page_content='name: Akuce\\ndescription: 是一位优秀的科学家，专注于研究人工智能。', metadata={'source': 'people.csv', 'row': 0})]"
      ]
     },
     "execution_count": 23,
     "metadata": {},
     "output_type": "execute_result"
    }
   ],
   "source": [
    "docs"
   ]
  },
  {
   "cell_type": "code",
   "execution_count": 24,
   "id": "934f77d4-7738-4684-9c5f-c2ef87e59d6d",
   "metadata": {},
   "outputs": [
    {
     "data": {
      "text/plain": [
       "'name: David\\ndescription: 是一位卓越的音乐家，精通多种乐器。name: Bob\\ndescription: 是一位出色的艺术家，擅长绘画和雕塑。name: Eva\\ndescription: 是一位卓越的运动员，多次获得世界冠军。name: Akuce\\ndescription: 是一位优秀的科学家，专注于研究人工智能。'"
      ]
     },
     "execution_count": 24,
     "metadata": {},
     "output_type": "execute_result"
    }
   ],
   "source": [
    "retriever= db.as_retriever()\n",
    "llm = ChatBaichuan(temperature=0.0)\n",
    "qdocs = \"\".join([docs[i].page_content for i in range(len(docs))])\n",
    "qdocs"
   ]
  },
  {
   "cell_type": "code",
   "execution_count": 26,
   "id": "73e8d340-6002-47cc-9189-9058a13fb2c0",
   "metadata": {},
   "outputs": [
    {
     "name": "stdout",
     "output_type": "stream",
     "text": [
      "根据您提供的信息，与科学和艺术相关的人包括：\n",
      "\n",
      "1. Bob：一位出色的艺术家，擅长绘画和雕塑。\n",
      "2. Akuce：一位优秀的科学家，专注于研究人工智能。\n"
     ]
    }
   ],
   "source": [
    "resp = llm.invoke(f\"{qdocs} 问题：请列出跟科学艺术相关的人\")\n",
    "print(resp.content)"
   ]
  },
  {
   "cell_type": "code",
   "execution_count": 27,
   "id": "fda83cc7-1946-43ea-8f8b-f00efb3def8b",
   "metadata": {},
   "outputs": [
    {
     "name": "stdout",
     "output_type": "stream",
     "text": [
      "\n",
      "\n",
      "\u001b[1m> Entering new RetrievalQA chain...\u001b[0m\n",
      "\n",
      "\u001b[1m> Finished chain.\u001b[0m\n"
     ]
    }
   ],
   "source": [
    "from langchain.prompts import PromptTemplate\n",
    "prompt_template = \"\"\"Use the following pieces of context to answer the question at the end. \n",
    "If you don't know the answer, please think rationally and answer from your own knowledge base \n",
    "\n",
    "{context}\n",
    "\n",
    "Question: {question}\n",
    "\"\"\"\n",
    "PROMPT = PromptTemplate(\n",
    "    template=prompt_template, input_variables=[\"context\", \"question\"]\n",
    ")\n",
    "chain_type_kwargs = {\"prompt\": PROMPT}\n",
    "qa_stuff = RetrievalQA.from_chain_type(\n",
    "    llm=llm,\n",
    "    chain_type=\"stuff\",\n",
    "    retriever=retriever,\n",
    "    verbose=True,\n",
    "    chain_type_kwargs=chain_type_kwargs\n",
    ")\n",
    "query = \"喜欢弹琴的是谁，为什么？\"\n",
    "resp = qa_stuff.invoke(query)"
   ]
  },
  {
   "cell_type": "code",
   "execution_count": 28,
   "id": "1af40ec8-c972-4eea-8c41-53277c011655",
   "metadata": {},
   "outputs": [
    {
     "data": {
      "text/plain": [
       "{'query': '喜欢弹琴的是谁，为什么？',\n",
       " 'result': '根据描述，David是一位卓越的音乐家，精通多种乐器。因此，喜欢弹琴的人应该是David。'}"
      ]
     },
     "execution_count": 28,
     "metadata": {},
     "output_type": "execute_result"
    }
   ],
   "source": [
    "resp"
   ]
  },
  {
   "cell_type": "code",
   "execution_count": 29,
   "id": "bd342edc-0f14-4db7-b9fd-f72c00a80044",
   "metadata": {},
   "outputs": [
    {
     "name": "stdout",
     "output_type": "stream",
     "text": [
      "\n",
      "\n",
      "\u001b[1m> Entering new RetrievalQA chain...\u001b[0m\n",
      "\n",
      "\u001b[1m> Finished chain.\u001b[0m\n"
     ]
    },
    {
     "data": {
      "text/plain": [
       "{'query': '请列出跟科学艺术相关的人？',\n",
       " 'result': '跟科学艺术相关的人有：\\n1. Bob：是一位出色的艺术家，擅长绘画和雕塑。\\n2. Akuce：是一位优秀的科学家，专注于研究人工智能。'}"
      ]
     },
     "execution_count": 29,
     "metadata": {},
     "output_type": "execute_result"
    }
   ],
   "source": [
    "query = \"请列出跟科学艺术相关的人？\"\n",
    "resp = qa_stuff.invoke(query)\n",
    "resp"
   ]
  },
  {
   "cell_type": "code",
   "execution_count": null,
   "id": "69a18985-327b-430c-9626-6af3bb5aed3b",
   "metadata": {},
   "outputs": [],
   "source": []
  }
 ],
 "metadata": {
  "kernelspec": {
   "display_name": "Python 3 (ipykernel)",
   "language": "python",
   "name": "python3"
  },
  "language_info": {
   "codemirror_mode": {
    "name": "ipython",
    "version": 3
   },
   "file_extension": ".py",
   "mimetype": "text/x-python",
   "name": "python",
   "nbconvert_exporter": "python",
   "pygments_lexer": "ipython3",
   "version": "3.11.9"
  }
 },
 "nbformat": 4,
 "nbformat_minor": 5
}
