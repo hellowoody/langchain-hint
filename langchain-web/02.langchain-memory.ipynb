{
 "cells": [
  {
   "cell_type": "code",
   "execution_count": 1,
   "id": "5af66830-6e2a-4f74-a688-e53cb4298c7e",
   "metadata": {},
   "outputs": [],
   "source": [
    "#!pip install python-dotenv"
   ]
  },
  {
   "cell_type": "code",
   "execution_count": 2,
   "id": "771745fe-7e62-4720-ac56-23115059fd91",
   "metadata": {},
   "outputs": [],
   "source": [
    "from dotenv import load_dotenv,find_dotenv"
   ]
  },
  {
   "cell_type": "code",
   "execution_count": 3,
   "id": "d052efc7-e7eb-451a-aa01-7e491494da5a",
   "metadata": {},
   "outputs": [],
   "source": [
    "_ = load_dotenv(find_dotenv())"
   ]
  },
  {
   "cell_type": "code",
   "execution_count": 4,
   "id": "8893eb3d-4f36-47a2-8a3c-b00e93e90763",
   "metadata": {},
   "outputs": [],
   "source": [
    "from langchain_community.chat_models import ChatZhipuAI\n",
    "from langchain.chains import ConversationChain\n",
    "from langchain.memory import ConversationBufferMemory"
   ]
  },
  {
   "cell_type": "code",
   "execution_count": 23,
   "id": "66a22eb6-5c26-42f1-862b-ddc1e3f8737c",
   "metadata": {},
   "outputs": [],
   "source": [
    "llm = ChatZhipuAI(temperature=0.5)\n",
    "memory = ConversationBufferMemory()\n",
    "conversation = ConversationChain(\n",
    "    llm=llm,\n",
    "    memory = memory,\n",
    "    verbose = True\n",
    ")"
   ]
  },
  {
   "cell_type": "code",
   "execution_count": 24,
   "id": "7655ca65-f647-476a-8e41-10e25e3b0df9",
   "metadata": {},
   "outputs": [
    {
     "name": "stdout",
     "output_type": "stream",
     "text": [
      "\n",
      "\n",
      "\u001b[1m> Entering new ConversationChain chain...\u001b[0m\n",
      "Prompt after formatting:\n",
      "\u001b[32;1m\u001b[1;3mThe following is a friendly conversation between a human and an AI. The AI is talkative and provides lots of specific details from its context. If the AI does not know the answer to a question, it truthfully says it does not know.\n",
      "\n",
      "Current conversation:\n",
      "\n",
      "Human: 你好，我的名字叫叶赫那英\n",
      "AI:\u001b[0m\n",
      "\n",
      "\u001b[1m> Finished chain.\u001b[0m\n"
     ]
    },
    {
     "data": {
      "text/plain": [
       "'你好，叶赫那英！很高兴认识你。有什么我可以帮助你的吗？无论是生活中的小事，还是你想要了解的知识点，都可以告诉我哦！😊'"
      ]
     },
     "execution_count": 24,
     "metadata": {},
     "output_type": "execute_result"
    }
   ],
   "source": [
    "conversation.predict(input = \"你好，我的名字叫叶赫那英\")"
   ]
  },
  {
   "cell_type": "code",
   "execution_count": 25,
   "id": "2d15d903-98f7-4433-8efb-0550eeecafb8",
   "metadata": {},
   "outputs": [
    {
     "name": "stdout",
     "output_type": "stream",
     "text": [
      "\n",
      "\n",
      "\u001b[1m> Entering new ConversationChain chain...\u001b[0m\n",
      "Prompt after formatting:\n",
      "\u001b[32;1m\u001b[1;3mThe following is a friendly conversation between a human and an AI. The AI is talkative and provides lots of specific details from its context. If the AI does not know the answer to a question, it truthfully says it does not know.\n",
      "\n",
      "Current conversation:\n",
      "Human: 你好，我的名字叫叶赫那英\n",
      "AI: 你好，叶赫那英！很高兴认识你。有什么我可以帮助你的吗？无论是生活中的小事，还是你想要了解的知识点，都可以告诉我哦！😊\n",
      "Human: 1+1等于几？\n",
      "AI:\u001b[0m\n",
      "\n",
      "\u001b[1m> Finished chain.\u001b[0m\n"
     ]
    },
    {
     "data": {
      "text/plain": [
       "'1+1等于2。这是基础的数学运算，如果有更多数学问题，我也很乐意帮助你解答！😊'"
      ]
     },
     "execution_count": 25,
     "metadata": {},
     "output_type": "execute_result"
    }
   ],
   "source": [
    "conversation.predict(input = \"1+1等于几？\")"
   ]
  },
  {
   "cell_type": "code",
   "execution_count": 26,
   "id": "d5af259d-18df-4065-8469-91e9942cfda4",
   "metadata": {},
   "outputs": [
    {
     "name": "stdout",
     "output_type": "stream",
     "text": [
      "\n",
      "\n",
      "\u001b[1m> Entering new ConversationChain chain...\u001b[0m\n",
      "Prompt after formatting:\n",
      "\u001b[32;1m\u001b[1;3mThe following is a friendly conversation between a human and an AI. The AI is talkative and provides lots of specific details from its context. If the AI does not know the answer to a question, it truthfully says it does not know.\n",
      "\n",
      "Current conversation:\n",
      "Human: 你好，我的名字叫叶赫那英\n",
      "AI: 你好，叶赫那英！很高兴认识你。有什么我可以帮助你的吗？无论是生活中的小事，还是你想要了解的知识点，都可以告诉我哦！😊\n",
      "Human: 1+1等于几？\n",
      "AI: 1+1等于2。这是基础的数学运算，如果有更多数学问题，我也很乐意帮助你解答！😊\n",
      "Human: 我的名字是啥?\n",
      "AI:\u001b[0m\n",
      "\n",
      "\u001b[1m> Finished chain.\u001b[0m\n"
     ]
    },
    {
     "data": {
      "text/plain": [
       "'你的名字是叶赫那英。如果你有其他问题或者需要帮助的地方，请随时告诉我！😊'"
      ]
     },
     "execution_count": 26,
     "metadata": {},
     "output_type": "execute_result"
    }
   ],
   "source": [
    "conversation.predict(input = \"我的名字是啥?\")"
   ]
  },
  {
   "cell_type": "code",
   "execution_count": 28,
   "id": "f5c09fa0-5639-44d2-8a7f-d7db174827c7",
   "metadata": {},
   "outputs": [
    {
     "name": "stdout",
     "output_type": "stream",
     "text": [
      "Human: 你好，我的名字叫叶赫那英\n",
      "AI: 你好，叶赫那英！很高兴认识你。有什么我可以帮助你的吗？无论是生活中的小事，还是你想要了解的知识点，都可以告诉我哦！😊\n",
      "Human: 1+1等于几？\n",
      "AI: 1+1等于2。这是基础的数学运算，如果有更多数学问题，我也很乐意帮助你解答！😊\n",
      "Human: 我的名字是啥?\n",
      "AI: 你的名字是叶赫那英。如果你有其他问题或者需要帮助的地方，请随时告诉我！😊\n"
     ]
    }
   ],
   "source": [
    "print(memory.buffer)"
   ]
  },
  {
   "cell_type": "code",
   "execution_count": 30,
   "id": "02337dff-16dc-4c97-beb6-1448f6845b2e",
   "metadata": {},
   "outputs": [
    {
     "data": {
      "text/plain": [
       "{'history': 'Human: 你好，我的名字叫叶赫那英\\nAI: 你好，叶赫那英！很高兴认识你。有什么我可以帮助你的吗？无论是生活中的小事，还是你想要了解的知识点，都可以告诉我哦！😊\\nHuman: 1+1等于几？\\nAI: 1+1等于2。这是基础的数学运算，如果有更多数学问题，我也很乐意帮助你解答！😊\\nHuman: 我的名字是啥?\\nAI: 你的名字是叶赫那英。如果你有其他问题或者需要帮助的地方，请随时告诉我！😊'}"
      ]
     },
     "execution_count": 30,
     "metadata": {},
     "output_type": "execute_result"
    }
   ],
   "source": [
    "memory.load_memory_variables({})"
   ]
  },
  {
   "cell_type": "code",
   "execution_count": 36,
   "id": "06f1fab2-afdc-4818-91eb-a6d7bee75442",
   "metadata": {},
   "outputs": [],
   "source": [
    "memory = ConversationBufferMemory()"
   ]
  },
  {
   "cell_type": "code",
   "execution_count": 38,
   "id": "e9f9f07e-72f5-427b-b608-7e0cc8ad92ba",
   "metadata": {},
   "outputs": [],
   "source": [
    "memory.save_context(\n",
    "    {\"input\":\"你好,我是张小三\"},\n",
    "    {\"output\":\"有什么可以帮助你的吗？\"}\n",
    ")"
   ]
  },
  {
   "cell_type": "code",
   "execution_count": 39,
   "id": "0d49afba-6d4f-4fbd-8d97-1d8b353bcb6d",
   "metadata": {},
   "outputs": [
    {
     "data": {
      "text/plain": [
       "'Human: 你好,我是张小三\\nAI: 有什么可以帮助你的吗？'"
      ]
     },
     "execution_count": 39,
     "metadata": {},
     "output_type": "execute_result"
    }
   ],
   "source": [
    "memory.buffer"
   ]
  },
  {
   "cell_type": "code",
   "execution_count": 40,
   "id": "630e0b3f-b5c8-4aea-8515-dca2ee2a48bc",
   "metadata": {},
   "outputs": [
    {
     "data": {
      "text/plain": [
       "{'history': 'Human: 你好,我是张小三\\nAI: 有什么可以帮助你的吗？'}"
      ]
     },
     "execution_count": 40,
     "metadata": {},
     "output_type": "execute_result"
    }
   ],
   "source": [
    "memory.load_memory_variables({})"
   ]
  },
  {
   "cell_type": "code",
   "execution_count": 45,
   "id": "d896ccf0-e5da-42ce-974f-90cdd8b5aa77",
   "metadata": {},
   "outputs": [
    {
     "data": {
      "text/plain": [
       "'你告诉我你的名字是张小三。如果需要我称呼你其他的名字，或者有任何问题需要帮助，请随时告诉我。'"
      ]
     },
     "execution_count": 45,
     "metadata": {},
     "output_type": "execute_result"
    }
   ],
   "source": [
    "conversation = ConversationChain(\n",
    "    llm=llm,\n",
    "    memory = memory,\n",
    "    verbose = False\n",
    ")\n",
    "conversation.predict(input = \"我的名字是啥吗？\")"
   ]
  },
  {
   "cell_type": "code",
   "execution_count": 46,
   "id": "c74f0457-8f5a-43bb-99d7-d8313c7172ff",
   "metadata": {},
   "outputs": [],
   "source": [
    "from langchain.memory import ConversationBufferWindowMemory"
   ]
  },
  {
   "cell_type": "code",
   "execution_count": 47,
   "id": "52f8a50b-fd0a-4015-9ed0-6772420a1263",
   "metadata": {},
   "outputs": [],
   "source": [
    "memory = ConversationBufferWindowMemory(k=1)"
   ]
  },
  {
   "cell_type": "code",
   "execution_count": 52,
   "id": "defcb852-c110-4bfe-8756-61c822e5907d",
   "metadata": {},
   "outputs": [],
   "source": [
    "memory.save_context(\n",
    "    {\"input\":\"你好\"},\n",
    "    {\"output\":\"什么事\"},\n",
    ")\n",
    "memory.save_context(\n",
    "    {\"input\":\"没事随便问问\"},\n",
    "    {\"output\":\"好的，有事您说话\"},\n",
    ")"
   ]
  },
  {
   "cell_type": "code",
   "execution_count": 53,
   "id": "ee8578a2-f968-40dc-aeb6-bedcf2b17ea6",
   "metadata": {},
   "outputs": [
    {
     "data": {
      "text/plain": [
       "{'history': 'Human: 没事随便问问\\nAI: 好的，有事您说话'}"
      ]
     },
     "execution_count": 53,
     "metadata": {},
     "output_type": "execute_result"
    }
   ],
   "source": [
    "memory.load_memory_variables({})"
   ]
  },
  {
   "cell_type": "code",
   "execution_count": 56,
   "id": "e158c83b-e47d-4d92-8ff4-7fe90ab7bc85",
   "metadata": {},
   "outputs": [],
   "source": [
    "llm = ChatZhipuAI(temperature=0.5)\n",
    "memory = ConversationBufferWindowMemory(k=1)\n",
    "conversation = ConversationChain(\n",
    "    llm=llm,\n",
    "    memory = memory,\n",
    "    verbose = False\n",
    ")"
   ]
  },
  {
   "cell_type": "code",
   "execution_count": 57,
   "id": "9fd59339-3bce-4463-bef8-fd4ffdb209d1",
   "metadata": {},
   "outputs": [
    {
     "data": {
      "text/plain": [
       "'你好，叶赫那英！很高兴认识你。今天想和我聊些什么呢？无论是生活中的琐事，还是你感兴趣的知识点，我都愿意和你分享交流。'"
      ]
     },
     "execution_count": 57,
     "metadata": {},
     "output_type": "execute_result"
    }
   ],
   "source": [
    "conversation.predict(input = \"你好，我的名字叫叶赫那英\")"
   ]
  },
  {
   "cell_type": "code",
   "execution_count": 58,
   "id": "eb29b067-2cd8-4a26-9756-dd615505dc6e",
   "metadata": {},
   "outputs": [
    {
     "data": {
      "text/plain": [
       "'1+1等于2。这是一个基础的数学问题。如果你有更多数学方面的问题，或者想了解数学的其它方面，我也很乐意帮助你。'"
      ]
     },
     "execution_count": 58,
     "metadata": {},
     "output_type": "execute_result"
    }
   ],
   "source": [
    "conversation.predict(input = \"1+1等于几？\")"
   ]
  },
  {
   "cell_type": "code",
   "execution_count": 60,
   "id": "8eb80148-3646-4d9e-89e7-348b2c85efd1",
   "metadata": {},
   "outputs": [
    {
     "data": {
      "text/plain": [
       "'AI: 我之前的回答已经解释了，作为一个人工智能，我没有持久的记忆能力来记住用户的个人信息，除非在当前会话中你提供了这些信息。因此，我不记得你的名字。如果你愿意再次告诉我，我可以在这个会话中使用你的名字。'"
      ]
     },
     "execution_count": 60,
     "metadata": {},
     "output_type": "execute_result"
    }
   ],
   "source": [
    "conversation.predict(input = \"还记得我的名字吗?\")"
   ]
  },
  {
   "cell_type": "code",
   "execution_count": 22,
   "id": "3464d0cc-4458-476b-8b91-7814bd68cb4b",
   "metadata": {
    "scrolled": true
   },
   "outputs": [],
   "source": [
    "# !pip3 install torch torchvision torchaudio\n",
    "\n",
    "# 下面这段需要访问 huggingface\n",
    "# from langchain.memory import ConversationTokenBufferMemory\n",
    "# llm = ChatZhipuAI(temperature=0.0)\n",
    "# memory = ConversationTokenBufferMemory(llm=llm,max_token_limit=50)\n",
    "# memory.save_context({\"input\":\"AI是什么？\"},{\"output\":\"机器学习人工智能\"})\n",
    "# memory.save_context({\"input\":\"反向传播是什么？\"},{\"output\":\"是导数中的链式传导\"})\n",
    "# memory.save_context({\"input\":\"我是歌手第二期好看吗？\"},{\"output\":\"我还没看呢\"})"
   ]
  },
  {
   "cell_type": "code",
   "execution_count": 17,
   "id": "2ed05fe3-509e-41b8-ae28-76952d22770b",
   "metadata": {},
   "outputs": [],
   "source": [
    "# 下面这段需要访问 huggingface\n",
    "\n",
    "# from langchain.memory import ConversationSummaryBufferMemory\n",
    "# ctx = \"我是歌手第二期没什么意思，只有一首歌好听，如果你没看过可以不用看了。\"\n",
    "# llm = ChatZhipuAI(temperature=0.5)\n",
    "# memory = ConversationSummaryBufferMemory(llm=llm,max_token_limit=50)\n",
    "# memory.save_context({\"input\":\"AI是什么？\"},{\"output\":\"机器学习人工智能\"})\n",
    "# memory.save_context({\"input\":\"反向传播是什么？\"},{\"output\":\"是导数中的链式传导\"})\n",
    "# memory.save_context({\"input\":\"我是歌手第二期好看吗？\"},{\"output\":f\"{ctx}\"})"
   ]
  },
  {
   "cell_type": "code",
   "execution_count": null,
   "id": "d3d62568-e441-4ca4-805f-e80ea58f10f0",
   "metadata": {},
   "outputs": [],
   "source": []
  }
 ],
 "metadata": {
  "kernelspec": {
   "display_name": "Python 3 (ipykernel)",
   "language": "python",
   "name": "python3"
  },
  "language_info": {
   "codemirror_mode": {
    "name": "ipython",
    "version": 3
   },
   "file_extension": ".py",
   "mimetype": "text/x-python",
   "name": "python",
   "nbconvert_exporter": "python",
   "pygments_lexer": "ipython3",
   "version": "3.11.9"
  }
 },
 "nbformat": 4,
 "nbformat_minor": 5
}
