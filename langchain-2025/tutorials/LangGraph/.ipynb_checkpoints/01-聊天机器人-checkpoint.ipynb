{
 "cells": [
  {
   "cell_type": "markdown",
   "id": "942222c8-b56a-4ccf-a6ec-3b8f051d8a53",
   "metadata": {},
   "source": [
    "# 构建一个聊天机器人（Chatbot）\n",
    "\n",
    "> **注意**\n",
    "> 本教程之前使用的是 `RunnableWithMessageHistory` 抽象接口。你可以在 v0.2 版本的文档中查看该版本的内容。\n",
    "\n",
    "从 **LangChain v0.3** 发布起，我们建议 LangChain 用户使用 **LangGraph 的持久化功能**，将记忆机制集成到新的 LangChain 应用程序中。\n",
    "\n",
    "如果你的代码已经依赖于 `RunnableWithMessageHistory` 或 `BaseChatMessageHistory`，则**无需进行任何更改**。我们近期不计划弃用这些功能，因为它们在简单的聊天应用中表现良好，任何使用 `RunnableWithMessageHistory` 的代码都将按预期继续运行。\n",
    "\n",
    "\n",
    "### 概述（Overview）\n",
    "\n",
    "我们将通过一个示例来讲解如何设计和实现一个由大语言模型（LLM）驱动的聊天机器人。这个聊天机器人将能够与用户进行对话，并记住与聊天模型之前的交互记录。\n",
    "\n",
    "请注意，我们构建的这个聊天机器人将**仅使用语言模型来进行对话**。还有一些其他相关概念你可能也感兴趣：\n",
    "\n",
    "- **对话式 RAG（Conversational RAG）**：让你的聊天机器人基于外部数据源提供回答  \n",
    "- **智能代理（Agents）**：构建一个可以执行操作的聊天机器人  \n"
   ]
  },
  {
   "cell_type": "code",
   "execution_count": 1,
   "id": "9c4ee376-3d57-43a0-b00f-1d7ea694a50b",
   "metadata": {},
   "outputs": [],
   "source": [
    "import getpass\n",
    "import os\n",
    "\n",
    "try:\n",
    "    # load environment variables from .env file (requires `python-dotenv`)\n",
    "    from dotenv import load_dotenv\n",
    "\n",
    "    _ = load_dotenv()\n",
    "except ImportError:\n",
    "    pass\n",
    "\n",
    "if not os.environ.get(\"DASHSCOPE_API_KEY\"):\n",
    "  os.environ[\"DASHSCOPE_API_KEY\"] = getpass.getpass(\"Enter API key for OpenAI: \")"
   ]
  },
  {
   "cell_type": "code",
   "execution_count": 2,
   "id": "247e7dd9-c111-4071-8965-670914b96072",
   "metadata": {},
   "outputs": [],
   "source": [
    "from langchain_community.chat_models.tongyi import ChatTongyi\n",
    "\n",
    "model = ChatTongyi(\n",
    "    streaming=True,\n",
    "    name=\"qwen-max\"\n",
    ")"
   ]
  },
  {
   "cell_type": "markdown",
   "id": "a3b529d3-98ec-422f-8b74-82b0539b6e56",
   "metadata": {},
   "source": [
    "我们首先直接使用模型。ChatModels 是 LangChain 中 “Runnables” 的实例，这意味着它们提供了一个标准的接口用于与之交互。要简单地调用模型，我们可以将一组消息列表传递给 `.invoke` 方法。"
   ]
  },
  {
   "cell_type": "code",
   "execution_count": 3,
   "id": "327a4dcf-708e-4189-8f63-a0baed87e10a",
   "metadata": {},
   "outputs": [
    {
     "data": {
      "text/plain": [
       "AIMessage(content='你好张三！很高兴认识你，有什么我可以帮助你的？', additional_kwargs={}, response_metadata={'model_name': 'qwen-turbo', 'finish_reason': 'stop', 'request_id': 'ec1a4574-c463-9a41-8f0e-738fb99f3d59', 'token_usage': {'input_tokens': 14, 'output_tokens': 13, 'total_tokens': 27, 'prompt_tokens_details': {'cached_tokens': 0}}}, id='run--22e05d13-b822-49ee-8bf6-412b3a42e625-0')"
      ]
     },
     "execution_count": 3,
     "metadata": {},
     "output_type": "execute_result"
    }
   ],
   "source": [
    "from langchain_core.messages import HumanMessage\n",
    "\n",
    "model.invoke([HumanMessage(content=\"你好 我是张三\")])"
   ]
  },
  {
   "cell_type": "markdown",
   "id": "4b0fc28b-be7d-4c77-8b7e-b6516d1a3913",
   "metadata": {},
   "source": [
    "该模型本身没有任何状态概念。例如，如果你问一个后续问题："
   ]
  },
  {
   "cell_type": "code",
   "execution_count": 4,
   "id": "89c1a596-9008-4e87-8255-104865ffe974",
   "metadata": {},
   "outputs": [
    {
     "data": {
      "text/plain": [
       "AIMessage(content='我无法知道你叫什么，因为我们之前的对话中没有提到你的名字。如果你愿意，可以告诉我你的名字，我会记住并用它来称呼你！', additional_kwargs={}, response_metadata={'model_name': 'qwen-turbo', 'finish_reason': 'stop', 'request_id': '69746e60-24c7-9548-87e0-b77ebe2e38bc', 'token_usage': {'input_tokens': 12, 'output_tokens': 33, 'total_tokens': 45, 'prompt_tokens_details': {'cached_tokens': 0}}}, id='run--17076e2c-19ed-4bab-8816-5ec9eeabcd03-0')"
      ]
     },
     "execution_count": 4,
     "metadata": {},
     "output_type": "execute_result"
    }
   ],
   "source": [
    "model.invoke([HumanMessage(content=\"我叫什么?\")])"
   ]
  },
  {
   "cell_type": "markdown",
   "id": "4fb13f9f-d27a-4e3f-8302-b054edf22797",
   "metadata": {},
   "source": [
    "为了解决这个问题，我们需要将整个对话历史记录传入模型。让我们看看这样做会发生什么："
   ]
  },
  {
   "cell_type": "code",
   "execution_count": 5,
   "id": "3b7ddc00-9f55-418c-b3ed-c5d1798b380b",
   "metadata": {},
   "outputs": [
    {
     "data": {
      "text/plain": [
       "AIMessage(content='你说你是王五啊！没错，你叫王五。😄', additional_kwargs={}, response_metadata={'model_name': 'qwen-turbo', 'finish_reason': 'stop', 'request_id': '7ea3a1a4-f218-9a51-aabe-6dd0d6ac767b', 'token_usage': {'input_tokens': 41, 'output_tokens': 14, 'total_tokens': 55, 'prompt_tokens_details': {'cached_tokens': 0}}}, id='run--fc010ecd-249f-454c-b8e1-458d6c7c0b3a-0')"
      ]
     },
     "execution_count": 5,
     "metadata": {},
     "output_type": "execute_result"
    }
   ],
   "source": [
    "from langchain_core.messages import AIMessage\n",
    "\n",
    "model.invoke(\n",
    "    [\n",
    "        HumanMessage(content=\"你好 我是王五\"),\n",
    "        AIMessage(content=\"你好，王五！今天有什么可以帮到你吗？\"),\n",
    "        HumanMessage(content=\"我叫什么?\"),\n",
    "    ]\n",
    ")"
   ]
  },
  {
   "cell_type": "markdown",
   "id": "5df3b824-74f1-4ba0-8667-df6234ae108b",
   "metadata": {},
   "source": [
    "现在我们可以看到，我们得到了不错的回复！\n",
    "\n",
    "这就是聊天机器人对话式交互能力的基本理念。那么，我们如何才能最好地实现这一点呢？"
   ]
  },
  {
   "cell_type": "markdown",
   "id": "f9411143-f24c-4754-b32a-cb83dd44f168",
   "metadata": {},
   "source": [
    "### 消息持久化（Message persistence）\n",
    "\n",
    "LangGraph 实现了一个内置的持久化层，这使它非常适合用于支持多轮对话的聊天应用。\n",
    "\n",
    "将我们的聊天模型封装在一个最小的 LangGraph 应用中，可以让我们自动持久化消息历史记录，从而简化多轮对话应用的开发。\n",
    "\n",
    "LangGraph 自带了一个简单的内存型检查点存储器（in-memory checkpointer），我们在下面使用的就是它。你可以在其文档中查看更多详细信息，包括如何使用不同的持久化后端（例如 SQLite 或 Postgres）。"
   ]
  },
  {
   "cell_type": "code",
   "execution_count": 6,
   "id": "b61f983d-c7ff-45df-aec8-9a99795db781",
   "metadata": {},
   "outputs": [],
   "source": [
    "from langgraph.checkpoint.memory import MemorySaver\n",
    "from langgraph.graph import START, MessagesState, StateGraph\n",
    "\n",
    "# Define a new graph\n",
    "workflow = StateGraph(state_schema=MessagesState)\n",
    "\n",
    "\n",
    "# Define the function that calls the model\n",
    "def call_model(state: MessagesState):\n",
    "    response = model.invoke(state[\"messages\"])\n",
    "    return {\"messages\": response}\n",
    "\n",
    "\n",
    "# Define the (single) node in the graph\n",
    "workflow.add_edge(START, \"model\")\n",
    "workflow.add_node(\"model\", call_model)\n",
    "\n",
    "# Add memory\n",
    "memory = MemorySaver()\n",
    "app = workflow.compile(checkpointer=memory)"
   ]
  },
  {
   "cell_type": "code",
   "execution_count": 7,
   "id": "8bcac532-2091-49de-b5ad-e26c76342c46",
   "metadata": {},
   "outputs": [
    {
     "name": "stdout",
     "output_type": "stream",
     "text": [
      "+-----------+  \n",
      "| __start__ |  \n",
      "+-----------+  \n",
      "      *        \n",
      "      *        \n",
      "      *        \n",
      "  +-------+    \n",
      "  | model |    \n",
      "  +-------+    \n",
      "      *        \n",
      "      *        \n",
      "      *        \n",
      " +---------+   \n",
      " | __end__ |   \n",
      " +---------+   \n"
     ]
    }
   ],
   "source": [
    "print(app.get_graph().draw_ascii())"
   ]
  },
  {
   "cell_type": "code",
   "execution_count": 8,
   "id": "666bd376-fb63-4ce8-b8c0-8de347bcfafc",
   "metadata": {},
   "outputs": [
    {
     "data": {
      "image/png": "[encoded data removed]",
      "text/plain": [
       "<IPython.core.display.Image object>"
      ]
     },
     "metadata": {},
     "output_type": "display_data"
    }
   ],
   "source": [
    "from IPython.display import Image, display\n",
    "\n",
    "try:\n",
    "    display(Image(app.get_graph().draw_mermaid_png()))\n",
    "except Exception:\n",
    "    # This requires some extra dependencies and is optional\n",
    "    pass"
   ]
  },
  {
   "cell_type": "markdown",
   "id": "7deccf06-6d81-4ee1-8d7f-211a4c1b29ac",
   "metadata": {},
   "source": [
    "我们现在需要创建一个配置（config），并在每次调用可运行对象（runnable）时传入它。这个配置包含了一些**不直接属于输入内容**，但仍然有用的信息。\n",
    "\n",
    "在本例中，我们希望包含一个 `thread_id`（对话线程 ID）。配置应该如下所示："
   ]
  },
  {
   "cell_type": "code",
   "execution_count": 9,
   "id": "10c2e31a-8ebd-48bd-a183-f7ca81bf6bfa",
   "metadata": {},
   "outputs": [],
   "source": [
    "config = {\"configurable\": {\"thread_id\": \"abc123\"}}"
   ]
  },
  {
   "cell_type": "markdown",
   "id": "c9ccb440-5956-4397-b0b2-6938484ebffe",
   "metadata": {},
   "source": [
    "这使我们能够使用一个应用程序支持多个对话线程，当你的应用程序有**多个用户**时，这是一个常见的需求。\n",
    "\n",
    "然后，我们可以调用该应用程序："
   ]
  },
  {
   "cell_type": "code",
   "execution_count": 10,
   "id": "8c82d514-c318-4715-b1e0-9f60c88acc6b",
   "metadata": {},
   "outputs": [
    {
     "name": "stdout",
     "output_type": "stream",
     "text": [
      "==================================\u001b[1m Ai Message \u001b[0m==================================\n",
      "\n",
      "你好小明！我是通义千问，很高兴认识你！有什么我可以帮助你的？\n"
     ]
    }
   ],
   "source": [
    "query = \"嗨，我是小明.\"\n",
    "\n",
    "input_messages = [HumanMessage(query)]\n",
    "output = app.invoke({\"messages\": input_messages}, config)\n",
    "output[\"messages\"][-1].pretty_print()  # output contains all messages in state"
   ]
  },
  {
   "cell_type": "code",
   "execution_count": 11,
   "id": "7e2b13c2-ce07-4704-888f-449f37fa8198",
   "metadata": {},
   "outputs": [
    {
     "name": "stdout",
     "output_type": "stream",
     "text": [
      "==================================\u001b[1m Ai Message \u001b[0m==================================\n",
      "\n",
      "哈哈，我记得你叫小明！很高兴再次见到你。有什么我可以帮你解答的问题吗？\n"
     ]
    }
   ],
   "source": [
    "query = \"我叫什么，你还记得吗?\"\n",
    "\n",
    "input_messages = [HumanMessage(query)]\n",
    "output = app.invoke({\"messages\": input_messages}, config)\n",
    "output[\"messages\"][-1].pretty_print()"
   ]
  },
  {
   "cell_type": "markdown",
   "id": "a43ff870-b85f-486b-8d97-e4f9d194dc1c",
   "metadata": {},
   "source": [
    "太好了！我们的聊天机器人现在能够记住关于我们的一些信息了。如果我们更改配置，使其引用一个不同的 `thread_id`，我们会看到它会重新开始一段新的对话。"
   ]
  },
  {
   "cell_type": "code",
   "execution_count": 12,
   "id": "a0c932a2-f57b-4a06-9fcc-3b396e486c8e",
   "metadata": {},
   "outputs": [
    {
     "name": "stdout",
     "output_type": "stream",
     "text": [
      "==================================\u001b[1m Ai Message \u001b[0m==================================\n",
      "\n",
      "抱歉，作为一个AI助手，我无法记住用户的个人信息或名字。每次对话都是独立的，没有记忆功能。你可以随时告诉我你的名字，我会尽力帮助你！\n"
     ]
    }
   ],
   "source": [
    "config = {\"configurable\": {\"thread_id\": \"abc234\"}}\n",
    "\n",
    "input_messages = [HumanMessage(query)]\n",
    "output = app.invoke({\"messages\": input_messages}, config)\n",
    "output[\"messages\"][-1].pretty_print()"
   ]
  },
  {
   "cell_type": "code",
   "execution_count": 13,
   "id": "b5ad5224-0d64-470d-b921-5d881864fa5c",
   "metadata": {},
   "outputs": [
    {
     "name": "stdout",
     "output_type": "stream",
     "text": [
      "==================================\u001b[1m Ai Message \u001b[0m==================================\n",
      "\n",
      "当然记得！你叫小明。有什么我可以帮助你的？或者你想聊聊吗？ 😊\n"
     ]
    }
   ],
   "source": [
    "config = {\"configurable\": {\"thread_id\": \"abc123\"}}\n",
    "\n",
    "input_messages = [HumanMessage(query)]\n",
    "output = app.invoke({\"messages\": input_messages}, config)\n",
    "output[\"messages\"][-1].pretty_print()"
   ]
  },
  {
   "cell_type": "markdown",
   "id": "491131a4-4d7d-4ee9-88c1-ea3c590f2419",
   "metadata": {},
   "source": [
    "这就是我们如何支持一个聊天机器人与多个用户进行对话的方式！\n",
    "\n",
    "💡 提示  \n",
    "如需支持异步（async），请将 `call_model` 节点改为一个异步函数（`async def`），并在调用应用程序时使用 `.ainvoke` 方法：  \n",
    "\n",
    "目前，我们所做的只是在模型周围添加了一个简单的持久化层。我们可以通过加入**提示模板（prompt template）**，开始让聊天机器人变得更复杂和个性化。"
   ]
  },
  {
   "cell_type": "markdown",
   "id": "8f4d94b3-7697-4946-87a1-8fe7556f7f9c",
   "metadata": {},
   "source": [
    "### 提示模板（Prompt Templates）\n",
    "\n",
    "提示模板（Prompt Templates）有助于将用户的原始信息转换为大语言模型（LLM）可以处理的格式。在当前的例子中，用户的原始输入只是一个消息（message），我们直接将其传递给了 LLM。现在，我们可以让这个过程稍微复杂一些。\n",
    "\n",
    "接下来，我们会添加一个带有自定义指令的**系统消息（system message）**，并且仍然以消息作为输入。之后，我们还会添加除消息以外的更多输入内容。\n",
    "\n",
    "为了添加系统消息，我们将创建一个 `ChatPromptTemplate`，并使用 `MessagesPlaceholder` 来传入所有的消息内容。"
   ]
  },
  {
   "cell_type": "code",
   "execution_count": 14,
   "id": "740e1e45-fa62-442c-9f01-4b2a35732086",
   "metadata": {},
   "outputs": [],
   "source": [
    "from langchain_core.prompts import ChatPromptTemplate, MessagesPlaceholder\n",
    "\n",
    "prompt_template = ChatPromptTemplate.from_messages(\n",
    "    [\n",
    "        (\n",
    "            \"system\",\n",
    "            \"你说话像香港人一样。请尽力回答所有问题。\",\n",
    "        ),\n",
    "        MessagesPlaceholder(variable_name=\"messages\"),\n",
    "    ]\n",
    ")"
   ]
  },
  {
   "cell_type": "code",
   "execution_count": 15,
   "id": "b48d0dbc-40b8-40cf-b929-2ba3c316423c",
   "metadata": {},
   "outputs": [],
   "source": [
    "workflow = StateGraph(state_schema=MessagesState)\n",
    "\n",
    "\n",
    "def call_model(state: MessagesState):\n",
    "    prompt = prompt_template.invoke(state)\n",
    "    response = model.invoke(prompt)\n",
    "    return {\"messages\": response}\n",
    "\n",
    "\n",
    "workflow.add_edge(START, \"model\")\n",
    "workflow.add_node(\"model\", call_model)\n",
    "\n",
    "memory = MemorySaver()\n",
    "app = workflow.compile(checkpointer=memory)"
   ]
  },
  {
   "cell_type": "code",
   "execution_count": 16,
   "id": "3207d51d-4d63-4314-af82-6f2b1bb0b3ca",
   "metadata": {},
   "outputs": [
    {
     "data": {
      "image/png": "[encoded data removed]",
      "text/plain": [
       "<IPython.core.display.Image object>"
      ]
     },
     "metadata": {},
     "output_type": "display_data"
    }
   ],
   "source": [
    "from IPython.display import Image, display\n",
    "\n",
    "try:\n",
    "    display(Image(app.get_graph().draw_mermaid_png()))\n",
    "except Exception:\n",
    "    # This requires some extra dependencies and is optional\n",
    "    pass"
   ]
  },
  {
   "cell_type": "code",
   "execution_count": 17,
   "id": "b1f42fc7-dd87-414b-be5f-6b19fa5dfcda",
   "metadata": {},
   "outputs": [
    {
     "name": "stdout",
     "output_type": "stream",
     "text": [
      "==================================\u001b[1m Ai Message \u001b[0m==================================\n",
      "\n",
      "你好啊，Jim！我係阿Tom，好高兴认识你呀！你喺边度住呀？\n"
     ]
    }
   ],
   "source": [
    "config = {\"configurable\": {\"thread_id\": \"abc345\"}}\n",
    "query = \"Hi! I'm Jim.\"\n",
    "\n",
    "input_messages = [HumanMessage(query)]\n",
    "output = app.invoke({\"messages\": input_messages}, config)\n",
    "output[\"messages\"][-1].pretty_print()"
   ]
  },
  {
   "cell_type": "code",
   "execution_count": 18,
   "id": "696f54d3-b340-4a8e-bb40-e9a02b917b79",
   "metadata": {},
   "outputs": [
    {
     "name": "stdout",
     "output_type": "stream",
     "text": [
      "==================================\u001b[1m Ai Message \u001b[0m==================================\n",
      "\n",
      "喎，我都唔知你叫咩名呀！不过你刚刚讲左一声“I’m Jim”，所以你应该叫Jim啦！哈哈！对唔住，我哋香港人有时会好随口。你好呀，Jim！想同我倾偈定点嘅？\n"
     ]
    }
   ],
   "source": [
    "query = \"我叫什么?\"\n",
    "\n",
    "input_messages = [HumanMessage(query)]\n",
    "output = app.invoke({\"messages\": input_messages}, config)\n",
    "output[\"messages\"][-1].pretty_print()"
   ]
  },
  {
   "cell_type": "markdown",
   "id": "1c7799cf-1fe7-4915-86c8-3dc01dfc97b2",
   "metadata": {},
   "source": [
    "\n",
    "太棒了！现在让我们的提示变得更复杂一点。假设提示模板现在看起来像这样："
   ]
  },
  {
   "cell_type": "code",
   "execution_count": 19,
   "id": "3f238163-0865-4e9d-8929-c78bb880e016",
   "metadata": {},
   "outputs": [],
   "source": [
    "prompt_template = ChatPromptTemplate.from_messages(\n",
    "    [\n",
    "        (\n",
    "            \"system\",\n",
    "            \"你是一个乐于助人的助手。请尽你所能用 {language} 回答所有问题。\",\n",
    "        ),\n",
    "        MessagesPlaceholder(variable_name=\"messages\"),\n",
    "    ]\n",
    ")"
   ]
  },
  {
   "cell_type": "markdown",
   "id": "131a8251-ff2a-4fdd-9fb8-1611e8dc17e3",
   "metadata": {},
   "source": [
    "请注意，我们已经在提示词（prompt）中添加了一个新的输入参数 `language`（语言）。现在，我们的应用程序有两个参数：输入消息（messages）和语言（language）。我们应该更新应用程序的状态（state）以反映这一变化："
   ]
  },
  {
   "cell_type": "code",
   "execution_count": 20,
   "id": "fce0948a-fa03-4dce-b640-94ee52f627b6",
   "metadata": {},
   "outputs": [],
   "source": [
    "from typing import Sequence\n",
    "\n",
    "from langchain_core.messages import BaseMessage\n",
    "from langgraph.graph.message import add_messages\n",
    "from typing_extensions import Annotated, TypedDict\n",
    "\n",
    "\n",
    "class State(TypedDict):\n",
    "    messages: Annotated[Sequence[BaseMessage], add_messages]\n",
    "    language: str\n",
    "\n",
    "\n",
    "workflow = StateGraph(state_schema=State)\n",
    "\n",
    "\n",
    "def call_model(state: State):\n",
    "    prompt = prompt_template.invoke(state)\n",
    "    response = model.invoke(prompt)\n",
    "    return {\"messages\": [response]}\n",
    "\n",
    "\n",
    "workflow.add_edge(START, \"model\")\n",
    "workflow.add_node(\"model\", call_model)\n",
    "\n",
    "memory = MemorySaver()\n",
    "app = workflow.compile(checkpointer=memory)"
   ]
  },
  {
   "cell_type": "code",
   "execution_count": 21,
   "id": "57e34744-3ca7-42be-9f00-20d43ebe381c",
   "metadata": {},
   "outputs": [
    {
     "name": "stdout",
     "output_type": "stream",
     "text": [
      "==================================\u001b[1m Ai Message \u001b[0m==================================\n",
      "\n",
      "哎呀妈呀，老铁你可来啦！我是你老铁小郭啊，听你这口音是南方来的吧？不过没关系，咱东北人最热情了，来整点冻梨整点酸菜，唠点知心嗑儿！你说啥叫Bob？哦哦哦，明白了，你是叫鲍勃啊，哈哈，这名字够洋气的，跟俺们村二狗似的，独特的很呐！\n"
     ]
    }
   ],
   "source": [
    "config = {\"configurable\": {\"thread_id\": \"abc456\"}}\n",
    "query = \"Hi! I'm Bob.\"\n",
    "language = \"网红东北话\"\n",
    "\n",
    "input_messages = [HumanMessage(query)]\n",
    "output = app.invoke(\n",
    "    {\"messages\": input_messages, \"language\": language},\n",
    "    config,\n",
    ")\n",
    "output[\"messages\"][-1].pretty_print()"
   ]
  },
  {
   "cell_type": "markdown",
   "id": "cf5a8bb9-dcee-4e19-9a06-ea15787684eb",
   "metadata": {},
   "source": [
    "请注意，整个状态是持久的，因此如果不需要更改，我们可以省略语言等参数："
   ]
  },
  {
   "cell_type": "code",
   "execution_count": 22,
   "id": "b65d60a8-9fab-467d-902e-e26ece622e66",
   "metadata": {},
   "outputs": [
    {
     "name": "stdout",
     "output_type": "stream",
     "text": [
      "==================================\u001b[1m Ai Message \u001b[0m==================================\n",
      "\n",
      "哎哟我的天哪！你都告诉俺是Bob了，咋还问啥叫你名呢？你是不是喝凉水喝多了？没事没事，俺懂，可能是你太紧张了。来来来，先喝口茶压压惊，俺给你慢慢解释：你叫Bob，就是英文那个“鲍勃”，跟俺们村那头小毛驴似的，特有个性！所以记住啦，你叫Bob！对了，要不要俺给你起个东北名儿？比如“二柱子”啥的？\n"
     ]
    }
   ],
   "source": [
    "query = \"What is my name?\"\n",
    "\n",
    "input_messages = [HumanMessage(query)]\n",
    "output = app.invoke(\n",
    "    {\"messages\": input_messages},\n",
    "    config,\n",
    ")\n",
    "output[\"messages\"][-1].pretty_print()"
   ]
  },
  {
   "cell_type": "markdown",
   "id": "ecb1cc72-2e52-4bff-bfca-6250c0488ae4",
   "metadata": {},
   "source": [
    "### 管理对话历史（Managing Conversation History）\n",
    "\n",
    "在构建聊天机器人时，一个非常重要的概念是**如何管理对话历史记录**。\n",
    "\n",
    "如果不对消息进行管理，消息列表会不断增长，最终可能会超出大语言模型（LLM）的上下文窗口限制。因此，非常重要的一点是：**在传入模型之前，对消息的大小进行限制**。\n",
    "\n",
    "需要注意的是，这个限制操作应该发生在：\n",
    "\n",
    "- **提示模板（prompt template）处理之前**\n",
    "- 但要在 **从消息历史中加载完消息之后**\n",
    "\n",
    "我们可以通过在提示词处理之前添加一个简单的步骤来实现这一点，该步骤适当地修改 `messages` 字段。然后，我们将这个新的链（chain）包装在 `Message History` 类中。\n",
    "\n",
    "LangChain 提供了一些用于管理消息列表的内置辅助工具。在本例中，我们将使用 `trim_messages` 工具来减少发送给模型的消息数量。\n",
    "\n",
    "这个裁剪器（trimmer）允许我们指定要保留多少个 token，还可以设置其他参数，例如：\n",
    "\n",
    "- 是否始终保留系统消息（system message）\n",
    "- 是否允许截断部分消息（partial messages）"
   ]
  },
  {
   "cell_type": "code",
   "execution_count": 23,
   "id": "b12a82e7-1e86-4df5-8faf-929311034f74",
   "metadata": {},
   "outputs": [],
   "source": [
    "# %pip install  transformers"
   ]
  },
  {
   "cell_type": "code",
   "execution_count": 28,
   "id": "49d6cbf3-4c68-49d0-8b22-bdcc19a9f2ac",
   "metadata": {},
   "outputs": [],
   "source": [
    "# 替代方案：使用 tiktoken 近似计数（精度稍低）\n",
    "# 如果无法安装 transformers 使用 tiktoken 只是近似方案，实际 token 计数可能与 Qwen 有差异（约 ±10%）。推荐优先使用官方的 Qwen tokenizer 获得精确计数。\n",
    "import tiktoken\n",
    "from typing import List\n",
    "\n",
    "def tiktoken_token_counter(messages: List[BaseMessage]) -> int:\n",
    "    \"\"\"使用 tiktoken 的近似计数\"\"\"\n",
    "    enc = tiktoken.encoding_for_model(\"gpt-4\")  # 使用 GPT-4 的编码近似\n",
    "    text = \" \".join([msg.content for msg in messages])\n",
    "    return len(enc.encode(text))"
   ]
  },
  {
   "cell_type": "code",
   "execution_count": 49,
   "id": "00fa5fab-da47-47bc-90ea-f6afbc4bbdc7",
   "metadata": {},
   "outputs": [
    {
     "data": {
      "text/plain": [
       "[SystemMessage(content=\"you're a good assistant\", additional_kwargs={}, response_metadata={}),\n",
       " HumanMessage(content='hi! 我是张三', additional_kwargs={}, response_metadata={}),\n",
       " AIMessage(content='hi!', additional_kwargs={}, response_metadata={}),\n",
       " HumanMessage(content='I like vanilla ice cream', additional_kwargs={}, response_metadata={}),\n",
       " AIMessage(content='nice', additional_kwargs={}, response_metadata={}),\n",
       " HumanMessage(content='whats 2 + 2', additional_kwargs={}, response_metadata={}),\n",
       " AIMessage(content='4', additional_kwargs={}, response_metadata={}),\n",
       " HumanMessage(content='thanks', additional_kwargs={}, response_metadata={}),\n",
       " AIMessage(content='no problem!', additional_kwargs={}, response_metadata={}),\n",
       " HumanMessage(content='having fun?', additional_kwargs={}, response_metadata={}),\n",
       " AIMessage(content='yes!', additional_kwargs={}, response_metadata={})]"
      ]
     },
     "execution_count": 49,
     "metadata": {},
     "output_type": "execute_result"
    }
   ],
   "source": [
    "from langchain_core.messages import SystemMessage, trim_messages\n",
    "\n",
    "trimmer = trim_messages(\n",
    "    max_tokens=65,\n",
    "    strategy=\"last\",\n",
    "    token_counter=tiktoken_token_counter,\n",
    "    include_system=True,\n",
    "    allow_partial=False,\n",
    "    start_on=\"human\",\n",
    ")\n",
    "\n",
    "messages = [\n",
    "    SystemMessage(content=\"you're a good assistant\"),\n",
    "    HumanMessage(content=\"hi! 我是张三\"),\n",
    "    AIMessage(content=\"hi!\"),\n",
    "    HumanMessage(content=\"I like vanilla ice cream\"),\n",
    "    AIMessage(content=\"nice\"),\n",
    "    HumanMessage(content=\"whats 2 + 2\"),\n",
    "    AIMessage(content=\"4\"),\n",
    "    HumanMessage(content=\"thanks\"),\n",
    "    AIMessage(content=\"no problem!\"),\n",
    "    HumanMessage(content=\"having fun?\"),\n",
    "    AIMessage(content=\"yes!\"),\n",
    "]\n",
    "\n",
    "trimmer.invoke(messages)"
   ]
  },
  {
   "cell_type": "markdown",
   "id": "613dc205-3f42-4360-a417-e372c510fa90",
   "metadata": {},
   "source": [
    "要将其应用于我们的链中，我们只需在将消息输入传递给提示词模板之前运行裁剪器即可。"
   ]
  },
  {
   "cell_type": "code",
   "execution_count": 52,
   "id": "0482b7a3-1293-4384-8972-e8aa90b076ef",
   "metadata": {},
   "outputs": [],
   "source": [
    "workflow = StateGraph(state_schema=State)\n",
    "\n",
    "\n",
    "def call_model(state: State):\n",
    "    trimmed_messages = trimmer.invoke(state[\"messages\"])\n",
    "    prompt = prompt_template.invoke(\n",
    "        {\"messages\": trimmed_messages, \"language\": state[\"language\"]}\n",
    "    )\n",
    "    response = model.invoke(prompt)\n",
    "    return {\"messages\": [response]}\n",
    "\n",
    "\n",
    "workflow.add_edge(START, \"model\")\n",
    "workflow.add_node(\"model\", call_model)\n",
    "\n",
    "memory = MemorySaver()\n",
    "app = workflow.compile(checkpointer=memory)"
   ]
  },
  {
   "cell_type": "code",
   "execution_count": 51,
   "id": "c2b44989-bfee-4232-9452-1a35f0891af8",
   "metadata": {},
   "outputs": [
    {
     "name": "stdout",
     "output_type": "stream",
     "text": [
      "*******\n",
      "[SystemMessage(content=\"you're a good assistant\", additional_kwargs={}, response_metadata={}, id='e1414d66-7820-4865-b345-c8bf5906d7c2'), HumanMessage(content='hi! 我是张三', additional_kwargs={}, response_metadata={}, id='4b0c9744-bce5-4fbb-9c24-570d828de010'), AIMessage(content='hi!', additional_kwargs={}, response_metadata={}, id='f3a79c77-6798-4a3c-8adf-b608f710e108'), HumanMessage(content='I like vanilla ice cream', additional_kwargs={}, response_metadata={}, id='5a3301f5-d044-45ee-8a53-c3750dfdce90'), AIMessage(content='nice', additional_kwargs={}, response_metadata={}, id='848494bd-f1a6-403b-ae86-246c5b7b438f'), HumanMessage(content='whats 2 + 2', additional_kwargs={}, response_metadata={}, id='bf66f118-9dd7-450f-afa1-781ded75d4a0'), AIMessage(content='4', additional_kwargs={}, response_metadata={}, id='04932009-acfd-46dc-bced-8bd5bac5ee83'), HumanMessage(content='thanks', additional_kwargs={}, response_metadata={}, id='747b0038-7558-463a-9757-41524ab2258a'), AIMessage(content='no problem!', additional_kwargs={}, response_metadata={}, id='c80d9c3d-d29d-4635-be95-97af85360154'), HumanMessage(content='having fun?', additional_kwargs={}, response_metadata={}, id='c62739c0-17f4-4034-99b3-25e38fe86fd7'), AIMessage(content='yes!', additional_kwargs={}, response_metadata={}, id='9b3c7ae1-d507-498c-94c8-4d3c48e7d42c'), HumanMessage(content='What is my name?', additional_kwargs={}, response_metadata={}, id='b8100247-b25a-49b5-a0b5-d9410c4240d7')]\n",
      "==================================\u001b[1m Ai Message \u001b[0m==================================\n",
      "\n",
      "I don't know your name. You haven't told me what it is yet! 😊\n"
     ]
    }
   ],
   "source": [
    "config = {\"configurable\": {\"thread_id\": \"abc999\"}}\n",
    "query = \"What is my name?\"\n",
    "language = \"English\"\n",
    "\n",
    "input_messages = messages + [HumanMessage(query)]\n",
    "output = app.invoke(\n",
    "    {\"messages\": input_messages, \"language\": language},\n",
    "    config,\n",
    ")\n",
    "output[\"messages\"][-1].pretty_print()"
   ]
  },
  {
   "cell_type": "code",
   "execution_count": 55,
   "id": "cd583f48-d1d6-45bd-8008-9a0e907c01e2",
   "metadata": {},
   "outputs": [
    {
     "name": "stdout",
     "output_type": "stream",
     "text": [
      "Sure|,| here|'s a light-hearted| joke for you:\n",
      "\n",
      "|Why don't scientists| trust atoms?\n",
      "\n",
      "Because| they're always nucleus|! \n",
      "\n",
      "As for| your name, I|'m sorry but I| don't have that| information. You can| let me know what| it is if you|'d like to continue| our conversation!||"
     ]
    }
   ],
   "source": [
    "config = {\"configurable\": {\"thread_id\": \"abc999\"}}\n",
    "query = \"Hi  please tell me a joke.What is my name?\"\n",
    "language = \"English\"\n",
    "\n",
    "input_messages = [HumanMessage(query)]\n",
    "for chunk, metadata in app.stream(\n",
    "    {\"messages\": input_messages, \"language\": language},\n",
    "    config,\n",
    "    stream_mode=\"messages\",\n",
    "):\n",
    "    if isinstance(chunk, AIMessage):  # Filter to just model responses\n",
    "        print(chunk.content, end=\"|\")"
   ]
  },
  {
   "cell_type": "code",
   "execution_count": null,
   "id": "1405f05b-3011-4e52-8689-c38fb7df9016",
   "metadata": {},
   "outputs": [],
   "source": []
  }
 ],
 "metadata": {
  "kernelspec": {
   "display_name": "Python 3 (ipykernel)",
   "language": "python",
   "name": "python3"
  },
  "language_info": {
   "codemirror_mode": {
    "name": "ipython",
    "version": 3
   },
   "file_extension": ".py",
   "mimetype": "text/x-python",
   "name": "python",
   "nbconvert_exporter": "python",
   "pygments_lexer": "ipython3",
   "version": "3.11.13"
  }
 },
 "nbformat": 4,
 "nbformat_minor": 5
}
